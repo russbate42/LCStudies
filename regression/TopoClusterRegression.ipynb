{
 "cells": [
  {
   "cell_type": "markdown",
   "metadata": {},
   "source": [
    "# Time for some plots"
   ]
  },
  {
   "cell_type": "code",
   "execution_count": 1,
   "metadata": {},
   "outputs": [],
   "source": [
    "import os\n",
    "import numpy as np\n",
    "import matplotlib as mpl\n",
    "import matplotlib.pyplot as plt\n",
    "plotpath = '/home/mswiatlowski/start_tf/caloml-atlas/regression/Plots/'\n",
    "modelpath_c = '/home/mswiatlowski/start_tf/caloml-atlas/classifier/Models/'\n",
    "# %config InlineBackend.figure_format = 'svg'\n",
    "\n",
    "# metadata\n",
    "layers = [\"EMB1\", \"EMB2\", \"EMB3\", \"TileBar0\", \"TileBar1\", \"TileBar2\"]\n",
    "cell_size_phi = [0.098, 0.0245, 0.0245, 0.1, 0.1, 0.1]\n",
    "cell_size_eta = [0.0031, 0.025, 0.05, 0.1, 0.1, 0.2]\n",
    "len_phi = [4, 16, 16, 4, 4, 4]\n",
    "len_eta = [128, 16, 8, 4, 4, 2]"
   ]
  },
  {
   "cell_type": "code",
   "execution_count": 4,
   "metadata": {},
   "outputs": [
    {
     "name": "stdout",
     "output_type": "stream",
     "text": [
      "Number of pi+ events: 435489\n"
     ]
    }
   ],
   "source": [
    "# import pi+- vs. pi0 images\n",
    "\n",
    "# seed = 10\n",
    "# np.random.seed(seed)\n",
    "path = '/fast_scratch/atlas_images/v6/'\n",
    "#path = '/eos/user/m/mswiatlo/images/'\n",
    "\n",
    "# TODO fix input files so that it is easier to split up the events\n",
    "# p0 = np.load(path+\"pi0.npz\")\n",
    "pp = np.load(path+\"piplus_full.npz\")\n",
    "# pm = np.load(path+\"piminus.npz\")\n",
    "\n",
    "# np0 = len(p0['EMB1'])\n",
    "npp = len(pp['EMB1'])\n",
    "# npm = len(pm['EMB1'])\n",
    "# npc = len(pc['EMB1'])\n",
    "\n",
    "# print(\"Number of pi0 events: {}\".format(np0))\n",
    "print(\"Number of pi+ events: {}\".format(npp))\n",
    "# print(\"Number of pi- events: {}\".format(npm))\n",
    "# print(\"Total: {}\".format(np0+npp+npm))"
   ]
  },
  {
   "cell_type": "code",
   "execution_count": 5,
   "metadata": {},
   "outputs": [
    {
     "name": "stdout",
     "output_type": "stream",
     "text": [
      "INFO:tensorflow:Device is available but not used by distribute strategy: /device:CPU:0\n",
      "INFO:tensorflow:Device is available but not used by distribute strategy: /device:XLA_CPU:0\n",
      "INFO:tensorflow:Device is available but not used by distribute strategy: /device:XLA_GPU:0\n",
      "INFO:tensorflow:Device is available but not used by distribute strategy: /device:XLA_GPU:1\n",
      "INFO:tensorflow:Device is available but not used by distribute strategy: /device:XLA_GPU:2\n",
      "INFO:tensorflow:Device is available but not used by distribute strategy: /device:XLA_GPU:3\n",
      "INFO:tensorflow:Device is available but not used by distribute strategy: /device:XLA_GPU:4\n",
      "INFO:tensorflow:Device is available but not used by distribute strategy: /device:XLA_GPU:5\n",
      "INFO:tensorflow:Device is available but not used by distribute strategy: /device:XLA_GPU:6\n",
      "INFO:tensorflow:Device is available but not used by distribute strategy: /device:XLA_GPU:7\n",
      "INFO:tensorflow:Device is available but not used by distribute strategy: /device:GPU:4\n",
      "INFO:tensorflow:Device is available but not used by distribute strategy: /device:GPU:5\n",
      "INFO:tensorflow:Device is available but not used by distribute strategy: /device:GPU:6\n",
      "INFO:tensorflow:Device is available but not used by distribute strategy: /device:GPU:7\n",
      "Number of devices: 4\n"
     ]
    }
   ],
   "source": [
    "import tensorflow as tf\n",
    "\n",
    "strategy = tf.distribute.MirroredStrategy(devices=[\"/gpu:0\",\"/gpu:1\",\"/gpu:2\",\"/gpu:3\"])\n",
    "# strategy = tf.distribute.MirroredStrategy()\n",
    "ngpu = strategy.num_replicas_in_sync\n",
    "print ('Number of devices: {}'.format(ngpu))"
   ]
  },
  {
   "cell_type": "markdown",
   "metadata": {},
   "source": [
    "Let's make some histograms to understand the energies, and the targets"
   ]
  },
  {
   "cell_type": "code",
   "execution_count": 11,
   "metadata": {},
   "outputs": [
    {
     "name": "stderr",
     "output_type": "stream",
     "text": [
      "/usr/local/lib/python3.6/dist-packages/ipykernel_launcher.py:5: MatplotlibDeprecationWarning: \n",
      "The 'normed' kwarg was deprecated in Matplotlib 2.1 and will be removed in 3.1. Use 'density' instead.\n",
      "  \"\"\"\n",
      "/usr/local/lib/python3.6/dist-packages/ipykernel_launcher.py:6: MatplotlibDeprecationWarning: \n",
      "The 'normed' kwarg was deprecated in Matplotlib 2.1 and will be removed in 3.1. Use 'density' instead.\n",
      "  \n",
      "/usr/local/lib/python3.6/dist-packages/ipykernel_launcher.py:7: MatplotlibDeprecationWarning: \n",
      "The 'normed' kwarg was deprecated in Matplotlib 2.1 and will be removed in 3.1. Use 'density' instead.\n",
      "  import sys\n"
     ]
    },
    {
     "data": {
      "text/plain": [
       "<Figure size 432x288 with 0 Axes>"
      ]
     },
     "metadata": {},
     "output_type": "display_data"
    },
    {
     "data": {
      "image/png": "[encoded data removed]",
      "text/plain": [
       "<Figure size 432x288 with 1 Axes>"
      ]
     },
     "metadata": {},
     "output_type": "display_data"
    }
   ],
   "source": [
    "n_bins = 30\n",
    "plt.cla(); plt.clf()\n",
    "fig = plt.figure()\n",
    "fig.patch.set_facecolor('white')\n",
    "plt.hist(pp['clusterE'], bins=n_bins, normed=True, alpha=0.5, label='Cluster Energy')\n",
    "plt.hist(pp['cluster_sumCellE'], bins=n_bins, normed=True, alpha=0.5, label='Cluster sumCellE')\n",
    "plt.hist(pp['cluster_ENG_CALIB_TOT'], bins=n_bins, normed=True, alpha=0.5, label='Cluster Calib Hits')\n",
    "plt.yscale('log')\n",
    "plt.xlabel('Various Energy [GeV]')\n",
    "plt.legend()\n",
    "plt.savefig(plotpath+'/hist_energy.pdf')\n",
    "plt.show()"
   ]
  },
  {
   "cell_type": "code",
   "execution_count": 17,
   "metadata": {},
   "outputs": [
    {
     "name": "stderr",
     "output_type": "stream",
     "text": [
      "/usr/local/lib/python3.6/dist-packages/ipykernel_launcher.py:5: MatplotlibDeprecationWarning: \n",
      "The 'normed' kwarg was deprecated in Matplotlib 2.1 and will be removed in 3.1. Use 'density' instead.\n",
      "  \"\"\"\n",
      "/usr/local/lib/python3.6/dist-packages/ipykernel_launcher.py:6: MatplotlibDeprecationWarning: \n",
      "The 'normed' kwarg was deprecated in Matplotlib 2.1 and will be removed in 3.1. Use 'density' instead.\n",
      "  \n"
     ]
    },
    {
     "data": {
      "text/plain": [
       "<Figure size 432x288 with 0 Axes>"
      ]
     },
     "metadata": {},
     "output_type": "display_data"
    },
    {
     "data": {
      "image/png": "[encoded data removed]",
      "text/plain": [
       "<Figure size 432x288 with 1 Axes>"
      ]
     },
     "metadata": {},
     "output_type": "display_data"
    }
   ],
   "source": [
    "n_bins = 30\n",
    "plt.cla(); plt.clf()\n",
    "fig = plt.figure()\n",
    "fig.patch.set_facecolor('white')\n",
    "plt.hist(pp['clusterE']/pp['cluster_sumCellE'], bins=n_bins, normed=True, alpha=0.5, label='$\\pi^+$')\n",
    "plt.hist(p0['clusterE']/p0['cluster_sumCellE'], bins=n_bins, normed=True, alpha=0.5, label='$\\pi^0$')\n",
    "plt.yscale('log')\n",
    "plt.xlabel('Cluster Energy over sumCellE')\n",
    "plt.legend()\n",
    "plt.savefig(plotpath+'/hist_ratio_eoversum.pdf')\n",
    "plt.show()"
   ]
  },
  {
   "cell_type": "code",
   "execution_count": 18,
   "metadata": {},
   "outputs": [
    {
     "name": "stderr",
     "output_type": "stream",
     "text": [
      "/usr/local/lib/python3.6/dist-packages/ipykernel_launcher.py:5: MatplotlibDeprecationWarning: \n",
      "The 'normed' kwarg was deprecated in Matplotlib 2.1 and will be removed in 3.1. Use 'density' instead.\n",
      "  \"\"\"\n",
      "/usr/local/lib/python3.6/dist-packages/ipykernel_launcher.py:6: MatplotlibDeprecationWarning: \n",
      "The 'normed' kwarg was deprecated in Matplotlib 2.1 and will be removed in 3.1. Use 'density' instead.\n",
      "  \n"
     ]
    },
    {
     "data": {
      "text/plain": [
       "<Figure size 432x288 with 0 Axes>"
      ]
     },
     "metadata": {},
     "output_type": "display_data"
    },
    {
     "data": {
      "image/png": "[encoded data removed]",
      "text/plain": [
       "<Figure size 432x288 with 1 Axes>"
      ]
     },
     "metadata": {},
     "output_type": "display_data"
    }
   ],
   "source": [
    "n_bins = 30\n",
    "plt.cla(); plt.clf()\n",
    "fig = plt.figure()\n",
    "fig.patch.set_facecolor('white')\n",
    "plt.hist(pp['clusterE']/pp['cluster_ENG_CALIB_TOT'], bins=n_bins, normed=True, alpha=0.5, label='$\\pi^+$')\n",
    "plt.hist(p0['clusterE']/p0['cluster_ENG_CALIB_TOT'], bins=n_bins, normed=True, alpha=0.5, label='$\\pi^0$')\n",
    "plt.yscale('log')\n",
    "plt.xlabel('Cluster Energy over CalibHits')\n",
    "plt.legend()\n",
    "plt.savefig(plotpath+'/hist_ratio_eovercalib.pdf')\n",
    "plt.show()"
   ]
  },
  {
   "cell_type": "code",
   "execution_count": 6,
   "metadata": {},
   "outputs": [
    {
     "name": "stderr",
     "output_type": "stream",
     "text": [
      "/usr/local/lib/python3.6/dist-packages/ipykernel_launcher.py:5: MatplotlibDeprecationWarning: \n",
      "The 'normed' kwarg was deprecated in Matplotlib 2.1 and will be removed in 3.1. Use 'density' instead.\n",
      "  \"\"\"\n"
     ]
    },
    {
     "data": {
      "text/plain": [
       "<Figure size 432x288 with 0 Axes>"
      ]
     },
     "metadata": {},
     "output_type": "display_data"
    },
    {
     "data": {
      "image/png": "[encoded data removed]",
      "text/plain": [
       "<Figure size 432x288 with 1 Axes>"
      ]
     },
     "metadata": {},
     "output_type": "display_data"
    }
   ],
   "source": [
    "n_bins = 30\n",
    "plt.cla(); plt.clf()\n",
    "fig = plt.figure()\n",
    "fig.patch.set_facecolor('white')\n",
    "plt.hist(pp['clusterECalib']/pp['cluster_ENG_CALIB_TOT'], bins=n_bins, normed=True, alpha=0.5, label='$\\pi^+$')\n",
    "# plt.hist(p0['clusterECalib']/p0['cluster_ENG_CALIB_TOT'], bins=n_bins, normed=True, alpha=0.5, label='$\\pi^0$')\n",
    "plt.yscale('log')\n",
    "plt.xlabel('Cluster Energy over CalibHits')\n",
    "plt.legend()\n",
    "plt.savefig(plotpath+'/hist_ratio_full_calibeovercalib.pdf')\n",
    "plt.show()"
   ]
  },
  {
   "cell_type": "code",
   "execution_count": 7,
   "metadata": {},
   "outputs": [
    {
     "data": {
      "text/plain": [
       "<Figure size 432x288 with 0 Axes>"
      ]
     },
     "metadata": {},
     "output_type": "display_data"
    },
    {
     "data": {
      "image/png": "[encoded data removed]",
      "text/plain": [
       "<Figure size 432x288 with 2 Axes>"
      ]
     },
     "metadata": {},
     "output_type": "display_data"
    }
   ],
   "source": [
    "from matplotlib.colors import LogNorm\n",
    "\n",
    "xbin = [10**exp for exp in  np.arange(-1.0, 3.1, 0.1)]\n",
    "ybin = np.arange(0., 3.1, 0.1)\n",
    "\n",
    "n_bins = 30\n",
    "plt.cla(); plt.clf()\n",
    "fig = plt.figure()\n",
    "fig.patch.set_facecolor('white')\n",
    "plt.hist2d(pp['cluster_ENG_CALIB_TOT'],pp['clusterE']/pp['cluster_ENG_CALIB_TOT'],bins=[xbin,ybin],norm=LogNorm())\n",
    "# plt.hist(p0['clusterECalib']/p0['cluster_ENG_CALIB_TOT'], bins=n_bins, normed=True, alpha=0.5, label='$\\pi^0$')\n",
    "plt.xscale('log')\n",
    "plt.ylim(0,3)\n",
    "plt.xlabel('Cluster Calib Hits')\n",
    "plt.ylabel('Cluster Energy over Calib Hits')\n",
    "plt.colorbar()\n",
    "# plt.legend()\n",
    "plt.savefig(plotpath+'/hist_2D_calib_vs_ratio_full_pp.pdf')\n",
    "plt.show()"
   ]
  },
  {
   "cell_type": "code",
   "execution_count": 47,
   "metadata": {},
   "outputs": [
    {
     "data": {
      "text/plain": [
       "<Figure size 432x288 with 0 Axes>"
      ]
     },
     "metadata": {},
     "output_type": "display_data"
    },
    {
     "data": {
      "image/png": "[encoded data removed]",
      "text/plain": [
       "<Figure size 432x288 with 2 Axes>"
      ]
     },
     "metadata": {},
     "output_type": "display_data"
    }
   ],
   "source": [
    "from matplotlib.colors import LogNorm\n",
    "\n",
    "xbin = [10**exp for exp in  np.arange(-1.0, 3.1, 0.1)]\n",
    "ybin = np.arange(0., 3.1, 0.1)\n",
    "\n",
    "n_bins = 30\n",
    "plt.cla(); plt.clf()\n",
    "fig = plt.figure()\n",
    "fig.patch.set_facecolor('white')\n",
    "plt.hist2d(p0['cluster_ENG_CALIB_TOT'],p0['clusterE']/p0['cluster_ENG_CALIB_TOT'],bins=[xbin,ybin],norm=LogNorm())\n",
    "# plt.hist(p0['clusterECalib']/p0['cluster_ENG_CALIB_TOT'], bins=n_bins, normed=True, alpha=0.5, label='$\\pi^0$')\n",
    "plt.xscale('log')\n",
    "plt.ylim(0,2)\n",
    "plt.xlabel('Cluster Calib Hits')\n",
    "plt.ylabel('Cluster Energy over Calib Hits')\n",
    "plt.colorbar()\n",
    "# plt.legend()\n",
    "plt.savefig(plotpath+'/hist_2D_calib_vs_ratio_p0.pdf')\n",
    "plt.show()"
   ]
  },
  {
   "cell_type": "code",
   "execution_count": 54,
   "metadata": {},
   "outputs": [
    {
     "data": {
      "text/plain": [
       "<Figure size 432x288 with 0 Axes>"
      ]
     },
     "metadata": {},
     "output_type": "display_data"
    },
    {
     "data": {
      "image/png": "[encoded data removed]",
      "text/plain": [
       "<Figure size 432x288 with 2 Axes>"
      ]
     },
     "metadata": {},
     "output_type": "display_data"
    }
   ],
   "source": [
    "from matplotlib.colors import LogNorm\n",
    "\n",
    "xbin = [10**exp for exp in  np.arange(-1.0, 3.1, 0.1)]\n",
    "ybin = np.arange(0., 3.1, 0.1)\n",
    "\n",
    "n_bins = 30\n",
    "plt.cla(); plt.clf()\n",
    "fig = plt.figure()\n",
    "fig.patch.set_facecolor('white')\n",
    "plt.hist2d(pp['cluster_ENG_CALIB_TOT']+pp['cluster_ENG_CALIB_OUT_T']+pp['cluster_ENG_CALIB_DEAD_TOT'],pp['clusterE']/(pp['cluster_ENG_CALIB_TOT']+pp['cluster_ENG_CALIB_OUT_T']+pp['cluster_ENG_CALIB_DEAD_TOT']),bins=[xbin,ybin],norm=LogNorm())\n",
    "# plt.hist(p0['clusterECalib']/p0['cluster_ENG_CALIB_TOT'], bins=n_bins, normed=True, alpha=0.5, label='$\\pi^0$')\n",
    "plt.xscale('log')\n",
    "plt.ylim(0,3)\n",
    "plt.xlabel('Cluster Calib Hits')\n",
    "plt.ylabel('Cluster Energy over Calib Hits')\n",
    "plt.colorbar()\n",
    "# plt.legend()\n",
    "plt.savefig(plotpath+'/hist_2D_calibtot_vs_ratio_pp.pdf')\n",
    "plt.show()"
   ]
  },
  {
   "cell_type": "code",
   "execution_count": 53,
   "metadata": {},
   "outputs": [
    {
     "data": {
      "text/plain": [
       "<Figure size 432x288 with 0 Axes>"
      ]
     },
     "metadata": {},
     "output_type": "display_data"
    },
    {
     "data": {
      "image/png": "[encoded data removed]",
      "text/plain": [
       "<Figure size 432x288 with 2 Axes>"
      ]
     },
     "metadata": {},
     "output_type": "display_data"
    }
   ],
   "source": [
    "from matplotlib.colors import LogNorm\n",
    "\n",
    "xbin = [10**exp for exp in  np.arange(-1.0, 3.1, 0.1)]\n",
    "ybin = np.arange(0., 3.1, 0.1)\n",
    "\n",
    "n_bins = 30\n",
    "plt.cla(); plt.clf()\n",
    "fig = plt.figure()\n",
    "fig.patch.set_facecolor('white')\n",
    "plt.hist2d(pp['cluster_ENG_CALIB_TOT']+pp['cluster_ENG_CALIB_OUT_T']+pp['cluster_ENG_CALIB_DEAD_TOT'],pp['clusterECalib']/(pp['cluster_ENG_CALIB_TOT']+pp['cluster_ENG_CALIB_OUT_T']+pp['cluster_ENG_CALIB_DEAD_TOT']),bins=[xbin,ybin],norm=LogNorm())\n",
    "# plt.hist(p0['clusterECalib']/p0['cluster_ENG_CALIB_TOT'], bins=n_bins, normed=True, alpha=0.5, label='$\\pi^0$')\n",
    "plt.xscale('log')\n",
    "plt.ylim(0,3)\n",
    "plt.xlabel('Cluster Calib Hits')\n",
    "plt.ylabel('Cluster Energy over Calib Hits')\n",
    "plt.colorbar()\n",
    "# plt.legend()\n",
    "plt.savefig(plotpath+'/hist_2D_calibtot_vs_ratiocalib_pp.pdf')\n",
    "plt.show()"
   ]
  },
  {
   "cell_type": "code",
   "execution_count": 56,
   "metadata": {},
   "outputs": [
    {
     "data": {
      "text/plain": [
       "<Figure size 432x288 with 0 Axes>"
      ]
     },
     "metadata": {},
     "output_type": "display_data"
    },
    {
     "data": {
      "image/png": "[encoded data removed]",
      "text/plain": [
       "<Figure size 432x288 with 2 Axes>"
      ]
     },
     "metadata": {},
     "output_type": "display_data"
    }
   ],
   "source": [
    "from matplotlib.colors import LogNorm\n",
    "\n",
    "xbin = [10**exp for exp in  np.arange(-1.0, 3.1, 0.1)]\n",
    "ybin = np.arange(0., 3.1, 0.1)\n",
    "\n",
    "n_bins = 30\n",
    "plt.cla(); plt.clf()\n",
    "fig = plt.figure()\n",
    "fig.patch.set_facecolor('white')\n",
    "plt.hist2d(p0['cluster_ENG_CALIB_TOT']+p0['cluster_ENG_CALIB_OUT_T']+p0['cluster_ENG_CALIB_DEAD_TOT'],p0['clusterE']/(p0['cluster_ENG_CALIB_TOT']+p0['cluster_ENG_CALIB_OUT_T']+p0['cluster_ENG_CALIB_DEAD_TOT']),bins=[xbin,ybin],norm=LogNorm())\n",
    "# plt.hist(p0['clusterECalib']/p0['cluster_ENG_CALIB_TOT'], bins=n_bins, normed=True, alpha=0.5, label='$\\pi^0$')\n",
    "plt.xscale('log')\n",
    "plt.ylim(0,3)\n",
    "plt.xlabel('Cluster Calib Hits')\n",
    "plt.ylabel('Cluster Energy over Calib Hits')\n",
    "plt.colorbar()\n",
    "# plt.legend()\n",
    "plt.savefig(plotpath+'/hist_2D_calibtot_vs_ratio_p0.pdf')\n",
    "plt.show()"
   ]
  },
  {
   "cell_type": "code",
   "execution_count": 55,
   "metadata": {},
   "outputs": [
    {
     "data": {
      "text/plain": [
       "<Figure size 432x288 with 0 Axes>"
      ]
     },
     "metadata": {},
     "output_type": "display_data"
    },
    {
     "data": {
      "image/png": "[encoded data removed]",
      "text/plain": [
       "<Figure size 432x288 with 2 Axes>"
      ]
     },
     "metadata": {},
     "output_type": "display_data"
    }
   ],
   "source": [
    "from matplotlib.colors import LogNorm\n",
    "\n",
    "xbin = [10**exp for exp in  np.arange(-1.0, 3.1, 0.1)]\n",
    "ybin = np.arange(0., 3.1, 0.1)\n",
    "\n",
    "n_bins = 30\n",
    "plt.cla(); plt.clf()\n",
    "fig = plt.figure()\n",
    "fig.patch.set_facecolor('white')\n",
    "plt.hist2d(p0['cluster_ENG_CALIB_TOT']+p0['cluster_ENG_CALIB_OUT_T']+p0['cluster_ENG_CALIB_DEAD_TOT'],p0['clusterECalib']/(p0['cluster_ENG_CALIB_TOT']+p0['cluster_ENG_CALIB_OUT_T']+p0['cluster_ENG_CALIB_DEAD_TOT']),bins=[xbin,ybin],norm=LogNorm())\n",
    "# plt.hist(p0['clusterECalib']/p0['cluster_ENG_CALIB_TOT'], bins=n_bins, normed=True, alpha=0.5, label='$\\pi^0$')\n",
    "plt.xscale('log')\n",
    "plt.ylim(0,3)\n",
    "plt.xlabel('Cluster Calib Hits')\n",
    "plt.ylabel('Cluster Energy over Calib Hits')\n",
    "plt.colorbar()\n",
    "# plt.legend()\n",
    "plt.savefig(plotpath+'/hist_2D_calibtot_vs_ratiocalib_p0.pdf')\n",
    "\n"
   ]
  },
  {
   "cell_type": "code",
   "execution_count": 6,
   "metadata": {},
   "outputs": [
    {
     "data": {
      "text/plain": [
       "<Figure size 432x288 with 0 Axes>"
      ]
     },
     "metadata": {},
     "output_type": "display_data"
    },
    {
     "data": {
      "image/png": "[encoded data removed]",
      "text/plain": [
       "<Figure size 432x288 with 2 Axes>"
      ]
     },
     "metadata": {},
     "output_type": "display_data"
    }
   ],
   "source": [
    "from matplotlib.colors import LogNorm\n",
    "\n",
    "# xbin = [10**exp for exp in  np.arange(-1.0, 3.1, 0.1)]\n",
    "# ybin = np.arange(0., 3.1, 0.1)\n",
    "xbin = [10**exp for exp in  np.arange(-1.0, 3.1, 0.1)]\n",
    "ybin = [10**exp for exp in  np.arange(-1.0, 3.1, 0.1)]\n",
    "n_bins = 30\n",
    "plt.cla(); plt.clf()\n",
    "fig = plt.figure()\n",
    "fig.patch.set_facecolor('white')\n",
    "plt.hist2d(pp['cluster_ENG_CALIB_TOT'],pp['clusterE'],bins=[xbin,ybin],norm=LogNorm())\n",
    "# plt.xscale('log')\n",
    "# plt.ylim(0,3)\n",
    "plt.xlabel('Cluster Calib Hits')\n",
    "plt.ylabel('Cluster Energy')\n",
    "plt.colorbar()\n",
    "# plt.legend()\n",
    "plt.savefig(plotpath+'/hist_clusterE_calib_log_pp.pdf')"
   ]
  },
  {
   "cell_type": "markdown",
   "metadata": {},
   "source": [
    "# Load Data"
   ]
  },
  {
   "cell_type": "code",
   "execution_count": 11,
   "metadata": {},
   "outputs": [],
   "source": [
    "def format_flat(data_0, selected_layer, len_phi = len_phi, len_eta = len_eta):\n",
    "    layer = layers[selected_layer]\n",
    "    num_pixels = int(len_phi[selected_layer]*len_eta[selected_layer])\n",
    "\n",
    "    X = data_0[layer].reshape((len(data_0[layer]),num_pixels))\n",
    "\n",
    "    y = data_0['label']\n",
    "\n",
    "    print (X.shape)\n",
    "    print (y.shape)\n",
    "    return X, y, num_pixels"
   ]
  },
  {
   "cell_type": "code",
   "execution_count": 12,
   "metadata": {},
   "outputs": [
    {
     "name": "stdout",
     "output_type": "stream",
     "text": [
      "(435489, 512)\n",
      "(435489, 1)\n",
      "(435489, 256)\n",
      "(435489, 1)\n",
      "(435489, 128)\n",
      "(435489, 1)\n",
      "(435489, 16)\n",
      "(435489, 1)\n",
      "(435489, 16)\n",
      "(435489, 1)\n",
      "(435489, 8)\n",
      "(435489, 1)\n"
     ]
    }
   ],
   "source": [
    "x_pp_flat = {}\n",
    "y_pp_flat = {}\n",
    "num_pixels_flat = {}\n",
    "for layer_i, layer_name in enumerate(layers):\n",
    "    x_pp_flat[layer_i], y_pp_flat[layer_i], num_pixels_flat[layer_i] = format_flat(pp, layer_i)"
   ]
  },
  {
   "cell_type": "code",
   "execution_count": 13,
   "metadata": {},
   "outputs": [],
   "source": [
    "energy_pp = pp['clusterE']\n",
    "calib_hits_pp = pp['cluster_ENG_CALIB_TOT']\n",
    "\n",
    "energy_pp_l = np.log(energy_pp)\n",
    "calib_hits_pp_l = np.log(calib_hits_pp)"
   ]
  },
  {
   "cell_type": "markdown",
   "metadata": {},
   "source": [
    "# Time for a Regression"
   ]
  },
  {
   "cell_type": "code",
   "execution_count": 6,
   "metadata": {},
   "outputs": [
    {
     "name": "stderr",
     "output_type": "stream",
     "text": [
      "Using TensorFlow backend.\n"
     ]
    }
   ],
   "source": [
    "\n",
    "from tensorflow.keras import regularizers\n",
    "from tensorflow.keras import Sequential\n",
    "from tensorflow.keras import Model\n",
    "from tensorflow.keras.optimizers import SGD, Adam\n",
    "from tensorflow.keras.layers import LeakyReLU\n",
    "from tensorflow.keras.layers import Input, Dense, Dropout, BatchNormalization\n",
    "from keras.wrappers.scikit_learn import KerasRegressor\n",
    "\n",
    "\n",
    "def baseline_pretrain_model():\n",
    "    regressor = Sequential()\n",
    "    regressor.add(Dense(units=24, input_dim=2, kernel_initializer='normal', activation='relu'))\n",
    "    regressor.add(Dense(units=24, kernel_initializer='normal', activation='relu'))\n",
    "    regressor.add(Dense(units=24, kernel_initializer='normal', activation='relu'))\n",
    "    regressor.add(Dense(units=24, kernel_initializer='normal', activation='relu'))\n",
    "    regressor.add(Dense(units=1, kernel_initializer='normal', activation='linear'))\n",
    "    opt = Adam(lr=1e-4, decay=1e-6)\n",
    "    regressor.compile(optimizer=opt, loss='mse')\n",
    "\n",
    "    return regressor"
   ]
  },
  {
   "cell_type": "code",
   "execution_count": 7,
   "metadata": {},
   "outputs": [
    {
     "name": "stdout",
     "output_type": "stream",
     "text": [
      "WARNING:tensorflow:From /usr/local/lib/python3.6/dist-packages/tensorflow/python/keras/initializers.py:143: calling RandomNormal.__init__ (from tensorflow.python.ops.init_ops) with dtype is deprecated and will be removed in a future version.\n",
      "Instructions for updating:\n",
      "Call initializer instance with the dtype argument instead of passing it to the constructor\n",
      "Model: \"sequential\"\n",
      "_________________________________________________________________\n",
      "Layer (type)                 Output Shape              Param #   \n",
      "=================================================================\n",
      "dense (Dense)                (None, 24)                72        \n",
      "_________________________________________________________________\n",
      "dense_1 (Dense)              (None, 24)                600       \n",
      "_________________________________________________________________\n",
      "dense_2 (Dense)              (None, 24)                600       \n",
      "_________________________________________________________________\n",
      "dense_3 (Dense)              (None, 24)                600       \n",
      "_________________________________________________________________\n",
      "dense_4 (Dense)              (None, 1)                 25        \n",
      "=================================================================\n",
      "Total params: 1,897\n",
      "Trainable params: 1,897\n",
      "Non-trainable params: 0\n",
      "_________________________________________________________________\n",
      "None\n"
     ]
    }
   ],
   "source": [
    "from keras.wrappers.scikit_learn import KerasRegressor\n",
    "\n",
    "regressor = KerasRegressor(build_fn=baseline_pretrain_model, batch_size=200, epochs=20, verbose=1, validation_split=0.2)  \n",
    "print(baseline_pretrain_model().summary())"
   ]
  },
  {
   "cell_type": "code",
   "execution_count": 64,
   "metadata": {},
   "outputs": [
    {
     "name": "stdout",
     "output_type": "stream",
     "text": [
      "WARNING:tensorflow:From /usr/local/lib/python3.6/dist-packages/tensorflow/python/ops/init_ops.py:97: calling GlorotUniform.__init__ (from tensorflow.python.ops.init_ops) with dtype is deprecated and will be removed in a future version.\n",
      "Instructions for updating:\n",
      "Call initializer instance with the dtype argument instead of passing it to the constructor\n",
      "WARNING:tensorflow:From /usr/local/lib/python3.6/dist-packages/tensorflow/python/ops/init_ops.py:1251: calling VarianceScaling.__init__ (from tensorflow.python.ops.init_ops) with dtype is deprecated and will be removed in a future version.\n",
      "Instructions for updating:\n",
      "Call initializer instance with the dtype argument instead of passing it to the constructor\n",
      "WARNING:tensorflow:From /usr/local/lib/python3.6/dist-packages/tensorflow/python/ops/init_ops.py:97: calling Zeros.__init__ (from tensorflow.python.ops.init_ops) with dtype is deprecated and will be removed in a future version.\n",
      "Instructions for updating:\n",
      "Call initializer instance with the dtype argument instead of passing it to the constructor\n"
     ]
    }
   ],
   "source": [
    "#load the deep discriminant from last time, we're going to use that as an input\n",
    "deep_disc = tf.keras.models.load_model(modelpath_c+\"model_deep_do20.h5\")"
   ]
  },
  {
   "cell_type": "code",
   "execution_count": 76,
   "metadata": {},
   "outputs": [],
   "source": [
    "y_combine_pred = deep_disc.predict([x_flat[0], x_flat[1], x_flat[2], x_flat[3], x_flat[4], x_flat[5]])"
   ]
  },
  {
   "cell_type": "code",
   "execution_count": 93,
   "metadata": {},
   "outputs": [],
   "source": [
    "# np.concatenate((a, b.T), axis=1)\n",
    "# print(y_combine_pred[:,1].T)\n",
    "test = [[energy_pp[i], y_combine_pred[i,1]] for i, element in enumerate(energy_pp)]\n",
    "pretrain_in_pp = np.asarray(test)\n",
    "# print(test)\n",
    "# np.concatenate((energy_pp, y_combine_pred[:,1].T), axis=1)"
   ]
  },
  {
   "cell_type": "code",
   "execution_count": 92,
   "metadata": {},
   "outputs": [
    {
     "name": "stdout",
     "output_type": "stream",
     "text": [
      "<class 'numpy.ndarray'>\n"
     ]
    }
   ],
   "source": [
    "print(type(pretrain_in))"
   ]
  },
  {
   "cell_type": "code",
   "execution_count": 96,
   "metadata": {},
   "outputs": [
    {
     "name": "stdout",
     "output_type": "stream",
     "text": [
      "Train on 227187 samples, validate on 56797 samples\n",
      "Epoch 1/20\n",
      "227187/227187 [==============================] - 6s 28us/sample - loss: 53246.2224 - val_loss: 626.1943\n",
      "Epoch 2/20\n",
      "227187/227187 [==============================] - 6s 26us/sample - loss: 788.1903 - val_loss: 626.2891\n",
      "Epoch 3/20\n",
      "227187/227187 [==============================] - 6s 26us/sample - loss: 788.1004 - val_loss: 627.3395\n",
      "Epoch 4/20\n",
      "227187/227187 [==============================] - 6s 26us/sample - loss: 788.0243 - val_loss: 625.7386\n",
      "Epoch 5/20\n",
      "227187/227187 [==============================] - 6s 26us/sample - loss: 787.3423 - val_loss: 626.3891\n",
      "Epoch 6/20\n",
      "227187/227187 [==============================] - 6s 25us/sample - loss: 787.9804 - val_loss: 625.1387\n",
      "Epoch 7/20\n",
      "227187/227187 [==============================] - 6s 26us/sample - loss: 786.8263 - val_loss: 631.4705\n",
      "Epoch 8/20\n",
      "227187/227187 [==============================] - 6s 25us/sample - loss: 785.7076 - val_loss: 627.4122\n",
      "Epoch 9/20\n",
      "227187/227187 [==============================] - 6s 26us/sample - loss: 784.6552 - val_loss: 623.5799\n",
      "Epoch 10/20\n",
      "227187/227187 [==============================] - 6s 26us/sample - loss: 783.9774 - val_loss: 623.6060\n",
      "Epoch 11/20\n",
      "227187/227187 [==============================] - 6s 26us/sample - loss: 783.7267 - val_loss: 625.4622\n",
      "Epoch 12/20\n",
      "227187/227187 [==============================] - 6s 25us/sample - loss: 783.5060 - val_loss: 622.4425\n",
      "Epoch 13/20\n",
      "227187/227187 [==============================] - 6s 26us/sample - loss: 781.6912 - val_loss: 620.6481\n",
      "Epoch 14/20\n",
      "227187/227187 [==============================] - 6s 25us/sample - loss: 782.2266 - val_loss: 627.4807\n",
      "Epoch 15/20\n",
      "227187/227187 [==============================] - 6s 26us/sample - loss: 780.7050 - val_loss: 625.0377\n",
      "Epoch 16/20\n",
      "227187/227187 [==============================] - 6s 25us/sample - loss: 780.6653 - val_loss: 619.7992\n",
      "Epoch 17/20\n",
      "227187/227187 [==============================] - 6s 25us/sample - loss: 780.6072 - val_loss: 620.0787\n",
      "Epoch 18/20\n",
      "227187/227187 [==============================] - 6s 25us/sample - loss: 781.1130 - val_loss: 622.6565\n",
      "Epoch 19/20\n",
      "227187/227187 [==============================] - 6s 26us/sample - loss: 779.2336 - val_loss: 619.0201\n",
      "Epoch 20/20\n",
      "227187/227187 [==============================] - 6s 25us/sample - loss: 778.9175 - val_loss: 621.0204\n"
     ]
    }
   ],
   "source": [
    "history = regressor.fit(pretrain_in_pp, calib_hits_pp)\n"
   ]
  },
  {
   "cell_type": "code",
   "execution_count": 97,
   "metadata": {},
   "outputs": [
    {
     "name": "stdout",
     "output_type": "stream",
     "text": [
      "283984/283984 [==============================] - 1s 5us/sample\n"
     ]
    }
   ],
   "source": [
    "predict_pretrain_pp = regressor.predict(pretrain_in_pp)"
   ]
  },
  {
   "cell_type": "code",
   "execution_count": 133,
   "metadata": {},
   "outputs": [
    {
     "data": {
      "text/plain": [
       "<Figure size 432x288 with 0 Axes>"
      ]
     },
     "metadata": {},
     "output_type": "display_data"
    },
    {
     "data": {
      "image/png": "[encoded data removed]",
      "text/plain": [
       "<Figure size 432x288 with 2 Axes>"
      ]
     },
     "metadata": {},
     "output_type": "display_data"
    }
   ],
   "source": [
    "from matplotlib.colors import LogNorm\n",
    "\n",
    "xbin = [10**exp for exp in  np.arange(-1.0, 3.1, 0.1)]\n",
    "ybin = np.arange(0., 3.1, 0.1)\n",
    "\n",
    "n_bins = 30\n",
    "plt.cla(); plt.clf()\n",
    "fig = plt.figure()\n",
    "fig.patch.set_facecolor('white')\n",
    "plt.hist2d(pp['cluster_ENG_CALIB_TOT'],predict_pretrain_pp / pp['cluster_ENG_CALIB_TOT'],bins=[xbin,ybin],norm=LogNorm())\n",
    "plt.xscale('log')\n",
    "plt.ylim(0,3)\n",
    "plt.xlabel('Cluster Calib Hits')\n",
    "plt.ylabel('Predicted Energy / Calib Hits')\n",
    "plt.colorbar()\n",
    "# plt.legend()\n",
    "plt.savefig(plotpath+'/hist_2D_calib_vs_pretrain_pp.pdf')"
   ]
  },
  {
   "cell_type": "code",
   "execution_count": 101,
   "metadata": {},
   "outputs": [
    {
     "data": {
      "text/plain": [
       "<Figure size 432x288 with 0 Axes>"
      ]
     },
     "metadata": {},
     "output_type": "display_data"
    },
    {
     "data": {
      "image/png": "[encoded data removed]",
      "text/plain": [
       "<Figure size 432x288 with 2 Axes>"
      ]
     },
     "metadata": {},
     "output_type": "display_data"
    }
   ],
   "source": [
    "from matplotlib.colors import LogNorm\n",
    "\n",
    "# xbin = [10**exp for exp in  np.arange(-1.0, 3.1, 0.1)]\n",
    "# ybin = np.arange(0., 3.1, 0.1)\n",
    "\n",
    "n_bins = 30\n",
    "plt.cla(); plt.clf()\n",
    "fig = plt.figure()\n",
    "fig.patch.set_facecolor('white')\n",
    "plt.hist2d(pp['cluster_ENG_CALIB_TOT'],predict_pretrain_pp,bins=[20,20],norm=LogNorm())\n",
    "# plt.xscale('log')\n",
    "# plt.ylim(0,3)\n",
    "plt.xlabel('Cluster Calib Hits')\n",
    "plt.ylabel('Predicted Energy')\n",
    "plt.colorbar()\n",
    "# plt.legend()\n",
    "plt.savefig(plotpath+'/hist_pretrain_pp.pdf')"
   ]
  },
  {
   "cell_type": "code",
   "execution_count": 110,
   "metadata": {},
   "outputs": [
    {
     "data": {
      "text/plain": [
       "<Figure size 432x288 with 0 Axes>"
      ]
     },
     "metadata": {},
     "output_type": "display_data"
    },
    {
     "data": {
      "image/png": "[encoded data removed]",
      "text/plain": [
       "<Figure size 432x288 with 1 Axes>"
      ]
     },
     "metadata": {},
     "output_type": "display_data"
    }
   ],
   "source": [
    "n_bins = 50\n",
    "plt.cla(); plt.clf()\n",
    "fig = plt.figure()\n",
    "fig.patch.set_facecolor('white')\n",
    "plt.hist(predict_pretrain_pp / pp['cluster_ENG_CALIB_TOT'], label='Pretrain Network', alpha=0.5, bins = n_bins)\n",
    "plt.hist(pp['clusterE'] / pp['cluster_ENG_CALIB_TOT'], label='Raw Energy', alpha=0.5, bins = n_bins)\n",
    "plt.hist(pp['clusterECalib'] / pp['cluster_ENG_CALIB_TOT'], label='LC Energy', alpha=0.5, bins = n_bins)\n",
    "plt.yscale('log')\n",
    "# plt.ylim(0,3)\n",
    "plt.xlabel('Predicted Energy / Cluster Calib Hits')\n",
    "plt.ylabel('Predicted Energy')\n",
    "# plt.colorbar()\n",
    "plt.legend()\n",
    "plt.savefig(plotpath+'/hist_pretrain_pp_ratio.pdf')"
   ]
  },
  {
   "cell_type": "code",
   "execution_count": 8,
   "metadata": {},
   "outputs": [],
   "source": [
    "from tensorflow.keras.models import Model\n",
    "from tensorflow.keras.layers import concatenate\n",
    "from tensorflow.keras.layers import Input\n",
    "from tensorflow.keras.layers import Dense\n",
    "from tensorflow.keras import regularizers\n",
    "from tensorflow.keras import Sequential\n",
    "from tensorflow.keras import Model\n",
    "from tensorflow.keras.optimizers import SGD, Adam\n",
    "from tensorflow.keras.layers import LeakyReLU\n",
    "from tensorflow.keras.layers import Input, Dense, Dropout, BatchNormalization\n",
    "from keras.wrappers.scikit_learn import KerasRegressor"
   ]
  },
  {
   "cell_type": "code",
   "execution_count": 9,
   "metadata": {},
   "outputs": [],
   "source": [
    "def baseline_deep_model():\n",
    "\n",
    "    with strategy.scope():    \n",
    "\n",
    "        model_combine = Sequential()\n",
    "\n",
    "        #EMB1\n",
    "        input1 = Input(shape=(512,), name = 'input1')\n",
    "        x1 = Dense(512, kernel_initializer='normal', activation='relu')(input1)\n",
    "        x1 = Dropout(0.2)(x1)\n",
    "        x1 = Dense(256, kernel_initializer='normal', activation='relu')(x1)\n",
    "        x1 = Dropout(0.2)(x1)\n",
    "        x1 = Dense(128, kernel_initializer='normal', activation='relu')(x1)\n",
    "        x1 = Dropout(0.2)(x1)\n",
    "\n",
    "        #EMB2\n",
    "        input2 = Input(shape=(256,), name = 'input2')\n",
    "        x2 = Dense(256, kernel_initializer='normal', activation='relu')(input2)\n",
    "        x2 = Dropout(0.2)(x2)\n",
    "        x2 = Dense(128, kernel_initializer='normal', activation='relu')(x2)\n",
    "        x2 = Dropout(0.2)(x2)\n",
    "        x2 = Dense(64, kernel_initializer='normal', activation='relu')(x2)\n",
    "        x2 = Dropout(0.2)(x2)\n",
    "\n",
    "        #EMB3\n",
    "        input3 = Input(shape=(128,), name = 'input3')\n",
    "        x3 = Dense(128, kernel_initializer='normal', activation='relu')(input3)\n",
    "        x3 = Dropout(0.2)(x3)\n",
    "        x3 = Dense(64, kernel_initializer='normal', activation='relu')(x3)\n",
    "        x3 = Dropout(0.2)(x3)\n",
    "        x3 = Dense(32, kernel_initializer='normal', activation='relu')(x3)\n",
    "        x3 = Dropout(0.2)(x3)\n",
    "\n",
    "        #Tile0\n",
    "        input4 = Input(shape=(16,), name = 'input4')\n",
    "        x4 = Dense(16, kernel_initializer='normal', activation='relu')(input4)\n",
    "        x4 = Dropout(0.2)(x4)\n",
    "        x4 = Dense(8, kernel_initializer='normal', activation='relu')(x4)\n",
    "        x4 = Dropout(0.2)(x4)\n",
    "        x4 = Dense(4, kernel_initializer='normal', activation='relu')(x4)\n",
    "        x4 = Dropout(0.2)(x4)\n",
    "\n",
    "        #Tile1\n",
    "        input5 = Input(shape=(16,), name = 'input5')\n",
    "        x5 = Dense(16, kernel_initializer='normal', activation='relu')(input5)\n",
    "        x5 = Dropout(0.2)(x5)\n",
    "        x5 = Dense(8, kernel_initializer='normal', activation='relu')(x5)\n",
    "        x5 = Dropout(0.2)(x5)\n",
    "        x5 = Dense(4, kernel_initializer='normal', activation='relu')(x5)\n",
    "        x5 = Dropout(0.2)(x5)\n",
    "\n",
    "        #Tile2\n",
    "        input6 = Input(shape=(8,), name = 'input6')\n",
    "        x6 = Dense(8, kernel_initializer='normal', activation='relu')(input6)\n",
    "        x6 = Dropout(0.2)(x6)\n",
    "        x6 = Dense(4, kernel_initializer='normal', activation='relu')(x6)\n",
    "        x6 = Dropout(0.2)(x6)\n",
    "        x6 = Dense(2, kernel_initializer='normal', activation='relu')(x6)\n",
    "        x6 = Dropout(0.2)(x6)\n",
    "\n",
    "        #the cluster energy goes in here\n",
    "        input7 = Input(shape=(1,), name = 'input7')\n",
    "        x7 = Dense(units=24, kernel_initializer='normal', activation='relu')(input7)\n",
    "        x7 = Dense(units=24, kernel_initializer='normal', activation='relu')(x7)\n",
    "        x7 = Dense(1, kernel_initializer='normal', activation='relu')(x7)\n",
    "\n",
    "        #Combination\n",
    "        x = concatenate([x1, x2, x3, x4, x5, x6, x7]) \n",
    "        x = Dense(100, kernel_initializer='normal', activation='relu')(x)\n",
    "        x = Dropout(0.2)(x)\n",
    "        x = Dense(50, kernel_initializer='normal', activation='relu')(x)\n",
    "        x = Dropout(0.2)(x)\n",
    "\n",
    "        opt = Adam(lr=1e-4, decay=1e-6)\n",
    "\n",
    "\n",
    "        output_combine = Dense(1, kernel_initializer='normal', activation='linear')(x)\n",
    "\n",
    "        model_combine = Model(inputs = [input1, input2, input3, input4, input5, input6, input7], outputs = [output_combine])\n",
    "        model_combine.compile(loss='mean_squared_logarithmic_error', optimizer=opt, metrics=['mse'])   \n",
    "        return model_combine\n"
   ]
  },
  {
   "cell_type": "code",
   "execution_count": 12,
   "metadata": {},
   "outputs": [
    {
     "name": "stdout",
     "output_type": "stream",
     "text": [
      "INFO:tensorflow:Reduce to /replica:0/task:0/device:CPU:0 then broadcast to ('/replica:0/task:0/device:CPU:0',).\n",
      "INFO:tensorflow:Reduce to /replica:0/task:0/device:CPU:0 then broadcast to ('/replica:0/task:0/device:CPU:0',).\n",
      "INFO:tensorflow:Reduce to /replica:0/task:0/device:CPU:0 then broadcast to ('/replica:0/task:0/device:CPU:0',).\n",
      "INFO:tensorflow:Reduce to /replica:0/task:0/device:CPU:0 then broadcast to ('/replica:0/task:0/device:CPU:0',).\n",
      "INFO:tensorflow:Reduce to /replica:0/task:0/device:CPU:0 then broadcast to ('/replica:0/task:0/device:CPU:0',).\n",
      "INFO:tensorflow:Reduce to /replica:0/task:0/device:CPU:0 then broadcast to ('/replica:0/task:0/device:CPU:0',).\n",
      "INFO:tensorflow:Reduce to /replica:0/task:0/device:CPU:0 then broadcast to ('/replica:0/task:0/device:CPU:0',).\n",
      "INFO:tensorflow:Reduce to /replica:0/task:0/device:CPU:0 then broadcast to ('/replica:0/task:0/device:CPU:0',).\n",
      "INFO:tensorflow:Reduce to /replica:0/task:0/device:CPU:0 then broadcast to ('/replica:0/task:0/device:CPU:0',).\n",
      "INFO:tensorflow:Reduce to /replica:0/task:0/device:CPU:0 then broadcast to ('/replica:0/task:0/device:CPU:0',).\n",
      "Model: \"model\"\n",
      "__________________________________________________________________________________________________\n",
      "Layer (type)                    Output Shape         Param #     Connected to                     \n",
      "==================================================================================================\n",
      "input1 (InputLayer)             [(None, 512)]        0                                            \n",
      "__________________________________________________________________________________________________\n",
      "input2 (InputLayer)             [(None, 256)]        0                                            \n",
      "__________________________________________________________________________________________________\n",
      "input3 (InputLayer)             [(None, 128)]        0                                            \n",
      "__________________________________________________________________________________________________\n",
      "input4 (InputLayer)             [(None, 16)]         0                                            \n",
      "__________________________________________________________________________________________________\n",
      "input5 (InputLayer)             [(None, 16)]         0                                            \n",
      "__________________________________________________________________________________________________\n",
      "input6 (InputLayer)             [(None, 8)]          0                                            \n",
      "__________________________________________________________________________________________________\n",
      "dense_5 (Dense)                 (None, 512)          262656      input1[0][0]                     \n",
      "__________________________________________________________________________________________________\n",
      "dense_8 (Dense)                 (None, 256)          65792       input2[0][0]                     \n",
      "__________________________________________________________________________________________________\n",
      "dense_11 (Dense)                (None, 128)          16512       input3[0][0]                     \n",
      "__________________________________________________________________________________________________\n",
      "dense_14 (Dense)                (None, 16)           272         input4[0][0]                     \n",
      "__________________________________________________________________________________________________\n",
      "dense_17 (Dense)                (None, 16)           272         input5[0][0]                     \n",
      "__________________________________________________________________________________________________\n",
      "dense_20 (Dense)                (None, 8)            72          input6[0][0]                     \n",
      "__________________________________________________________________________________________________\n",
      "dropout (Dropout)               (None, 512)          0           dense_5[0][0]                    \n",
      "__________________________________________________________________________________________________\n",
      "dropout_3 (Dropout)             (None, 256)          0           dense_8[0][0]                    \n",
      "__________________________________________________________________________________________________\n",
      "dropout_6 (Dropout)             (None, 128)          0           dense_11[0][0]                   \n",
      "__________________________________________________________________________________________________\n",
      "dropout_9 (Dropout)             (None, 16)           0           dense_14[0][0]                   \n",
      "__________________________________________________________________________________________________\n",
      "dropout_12 (Dropout)            (None, 16)           0           dense_17[0][0]                   \n",
      "__________________________________________________________________________________________________\n",
      "dropout_15 (Dropout)            (None, 8)            0           dense_20[0][0]                   \n",
      "__________________________________________________________________________________________________\n",
      "dense_6 (Dense)                 (None, 256)          131328      dropout[0][0]                    \n",
      "__________________________________________________________________________________________________\n",
      "dense_9 (Dense)                 (None, 128)          32896       dropout_3[0][0]                  \n",
      "__________________________________________________________________________________________________\n",
      "dense_12 (Dense)                (None, 64)           8256        dropout_6[0][0]                  \n",
      "__________________________________________________________________________________________________\n",
      "dense_15 (Dense)                (None, 8)            136         dropout_9[0][0]                  \n",
      "__________________________________________________________________________________________________\n",
      "dense_18 (Dense)                (None, 8)            136         dropout_12[0][0]                 \n",
      "__________________________________________________________________________________________________\n",
      "dense_21 (Dense)                (None, 4)            36          dropout_15[0][0]                 \n",
      "__________________________________________________________________________________________________\n",
      "input7 (InputLayer)             [(None, 1)]          0                                            \n",
      "__________________________________________________________________________________________________\n",
      "dropout_1 (Dropout)             (None, 256)          0           dense_6[0][0]                    \n",
      "__________________________________________________________________________________________________\n",
      "dropout_4 (Dropout)             (None, 128)          0           dense_9[0][0]                    \n",
      "__________________________________________________________________________________________________\n",
      "dropout_7 (Dropout)             (None, 64)           0           dense_12[0][0]                   \n",
      "__________________________________________________________________________________________________\n",
      "dropout_10 (Dropout)            (None, 8)            0           dense_15[0][0]                   \n",
      "__________________________________________________________________________________________________\n",
      "dropout_13 (Dropout)            (None, 8)            0           dense_18[0][0]                   \n",
      "__________________________________________________________________________________________________\n",
      "dropout_16 (Dropout)            (None, 4)            0           dense_21[0][0]                   \n",
      "__________________________________________________________________________________________________\n",
      "dense_23 (Dense)                (None, 24)           48          input7[0][0]                     \n",
      "__________________________________________________________________________________________________\n",
      "dense_7 (Dense)                 (None, 128)          32896       dropout_1[0][0]                  \n",
      "__________________________________________________________________________________________________\n",
      "dense_10 (Dense)                (None, 64)           8256        dropout_4[0][0]                  \n",
      "__________________________________________________________________________________________________\n",
      "dense_13 (Dense)                (None, 32)           2080        dropout_7[0][0]                  \n",
      "__________________________________________________________________________________________________\n",
      "dense_16 (Dense)                (None, 4)            36          dropout_10[0][0]                 \n",
      "__________________________________________________________________________________________________\n",
      "dense_19 (Dense)                (None, 4)            36          dropout_13[0][0]                 \n",
      "__________________________________________________________________________________________________\n",
      "dense_22 (Dense)                (None, 2)            10          dropout_16[0][0]                 \n",
      "__________________________________________________________________________________________________\n",
      "dense_24 (Dense)                (None, 24)           600         dense_23[0][0]                   \n",
      "__________________________________________________________________________________________________\n",
      "dropout_2 (Dropout)             (None, 128)          0           dense_7[0][0]                    \n",
      "__________________________________________________________________________________________________\n",
      "dropout_5 (Dropout)             (None, 64)           0           dense_10[0][0]                   \n",
      "__________________________________________________________________________________________________\n",
      "dropout_8 (Dropout)             (None, 32)           0           dense_13[0][0]                   \n",
      "__________________________________________________________________________________________________\n",
      "dropout_11 (Dropout)            (None, 4)            0           dense_16[0][0]                   \n",
      "__________________________________________________________________________________________________\n",
      "dropout_14 (Dropout)            (None, 4)            0           dense_19[0][0]                   \n",
      "__________________________________________________________________________________________________\n",
      "dropout_17 (Dropout)            (None, 2)            0           dense_22[0][0]                   \n",
      "__________________________________________________________________________________________________\n",
      "dense_25 (Dense)                (None, 1)            25          dense_24[0][0]                   \n",
      "__________________________________________________________________________________________________\n",
      "concatenate (Concatenate)       (None, 235)          0           dropout_2[0][0]                  \n",
      "                                                                 dropout_5[0][0]                  \n",
      "                                                                 dropout_8[0][0]                  \n",
      "                                                                 dropout_11[0][0]                 \n",
      "                                                                 dropout_14[0][0]                 \n",
      "                                                                 dropout_17[0][0]                 \n",
      "                                                                 dense_25[0][0]                   \n",
      "__________________________________________________________________________________________________\n",
      "dense_26 (Dense)                (None, 100)          23600       concatenate[0][0]                \n",
      "__________________________________________________________________________________________________\n",
      "dropout_18 (Dropout)            (None, 100)          0           dense_26[0][0]                   \n",
      "__________________________________________________________________________________________________\n",
      "dense_27 (Dense)                (None, 50)           5050        dropout_18[0][0]                 \n",
      "__________________________________________________________________________________________________\n",
      "dropout_19 (Dropout)            (None, 50)           0           dense_27[0][0]                   \n",
      "__________________________________________________________________________________________________\n",
      "dense_28 (Dense)                (None, 1)            51          dropout_19[0][0]                 \n",
      "==================================================================================================\n",
      "Total params: 591,052\n",
      "Trainable params: 591,052\n",
      "Non-trainable params: 0\n",
      "__________________________________________________________________________________________________\n",
      "None\n"
     ]
    }
   ],
   "source": [
    "regressor_deep = KerasRegressor(build_fn=baseline_deep_model, batch_size=200*ngpu, epochs=20, verbose=1)  \n",
    "print(baseline_deep_model().summary())"
   ]
  },
  {
   "cell_type": "markdown",
   "metadata": {},
   "source": [
    "# "
   ]
  },
  {
   "cell_type": "code",
   "execution_count": 12,
   "metadata": {},
   "outputs": [
    {
     "name": "stdout",
     "output_type": "stream",
     "text": [
      "INFO:tensorflow:batch_all_reduce: 48 all-reduces with algorithm = nccl,num_packs = 1, agg_small_grads_max_bytes = 0 and agg_small_grads_max_group = 10\n",
      "Epoch 1/50\n",
      "355/355 [==============================] - 16s 45ms/step - loss: 0.0191 - acc: 0.0000e+00\n",
      "Epoch 2/50\n",
      "355/355 [==============================] - 9s 26ms/step - loss: 0.0019 - acc: 3.5211e-06\n",
      "Epoch 3/50\n",
      "355/355 [==============================] - 9s 26ms/step - loss: 9.7059e-04 - acc: 3.5211e-06\n",
      "Epoch 4/50\n",
      "355/355 [==============================] - 9s 26ms/step - loss: 8.1949e-04 - acc: 3.5211e-06\n",
      "Epoch 5/50\n",
      "355/355 [==============================] - 9s 26ms/step - loss: 7.6351e-04 - acc: 3.5211e-06\n",
      "Epoch 6/50\n",
      "355/355 [==============================] - 9s 26ms/step - loss: 7.0850e-04 - acc: 3.5211e-06\n",
      "Epoch 7/50\n",
      "355/355 [==============================] - 9s 26ms/step - loss: 6.6865e-04 - acc: 3.5211e-06\n",
      "Epoch 8/50\n",
      "355/355 [==============================] - 9s 26ms/step - loss: 6.5352e-04 - acc: 3.5211e-06\n",
      "Epoch 9/50\n",
      "355/355 [==============================] - 9s 26ms/step - loss: 6.2731e-04 - acc: 3.5211e-06\n",
      "Epoch 10/50\n",
      "355/355 [==============================] - 9s 26ms/step - loss: 6.1203e-04 - acc: 3.5211e-06\n",
      "Epoch 11/50\n",
      "355/355 [==============================] - 9s 26ms/step - loss: 5.9946e-04 - acc: 3.5211e-06\n",
      "Epoch 12/50\n",
      "355/355 [==============================] - 9s 26ms/step - loss: 5.8561e-04 - acc: 3.5211e-06\n",
      "Epoch 13/50\n",
      "355/355 [==============================] - 9s 26ms/step - loss: 5.7739e-04 - acc: 3.5211e-06\n",
      "Epoch 14/50\n",
      "355/355 [==============================] - 9s 26ms/step - loss: 5.6853e-04 - acc: 3.5211e-06\n",
      "Epoch 15/50\n",
      "355/355 [==============================] - 9s 26ms/step - loss: 5.6701e-04 - acc: 3.5211e-06\n",
      "Epoch 16/50\n",
      "355/355 [==============================] - 9s 26ms/step - loss: 5.6112e-04 - acc: 3.5211e-06\n",
      "Epoch 17/50\n",
      "355/355 [==============================] - 9s 26ms/step - loss: 5.4973e-04 - acc: 3.5211e-06\n",
      "Epoch 18/50\n",
      "355/355 [==============================] - 9s 26ms/step - loss: 5.4402e-04 - acc: 3.5211e-06\n",
      "Epoch 19/50\n",
      "355/355 [==============================] - 9s 26ms/step - loss: 5.4398e-04 - acc: 3.5211e-06\n",
      "Epoch 20/50\n",
      "355/355 [==============================] - 9s 26ms/step - loss: 5.3991e-04 - acc: 3.5211e-06\n",
      "Epoch 21/50\n",
      "355/355 [==============================] - 9s 26ms/step - loss: 5.3542e-04 - acc: 3.5211e-06\n",
      "Epoch 22/50\n",
      "355/355 [==============================] - 9s 26ms/step - loss: 5.3660e-04 - acc: 3.5211e-06\n",
      "Epoch 23/50\n",
      "355/355 [==============================] - 9s 26ms/step - loss: 5.2740e-04 - acc: 3.5211e-06\n",
      "Epoch 24/50\n",
      "355/355 [==============================] - 9s 25ms/step - loss: 5.3008e-04 - acc: 3.5211e-06\n",
      "Epoch 25/50\n",
      "355/355 [==============================] - 9s 26ms/step - loss: 5.2793e-04 - acc: 3.5211e-06\n",
      "Epoch 26/50\n",
      "355/355 [==============================] - 9s 26ms/step - loss: 5.3000e-04 - acc: 3.5211e-06\n",
      "Epoch 27/50\n",
      "355/355 [==============================] - 9s 26ms/step - loss: 5.2417e-04 - acc: 3.5211e-06\n",
      "Epoch 28/50\n",
      "355/355 [==============================] - 9s 26ms/step - loss: 5.2180e-04 - acc: 3.5211e-06\n",
      "Epoch 29/50\n",
      "355/355 [==============================] - 9s 26ms/step - loss: 5.2467e-04 - acc: 3.5211e-06\n",
      "Epoch 30/50\n",
      "355/355 [==============================] - 9s 26ms/step - loss: 5.2001e-04 - acc: 3.5211e-06\n",
      "Epoch 31/50\n",
      "355/355 [==============================] - 9s 25ms/step - loss: 5.2183e-04 - acc: 3.5211e-06\n",
      "Epoch 32/50\n",
      "355/355 [==============================] - 9s 26ms/step - loss: 5.1508e-04 - acc: 3.5211e-06\n",
      "Epoch 33/50\n",
      "355/355 [==============================] - 9s 26ms/step - loss: 5.1949e-04 - acc: 3.5211e-06\n",
      "Epoch 34/50\n",
      "355/355 [==============================] - 9s 26ms/step - loss: 5.1646e-04 - acc: 3.5211e-06\n",
      "Epoch 35/50\n",
      "355/355 [==============================] - 9s 25ms/step - loss: 5.1154e-04 - acc: 3.5211e-06\n",
      "Epoch 36/50\n",
      "355/355 [==============================] - 9s 26ms/step - loss: 5.2159e-04 - acc: 3.5211e-06\n",
      "Epoch 37/50\n",
      "355/355 [==============================] - 9s 26ms/step - loss: 5.0820e-04 - acc: 3.5211e-06\n",
      "Epoch 38/50\n",
      "355/355 [==============================] - 9s 26ms/step - loss: 5.1394e-04 - acc: 3.5211e-06\n",
      "Epoch 39/50\n",
      "355/355 [==============================] - 9s 26ms/step - loss: 5.1254e-04 - acc: 3.5211e-06\n",
      "Epoch 40/50\n",
      "355/355 [==============================] - 9s 26ms/step - loss: 5.1713e-04 - acc: 3.5211e-06\n",
      "Epoch 41/50\n",
      "355/355 [==============================] - 9s 26ms/step - loss: 5.1211e-04 - acc: 3.5211e-06\n",
      "Epoch 42/50\n",
      "355/355 [==============================] - 9s 26ms/step - loss: 5.1302e-04 - acc: 3.5211e-06\n",
      "Epoch 43/50\n",
      "355/355 [==============================] - 9s 26ms/step - loss: 5.0909e-04 - acc: 3.5211e-06\n",
      "Epoch 44/50\n",
      "355/355 [==============================] - 9s 26ms/step - loss: 5.0705e-04 - acc: 3.5211e-06\n",
      "Epoch 45/50\n",
      "355/355 [==============================] - 9s 25ms/step - loss: 5.0737e-04 - acc: 3.5211e-06\n",
      "Epoch 46/50\n",
      "355/355 [==============================] - 9s 26ms/step - loss: 5.0210e-04 - acc: 3.5211e-06\n",
      "Epoch 47/50\n",
      "355/355 [==============================] - 9s 26ms/step - loss: 5.0118e-04 - acc: 3.5211e-06\n",
      "Epoch 48/50\n",
      "355/355 [==============================] - 9s 26ms/step - loss: 5.0806e-04 - acc: 3.5211e-06\n",
      "Epoch 49/50\n",
      "355/355 [==============================] - 9s 26ms/step - loss: 5.0783e-04 - acc: 3.5211e-06\n",
      "Epoch 50/50\n",
      "353/355 [============================>.] - ETA: 0s - loss: 5.1438e-04 - acc: 3.5411e-06WARNING:tensorflow:Your dataset ran out of data; interrupting training. Make sure that your dataset can generate at least `steps_per_epoch * epochs` batches (in this case, 17750 batches). You may need to use the repeat() function when building your dataset.\n"
     ]
    }
   ],
   "source": [
    "history_deep = regressor_deep.fit([x_pp_flat[0], x_pp_flat[1], x_pp_flat[2], x_pp_flat[3], x_pp_flat[4], x_pp_flat[5], energy_pp/np.amax(energy_pp)], calib_hits_pp/np.amax(calib_hits_pp))"
   ]
  },
  {
   "cell_type": "code",
   "execution_count": 13,
   "metadata": {},
   "outputs": [
    {
     "name": "stdout",
     "output_type": "stream",
     "text": [
      "350/350 [==============================] - 4s 10ms/step\n"
     ]
    }
   ],
   "source": [
    "predict_deep_pp = regressor_deep.predict([x_pp_flat[0][:280000], x_pp_flat[1][:280000], x_pp_flat[2][:280000], x_pp_flat[3][:280000], x_pp_flat[4][:280000], x_pp_flat[5][:280000], energy_pp[:280000]/np.amax(energy_pp)]) * np.amax(calib_hits_pp)"
   ]
  },
  {
   "cell_type": "code",
   "execution_count": 23,
   "metadata": {},
   "outputs": [
    {
     "data": {
      "text/plain": [
       "<Figure size 432x288 with 0 Axes>"
      ]
     },
     "metadata": {},
     "output_type": "display_data"
    },
    {
     "data": {
      "image/png": "[encoded data removed]",
      "text/plain": [
       "<Figure size 432x288 with 2 Axes>"
      ]
     },
     "metadata": {},
     "output_type": "display_data"
    }
   ],
   "source": [
    "from matplotlib.colors import LogNorm\n",
    "\n",
    "xbin = [10**exp for exp in  np.arange(-1.0, 3.1, 0.1)]\n",
    "ybin = np.arange(0., 40.1, 0.1)\n",
    "\n",
    "n_bins = 30\n",
    "plt.cla(); plt.clf()\n",
    "fig = plt.figure()\n",
    "fig.patch.set_facecolor('white')\n",
    "plt.hist2d(pp['cluster_ENG_CALIB_TOT'][:280000],predict_deep_pp / pp['cluster_ENG_CALIB_TOT'][:280000],bins=[xbin,ybin],norm=LogNorm())\n",
    "plt.xscale('log')\n",
    "plt.ylim(0,40)\n",
    "plt.xlabel('Cluster Calib Hits')\n",
    "plt.ylabel('Predicted Energy / Calib Hits')\n",
    "plt.colorbar()\n",
    "# plt.legend()\n",
    "plt.savefig(plotpath+'/hist_2D_calib_vs_deep_pp.pdf')"
   ]
  },
  {
   "cell_type": "code",
   "execution_count": 26,
   "metadata": {},
   "outputs": [
    {
     "data": {
      "text/plain": [
       "<Figure size 432x288 with 0 Axes>"
      ]
     },
     "metadata": {},
     "output_type": "display_data"
    },
    {
     "data": {
      "image/png": "[encoded data removed]",
      "text/plain": [
       "<Figure size 432x288 with 2 Axes>"
      ]
     },
     "metadata": {},
     "output_type": "display_data"
    }
   ],
   "source": [
    "from matplotlib.colors import LogNorm\n",
    "\n",
    "xbin = [10**exp for exp in  np.arange(-1.0, 3.1, 0.1)]\n",
    "ybin = np.arange(0., 30.1, 0.1)\n",
    "\n",
    "n_bins = 30\n",
    "plt.cla(); plt.clf()\n",
    "fig = plt.figure()\n",
    "fig.patch.set_facecolor('white')\n",
    "plt.hist2d(pp['cluster_ENG_CALIB_TOT'][:280000],pp['clusterECalib'][:280000] / pp['cluster_ENG_CALIB_TOT'][:280000],bins=[xbin,ybin],norm=LogNorm())\n",
    "plt.xscale('log')\n",
    "plt.ylim(0,30)\n",
    "plt.xlabel('Cluster Calib Hits')\n",
    "plt.ylabel('Predicted Energy / Calib Hits')\n",
    "plt.colorbar()\n",
    "# plt.legend()\n",
    "plt.savefig(plotpath+'/hist_2D_calib_vs_lc_pp.pdf')"
   ]
  },
  {
   "cell_type": "code",
   "execution_count": 29,
   "metadata": {},
   "outputs": [
    {
     "data": {
      "text/plain": [
       "<Figure size 432x288 with 0 Axes>"
      ]
     },
     "metadata": {},
     "output_type": "display_data"
    },
    {
     "data": {
      "image/png": "[encoded data removed]",
      "text/plain": [
       "<Figure size 432x288 with 1 Axes>"
      ]
     },
     "metadata": {},
     "output_type": "display_data"
    }
   ],
   "source": [
    "n_bins = 50\n",
    "plt.cla(); plt.clf()\n",
    "fig = plt.figure()\n",
    "fig.patch.set_facecolor('white')\n",
    "plt.hist(predict_deep_pp / pp['cluster_ENG_CALIB_TOT'][:280000], label='Deep Network', alpha=0.5, bins = n_bins)\n",
    "plt.hist(pp['clusterE'] / pp['cluster_ENG_CALIB_TOT'], label='Raw Energy', alpha=0.5, bins = n_bins)\n",
    "plt.hist(pp['clusterECalib'] / pp['cluster_ENG_CALIB_TOT'], label='LC Energy', alpha=0.5, bins = n_bins)\n",
    "plt.yscale('log')\n",
    "# plt.ylim(0,3)\n",
    "plt.xlabel('Predicted Energy / Cluster Calib Hits')\n",
    "plt.ylabel('Predicted Energy')\n",
    "# plt.colorbar()\n",
    "plt.legend()\n",
    "plt.savefig(plotpath+'/hist_deep_pp_ratio.pdf')"
   ]
  },
  {
   "cell_type": "markdown",
   "metadata": {},
   "source": [
    "### First improvement: make better standardization of energy"
   ]
  },
  {
   "cell_type": "code",
   "execution_count": 13,
   "metadata": {},
   "outputs": [],
   "source": [
    "# demonstrate data standardization with sklearn\n",
    "from sklearn.preprocessing import StandardScaler\n",
    "# create scaler\n",
    "scaler_epp = StandardScaler()\n",
    "# fit and transform in one step\n",
    "standardized_energy = scaler_epp.fit_transform(energy_pp.reshape(-1,1))\n",
    "# inverse transform\n",
    "#inverse = scaler_epp.inverse_transform(standardized)"
   ]
  },
  {
   "cell_type": "code",
   "execution_count": 14,
   "metadata": {},
   "outputs": [],
   "source": [
    "scaler_calib_pp = StandardScaler()\n",
    "standardized_calib = scaler_calib_pp.fit_transform(calib_hits_pp.reshape(-1,1))"
   ]
  },
  {
   "cell_type": "code",
   "execution_count": 46,
   "metadata": {},
   "outputs": [
    {
     "name": "stdout",
     "output_type": "stream",
     "text": [
      "INFO:tensorflow:batch_all_reduce: 48 all-reduces with algorithm = nccl,num_packs = 1, agg_small_grads_max_bytes = 0 and agg_small_grads_max_group = 10\n",
      "Epoch 1/200\n",
      "355/355 [==============================] - 15s 41ms/step - loss: 0.7291 - acc: 0.0000e+00\n",
      "Epoch 2/200\n",
      "355/355 [==============================] - 10s 28ms/step - loss: 0.1081 - acc: 0.0000e+00\n",
      "Epoch 3/200\n",
      "355/355 [==============================] - 10s 28ms/step - loss: 0.0347 - acc: 0.0000e+00\n",
      "Epoch 4/200\n",
      "355/355 [==============================] - 10s 27ms/step - loss: 0.0293 - acc: 0.0000e+00\n",
      "Epoch 5/200\n",
      "355/355 [==============================] - 9s 26ms/step - loss: 0.0278 - acc: 0.0000e+00\n",
      "Epoch 6/200\n",
      "355/355 [==============================] - 10s 28ms/step - loss: 0.0262 - acc: 0.0000e+00\n",
      "Epoch 7/200\n",
      "355/355 [==============================] - 10s 28ms/step - loss: 0.0256 - acc: 0.0000e+00\n",
      "Epoch 8/200\n",
      "355/355 [==============================] - 10s 28ms/step - loss: 0.0249 - acc: 0.0000e+00\n",
      "Epoch 9/200\n",
      "355/355 [==============================] - 10s 28ms/step - loss: 0.0245 - acc: 0.0000e+00\n",
      "Epoch 10/200\n",
      "355/355 [==============================] - 10s 28ms/step - loss: 0.0242 - acc: 0.0000e+00\n",
      "Epoch 11/200\n",
      "355/355 [==============================] - 10s 28ms/step - loss: 0.0239 - acc: 0.0000e+00\n",
      "Epoch 12/200\n",
      "355/355 [==============================] - 10s 28ms/step - loss: 0.0237 - acc: 0.0000e+00\n",
      "Epoch 13/200\n",
      "355/355 [==============================] - 10s 28ms/step - loss: 0.0236 - acc: 0.0000e+00\n",
      "Epoch 14/200\n",
      "355/355 [==============================] - 10s 27ms/step - loss: 0.0236 - acc: 0.0000e+00\n",
      "Epoch 15/200\n",
      "355/355 [==============================] - 10s 28ms/step - loss: 0.0230 - acc: 0.0000e+00\n",
      "Epoch 16/200\n",
      "355/355 [==============================] - 10s 28ms/step - loss: 0.0227 - acc: 0.0000e+00\n",
      "Epoch 17/200\n",
      "355/355 [==============================] - 10s 28ms/step - loss: 0.0224 - acc: 0.0000e+00\n",
      "Epoch 18/200\n",
      "355/355 [==============================] - 10s 28ms/step - loss: 0.0224 - acc: 0.0000e+00\n",
      "Epoch 19/200\n",
      "355/355 [==============================] - 10s 28ms/step - loss: 0.0222 - acc: 0.0000e+00\n",
      "Epoch 20/200\n",
      "355/355 [==============================] - 10s 28ms/step - loss: 0.0217 - acc: 0.0000e+00\n",
      "Epoch 21/200\n",
      "355/355 [==============================] - 10s 28ms/step - loss: 0.0217 - acc: 0.0000e+00\n",
      "Epoch 22/200\n",
      "355/355 [==============================] - 10s 28ms/step - loss: 0.0216 - acc: 0.0000e+00\n",
      "Epoch 23/200\n",
      "355/355 [==============================] - 10s 28ms/step - loss: 0.0215 - acc: 0.0000e+00\n",
      "Epoch 24/200\n",
      "355/355 [==============================] - 10s 28ms/step - loss: 0.0215 - acc: 0.0000e+00\n",
      "Epoch 25/200\n",
      "355/355 [==============================] - 10s 28ms/step - loss: 0.0218 - acc: 0.0000e+00\n",
      "Epoch 26/200\n",
      "355/355 [==============================] - 10s 28ms/step - loss: 0.0215 - acc: 0.0000e+00\n",
      "Epoch 27/200\n",
      "355/355 [==============================] - 10s 27ms/step - loss: 0.0217 - acc: 0.0000e+00\n",
      "Epoch 28/200\n",
      "355/355 [==============================] - 10s 28ms/step - loss: 0.0215 - acc: 0.0000e+00\n",
      "Epoch 29/200\n",
      "355/355 [==============================] - 10s 28ms/step - loss: 0.0214 - acc: 0.0000e+00\n",
      "Epoch 30/200\n",
      "355/355 [==============================] - 10s 27ms/step - loss: 0.0213 - acc: 0.0000e+00\n",
      "Epoch 31/200\n",
      "355/355 [==============================] - 10s 28ms/step - loss: 0.0216 - acc: 0.0000e+00\n",
      "Epoch 32/200\n",
      "355/355 [==============================] - 10s 28ms/step - loss: 0.0213 - acc: 0.0000e+00\n",
      "Epoch 33/200\n",
      "355/355 [==============================] - 10s 27ms/step - loss: 0.0211 - acc: 0.0000e+00\n",
      "Epoch 34/200\n",
      "355/355 [==============================] - 10s 27ms/step - loss: 0.0212 - acc: 0.0000e+00\n",
      "Epoch 35/200\n",
      "355/355 [==============================] - 10s 27ms/step - loss: 0.0211 - acc: 0.0000e+00\n",
      "Epoch 36/200\n",
      "355/355 [==============================] - 10s 28ms/step - loss: 0.0211 - acc: 0.0000e+00\n",
      "Epoch 37/200\n",
      "355/355 [==============================] - 10s 28ms/step - loss: 0.0211 - acc: 0.0000e+00\n",
      "Epoch 38/200\n",
      "355/355 [==============================] - 10s 28ms/step - loss: 0.0210 - acc: 0.0000e+00\n",
      "Epoch 39/200\n",
      "355/355 [==============================] - 10s 28ms/step - loss: 0.0209 - acc: 0.0000e+00\n",
      "Epoch 40/200\n",
      "355/355 [==============================] - 10s 28ms/step - loss: 0.0210 - acc: 0.0000e+00\n",
      "Epoch 41/200\n",
      "355/355 [==============================] - 10s 27ms/step - loss: 0.0207 - acc: 0.0000e+00\n",
      "Epoch 42/200\n",
      "355/355 [==============================] - 9s 27ms/step - loss: 0.0207 - acc: 0.0000e+00\n",
      "Epoch 43/200\n",
      "355/355 [==============================] - 10s 28ms/step - loss: 0.0209 - acc: 0.0000e+00\n",
      "Epoch 44/200\n",
      "355/355 [==============================] - 10s 28ms/step - loss: 0.0207 - acc: 0.0000e+00\n",
      "Epoch 45/200\n",
      "355/355 [==============================] - 10s 28ms/step - loss: 0.0206 - acc: 0.0000e+00\n",
      "Epoch 46/200\n",
      "355/355 [==============================] - 10s 27ms/step - loss: 0.0206 - acc: 0.0000e+00\n",
      "Epoch 47/200\n",
      "355/355 [==============================] - 10s 28ms/step - loss: 0.0205 - acc: 0.0000e+00\n",
      "Epoch 48/200\n",
      "355/355 [==============================] - 10s 28ms/step - loss: 0.0206 - acc: 0.0000e+00\n",
      "Epoch 49/200\n",
      "355/355 [==============================] - 10s 28ms/step - loss: 0.0205 - acc: 0.0000e+00\n",
      "Epoch 50/200\n",
      "355/355 [==============================] - 10s 27ms/step - loss: 0.0207 - acc: 0.0000e+00\n",
      "Epoch 51/200\n",
      "355/355 [==============================] - 10s 28ms/step - loss: 0.0206 - acc: 0.0000e+00\n",
      "Epoch 52/200\n",
      "355/355 [==============================] - 10s 28ms/step - loss: 0.0205 - acc: 0.0000e+00\n",
      "Epoch 53/200\n",
      "355/355 [==============================] - 10s 28ms/step - loss: 0.0204 - acc: 0.0000e+00\n",
      "Epoch 54/200\n",
      "355/355 [==============================] - 10s 28ms/step - loss: 0.0204 - acc: 0.0000e+00\n",
      "Epoch 55/200\n",
      "355/355 [==============================] - 10s 27ms/step - loss: 0.0207 - acc: 0.0000e+00\n",
      "Epoch 56/200\n",
      "355/355 [==============================] - 10s 28ms/step - loss: 0.0203 - acc: 0.0000e+00\n",
      "Epoch 57/200\n",
      "355/355 [==============================] - 10s 27ms/step - loss: 0.0204 - acc: 0.0000e+00\n",
      "Epoch 58/200\n",
      "355/355 [==============================] - 10s 28ms/step - loss: 0.0205 - acc: 0.0000e+00\n",
      "Epoch 59/200\n",
      "355/355 [==============================] - 10s 28ms/step - loss: 0.0203 - acc: 0.0000e+00\n",
      "Epoch 60/200\n",
      "355/355 [==============================] - 10s 28ms/step - loss: 0.0203 - acc: 0.0000e+00\n",
      "Epoch 61/200\n",
      "355/355 [==============================] - 10s 28ms/step - loss: 0.0201 - acc: 0.0000e+00\n",
      "Epoch 62/200\n",
      "355/355 [==============================] - 10s 28ms/step - loss: 0.0202 - acc: 0.0000e+00\n",
      "Epoch 63/200\n",
      "355/355 [==============================] - 10s 27ms/step - loss: 0.0204 - acc: 0.0000e+00\n",
      "Epoch 64/200\n",
      "355/355 [==============================] - 10s 27ms/step - loss: 0.0204 - acc: 0.0000e+00\n",
      "Epoch 65/200\n",
      "355/355 [==============================] - 10s 28ms/step - loss: 0.0202 - acc: 0.0000e+00\n",
      "Epoch 66/200\n",
      "355/355 [==============================] - 10s 27ms/step - loss: 0.0203 - acc: 0.0000e+00\n",
      "Epoch 67/200\n",
      "355/355 [==============================] - 10s 28ms/step - loss: 0.0203 - acc: 0.0000e+00\n",
      "Epoch 68/200\n",
      "355/355 [==============================] - 10s 28ms/step - loss: 0.0203 - acc: 0.0000e+00\n",
      "Epoch 69/200\n",
      "355/355 [==============================] - 10s 28ms/step - loss: 0.0201 - acc: 0.0000e+00\n",
      "Epoch 70/200\n",
      "355/355 [==============================] - 10s 28ms/step - loss: 0.0202 - acc: 0.0000e+00\n",
      "Epoch 71/200\n",
      "355/355 [==============================] - 10s 28ms/step - loss: 0.0203 - acc: 0.0000e+00\n",
      "Epoch 72/200\n",
      "355/355 [==============================] - 10s 28ms/step - loss: 0.0200 - acc: 0.0000e+00\n",
      "Epoch 73/200\n",
      "355/355 [==============================] - 10s 27ms/step - loss: 0.0203 - acc: 0.0000e+00\n",
      "Epoch 74/200\n",
      "355/355 [==============================] - 10s 28ms/step - loss: 0.0204 - acc: 0.0000e+00\n",
      "Epoch 75/200\n",
      "355/355 [==============================] - 10s 28ms/step - loss: 0.0199 - acc: 0.0000e+00\n",
      "Epoch 76/200\n",
      "355/355 [==============================] - 10s 27ms/step - loss: 0.0202 - acc: 0.0000e+00\n",
      "Epoch 77/200\n",
      "355/355 [==============================] - 10s 28ms/step - loss: 0.0201 - acc: 0.0000e+00\n",
      "Epoch 78/200\n",
      "355/355 [==============================] - 9s 25ms/step - loss: 0.0203 - acc: 0.0000e+00\n",
      "Epoch 79/200\n",
      "355/355 [==============================] - 10s 28ms/step - loss: 0.0201 - acc: 0.0000e+00\n",
      "Epoch 80/200\n",
      "355/355 [==============================] - 10s 27ms/step - loss: 0.0203 - acc: 0.0000e+00\n",
      "Epoch 81/200\n",
      "355/355 [==============================] - 10s 28ms/step - loss: 0.0200 - acc: 0.0000e+00\n",
      "Epoch 82/200\n",
      "355/355 [==============================] - 10s 27ms/step - loss: 0.0199 - acc: 0.0000e+00\n",
      "Epoch 83/200\n",
      "355/355 [==============================] - 10s 28ms/step - loss: 0.0202 - acc: 0.0000e+00\n",
      "Epoch 84/200\n",
      "355/355 [==============================] - 10s 28ms/step - loss: 0.0199 - acc: 0.0000e+00\n",
      "Epoch 85/200\n",
      "355/355 [==============================] - 10s 28ms/step - loss: 0.0199 - acc: 0.0000e+00\n",
      "Epoch 86/200\n",
      "355/355 [==============================] - 9s 26ms/step - loss: 0.0201 - acc: 0.0000e+00\n",
      "Epoch 87/200\n",
      "355/355 [==============================] - 9s 26ms/step - loss: 0.0199 - acc: 0.0000e+00\n",
      "Epoch 88/200\n",
      "355/355 [==============================] - 10s 28ms/step - loss: 0.0199 - acc: 0.0000e+00\n",
      "Epoch 89/200\n",
      "355/355 [==============================] - 10s 28ms/step - loss: 0.0199 - acc: 0.0000e+00\n",
      "Epoch 90/200\n",
      "355/355 [==============================] - 10s 28ms/step - loss: 0.0200 - acc: 0.0000e+00\n",
      "Epoch 91/200\n",
      "355/355 [==============================] - 10s 27ms/step - loss: 0.0200 - acc: 0.0000e+00\n",
      "Epoch 92/200\n",
      "355/355 [==============================] - 10s 28ms/step - loss: 0.0199 - acc: 0.0000e+00\n",
      "Epoch 93/200\n",
      "355/355 [==============================] - 10s 28ms/step - loss: 0.0201 - acc: 0.0000e+00\n",
      "Epoch 94/200\n",
      "355/355 [==============================] - 10s 28ms/step - loss: 0.0195 - acc: 0.0000e+00\n",
      "Epoch 95/200\n",
      "355/355 [==============================] - 10s 28ms/step - loss: 0.0199 - acc: 0.0000e+00\n",
      "Epoch 96/200\n",
      "355/355 [==============================] - 10s 28ms/step - loss: 0.0201 - acc: 0.0000e+00\n",
      "Epoch 97/200\n",
      "355/355 [==============================] - 10s 28ms/step - loss: 0.0197 - acc: 0.0000e+00\n",
      "Epoch 98/200\n",
      "355/355 [==============================] - 10s 28ms/step - loss: 0.0200 - acc: 0.0000e+00\n",
      "Epoch 99/200\n",
      "355/355 [==============================] - 10s 27ms/step - loss: 0.0198 - acc: 0.0000e+00\n",
      "Epoch 100/200\n",
      "355/355 [==============================] - 9s 25ms/step - loss: 0.0201 - acc: 0.0000e+00\n",
      "Epoch 101/200\n",
      "355/355 [==============================] - 9s 27ms/step - loss: 0.0200 - acc: 0.0000e+00\n",
      "Epoch 102/200\n",
      "355/355 [==============================] - 10s 28ms/step - loss: 0.0199 - acc: 0.0000e+00\n",
      "Epoch 103/200\n",
      "355/355 [==============================] - 10s 28ms/step - loss: 0.0196 - acc: 0.0000e+00\n",
      "Epoch 104/200\n",
      "355/355 [==============================] - 10s 28ms/step - loss: 0.0197 - acc: 0.0000e+00\n",
      "Epoch 105/200\n",
      "355/355 [==============================] - 10s 28ms/step - loss: 0.0201 - acc: 0.0000e+00\n",
      "Epoch 106/200\n",
      "355/355 [==============================] - 10s 28ms/step - loss: 0.0199 - acc: 0.0000e+00\n",
      "Epoch 107/200\n",
      "355/355 [==============================] - 10s 28ms/step - loss: 0.0200 - acc: 0.0000e+00\n",
      "Epoch 108/200\n",
      "355/355 [==============================] - 10s 28ms/step - loss: 0.0197 - acc: 0.0000e+00\n",
      "Epoch 109/200\n",
      "355/355 [==============================] - 10s 28ms/step - loss: 0.0198 - acc: 0.0000e+00\n",
      "Epoch 110/200\n",
      "355/355 [==============================] - 10s 28ms/step - loss: 0.0198 - acc: 0.0000e+00\n",
      "Epoch 111/200\n",
      "355/355 [==============================] - 10s 28ms/step - loss: 0.0198 - acc: 0.0000e+00\n",
      "Epoch 112/200\n",
      "355/355 [==============================] - 10s 28ms/step - loss: 0.0198 - acc: 0.0000e+00\n",
      "Epoch 113/200\n",
      "355/355 [==============================] - 10s 28ms/step - loss: 0.0198 - acc: 0.0000e+00\n",
      "Epoch 114/200\n",
      "355/355 [==============================] - 10s 28ms/step - loss: 0.0197 - acc: 0.0000e+00\n",
      "Epoch 115/200\n",
      "355/355 [==============================] - 9s 27ms/step - loss: 0.0197 - acc: 0.0000e+00\n",
      "Epoch 116/200\n",
      "355/355 [==============================] - 10s 28ms/step - loss: 0.0200 - acc: 0.0000e+00\n",
      "Epoch 117/200\n",
      "355/355 [==============================] - 10s 27ms/step - loss: 0.0199 - acc: 0.0000e+00\n",
      "Epoch 118/200\n",
      "355/355 [==============================] - 10s 27ms/step - loss: 0.0197 - acc: 0.0000e+00\n",
      "Epoch 119/200\n",
      "355/355 [==============================] - 10s 27ms/step - loss: 0.0198 - acc: 0.0000e+00\n",
      "Epoch 120/200\n",
      "355/355 [==============================] - 10s 27ms/step - loss: 0.0198 - acc: 0.0000e+00\n",
      "Epoch 121/200\n",
      "355/355 [==============================] - 10s 28ms/step - loss: 0.0200 - acc: 0.0000e+00\n",
      "Epoch 122/200\n",
      "355/355 [==============================] - 10s 28ms/step - loss: 0.0197 - acc: 0.0000e+00\n",
      "Epoch 123/200\n",
      "355/355 [==============================] - 10s 28ms/step - loss: 0.0201 - acc: 0.0000e+00\n",
      "Epoch 124/200\n",
      "355/355 [==============================] - 10s 28ms/step - loss: 0.0198 - acc: 0.0000e+00\n",
      "Epoch 125/200\n",
      "355/355 [==============================] - 10s 27ms/step - loss: 0.0196 - acc: 0.0000e+00\n",
      "Epoch 126/200\n",
      "355/355 [==============================] - 10s 28ms/step - loss: 0.0198 - acc: 0.0000e+00\n",
      "Epoch 127/200\n",
      "355/355 [==============================] - 10s 28ms/step - loss: 0.0198 - acc: 0.0000e+00\n",
      "Epoch 128/200\n",
      "355/355 [==============================] - 10s 28ms/step - loss: 0.0196 - acc: 0.0000e+00\n",
      "Epoch 129/200\n",
      "355/355 [==============================] - 10s 28ms/step - loss: 0.0196 - acc: 0.0000e+00\n",
      "Epoch 130/200\n",
      "355/355 [==============================] - 10s 27ms/step - loss: 0.0196 - acc: 0.0000e+00\n",
      "Epoch 131/200\n",
      "355/355 [==============================] - 10s 28ms/step - loss: 0.0196 - acc: 0.0000e+00\n",
      "Epoch 132/200\n",
      "355/355 [==============================] - 10s 27ms/step - loss: 0.0196 - acc: 0.0000e+00\n",
      "Epoch 133/200\n",
      "355/355 [==============================] - 10s 28ms/step - loss: 0.0199 - acc: 0.0000e+00\n",
      "Epoch 134/200\n",
      "355/355 [==============================] - 10s 28ms/step - loss: 0.0197 - acc: 0.0000e+00\n",
      "Epoch 135/200\n",
      "355/355 [==============================] - 10s 28ms/step - loss: 0.0196 - acc: 0.0000e+00\n",
      "Epoch 136/200\n",
      "355/355 [==============================] - 10s 28ms/step - loss: 0.0200 - acc: 0.0000e+00\n",
      "Epoch 137/200\n",
      "355/355 [==============================] - 10s 27ms/step - loss: 0.0194 - acc: 0.0000e+00\n",
      "Epoch 138/200\n",
      "355/355 [==============================] - 10s 27ms/step - loss: 0.0198 - acc: 0.0000e+00\n",
      "Epoch 139/200\n",
      "355/355 [==============================] - 10s 28ms/step - loss: 0.0196 - acc: 0.0000e+00\n",
      "Epoch 140/200\n",
      "355/355 [==============================] - 10s 28ms/step - loss: 0.0196 - acc: 0.0000e+00\n",
      "Epoch 141/200\n",
      "355/355 [==============================] - 10s 28ms/step - loss: 0.0196 - acc: 0.0000e+00\n",
      "Epoch 142/200\n",
      "355/355 [==============================] - 10s 28ms/step - loss: 0.0196 - acc: 0.0000e+00\n",
      "Epoch 143/200\n",
      "355/355 [==============================] - 10s 27ms/step - loss: 0.0195 - acc: 0.0000e+00\n",
      "Epoch 144/200\n",
      "355/355 [==============================] - 10s 28ms/step - loss: 0.0195 - acc: 0.0000e+00\n",
      "Epoch 145/200\n",
      "355/355 [==============================] - 10s 28ms/step - loss: 0.0197 - acc: 0.0000e+00\n",
      "Epoch 146/200\n",
      "355/355 [==============================] - 10s 28ms/step - loss: 0.0194 - acc: 0.0000e+00\n",
      "Epoch 147/200\n",
      "355/355 [==============================] - 10s 28ms/step - loss: 0.0194 - acc: 0.0000e+00\n",
      "Epoch 148/200\n",
      "355/355 [==============================] - 10s 27ms/step - loss: 0.0195 - acc: 0.0000e+00\n",
      "Epoch 149/200\n",
      "355/355 [==============================] - 10s 28ms/step - loss: 0.0198 - acc: 0.0000e+00\n",
      "Epoch 150/200\n",
      "355/355 [==============================] - 10s 27ms/step - loss: 0.0194 - acc: 0.0000e+00\n",
      "Epoch 151/200\n",
      "355/355 [==============================] - 10s 27ms/step - loss: 0.0198 - acc: 0.0000e+00\n",
      "Epoch 152/200\n",
      "355/355 [==============================] - 10s 27ms/step - loss: 0.0199 - acc: 0.0000e+00\n",
      "Epoch 153/200\n",
      "355/355 [==============================] - 10s 28ms/step - loss: 0.0195 - acc: 0.0000e+00\n",
      "Epoch 154/200\n",
      "355/355 [==============================] - 10s 28ms/step - loss: 0.0199 - acc: 0.0000e+00\n",
      "Epoch 155/200\n",
      "355/355 [==============================] - 10s 28ms/step - loss: 0.0196 - acc: 0.0000e+00\n",
      "Epoch 156/200\n",
      "355/355 [==============================] - 10s 28ms/step - loss: 0.0197 - acc: 0.0000e+00\n",
      "Epoch 157/200\n",
      "355/355 [==============================] - 10s 28ms/step - loss: 0.0196 - acc: 0.0000e+00\n",
      "Epoch 158/200\n",
      "355/355 [==============================] - 10s 28ms/step - loss: 0.0195 - acc: 0.0000e+00\n",
      "Epoch 159/200\n",
      "355/355 [==============================] - 10s 28ms/step - loss: 0.0194 - acc: 0.0000e+00\n",
      "Epoch 160/200\n",
      "355/355 [==============================] - 10s 28ms/step - loss: 0.0198 - acc: 0.0000e+00\n",
      "Epoch 161/200\n",
      "355/355 [==============================] - 10s 28ms/step - loss: 0.0193 - acc: 0.0000e+00\n",
      "Epoch 162/200\n",
      "355/355 [==============================] - 10s 27ms/step - loss: 0.0195 - acc: 0.0000e+00\n",
      "Epoch 163/200\n",
      "355/355 [==============================] - 10s 28ms/step - loss: 0.0195 - acc: 0.0000e+00\n",
      "Epoch 164/200\n",
      "355/355 [==============================] - 10s 28ms/step - loss: 0.0195 - acc: 0.0000e+00\n",
      "Epoch 165/200\n",
      "355/355 [==============================] - 10s 27ms/step - loss: 0.0195 - acc: 0.0000e+00\n",
      "Epoch 166/200\n",
      "355/355 [==============================] - 10s 28ms/step - loss: 0.0194 - acc: 0.0000e+00\n",
      "Epoch 167/200\n",
      "355/355 [==============================] - 10s 28ms/step - loss: 0.0196 - acc: 0.0000e+00\n",
      "Epoch 168/200\n",
      "355/355 [==============================] - 10s 28ms/step - loss: 0.0192 - acc: 0.0000e+00\n",
      "Epoch 169/200\n",
      "355/355 [==============================] - 10s 28ms/step - loss: 0.0194 - acc: 0.0000e+00\n",
      "Epoch 170/200\n",
      "355/355 [==============================] - 10s 28ms/step - loss: 0.0194 - acc: 0.0000e+00\n",
      "Epoch 171/200\n",
      "355/355 [==============================] - 10s 27ms/step - loss: 0.0195 - acc: 0.0000e+00\n",
      "Epoch 172/200\n",
      "355/355 [==============================] - 10s 28ms/step - loss: 0.0195 - acc: 0.0000e+00\n",
      "Epoch 173/200\n",
      "355/355 [==============================] - 10s 28ms/step - loss: 0.0196 - acc: 0.0000e+00\n",
      "Epoch 174/200\n",
      "355/355 [==============================] - 10s 28ms/step - loss: 0.0196 - acc: 0.0000e+00\n",
      "Epoch 175/200\n",
      "355/355 [==============================] - 10s 27ms/step - loss: 0.0195 - acc: 0.0000e+00\n",
      "Epoch 176/200\n",
      "355/355 [==============================] - 9s 26ms/step - loss: 0.0197 - acc: 0.0000e+00\n",
      "Epoch 177/200\n",
      "355/355 [==============================] - 9s 26ms/step - loss: 0.0198 - acc: 0.0000e+00\n",
      "Epoch 178/200\n",
      "355/355 [==============================] - 10s 27ms/step - loss: 0.0194 - acc: 0.0000e+00\n",
      "Epoch 179/200\n",
      "355/355 [==============================] - 10s 28ms/step - loss: 0.0195 - acc: 0.0000e+00\n",
      "Epoch 180/200\n",
      "355/355 [==============================] - 10s 28ms/step - loss: 0.0196 - acc: 0.0000e+00\n",
      "Epoch 181/200\n",
      "355/355 [==============================] - 10s 28ms/step - loss: 0.0193 - acc: 0.0000e+00\n",
      "Epoch 182/200\n",
      "355/355 [==============================] - 10s 27ms/step - loss: 0.0194 - acc: 0.0000e+00\n",
      "Epoch 183/200\n",
      "355/355 [==============================] - 10s 27ms/step - loss: 0.0193 - acc: 0.0000e+00\n",
      "Epoch 184/200\n",
      "355/355 [==============================] - 10s 27ms/step - loss: 0.0194 - acc: 0.0000e+00\n",
      "Epoch 185/200\n",
      "355/355 [==============================] - 10s 28ms/step - loss: 0.0195 - acc: 0.0000e+00\n",
      "Epoch 186/200\n",
      "355/355 [==============================] - 10s 27ms/step - loss: 0.0194 - acc: 0.0000e+00\n",
      "Epoch 187/200\n",
      "355/355 [==============================] - 10s 27ms/step - loss: 0.0192 - acc: 0.0000e+00\n",
      "Epoch 188/200\n",
      "355/355 [==============================] - 10s 27ms/step - loss: 0.0193 - acc: 0.0000e+00\n",
      "Epoch 189/200\n",
      "355/355 [==============================] - 9s 26ms/step - loss: 0.0193 - acc: 0.0000e+00\n",
      "Epoch 190/200\n",
      "355/355 [==============================] - 10s 28ms/step - loss: 0.0193 - acc: 0.0000e+00\n",
      "Epoch 191/200\n",
      "355/355 [==============================] - 10s 28ms/step - loss: 0.0194 - acc: 0.0000e+00\n",
      "Epoch 192/200\n",
      "355/355 [==============================] - 10s 28ms/step - loss: 0.0193 - acc: 0.0000e+00\n",
      "Epoch 193/200\n",
      "355/355 [==============================] - 9s 26ms/step - loss: 0.0193 - acc: 0.0000e+00\n",
      "Epoch 194/200\n",
      "355/355 [==============================] - 10s 28ms/step - loss: 0.0194 - acc: 0.0000e+00\n",
      "Epoch 195/200\n",
      "355/355 [==============================] - 10s 28ms/step - loss: 0.0193 - acc: 0.0000e+00\n",
      "Epoch 196/200\n",
      "355/355 [==============================] - 10s 28ms/step - loss: 0.0196 - acc: 0.0000e+00\n",
      "Epoch 197/200\n",
      "355/355 [==============================] - 10s 28ms/step - loss: 0.0195 - acc: 0.0000e+00\n",
      "Epoch 198/200\n",
      "355/355 [==============================] - 10s 27ms/step - loss: 0.0196 - acc: 0.0000e+00\n",
      "Epoch 199/200\n",
      "355/355 [==============================] - 10s 27ms/step - loss: 0.0192 - acc: 0.0000e+00\n",
      "Epoch 200/200\n",
      "351/355 [============================>.] - ETA: 0s - loss: 0.0196 - acc: 0.0000e+00WARNING:tensorflow:Your dataset ran out of data; interrupting training. Make sure that your dataset can generate at least `steps_per_epoch * epochs` batches (in this case, 71000 batches). You may need to use the repeat() function when building your dataset.\n"
     ]
    }
   ],
   "source": [
    "history_deep = regressor_deep.fit([x_pp_flat[0], x_pp_flat[1], x_pp_flat[2], x_pp_flat[3], x_pp_flat[4], x_pp_flat[5], standardized_energy], standardized_calib)"
   ]
  },
  {
   "cell_type": "code",
   "execution_count": 47,
   "metadata": {},
   "outputs": [
    {
     "name": "stdout",
     "output_type": "stream",
     "text": [
      "350/350 [==============================] - 5s 15ms/step\n"
     ]
    }
   ],
   "source": [
    "predict_deep_pp_2 = scaler_calib_pp.inverse_transform(regressor_deep.predict([x_pp_flat[0][:280000], x_pp_flat[1][:280000], x_pp_flat[2][:280000], x_pp_flat[3][:280000], x_pp_flat[4][:280000], x_pp_flat[5][:280000], standardized_energy[:280000]]))"
   ]
  },
  {
   "cell_type": "code",
   "execution_count": 49,
   "metadata": {},
   "outputs": [
    {
     "data": {
      "text/plain": [
       "<Figure size 432x288 with 0 Axes>"
      ]
     },
     "metadata": {},
     "output_type": "display_data"
    },
    {
     "data": {
      "image/png": "[encoded data removed]",
      "text/plain": [
       "<Figure size 432x288 with 1 Axes>"
      ]
     },
     "metadata": {},
     "output_type": "display_data"
    }
   ],
   "source": [
    "n_bins = 50\n",
    "plt.cla(); plt.clf()\n",
    "fig = plt.figure()\n",
    "fig.patch.set_facecolor('white')\n",
    "plt.hist(predict_deep_pp_2 / pp['cluster_ENG_CALIB_TOT'][:280000], label='Deep Network 2', alpha=0.5, bins = n_bins)\n",
    "plt.hist(predict_deep_pp / pp['cluster_ENG_CALIB_TOT'][:280000], label='Deep Network', alpha=0.5, bins = n_bins)\n",
    "plt.hist(pp['clusterE'] / pp['cluster_ENG_CALIB_TOT'], label='Raw Energy', alpha=0.5, bins = n_bins)\n",
    "plt.hist(pp['clusterECalib'] / pp['cluster_ENG_CALIB_TOT'], label='LC Energy', alpha=0.5, bins = n_bins)\n",
    "plt.yscale('log')\n",
    "# plt.ylim(0,3)\n",
    "plt.xlabel('Predicted Energy / Cluster Calib Hits')\n",
    "plt.ylabel('Predicted Energy')\n",
    "# plt.colorbar()\n",
    "plt.legend()\n",
    "plt.savefig(plotpath+'/hist_deep2_pp_ratio.pdf')"
   ]
  },
  {
   "cell_type": "markdown",
   "metadata": {},
   "source": [
    "#### Ok, so it got a bit better with more training (and luck?)\n",
    "But it's still pretty garbage-- doing worse than the original DNN without normalization"
   ]
  },
  {
   "cell_type": "markdown",
   "metadata": {},
   "source": [
    "## Time for some reweighting"
   ]
  },
  {
   "cell_type": "code",
   "execution_count": 16,
   "metadata": {},
   "outputs": [
    {
     "data": {
      "text/plain": [
       "<Figure size 432x288 with 0 Axes>"
      ]
     },
     "metadata": {},
     "output_type": "display_data"
    },
    {
     "data": {
      "image/png": "[encoded data removed]",
      "text/plain": [
       "<Figure size 432x288 with 1 Axes>"
      ]
     },
     "metadata": {},
     "output_type": "display_data"
    }
   ],
   "source": [
    "n_bins = 300\n",
    "plt.cla(); plt.clf()\n",
    "fig = plt.figure()\n",
    "fig.patch.set_facecolor('white')\n",
    "hist = plt.hist(pp['cluster_ENG_CALIB_TOT'], bins=n_bins, alpha=0.5, label='$\\pi^+$')\n",
    "plt.yscale('log')\n",
    "plt.xlabel('CalibHits')\n",
    "plt.legend()\n",
    "plt.show()"
   ]
  },
  {
   "cell_type": "code",
   "execution_count": 8,
   "metadata": {},
   "outputs": [
    {
     "name": "stdout",
     "output_type": "stream",
     "text": [
      "<class 'tuple'>\n"
     ]
    }
   ],
   "source": [
    "print(type(hist))"
   ]
  },
  {
   "cell_type": "code",
   "execution_count": 13,
   "metadata": {},
   "outputs": [
    {
     "name": "stdout",
     "output_type": "stream",
     "text": [
      "[3.90953384e-02 6.61147982e+01 1.32190501e+02 1.98266204e+02\n",
      " 2.64341907e+02 3.30417610e+02 3.96493312e+02 4.62569015e+02\n",
      " 5.28644718e+02 5.94720421e+02 6.60796124e+02 7.26871827e+02\n",
      " 7.92947529e+02 8.59023232e+02 9.25098935e+02 9.91174638e+02\n",
      " 1.05725034e+03 1.12332604e+03 1.18940175e+03 1.25547745e+03\n",
      " 1.32155315e+03 1.38762886e+03 1.45370456e+03 1.51978026e+03\n",
      " 1.58585596e+03 1.65193167e+03 1.71800737e+03 1.78408307e+03\n",
      " 1.85015877e+03 1.91623448e+03 1.98231018e+03]\n"
     ]
    }
   ],
   "source": [
    "print(hist[1])"
   ]
  },
  {
   "cell_type": "code",
   "execution_count": 14,
   "metadata": {},
   "outputs": [
    {
     "name": "stdout",
     "output_type": "stream",
     "text": [
      "[1.84002e+05 2.41530e+04 1.35110e+04 9.34400e+03 7.25700e+03 5.81100e+03\n",
      " 4.70500e+03 3.97400e+03 3.51800e+03 3.13700e+03 2.75200e+03 2.40800e+03\n",
      " 2.19600e+03 2.01500e+03 1.76800e+03 1.61800e+03 1.50400e+03 1.43100e+03\n",
      " 1.30100e+03 1.17800e+03 1.10800e+03 1.01600e+03 9.38000e+02 8.66000e+02\n",
      " 7.48000e+02 6.78000e+02 5.06000e+02 3.33000e+02 1.66000e+02 4.20000e+01]\n"
     ]
    }
   ],
   "source": [
    "print(hist[0])"
   ]
  },
  {
   "cell_type": "code",
   "execution_count": 18,
   "metadata": {},
   "outputs": [
    {
     "data": {
      "text/plain": [
       "283984.0"
      ]
     },
     "execution_count": 18,
     "metadata": {},
     "output_type": "execute_result"
    }
   ],
   "source": [
    "np.sum(hist[0])"
   ]
  },
  {
   "cell_type": "code",
   "execution_count": 15,
   "metadata": {},
   "outputs": [],
   "source": [
    "def find_bin(val, hist):\n",
    "    for ibin, edge in enumerate(hist[1]): # loop over the edges\n",
    "        if val > edge and val <= hist[1][ibin+1]:\n",
    "            return ibin\n",
    "    return -1\n",
    "#     return ibin for ibin, edge in enumerate(hist[1]) if val > edge and val <= hist[1][ibin+1]"
   ]
  },
  {
   "cell_type": "code",
   "execution_count": 32,
   "metadata": {},
   "outputs": [
    {
     "name": "stdout",
     "output_type": "stream",
     "text": [
      "503.0\n"
     ]
    }
   ],
   "source": [
    "find_bin(400,hist)\n",
    "print(hist[0][60])"
   ]
  },
  {
   "cell_type": "code",
   "execution_count": 17,
   "metadata": {},
   "outputs": [],
   "source": [
    "def calc_weights(values, hist):\n",
    "    weights = []\n",
    "    tot_norm = np.sum(hist[0])\n",
    "    for value in values:\n",
    "        val_bin = find_bin(value, hist)\n",
    "        weight = 1 / hist[0][val_bin]\n",
    "        weights.append(weight)\n",
    "    return weights"
   ]
  },
  {
   "cell_type": "code",
   "execution_count": 20,
   "metadata": {},
   "outputs": [],
   "source": [
    "weights = calc_weights(pp['cluster_ENG_CALIB_TOT'], hist)"
   ]
  },
  {
   "cell_type": "code",
   "execution_count": 95,
   "metadata": {},
   "outputs": [
    {
     "name": "stdout",
     "output_type": "stream",
     "text": [
      "0.024390243902439025\n"
     ]
    }
   ],
   "source": [
    "print(weights[0])"
   ]
  },
  {
   "cell_type": "code",
   "execution_count": 96,
   "metadata": {},
   "outputs": [
    {
     "data": {
      "text/plain": [
       "<Figure size 432x288 with 0 Axes>"
      ]
     },
     "metadata": {},
     "output_type": "display_data"
    },
    {
     "data": {
      "image/png": "[encoded data removed]",
      "text/plain": [
       "<Figure size 432x288 with 1 Axes>"
      ]
     },
     "metadata": {},
     "output_type": "display_data"
    }
   ],
   "source": [
    "n_bins = 300\n",
    "plt.cla(); plt.clf()\n",
    "fig = plt.figure()\n",
    "fig.patch.set_facecolor('white')\n",
    "plt.hist(pp['cluster_ENG_CALIB_TOT'], bins=n_bins, alpha=0.5, label='$\\pi^+$',weights=weights_n)\n",
    "plt.yscale('log')\n",
    "plt.xlabel('CalibHits')\n",
    "plt.legend()\n",
    "plt.show()"
   ]
  },
  {
   "cell_type": "code",
   "execution_count": 21,
   "metadata": {},
   "outputs": [],
   "source": [
    "weights_n = np.asarray(weights)"
   ]
  },
  {
   "cell_type": "code",
   "execution_count": 90,
   "metadata": {},
   "outputs": [
    {
     "name": "stdout",
     "output_type": "stream",
     "text": [
      "[6926.43902439   92.4126261    10.0107163  ...  421.96731055  156.72406181\n",
      "   10.0107163 ]\n"
     ]
    }
   ],
   "source": [
    "print(weights_n)"
   ]
  },
  {
   "cell_type": "code",
   "execution_count": 22,
   "metadata": {},
   "outputs": [
    {
     "name": "stdout",
     "output_type": "stream",
     "text": [
      "WARNING:tensorflow:From /usr/local/lib/python3.6/dist-packages/tensorflow/python/ops/math_grad.py:1250: add_dispatch_support.<locals>.wrapper (from tensorflow.python.ops.array_ops) is deprecated and will be removed in a future version.\n",
      "Instructions for updating:\n",
      "Use tf.where in 2.0, which has the same broadcast rule as np.where\n",
      "INFO:tensorflow:batch_all_reduce: 48 all-reduces with algorithm = nccl,num_packs = 1, agg_small_grads_max_bytes = 0 and agg_small_grads_max_group = 10\n",
      "Epoch 1/20\n",
      "355/355 [==============================] - 16s 46ms/step - loss: 0.1609 - mean_squared_error: 1.0152\n",
      "Epoch 2/20\n",
      "355/355 [==============================] - 9s 27ms/step - loss: 0.1323 - mean_squared_error: 0.9005\n",
      "Epoch 3/20\n",
      "355/355 [==============================] - 10s 27ms/step - loss: 0.1190 - mean_squared_error: 0.8256\n",
      "Epoch 4/20\n",
      "355/355 [==============================] - 9s 27ms/step - loss: 0.1130 - mean_squared_error: 0.8008\n",
      "Epoch 5/20\n",
      "355/355 [==============================] - 9s 26ms/step - loss: 0.1085 - mean_squared_error: 0.7844\n",
      "Epoch 6/20\n",
      "355/355 [==============================] - 9s 26ms/step - loss: 0.1055 - mean_squared_error: 0.7682\n",
      "Epoch 7/20\n",
      "355/355 [==============================] - 9s 26ms/step - loss: 0.1030 - mean_squared_error: 0.7527\n",
      "Epoch 8/20\n",
      "355/355 [==============================] - 9s 26ms/step - loss: 0.1006 - mean_squared_error: 0.7383\n",
      "Epoch 9/20\n",
      "355/355 [==============================] - 9s 26ms/step - loss: 0.0983 - mean_squared_error: 0.7237\n",
      "Epoch 10/20\n",
      "355/355 [==============================] - 9s 26ms/step - loss: 0.0961 - mean_squared_error: 0.7091\n",
      "Epoch 11/20\n",
      "355/355 [==============================] - 9s 26ms/step - loss: 0.0945 - mean_squared_error: 0.6986\n",
      "Epoch 12/20\n",
      "355/355 [==============================] - 9s 26ms/step - loss: 0.0927 - mean_squared_error: 0.6865\n",
      "Epoch 13/20\n",
      "355/355 [==============================] - 9s 26ms/step - loss: 0.0909 - mean_squared_error: 0.6750\n",
      "Epoch 14/20\n",
      "355/355 [==============================] - 9s 26ms/step - loss: 0.0891 - mean_squared_error: 0.6635\n",
      "Epoch 15/20\n",
      "355/355 [==============================] - 9s 26ms/step - loss: 0.0870 - mean_squared_error: 0.6504\n",
      "Epoch 16/20\n",
      "355/355 [==============================] - 9s 26ms/step - loss: 0.0856 - mean_squared_error: 0.6421\n",
      "Epoch 17/20\n",
      "355/355 [==============================] - 9s 26ms/step - loss: 0.0845 - mean_squared_error: 0.6348\n",
      "Epoch 18/20\n",
      "355/355 [==============================] - 9s 26ms/step - loss: 0.0829 - mean_squared_error: 0.6249\n",
      "Epoch 19/20\n",
      "355/355 [==============================] - 9s 26ms/step - loss: 0.0819 - mean_squared_error: 0.6185\n",
      "Epoch 20/20\n",
      "354/355 [============================>.] - ETA: 0s - loss: 0.0805 - mean_squared_error: 0.6105WARNING:tensorflow:Your dataset ran out of data; interrupting training. Make sure that your dataset can generate at least `steps_per_epoch * epochs` batches (in this case, 7100 batches). You may need to use the repeat() function when building your dataset.\n"
     ]
    }
   ],
   "source": [
    "history_deep = regressor_deep.fit([x_pp_flat[0], x_pp_flat[1], x_pp_flat[2], x_pp_flat[3], x_pp_flat[4], x_pp_flat[5], standardized_energy], standardized_calib, sample_weight=weights_n)"
   ]
  },
  {
   "cell_type": "code",
   "execution_count": 110,
   "metadata": {},
   "outputs": [
    {
     "name": "stdout",
     "output_type": "stream",
     "text": [
      "test\n"
     ]
    }
   ],
   "source": [
    "print('test')"
   ]
  },
  {
   "cell_type": "code",
   "execution_count": 23,
   "metadata": {},
   "outputs": [
    {
     "name": "stdout",
     "output_type": "stream",
     "text": [
      "350/350 [==============================] - 3s 10ms/step\n"
     ]
    }
   ],
   "source": [
    "predict_deep_pp_3 = scaler_calib_pp.inverse_transform(regressor_deep.predict([x_pp_flat[0][:280000], x_pp_flat[1][:280000], x_pp_flat[2][:280000], x_pp_flat[3][:280000], x_pp_flat[4][:280000], x_pp_flat[5][:280000], standardized_energy[:280000]]))"
   ]
  },
  {
   "cell_type": "code",
   "execution_count": 24,
   "metadata": {},
   "outputs": [
    {
     "data": {
      "text/plain": [
       "<Figure size 432x288 with 0 Axes>"
      ]
     },
     "metadata": {},
     "output_type": "display_data"
    },
    {
     "data": {
      "image/png": "[encoded data removed]",
      "text/plain": [
       "<Figure size 432x288 with 1 Axes>"
      ]
     },
     "metadata": {},
     "output_type": "display_data"
    }
   ],
   "source": [
    "n_bins = 50\n",
    "plt.cla(); plt.clf()\n",
    "fig = plt.figure()\n",
    "fig.patch.set_facecolor('white')\n",
    "plt.hist(predict_deep_pp_3 / pp['cluster_ENG_CALIB_TOT'][:280000], label='Deep Network 3', alpha=0.5, bins = n_bins)\n",
    "# plt.hist(predict_deep_pp / pp['cluster_ENG_CALIB_TOT'][:280000], label='Deep Network', alpha=0.5, bins = n_bins)\n",
    "plt.hist(pp['clusterE'] / pp['cluster_ENG_CALIB_TOT'], label='Raw Energy', alpha=0.5, bins = n_bins)\n",
    "plt.hist(pp['clusterECalib'] / pp['cluster_ENG_CALIB_TOT'], label='LC Energy', alpha=0.5, bins = n_bins)\n",
    "plt.yscale('log')\n",
    "# plt.ylim(0,3)\n",
    "plt.xlabel('Predicted Energy / Cluster Calib Hits')\n",
    "plt.ylabel('Predicted Energy')\n",
    "# plt.colorbar()\n",
    "plt.legend()\n",
    "plt.savefig(plotpath+'/hist_deep2_pp_ratio.pdf')"
   ]
  },
  {
   "cell_type": "code",
   "execution_count": 25,
   "metadata": {},
   "outputs": [
    {
     "data": {
      "text/plain": [
       "<Figure size 432x288 with 0 Axes>"
      ]
     },
     "metadata": {},
     "output_type": "display_data"
    },
    {
     "data": {
      "image/png": "[encoded data removed]",
      "text/plain": [
       "<Figure size 432x288 with 2 Axes>"
      ]
     },
     "metadata": {},
     "output_type": "display_data"
    }
   ],
   "source": [
    "from matplotlib.colors import LogNorm\n",
    "\n",
    "xbin = [10**exp for exp in  np.arange(-1.0, 3.1, 0.1)]\n",
    "ybin = np.arange(0., 40.1, 0.1)\n",
    "\n",
    "n_bins = 30\n",
    "plt.cla(); plt.clf()\n",
    "fig = plt.figure()\n",
    "fig.patch.set_facecolor('white')\n",
    "plt.hist2d(pp['cluster_ENG_CALIB_TOT'][:280000],predict_deep_pp_3 / pp['cluster_ENG_CALIB_TOT'][:280000],bins=[xbin,ybin],norm=LogNorm())\n",
    "plt.xscale('log')\n",
    "plt.ylim(0,40)\n",
    "plt.xlabel('Cluster Calib Hits')\n",
    "plt.ylabel('Predicted Energy / Calib Hits')\n",
    "plt.colorbar()\n",
    "# plt.legend()\n",
    "plt.savefig(plotpath+'/hist_2D_calib_vs_deep3_pp.pdf')"
   ]
  },
  {
   "cell_type": "markdown",
   "metadata": {},
   "source": [
    "# Backup and do a 1-regression"
   ]
  },
  {
   "cell_type": "code",
   "execution_count": 8,
   "metadata": {},
   "outputs": [
    {
     "name": "stderr",
     "output_type": "stream",
     "text": [
      "Using TensorFlow backend.\n"
     ]
    }
   ],
   "source": [
    "\n",
    "from tensorflow.keras import regularizers\n",
    "from tensorflow.keras import Sequential\n",
    "from tensorflow.keras import Model\n",
    "from tensorflow.keras.optimizers import SGD, Adam\n",
    "from tensorflow.keras.layers import LeakyReLU\n",
    "from tensorflow.keras.layers import Input, Dense, Dropout, BatchNormalization\n",
    "from keras.wrappers.scikit_learn import KerasRegressor\n",
    "ngpu=1\n",
    "\n",
    "def baseline_model():\n",
    "    regressor = Sequential()\n",
    "    regressor.add(Dense(units=24, input_dim=1, kernel_initializer='normal', activation='relu'))\n",
    "    regressor.add(Dense(units=24, kernel_initializer='normal', activation='relu'))\n",
    "    regressor.add(Dense(units=1, kernel_initializer='normal', activation='linear'))\n",
    "    opt = Adam(lr=1e-4, decay=1e-6)\n",
    "    regressor.compile(optimizer=opt, loss='mse')\n",
    "\n",
    "    return regressor"
   ]
  },
  {
   "cell_type": "code",
   "execution_count": 39,
   "metadata": {},
   "outputs": [
    {
     "name": "stdout",
     "output_type": "stream",
     "text": [
      "Model: \"sequential_4\"\n",
      "_________________________________________________________________\n",
      "Layer (type)                 Output Shape              Param #   \n",
      "=================================================================\n",
      "dense_12 (Dense)             (None, 24)                48        \n",
      "_________________________________________________________________\n",
      "dense_13 (Dense)             (None, 24)                600       \n",
      "_________________________________________________________________\n",
      "dense_14 (Dense)             (None, 1)                 25        \n",
      "=================================================================\n",
      "Total params: 673\n",
      "Trainable params: 673\n",
      "Non-trainable params: 0\n",
      "_________________________________________________________________\n",
      "None\n"
     ]
    }
   ],
   "source": [
    "from keras.wrappers.scikit_learn import KerasRegressor\n",
    "\n",
    "regressor = KerasRegressor(build_fn=baseline_model, batch_size=200*ngpu, epochs=50, verbose=1)\n",
    "print(baseline_model().summary())"
   ]
  },
  {
   "cell_type": "code",
   "execution_count": 14,
   "metadata": {},
   "outputs": [],
   "source": [
    "from sklearn.preprocessing import StandardScaler\n",
    "# create scaler\n",
    "scaler_epp = StandardScaler()\n",
    "scalar_cal = StandardScaler()\n",
    "# fit and transform in one step\n",
    "standardized_energy_l = scaler_epp.fit_transform(energy_pp_l.reshape(-1,1))\n",
    "standardized_calib_l  = scalar_cal.fit_transform(calib_hits_pp_l.reshape(-1,1))\n",
    "# inverse transform\n",
    "#inverse = scaler_epp.inverse_transform(standardized)"
   ]
  },
  {
   "cell_type": "code",
   "execution_count": 8,
   "metadata": {},
   "outputs": [],
   "source": [
    "scaler_lp5 = StandardScaler()\n",
    "energy_pp_lp5 = scaler_lp5.fit_transform(np.log(energy_pp + 5).reshape(-1,1))"
   ]
  },
  {
   "cell_type": "code",
   "execution_count": 40,
   "metadata": {
    "scrolled": true,
    "tags": []
   },
   "outputs": [
    {
     "name": "stdout",
     "output_type": "stream",
     "text": [
      "Epoch 1/50\n",
      "435489/435489 [==============================] - 8s 18us/sample - loss: 0.3552\n",
      "Epoch 2/50\n",
      "435489/435489 [==============================] - 8s 17us/sample - loss: 0.0390\n",
      "Epoch 3/50\n",
      "435489/435489 [==============================] - 8s 18us/sample - loss: 0.0360\n",
      "Epoch 4/50\n",
      "435489/435489 [==============================] - 8s 17us/sample - loss: 0.0355\n",
      "Epoch 5/50\n",
      "435489/435489 [==============================] - 8s 18us/sample - loss: 0.0355\n",
      "Epoch 6/50\n",
      "435489/435489 [==============================] - 8s 17us/sample - loss: 0.0355\n",
      "Epoch 7/50\n",
      "435489/435489 [==============================] - 8s 18us/sample - loss: 0.0355\n",
      "Epoch 8/50\n",
      "435489/435489 [==============================] - 8s 18us/sample - loss: 0.0354\n",
      "Epoch 9/50\n",
      "435489/435489 [==============================] - 8s 18us/sample - loss: 0.0354\n",
      "Epoch 10/50\n",
      "435489/435489 [==============================] - 8s 18us/sample - loss: 0.0354\n",
      "Epoch 11/50\n",
      "435489/435489 [==============================] - 8s 18us/sample - loss: 0.0354\n",
      "Epoch 12/50\n",
      "435489/435489 [==============================] - 8s 17us/sample - loss: 0.0354\n",
      "Epoch 13/50\n",
      "435489/435489 [==============================] - 8s 18us/sample - loss: 0.0354\n",
      "Epoch 14/50\n",
      "435489/435489 [==============================] - 8s 18us/sample - loss: 0.0354\n",
      "Epoch 15/50\n",
      "435489/435489 [==============================] - 8s 18us/sample - loss: 0.0354\n",
      "Epoch 16/50\n",
      "435489/435489 [==============================] - 8s 18us/sample - loss: 0.0354\n",
      "Epoch 17/50\n",
      "435489/435489 [==============================] - 8s 18us/sample - loss: 0.0354\n",
      "Epoch 18/50\n",
      "435489/435489 [==============================] - 8s 18us/sample - loss: 0.0354\n",
      "Epoch 19/50\n",
      "435489/435489 [==============================] - 8s 18us/sample - loss: 0.0354\n",
      "Epoch 20/50\n",
      "435489/435489 [==============================] - 8s 18us/sample - loss: 0.0354\n",
      "Epoch 21/50\n",
      "435489/435489 [==============================] - 8s 17us/sample - loss: 0.0354\n",
      "Epoch 22/50\n",
      "435489/435489 [==============================] - 8s 18us/sample - loss: 0.0354\n",
      "Epoch 23/50\n",
      "435489/435489 [==============================] - 8s 18us/sample - loss: 0.0354\n",
      "Epoch 24/50\n",
      "435489/435489 [==============================] - 8s 18us/sample - loss: 0.0354\n",
      "Epoch 25/50\n",
      "435489/435489 [==============================] - 7s 17us/sample - loss: 0.0354\n",
      "Epoch 26/50\n",
      "435489/435489 [==============================] - 8s 18us/sample - loss: 0.0354\n",
      "Epoch 27/50\n",
      "435489/435489 [==============================] - 8s 17us/sample - loss: 0.0354\n",
      "Epoch 28/50\n",
      "435489/435489 [==============================] - 8s 18us/sample - loss: 0.0354\n",
      "Epoch 29/50\n",
      "435489/435489 [==============================] - 8s 18us/sample - loss: 0.0354\n",
      "Epoch 30/50\n",
      "435489/435489 [==============================] - 8s 17us/sample - loss: 0.0354\n",
      "Epoch 31/50\n",
      "435489/435489 [==============================] - 8s 18us/sample - loss: 0.0354\n",
      "Epoch 32/50\n",
      "435489/435489 [==============================] - 8s 17us/sample - loss: 0.0354\n",
      "Epoch 33/50\n",
      "435489/435489 [==============================] - 8s 18us/sample - loss: 0.0354\n",
      "Epoch 34/50\n",
      "435489/435489 [==============================] - 8s 18us/sample - loss: 0.0354\n",
      "Epoch 35/50\n",
      "435489/435489 [==============================] - 8s 18us/sample - loss: 0.0354\n",
      "Epoch 36/50\n",
      "435489/435489 [==============================] - 8s 18us/sample - loss: 0.0354\n",
      "Epoch 37/50\n",
      "435489/435489 [==============================] - 8s 18us/sample - loss: 0.0354\n",
      "Epoch 38/50\n",
      "435489/435489 [==============================] - 8s 18us/sample - loss: 0.0354\n",
      "Epoch 39/50\n",
      "435489/435489 [==============================] - 7s 17us/sample - loss: 0.0354\n",
      "Epoch 40/50\n",
      "435489/435489 [==============================] - 8s 18us/sample - loss: 0.0354\n",
      "Epoch 41/50\n",
      "435489/435489 [==============================] - 8s 18us/sample - loss: 0.0354\n",
      "Epoch 42/50\n",
      "435489/435489 [==============================] - 8s 18us/sample - loss: 0.0354\n",
      "Epoch 43/50\n",
      "435489/435489 [==============================] - 8s 18us/sample - loss: 0.0354\n",
      "Epoch 44/50\n",
      "435489/435489 [==============================] - 8s 18us/sample - loss: 0.0354\n",
      "Epoch 45/50\n",
      "435489/435489 [==============================] - 8s 18us/sample - loss: 0.0354\n",
      "Epoch 46/50\n",
      "435489/435489 [==============================] - 8s 18us/sample - loss: 0.0354\n",
      "Epoch 47/50\n",
      "435489/435489 [==============================] - 8s 18us/sample - loss: 0.0354\n",
      "Epoch 48/50\n",
      "435489/435489 [==============================] - 8s 18us/sample - loss: 0.0354\n",
      "Epoch 49/50\n",
      "435489/435489 [==============================] - 8s 18us/sample - loss: 0.0354\n",
      "Epoch 50/50\n",
      "435489/435489 [==============================] - 8s 17us/sample - loss: 0.0354\n"
     ]
    }
   ],
   "source": [
    "history_baseline = regressor.fit([standardized_energy_l], standardized_calib_l)"
   ]
  },
  {
   "cell_type": "code",
   "execution_count": 66,
   "metadata": {},
   "outputs": [],
   "source": [
    "energies = standardized_energy_l[:280000]"
   ]
  },
  {
   "cell_type": "code",
   "execution_count": 21,
   "metadata": {},
   "outputs": [
    {
     "name": "stdout",
     "output_type": "stream",
     "text": [
      "435489/435489 [==============================] - 2s 3us/sample\n"
     ]
    }
   ],
   "source": [
    "predict_base_pp = np.exp(scalar_cal.inverse_transform(regressor.predict([standardized_energy_l])))\n"
   ]
  },
  {
   "cell_type": "code",
   "execution_count": 22,
   "metadata": {},
   "outputs": [
    {
     "name": "stderr",
     "output_type": "stream",
     "text": [
      "No handles with labels found to put in legend.\n"
     ]
    },
    {
     "data": {
      "text/plain": [
       "<Figure size 432x288 with 0 Axes>"
      ]
     },
     "metadata": {},
     "output_type": "display_data"
    },
    {
     "data": {
      "image/png": "[encoded data removed]",
      "text/plain": [
       "<Figure size 432x288 with 1 Axes>"
      ]
     },
     "metadata": {},
     "output_type": "display_data"
    }
   ],
   "source": [
    "n_bins = 500\n",
    "plt.cla(); plt.clf()\n",
    "fig = plt.figure()\n",
    "fig.patch.set_facecolor('white')\n",
    "plt.hist(predict_base_pp-energy_pp,bins = n_bins)\n",
    "# plt.hist(predict_base_pp / pp['cluster_ENG_CALIB_TOT'][:280000], label='Baseline Network', alpha=0.5, bins = n_bins)\n",
    "# # plt.hist(predict_deep_pp / pp['cluster_ENG_CALIB_TOT'][:280000], label='Deep Network', alpha=0.5, bins = n_bins)\n",
    "# plt.hist(pp['clusterE'] / pp['cluster_ENG_CALIB_TOT'], label='Raw Energy', alpha=0.5, bins = n_bins)\n",
    "# plt.hist(pp['clusterECalib'] / pp['cluster_ENG_CALIB_TOT'], label='LC Energy', alpha=0.5, bins = n_bins)\n",
    "plt.yscale('log')\n",
    "# plt.ylim(0,3)\n",
    "plt.xlabel('Learned - Actual Energy')\n",
    "# plt.colorbar()\n",
    "plt.legend()\n",
    "plt.show()"
   ]
  },
  {
   "cell_type": "code",
   "execution_count": 23,
   "metadata": {},
   "outputs": [
    {
     "name": "stdout",
     "output_type": "stream",
     "text": [
      "ModeResult(mode=array([-0.21504861]), count=array([97]))\n"
     ]
    }
   ],
   "source": [
    "from scipy import stats\n",
    "print(stats.mode(predict_base_pp-energy_pp))"
   ]
  },
  {
   "cell_type": "code",
   "execution_count": 27,
   "metadata": {},
   "outputs": [
    {
     "data": {
      "text/plain": [
       "<Figure size 432x288 with 0 Axes>"
      ]
     },
     "metadata": {},
     "output_type": "display_data"
    },
    {
     "data": {
      "image/png": "[encoded data removed]",
      "text/plain": [
       "<Figure size 432x288 with 2 Axes>"
      ]
     },
     "metadata": {},
     "output_type": "display_data"
    }
   ],
   "source": [
    "from matplotlib.colors import LogNorm\n",
    "\n",
    "xbin = [10**exp for exp in  np.arange(-1.0, 3.1, 0.1)]\n",
    "ybin = np.arange(0., 3.1, 0.1)\n",
    "\n",
    "n_bins = 30\n",
    "plt.cla(); plt.clf()\n",
    "fig = plt.figure()\n",
    "fig.patch.set_facecolor('white')\n",
    "plt.hist2d(pp['cluster_ENG_CALIB_TOT'],predict_base_pp / pp['cluster_ENG_CALIB_TOT'],bins=[xbin,ybin],norm=LogNorm())\n",
    "plt.xscale('log')\n",
    "plt.ylim(0,3)\n",
    "plt.xlabel('Cluster Calib Hits')\n",
    "plt.ylabel('Predicted Energy / Calib Hits')\n",
    "plt.colorbar()\n",
    "# plt.legend()\n",
    "plt.savefig(plotpath+'/hist_2D_calib_vs_base_pp.pdf')"
   ]
  },
  {
   "cell_type": "code",
   "execution_count": 28,
   "metadata": {},
   "outputs": [
    {
     "data": {
      "text/plain": [
       "<Figure size 432x288 with 0 Axes>"
      ]
     },
     "metadata": {},
     "output_type": "display_data"
    },
    {
     "data": {
      "image/png": "[encoded data removed]",
      "text/plain": [
       "<Figure size 432x288 with 2 Axes>"
      ]
     },
     "metadata": {},
     "output_type": "display_data"
    }
   ],
   "source": [
    "from matplotlib.colors import LogNorm\n",
    "\n",
    "xbin = [10**exp for exp in  np.arange(-1.0, 3.1, 0.1)]\n",
    "ybin = np.arange(0., 3.1, 0.1)\n",
    "\n",
    "n_bins = 30\n",
    "plt.cla(); plt.clf()\n",
    "fig = plt.figure()\n",
    "fig.patch.set_facecolor('white')\n",
    "plt.hist2d(pp['cluster_ENG_CALIB_TOT'], energy_pp / pp['cluster_ENG_CALIB_TOT'],bins=[xbin,ybin],norm=LogNorm())\n",
    "plt.xscale('log')\n",
    "plt.ylim(0,3)\n",
    "plt.xlabel('Cluster Calib Hits')\n",
    "plt.ylabel('Predicted Energy / Calib Hits')\n",
    "plt.colorbar()\n",
    "# plt.legend()\n",
    "plt.savefig(plotpath+'/hist_2D_calib_vs_raw_pp.pdf')"
   ]
  },
  {
   "cell_type": "code",
   "execution_count": 34,
   "metadata": {},
   "outputs": [
    {
     "data": {
      "text/plain": [
       "<Figure size 432x288 with 0 Axes>"
      ]
     },
     "metadata": {},
     "output_type": "display_data"
    },
    {
     "data": {
      "image/png": "[encoded data removed]",
      "text/plain": [
       "<Figure size 432x288 with 2 Axes>"
      ]
     },
     "metadata": {},
     "output_type": "display_data"
    }
   ],
   "source": [
    "plt.cla(); plt.clf()\n",
    "fig = plt.figure()\n",
    "fig.patch.set_facecolor('white')\n",
    "# plt.hist2d(standardized_calib_l, standardized_energy_l,bins=[20,20],norm=LogNorm())\n",
    "plt.hist2d(standardized_calib_l.reshape(len(standardized_calib_l)), standardized_energy_l.reshape(len(standardized_energy_l)),bins=[30,30], norm=LogNorm())\n",
    "# plt.xscale('log')\n",
    "plt.ylim(-3,2.5)\n",
    "plt.xlabel('Standardized Cluster Calib Hits')\n",
    "plt.ylabel('Standardized Cluster Energy')\n",
    "plt.colorbar()\n",
    "# plt.legend()\n",
    "plt.savefig(plotpath+'/hist_normed_clusterE_calib_log_pp.pdf')"
   ]
  },
  {
   "cell_type": "code",
   "execution_count": 30,
   "metadata": {},
   "outputs": [
    {
     "name": "stdout",
     "output_type": "stream",
     "text": [
      "435489/435489 [==============================] - 1s 3us/sample\n"
     ]
    }
   ],
   "source": [
    "predict_untransform = regressor.predict([standardized_energy_l])"
   ]
  },
  {
   "cell_type": "code",
   "execution_count": 33,
   "metadata": {},
   "outputs": [
    {
     "data": {
      "text/plain": [
       "<Figure size 432x288 with 0 Axes>"
      ]
     },
     "metadata": {},
     "output_type": "display_data"
    },
    {
     "data": {
      "image/png": "[encoded data removed]",
      "text/plain": [
       "<Figure size 432x288 with 2 Axes>"
      ]
     },
     "metadata": {},
     "output_type": "display_data"
    }
   ],
   "source": [
    "plt.cla(); plt.clf()\n",
    "fig = plt.figure()\n",
    "fig.patch.set_facecolor('white')\n",
    "# plt.hist2d(standardized_calib_l, standardized_energy_l,bins=[20,20],norm=LogNorm())\n",
    "plt.hist2d(standardized_calib_l.reshape(len(standardized_calib_l)), predict_untransform,bins=[30,30], norm=LogNorm())\n",
    "# plt.xscale('log')\n",
    "plt.ylim(-3,2.5)\n",
    "plt.xlabel('Standardized Cluster Calib Hits')\n",
    "plt.ylabel('Predicted Cluster Energy')\n",
    "plt.colorbar()\n",
    "# plt.legend()\n",
    "plt.savefig(plotpath+'/hist_normed_predict_calib_log_pp.pdf')"
   ]
  },
  {
   "cell_type": "code",
   "execution_count": 51,
   "metadata": {},
   "outputs": [
    {
     "data": {
      "text/plain": [
       "(280000,)"
      ]
     },
     "execution_count": 51,
     "metadata": {},
     "output_type": "execute_result"
    }
   ],
   "source": [
    "predict_untransform.shape"
   ]
  },
  {
   "cell_type": "code",
   "execution_count": 29,
   "metadata": {},
   "outputs": [
    {
     "data": {
      "text/plain": [
       "(283984, 1)"
      ]
     },
     "execution_count": 29,
     "metadata": {},
     "output_type": "execute_result"
    }
   ],
   "source": [
    "standardized_calib_l.shape"
   ]
  },
  {
   "cell_type": "code",
   "execution_count": 33,
   "metadata": {},
   "outputs": [
    {
     "name": "stdout",
     "output_type": "stream",
     "text": [
      "[1790.40478516   73.32950592   12.95556164 ...  319.09121704  120.67864227\n",
      "   10.19853401]\n"
     ]
    }
   ],
   "source": [
    "print(pp['cluster_ENG_CALIB_TOT'])"
   ]
  },
  {
   "cell_type": "code",
   "execution_count": 36,
   "metadata": {},
   "outputs": [
    {
     "data": {
      "text/plain": [
       "<Figure size 432x288 with 0 Axes>"
      ]
     },
     "metadata": {},
     "output_type": "display_data"
    },
    {
     "data": {
      "image/png": "[encoded data removed]",
      "text/plain": [
       "<Figure size 432x288 with 1 Axes>"
      ]
     },
     "metadata": {},
     "output_type": "display_data"
    }
   ],
   "source": [
    "n_bins = 500\n",
    "plt.cla(); plt.clf()\n",
    "fig = plt.figure()\n",
    "fig.patch.set_facecolor('white')\n",
    "plt.hist(predict_untransform - standardized_calib_l.reshape(len(standardized_calib_l)), bins = n_bins, label = 'Prediction', alpha=0.7)\n",
    "plt.hist(standardized_energy_l.reshape(len(standardized_energy_l)) - standardized_calib_l.reshape(len(standardized_calib_l)), bins = n_bins, label = 'Original Energy',alpha=0.7)\n",
    "# plt.hist(predict_base_pp / pp['cluster_ENG_CALIB_TOT'][:280000], label='Baseline Network', alpha=0.5, bins = n_bins)\n",
    "# # plt.hist(predict_deep_pp / pp['cluster_ENG_CALIB_TOT'][:280000], label='Deep Network', alpha=0.5, bins = n_bins)\n",
    "# plt.hist(pp['clusterE'] / pp['cluster_ENG_CALIB_TOT'], label='Raw Energy', alpha=0.5, bins = n_bins)\n",
    "# plt.hist(pp['clusterECalib'] / pp['cluster_ENG_CALIB_TOT'], label='LC Energy', alpha=0.5, bins = n_bins)\n",
    "plt.yscale('log')\n",
    "# plt.ylim(0,3)\n",
    "plt.xlabel('Learned - True Energy')\n",
    "# plt.colorbar()\n",
    "plt.legend()\n",
    "plt.show()"
   ]
  },
  {
   "cell_type": "code",
   "execution_count": 37,
   "metadata": {},
   "outputs": [
    {
     "data": {
      "text/plain": [
       "<Figure size 432x288 with 0 Axes>"
      ]
     },
     "metadata": {},
     "output_type": "display_data"
    },
    {
     "data": {
      "image/png": "[encoded data removed]",
      "text/plain": [
       "<Figure size 432x288 with 1 Axes>"
      ]
     },
     "metadata": {},
     "output_type": "display_data"
    }
   ],
   "source": [
    "n_bins = 500\n",
    "plt.cla(); plt.clf()\n",
    "fig = plt.figure()\n",
    "fig.patch.set_facecolor('white')\n",
    "plt.hist(standardized_calib_l.reshape(len(standardized_calib_l)), bins = n_bins, label = 'Calib', alpha=0.7)\n",
    "plt.hist(standardized_energy_l.reshape(len(standardized_energy_l)) , bins = n_bins, label = 'Original Energy',alpha=0.7)\n",
    "# plt.hist(predict_base_pp / pp['cluster_ENG_CALIB_TOT'][:280000], label='Baseline Network', alpha=0.5, bins = n_bins)\n",
    "# # plt.hist(predict_deep_pp / pp['cluster_ENG_CALIB_TOT'][:280000], label='Deep Network', alpha=0.5, bins = n_bins)\n",
    "# plt.hist(pp['clusterE'] / pp['cluster_ENG_CALIB_TOT'], label='Raw Energy', alpha=0.5, bins = n_bins)\n",
    "# plt.hist(pp['clusterECalib'] / pp['cluster_ENG_CALIB_TOT'], label='LC Energy', alpha=0.5, bins = n_bins)\n",
    "plt.yscale('log')\n",
    "# plt.ylim(0,3)\n",
    "plt.xlabel('Energies')\n",
    "# plt.colorbar()\n",
    "plt.legend()\n",
    "plt.show()"
   ]
  },
  {
   "cell_type": "markdown",
   "metadata": {},
   "source": [
    "## make slices of ereco/etrue in a few bins of ereco?"
   ]
  },
  {
   "cell_type": "code",
   "execution_count": 38,
   "metadata": {},
   "outputs": [
    {
     "data": {
      "text/plain": [
       "<Figure size 432x288 with 0 Axes>"
      ]
     },
     "metadata": {},
     "output_type": "display_data"
    },
    {
     "data": {
      "image/png": "[encoded data removed]",
      "text/plain": [
       "<Figure size 432x288 with 2 Axes>"
      ]
     },
     "metadata": {},
     "output_type": "display_data"
    }
   ],
   "source": [
    "from matplotlib.colors import LogNorm\n",
    "\n",
    "xbin = [10**exp for exp in  np.arange(-1.0, 3.1, 0.1)]\n",
    "ybin = np.arange(0., 40.1, 0.1)\n",
    "\n",
    "n_bins = 30\n",
    "plt.cla(); plt.clf()\n",
    "fig = plt.figure()\n",
    "fig.patch.set_facecolor('white')\n",
    "plt.hist2d(energy_pp, energy_pp / pp['cluster_ENG_CALIB_TOT'],bins=[xbin,ybin],norm=LogNorm())\n",
    "plt.xscale('log')\n",
    "plt.ylim(0,40)\n",
    "plt.xlabel('Cluster Energy')\n",
    "plt.ylabel('Predicted Energy / Calib Hits')\n",
    "plt.colorbar()\n",
    "# plt.legend()\n",
    "plt.savefig(plotpath+'/hist_2D_calib_vs_raw_pp_xreco.pdf')"
   ]
  },
  {
   "cell_type": "code",
   "execution_count": null,
   "metadata": {},
   "outputs": [],
   "source": [
    "model.add(Conv1D(40,2,input_shape=(6,512),activation='relu',\n",
    "                 kernel_initializer = \"he_normal\"))\n",
    "model.add(Dropout(.3))\n",
    "model.add(Conv1D(40,2,activation='relu',kernel_initializer = \"he_normal\"))\n",
    "model.add(Dropout(.3))\n",
    "model.add(MaxPooling1D(2))\n",
    "model.add(Conv1D(30,2,activation='relu',kernel_initializer = \"he_normal\"))\n",
    "model.add(Dropout(.3))\n",
    "model.add(Flatten())\n",
    "model.add(Dense(2))\n",
    "model.add(Activation('softmax'))\n",
    "model.summary()"
   ]
  }
 ],
 "metadata": {
  "kernelspec": {
   "display_name": "Python 3",
   "language": "python",
   "name": "python3"
  },
  "language_info": {
   "codemirror_mode": {
    "name": "ipython",
    "version": 3
   },
   "file_extension": ".py",
   "mimetype": "text/x-python",
   "name": "python",
   "nbconvert_exporter": "python",
   "pygments_lexer": "ipython3",
   "version": "3.8.5"
  }
 },
 "nbformat": 4,
 "nbformat_minor": 4
}

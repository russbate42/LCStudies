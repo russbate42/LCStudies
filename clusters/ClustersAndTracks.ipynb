{
 "cells": [
  {
   "cell_type": "markdown",
   "id": "cd925baf-0969-4a19-94e2-61d2c4813dd3",
   "metadata": {},
   "source": [
    "# Clusters and Tracking Data\n",
    "The purpose of this notebook is to generate data with corresponding clusters and tracks for both $\\pi^0$ and $\\pi^\\pm$ data sets\n",
    "\n",
    "These data sets can be quickly visualized and then saved into NP format or pickled\n",
    "\n",
    "# Strategy:\n",
    "### Use Single Track Events for Now\n",
    "#### Event Filtering\n",
    "1) Load branches from $\\pi^\\pm$ and $\\pi^0$ data\n",
    "2) Search through events in loop and find selection criteria. Save indices of event, track, and cluster\n",
    "3) Use these indices to create np array of all the necessary data\n",
    "\n",
    "## To Do:\n",
    "1) For now we use loops to select events but we want to vectorize this (maybe? maybe abandon this..)\n",
    "2) Create larger loop structure to take events with multiple tracks and match clusters to these\n",
    "3) vectorize geoID cell search using np.tile() and np.argwhere()"
   ]
  },
  {
   "cell_type": "code",
   "execution_count": 6,
   "id": "d2896b3a-26fc-4287-b54d-f1018256e4a2",
   "metadata": {
    "tags": []
   },
   "outputs": [
    {
     "name": "stdout",
     "output_type": "stream",
     "text": [
      "Awkward version: 1.2.2\n",
      "Uproot version: 4.0.7\n"
     ]
    }
   ],
   "source": [
    "import numpy as np\n",
    "import matplotlib.pyplot as plt\n",
    "from matplotlib import cm\n",
    "from matplotlib.colors import Normalize\n",
    "import uproot as ur\n",
    "import awkward as ak\n",
    "import time as t\n",
    "import copy\n",
    "import scipy.constants as spc\n",
    "print(\"Awkward version: \"+str(ak.__version__))\n",
    "print(\"Uproot version: \"+str(ur.__version__))"
   ]
  },
  {
   "cell_type": "markdown",
   "id": "c371e71b-2784-4637-90df-459e840e2a87",
   "metadata": {},
   "source": [
    "#### Data and Branches"
   ]
  },
  {
   "cell_type": "code",
   "execution_count": 7,
   "id": "dea02cea-6557-4a39-a8ba-9fd61a9004ee",
   "metadata": {
    "jupyter": {
     "source_hidden": true
    },
    "tags": []
   },
   "outputs": [],
   "source": [
    "track_branches = ['trackEta_EMB1', 'trackPhi_EMB1', 'trackEta_EMB2', 'trackPhi_EMB2', 'trackEta_EMB3', 'trackPhi_EMB3',\n",
    "                  'trackEta_TileBar0', 'trackPhi_TileBar0', 'trackEta_TileBar1', 'trackPhi_TileBar1',\n",
    "                  'trackEta_TileBar2', 'trackPhi_TileBar2']\n",
    "\n",
    "event_branches = [\"cluster_nCells\", \"cluster_cell_ID\", \"cluster_cell_E\", 'cluster_nCells', \"nCluster\", \"eventNumber\",\n",
    "                  \"nTrack\", \"nTruthPart\", \"truthPartPdgId\", \"cluster_Eta\", \"cluster_Phi\", 'trackPt', 'trackP',\n",
    "                  'trackMass', 'trackEta', 'trackPhi', 'truthPartE', 'cluster_ENG_CALIB_TOT']\n",
    "\n",
    "geo_branches = [\"cell_geo_ID\", \"cell_geo_eta\", \"cell_geo_phi\", \"cell_geo_rPerp\", \"cell_geo_sampling\"]"
   ]
  },
  {
   "cell_type": "markdown",
   "id": "9e9afde2-4c1b-436a-9e7b-593d79277bfb",
   "metadata": {},
   "source": [
    "##### Make a calorimetry layer dictionary"
   ]
  },
  {
   "cell_type": "code",
   "execution_count": 8,
   "id": "4b711642-aff5-4a87-92db-1f5a8009c03a",
   "metadata": {
    "collapsed": true,
    "jupyter": {
     "outputs_hidden": true,
     "source_hidden": true
    },
    "tags": []
   },
   "outputs": [
    {
     "name": "stdout",
     "output_type": "stream",
     "text": [
      "trackEta_EMB1: 1\n",
      "trackPhi_EMB1: 1\n",
      "trackEta_EMB2: 2\n",
      "trackPhi_EMB2: 2\n",
      "trackEta_EMB3: 3\n",
      "trackPhi_EMB3: 3\n",
      "trackEta_TileBar0: 12\n",
      "trackPhi_TileBar0: 12\n",
      "trackEta_TileBar1: 13\n",
      "trackPhi_TileBar1: 13\n",
      "trackEta_TileBar2: 14\n",
      "trackPhi_TileBar2: 14\n"
     ]
    }
   ],
   "source": [
    "sampling_layer_track_list = [1,1,2,2,3,3,12,12,13,13,14,14]\n",
    "track_layer_dict = dict(zip(track_branches, sampling_layer_track_list))\n",
    "\n",
    "for _key in track_branches:\n",
    "    print(_key+': '+str(track_layer_dict[_key]))"
   ]
  },
  {
   "cell_type": "markdown",
   "id": "bf2ab868-52dd-4d22-aab7-39ec53774c1a",
   "metadata": {
    "tags": []
   },
   "source": [
    "## All Functions"
   ]
  },
  {
   "cell_type": "code",
   "execution_count": 22,
   "id": "959d9ae6-a463-4082-ac6f-d93da81de6e2",
   "metadata": {
    "jupyter": {
     "source_hidden": true
    },
    "tags": []
   },
   "outputs": [],
   "source": [
    "def DeltaR(_coord1, _coord2):\n",
    "    ''' Straight forward function, expects Nx2 inputs for both'''\n",
    "    _DeltaCoords = _coord1 - _coord2\n",
    "    return np.sqrt(_DeltaCoords[:,0]**2 + _DeltaCoords[:,1]**2) \n",
    "\n",
    "def track_av(_arr):\n",
    "    ''' Expects a (6,2) np array for the barrel layers in order of eta, phi '''\n",
    "    _av_Eta = np.sum(_arr[:,0])/6\n",
    "    _av_Phi = np.sum(_arr[:,1])/6\n",
    "    return np.array([_av_Eta, _av_Phi])\n",
    "\n",
    "def find_max_dim(_events, _event_dict):\n",
    "    ''' This function is designed to return the sizes of a numpy array such that we are efficient\n",
    "    with zero padding. Please feel free to write this faster, it can be done. Notes: we add six\n",
    "    to the maximum cluster number such that we have room for track info.\n",
    "    Inputs:\n",
    "        _events: filtered list of events to choose from in an Nx3 format for event, track, cluster index \n",
    "        _event_tree: the event tree dictionary\n",
    "    Returns:\n",
    "        3-tuple consisting of (number of events, maximum cluster_size, 5), 5 because of how we have structured\n",
    "        the X data format in energyFlow to be Eta, Phi, Energy, sampling layer, track flag,\n",
    "        _cluster_ENG_CALIB_TOT, turthPartE '''\n",
    "    _nEvents = len(_events)\n",
    "    _max_clust = 0\n",
    "    for i in range(_nEvents):\n",
    "        _evt = _events[i,0]\n",
    "        _clust_idx = _events[i,2]\n",
    "        _num_in_clust = _event_dict['cluster_nCells'][_evt][_clust_idx]\n",
    "        if _num_in_clust > _max_clust:\n",
    "            _max_clust = _num_in_clust\n",
    "\n",
    "    return (_nEvents, _max_clust+6, 7)\n",
    "\n",
    "def find_index_1D(_values, _unsorted):\n",
    "    ''' This function is a vectorized helper function to return the 1D locations of elements in a \n",
    "    larger unsorted list (i.e. cell geo locations). It does this by repeating/tiling arrays so they\n",
    "    have equal shape and then simply comparing where the elements are equal and returning a slice\n",
    "    where the indices match.\n",
    "    Inputs: \n",
    "        _values: the values for which to search for the locations of in _unsorted\n",
    "        _unsorted: the larger un-sorted list of elements to match\n",
    "    Returns:\n",
    "        _locs: locations of _values in _unsorted respectively. '''\n",
    "    _shape = (len(_values), len(_unsorted))\n",
    "    _values_2d = np.repeat(_values, repeats=len(_unsorted)).reshape(_shape)\n",
    "    _unsorted_2d = np.tile(_unsorted, reps=len(_values)).reshape(_shape)\n",
    "    \n",
    "    _idx_vec = np.argwhere(np.asarray(_values_2d == _unsorted_2d))\n",
    "    return _idx_vec[:,1]\n",
    "\n",
    "def track_coords(_idx, _event_dict, _track_dict, _track_branches):\n",
    "    ''' Returns a list of numpy arrays which contain the track information in the order of\n",
    "    EMB1->TileBar2. '''\n",
    "    \n",
    "    _num_tracks = _event_dict['nTrack'][_idx]\n",
    "    _track_arr = np.empty((_num_tracks,6,2))\n",
    "    \n",
    "    for i in range(_num_tracks):    \n",
    "        _coords = np.empty((12,))\n",
    "\n",
    "        j = 0\n",
    "        for _key in _track_branches:\n",
    "            _coords[j] = _track_dict[_key][_idx][i]\n",
    "            j += 1\n",
    "\n",
    "    _track_arr[i] = _coords.reshape(6,2)\n",
    "    \n",
    "    return _track_arr\n",
    "\n",
    "def dict_from_event_tree(_event_tree, _branches):\n",
    "    ''' The purpose for this separate function is to load np arrays where possible. '''\n",
    "    _special_keys = [\"nCluster\", \"eventNumber\", \"nTrack\", \"nTruthPart\"]\n",
    "    _dict = dict()\n",
    "    for _key in _branches:\n",
    "        if _key in _special_keys:\n",
    "            _branch = _event_tree.arrays(filter_name=_key)[_key].to_numpy()\n",
    "        else:\n",
    "            _branch = _event_tree.arrays(filter_name=_key)[_key]\n",
    "        _dict[_key] = _branch\n",
    "    return _dict\n",
    "\n",
    "def dict_from_tree_branches(_tree, _branches):\n",
    "    ''' Helper function to put event data in branches to make things easier to pass to functions,\n",
    "    pretty self explanatory. '''\n",
    "    _dict = dict()\n",
    "    for _key in _branches:\n",
    "        _branch = _tree.arrays(filter_name=_key)[_key]\n",
    "        _dict[_key] = _branch\n",
    "    return _dict\n",
    "\n",
    "def dict_from_tree_branches_np(_tree, _branches):\n",
    "    ''' Helper function to put event data in branches to make things easier to pass to functions,\n",
    "    pretty self explanatory. This always returns np arrays in the dict. '''\n",
    "    _dict = dict()\n",
    "    for _key in _branches:\n",
    "        _branch = np.ndarray.flatten(_tree.arrays(filter_name=_key)[_key].to_numpy())\n",
    "        _dict[_key] = _branch\n",
    "    return _dict\n",
    "\n",
    "def find_central_clusters(_event_dict):\n",
    "    ''' Inputs:\n",
    "        dictionary with events to pull cluster centers from\n",
    "    Returns:\n",
    "        an array of event indices with clusters with eta < .7\n",
    "    '''\n",
    "    # list of event indices with one or more clusters in EMB1-3 or TileBar0-2\n",
    "    _central_events = []\n",
    "    _ak_cluster_cell_ID = _event_dict['cluster_cell_ID']\n",
    "    \n",
    "    for _evt_idx in range(len(_ak_cluster_cell_ID)):\n",
    "        _cluster_Eta = event_dict['cluster_Eta'][_evt_idx].to_numpy()\n",
    "        _cluster_Eta_mask = np.abs(_cluster_Eta) < .7\n",
    "        \n",
    "        if np.any(_cluster_Eta_mask):\n",
    "            _central_events.append(_evt_idx)\n",
    "\n",
    "    return np.array(_central_events)"
   ]
  },
  {
   "cell_type": "markdown",
   "id": "d3a43271-8603-413b-9502-4a91f3d9a8fd",
   "metadata": {},
   "source": [
    "#### Load Events"
   ]
  },
  {
   "cell_type": "code",
   "execution_count": 4,
   "id": "a4d6397f-5117-463e-a5bd-b45182917d4d",
   "metadata": {
    "jupyter": {
     "source_hidden": true
    },
    "tags": []
   },
   "outputs": [],
   "source": [
    "# events = '/fast_scratch/atlas_images/v01-45/pipm/'\n",
    "# event_502 = ur.open(events+'user.angerami.24559744.OutputStream._000502.root')\n",
    "# my_event=event_502\n",
    "# event_502.keys()"
   ]
  },
  {
   "cell_type": "code",
   "execution_count": 10,
   "id": "644b5b69-c1a4-47c6-8d4a-85fd732df521",
   "metadata": {
    "tags": []
   },
   "outputs": [
    {
     "data": {
      "text/plain": [
       "['EventTree;1', 'CellGeo;1']"
      ]
     },
     "execution_count": 10,
     "metadata": {},
     "output_type": "execute_result"
    }
   ],
   "source": [
    "events = '/fast_scratch/atlas_images/v01-45/'\n",
    "my_event = ur.open(events+'pipm_small.root')\n",
    "my_event.keys()"
   ]
  },
  {
   "cell_type": "code",
   "execution_count": 12,
   "id": "1f4d2d66-8ce7-4ced-ab20-41ff75a98b06",
   "metadata": {
    "collapsed": true,
    "jupyter": {
     "outputs_hidden": true,
     "source_hidden": true
    },
    "scrolled": true,
    "tags": []
   },
   "outputs": [
    {
     "name": "stdout",
     "output_type": "stream",
     "text": [
      "name                                       | typename                 | interpretation                                              \n",
      "-------------------------------------------+--------------------------+-------------------------------------------------------------\n",
      "runNumber                                  | int32_t                  | AsDtype('>i4')\n",
      "eventNumber                                | int64_t                  | AsDtype('>i8')\n",
      "lumiBlock                                  | int32_t                  | AsDtype('>i4')\n",
      "coreFlags                                  | uint32_t                 | AsDtype('>u4')\n",
      "mcEventNumber                              | int32_t                  | AsDtype('>i4')\n",
      "mcChannelNumber                            | int32_t                  | AsDtype('>i4')\n",
      "mcEventWeight                              | float                    | AsDtype('>f4')\n",
      "nTruthPart                                 | int32_t                  | AsDtype('>i4')\n",
      "G4PreCalo_n_EM                             | int32_t                  | AsDtype('>i4')\n",
      "G4PreCalo_E_EM                             | float                    | AsDtype('>f4')\n",
      "G4PreCalo_n_Had                            | int32_t                  | AsDtype('>i4')\n",
      "G4PreCalo_E_Had                            | float                    | AsDtype('>f4')\n",
      "truthVertexX                               | float                    | AsDtype('>f4')\n",
      "truthVertexY                               | float                    | AsDtype('>f4')\n",
      "truthVertexZ                               | float                    | AsDtype('>f4')\n",
      "truthPartPdgId                             | std::vector<int32_t>     | AsJagged(AsDtype('>i4'), header_bytes=10)\n",
      "truthPartStatus                            | std::vector<int32_t>     | AsJagged(AsDtype('>i4'), header_bytes=10)\n",
      "truthPartBarcode                           | std::vector<int32_t>     | AsJagged(AsDtype('>i4'), header_bytes=10)\n",
      "truthPartPt                                | std::vector<float>       | AsJagged(AsDtype('>f4'), header_bytes=10)\n",
      "truthPartE                                 | std::vector<float>       | AsJagged(AsDtype('>f4'), header_bytes=10)\n",
      "truthPartMass                              | std::vector<float>       | AsJagged(AsDtype('>f4'), header_bytes=10)\n",
      "truthPartEta                               | std::vector<float>       | AsJagged(AsDtype('>f4'), header_bytes=10)\n",
      "truthPartPhi                               | std::vector<float>       | AsJagged(AsDtype('>f4'), header_bytes=10)\n",
      "nTrack                                     | int32_t                  | AsDtype('>i4')\n",
      "trackPt                                    | std::vector<float>       | AsJagged(AsDtype('>f4'), header_bytes=10)\n",
      "trackP                                     | std::vector<float>       | AsJagged(AsDtype('>f4'), header_bytes=10)\n",
      "trackMass                                  | std::vector<float>       | AsJagged(AsDtype('>f4'), header_bytes=10)\n",
      "trackEta                                   | std::vector<float>       | AsJagged(AsDtype('>f4'), header_bytes=10)\n",
      "trackPhi                                   | std::vector<float>       | AsJagged(AsDtype('>f4'), header_bytes=10)\n",
      "trackNumberOfPixelHits                     | std::vector<int32_t>     | AsJagged(AsDtype('>i4'), header_bytes=10)\n",
      "trackNumberOfSCTHits                       | std::vector<int32_t>     | AsJagged(AsDtype('>i4'), header_bytes=10)\n",
      "trackNumberOfPixelDeadSensors              | std::vector<int32_t>     | AsJagged(AsDtype('>i4'), header_bytes=10)\n",
      "trackNumberOfSCTDeadSensors                | std::vector<int32_t>     | AsJagged(AsDtype('>i4'), header_bytes=10)\n",
      "trackNumberOfPixelSharedHits               | std::vector<int32_t>     | AsJagged(AsDtype('>i4'), header_bytes=10)\n",
      "trackNumberOfSCTSharedHits                 | std::vector<int32_t>     | AsJagged(AsDtype('>i4'), header_bytes=10)\n",
      "trackNumberOfPixelHoles                    | std::vector<int32_t>     | AsJagged(AsDtype('>i4'), header_bytes=10)\n",
      "trackNumberOfSCTHoles                      | std::vector<int32_t>     | AsJagged(AsDtype('>i4'), header_bytes=10)\n",
      "trackNumberOfInnermostPixelLayerHits       | std::vector<int32_t>     | AsJagged(AsDtype('>i4'), header_bytes=10)\n",
      "trackNumberOfNextToInnermostPixelLayerHits | std::vector<int32_t>     | AsJagged(AsDtype('>i4'), header_bytes=10)\n",
      "trackExpectInnermostPixelLayerHit          | std::vector<int32_t>     | AsJagged(AsDtype('>i4'), header_bytes=10)\n",
      "trackExpectNextToInnermostPixelLayerHit    | std::vector<int32_t>     | AsJagged(AsDtype('>i4'), header_bytes=10)\n",
      "trackNumberOfTRTHits                       | std::vector<int32_t>     | AsJagged(AsDtype('>i4'), header_bytes=10)\n",
      "trackNumberOfTRTOutliers                   | std::vector<int32_t>     | AsJagged(AsDtype('>i4'), header_bytes=10)\n",
      "trackChiSquared                            | std::vector<float>       | AsJagged(AsDtype('>f4'), header_bytes=10)\n",
      "trackNumberDOF                             | std::vector<int32_t>     | AsJagged(AsDtype('>i4'), header_bytes=10)\n",
      "trackD0                                    | std::vector<float>       | AsJagged(AsDtype('>f4'), header_bytes=10)\n",
      "trackZ0                                    | std::vector<float>       | AsJagged(AsDtype('>f4'), header_bytes=10)\n",
      "trackEta_PreSamplerB                       | std::vector<float>       | AsJagged(AsDtype('>f4'), header_bytes=10)\n",
      "trackPhi_PreSamplerB                       | std::vector<float>       | AsJagged(AsDtype('>f4'), header_bytes=10)\n",
      "trackEta_PreSamplerE                       | std::vector<float>       | AsJagged(AsDtype('>f4'), header_bytes=10)\n",
      "trackPhi_PreSamplerE                       | std::vector<float>       | AsJagged(AsDtype('>f4'), header_bytes=10)\n",
      "trackEta_EMB1                              | std::vector<float>       | AsJagged(AsDtype('>f4'), header_bytes=10)\n",
      "trackPhi_EMB1                              | std::vector<float>       | AsJagged(AsDtype('>f4'), header_bytes=10)\n",
      "trackEta_EMB2                              | std::vector<float>       | AsJagged(AsDtype('>f4'), header_bytes=10)\n",
      "trackPhi_EMB2                              | std::vector<float>       | AsJagged(AsDtype('>f4'), header_bytes=10)\n",
      "trackEta_EMB3                              | std::vector<float>       | AsJagged(AsDtype('>f4'), header_bytes=10)\n",
      "trackPhi_EMB3                              | std::vector<float>       | AsJagged(AsDtype('>f4'), header_bytes=10)\n",
      "trackEta_EME1                              | std::vector<float>       | AsJagged(AsDtype('>f4'), header_bytes=10)\n",
      "trackPhi_EME1                              | std::vector<float>       | AsJagged(AsDtype('>f4'), header_bytes=10)\n",
      "trackEta_EME2                              | std::vector<float>       | AsJagged(AsDtype('>f4'), header_bytes=10)\n",
      "trackPhi_EME2                              | std::vector<float>       | AsJagged(AsDtype('>f4'), header_bytes=10)\n",
      "trackEta_EME3                              | std::vector<float>       | AsJagged(AsDtype('>f4'), header_bytes=10)\n",
      "trackPhi_EME3                              | std::vector<float>       | AsJagged(AsDtype('>f4'), header_bytes=10)\n",
      "trackEta_HEC0                              | std::vector<float>       | AsJagged(AsDtype('>f4'), header_bytes=10)\n",
      "trackPhi_HEC0                              | std::vector<float>       | AsJagged(AsDtype('>f4'), header_bytes=10)\n",
      "trackEta_HEC1                              | std::vector<float>       | AsJagged(AsDtype('>f4'), header_bytes=10)\n",
      "trackPhi_HEC1                              | std::vector<float>       | AsJagged(AsDtype('>f4'), header_bytes=10)\n",
      "trackEta_HEC2                              | std::vector<float>       | AsJagged(AsDtype('>f4'), header_bytes=10)\n",
      "trackPhi_HEC2                              | std::vector<float>       | AsJagged(AsDtype('>f4'), header_bytes=10)\n",
      "trackEta_HEC3                              | std::vector<float>       | AsJagged(AsDtype('>f4'), header_bytes=10)\n",
      "trackPhi_HEC3                              | std::vector<float>       | AsJagged(AsDtype('>f4'), header_bytes=10)\n",
      "trackEta_TileBar0                          | std::vector<float>       | AsJagged(AsDtype('>f4'), header_bytes=10)\n",
      "trackPhi_TileBar0                          | std::vector<float>       | AsJagged(AsDtype('>f4'), header_bytes=10)\n",
      "trackEta_TileBar1                          | std::vector<float>       | AsJagged(AsDtype('>f4'), header_bytes=10)\n",
      "trackPhi_TileBar1                          | std::vector<float>       | AsJagged(AsDtype('>f4'), header_bytes=10)\n",
      "trackEta_TileBar2                          | std::vector<float>       | AsJagged(AsDtype('>f4'), header_bytes=10)\n",
      "trackPhi_TileBar2                          | std::vector<float>       | AsJagged(AsDtype('>f4'), header_bytes=10)\n",
      "trackEta_TileGap1                          | std::vector<float>       | AsJagged(AsDtype('>f4'), header_bytes=10)\n",
      "trackPhi_TileGap1                          | std::vector<float>       | AsJagged(AsDtype('>f4'), header_bytes=10)\n",
      "trackEta_TileGap2                          | std::vector<float>       | AsJagged(AsDtype('>f4'), header_bytes=10)\n",
      "trackPhi_TileGap2                          | std::vector<float>       | AsJagged(AsDtype('>f4'), header_bytes=10)\n",
      "trackEta_TileGap3                          | std::vector<float>       | AsJagged(AsDtype('>f4'), header_bytes=10)\n",
      "trackPhi_TileGap3                          | std::vector<float>       | AsJagged(AsDtype('>f4'), header_bytes=10)\n",
      "trackEta_TileExt0                          | std::vector<float>       | AsJagged(AsDtype('>f4'), header_bytes=10)\n",
      "trackPhi_TileExt0                          | std::vector<float>       | AsJagged(AsDtype('>f4'), header_bytes=10)\n",
      "trackEta_TileExt1                          | std::vector<float>       | AsJagged(AsDtype('>f4'), header_bytes=10)\n",
      "trackPhi_TileExt1                          | std::vector<float>       | AsJagged(AsDtype('>f4'), header_bytes=10)\n",
      "trackEta_TileExt2                          | std::vector<float>       | AsJagged(AsDtype('>f4'), header_bytes=10)\n",
      "trackPhi_TileExt2                          | std::vector<float>       | AsJagged(AsDtype('>f4'), header_bytes=10)\n",
      "AntiKt4EMTopoJetsPt                        | std::vector<float>       | AsJagged(AsDtype('>f4'), header_bytes=10)\n",
      "AntiKt4EMTopoJetsEta                       | std::vector<float>       | AsJagged(AsDtype('>f4'), header_bytes=10)\n",
      "AntiKt4EMTopoJetsPhi                       | std::vector<float>       | AsJagged(AsDtype('>f4'), header_bytes=10)\n",
      "AntiKt4EMTopoJetsE                         | std::vector<float>       | AsJagged(AsDtype('>f4'), header_bytes=10)\n",
      "AntiKt4LCTopoJetsPt                        | std::vector<float>       | AsJagged(AsDtype('>f4'), header_bytes=10)\n",
      "AntiKt4LCTopoJetsEta                       | std::vector<float>       | AsJagged(AsDtype('>f4'), header_bytes=10)\n",
      "AntiKt4LCTopoJetsPhi                       | std::vector<float>       | AsJagged(AsDtype('>f4'), header_bytes=10)\n",
      "AntiKt4LCTopoJetsE                         | std::vector<float>       | AsJagged(AsDtype('>f4'), header_bytes=10)\n",
      "AntiKt4TruthJetsPt                         | std::vector<float>       | AsJagged(AsDtype('>f4'), header_bytes=10)\n",
      "AntiKt4TruthJetsEta                        | std::vector<float>       | AsJagged(AsDtype('>f4'), header_bytes=10)\n",
      "AntiKt4TruthJetsPhi                        | std::vector<float>       | AsJagged(AsDtype('>f4'), header_bytes=10)\n",
      "AntiKt4TruthJetsE                          | std::vector<float>       | AsJagged(AsDtype('>f4'), header_bytes=10)\n",
      "AntiKt4TruthJetsFlavor                     | std::vector<int32_t>     | AsJagged(AsDtype('>i4'), header_bytes=10)\n",
      "nCluster                                   | int32_t                  | AsDtype('>i4')\n",
      "cluster_E                                  | std::vector<float>       | AsJagged(AsDtype('>f4'), header_bytes=10)\n",
      "cluster_E_LCCalib                          | std::vector<float>       | AsJagged(AsDtype('>f4'), header_bytes=10)\n",
      "cluster_Pt                                 | std::vector<float>       | AsJagged(AsDtype('>f4'), header_bytes=10)\n",
      "cluster_Eta                                | std::vector<float>       | AsJagged(AsDtype('>f4'), header_bytes=10)\n",
      "cluster_Phi                                | std::vector<float>       | AsJagged(AsDtype('>f4'), header_bytes=10)\n",
      "cluster_nCells                             | std::vector<int32_t>     | AsJagged(AsDtype('>i4'), header_bytes=10)\n",
      "cluster_ENG_CALIB_TOT                      | std::vector<float>       | AsJagged(AsDtype('>f4'), header_bytes=10)\n",
      "cluster_ENG_CALIB_OUT_T                    | std::vector<float>       | AsJagged(AsDtype('>f4'), header_bytes=10)\n",
      "cluster_ENG_CALIB_DEAD_TOT                 | std::vector<float>       | AsJagged(AsDtype('>f4'), header_bytes=10)\n",
      "cluster_EM_PROBABILITY                     | std::vector<float>       | AsJagged(AsDtype('>f4'), header_bytes=10)\n",
      "cluster_HAD_WEIGHT                         | std::vector<float>       | AsJagged(AsDtype('>f4'), header_bytes=10)\n",
      "cluster_OOC_WEIGHT                         | std::vector<float>       | AsJagged(AsDtype('>f4'), header_bytes=10)\n",
      "cluster_DM_WEIGHT                          | std::vector<float>       | AsJagged(AsDtype('>f4'), header_bytes=10)\n",
      "cluster_CENTER_MAG                         | std::vector<float>       | AsJagged(AsDtype('>f4'), header_bytes=10)\n",
      "cluster_FIRST_ENG_DENS                     | std::vector<float>       | AsJagged(AsDtype('>f4'), header_bytes=10)\n",
      "cluster_CENTER_LAMBDA                      | std::vector<float>       | AsJagged(AsDtype('>f4'), header_bytes=10)\n",
      "cluster_ISOLATION                          | std::vector<float>       | AsJagged(AsDtype('>f4'), header_bytes=10)\n",
      "cluster_ENERGY_DigiHSTruth                 | std::vector<float>       | AsJagged(AsDtype('>f4'), header_bytes=10)\n",
      "cluster_cell_ID                            | std::vector<std::vect... | AsObjects(AsVector(True, AsVector(False, dtype('>u8'))))\n",
      "cluster_cell_E                             | std::vector<std::vect... | AsObjects(AsVector(True, AsVector(False, dtype('>f4'))))\n",
      "cluster_hitsTruthIndex                     | std::vector<std::vect... | AsObjects(AsVector(True, AsVector(False, dtype('>i4'))))\n",
      "cluster_hitsTruthE                         | std::vector<std::vect... | AsObjects(AsVector(True, AsVector(False, dtype('>f4'))))\n"
     ]
    }
   ],
   "source": [
    "event_tree = my_event[\"EventTree\"]\n",
    "event_tree.show(name_width=42,\n",
    "                interpretation_width=60)"
   ]
  },
  {
   "cell_type": "code",
   "execution_count": 13,
   "id": "2f142149-842c-45de-b1ed-cec6e7d09081",
   "metadata": {
    "jupyter": {
     "source_hidden": true
    },
    "tags": []
   },
   "outputs": [
    {
     "name": "stdout",
     "output_type": "stream",
     "text": [
      "Number of events: 160000\n"
     ]
    }
   ],
   "source": [
    "event_dict = dict_from_event_tree(event_tree, event_branches)\n",
    "\n",
    "nEvents = len(event_dict['eventNumber'])\n",
    "print('Number of events: '+str(nEvents))"
   ]
  },
  {
   "cell_type": "markdown",
   "id": "bc3c9c06-72b1-4f3f-8a45-d6c0a2ac7118",
   "metadata": {},
   "source": [
    "##### Investigate truthParticleE"
   ]
  },
  {
   "cell_type": "code",
   "execution_count": 9,
   "id": "9068d299-64c7-4ef1-88bc-d8c55d23e9be",
   "metadata": {
    "collapsed": true,
    "jupyter": {
     "outputs_hidden": true,
     "source_hidden": true
    },
    "tags": []
   },
   "outputs": [
    {
     "name": "stdout",
     "output_type": "stream",
     "text": [
      "[[13.2], [459], [5.05], [54.1]]\n",
      "1\n"
     ]
    }
   ],
   "source": [
    "_truthPartE = event_dict['truthPartE']\n",
    "print(_truthPartE[0:4])\n",
    "for i in range(len(_truthPartE)):\n",
    "    if i == 1:\n",
    "        print(len(_truthPartE[i]))\n",
    "    if len(_truthPartE[i]) != 1:\n",
    "        print('multiple truth E found')"
   ]
  },
  {
   "cell_type": "markdown",
   "id": "9bf0a090-e710-4dc6-95fb-23030b6235a7",
   "metadata": {
    "tags": []
   },
   "source": [
    "#### Load Tracking Information"
   ]
  },
  {
   "cell_type": "code",
   "execution_count": 14,
   "id": "7a7ca6af-cbc0-4378-b066-b3e5038dd1d1",
   "metadata": {
    "jupyter": {
     "source_hidden": true
    },
    "tags": []
   },
   "outputs": [],
   "source": [
    "track_dict = dict_from_tree_branches(event_tree, track_branches)"
   ]
  },
  {
   "cell_type": "markdown",
   "id": "2c40b444-d7c2-495b-ac8c-c260cb2f5fd3",
   "metadata": {
    "tags": []
   },
   "source": [
    "### Load Geometry"
   ]
  },
  {
   "cell_type": "code",
   "execution_count": 11,
   "id": "92dc2ee6-d2e6-4aa1-bc0f-3e80b20cddbf",
   "metadata": {
    "collapsed": true,
    "jupyter": {
     "outputs_hidden": true,
     "source_hidden": true
    },
    "tags": []
   },
   "outputs": [
    {
     "name": "stdout",
     "output_type": "stream",
     "text": [
      "name                 | typename                 | interpretation                                              \n",
      "---------------------+--------------------------+-------------------------------------------------------------\n",
      "cell_geo_ID          | std::vector<uint64_t>    | AsJagged(AsDtype('>u8'), header_bytes=10)\n",
      "cell_geo_sampling    | std::vector<uint16_t>    | AsJagged(AsDtype('>u2'), header_bytes=10)\n",
      "cell_geo_eta         | std::vector<float>       | AsJagged(AsDtype('>f4'), header_bytes=10)\n",
      "cell_geo_phi         | std::vector<float>       | AsJagged(AsDtype('>f4'), header_bytes=10)\n",
      "cell_geo_rPerp       | std::vector<float>       | AsJagged(AsDtype('>f4'), header_bytes=10)\n",
      "cell_geo_deta        | std::vector<float>       | AsJagged(AsDtype('>f4'), header_bytes=10)\n",
      "cell_geo_dphi        | std::vector<float>       | AsJagged(AsDtype('>f4'), header_bytes=10)\n",
      "cell_geo_volume      | std::vector<float>       | AsJagged(AsDtype('>f4'), header_bytes=10)\n",
      "cell_geo_sigma       | std::vector<float>       | AsJagged(AsDtype('>f4'), header_bytes=10)\n"
     ]
    }
   ],
   "source": [
    "CellGeo_tree = my_event[\"CellGeo\"]\n",
    "CellGeo_tree.show(interpretation_width=60)"
   ]
  },
  {
   "cell_type": "code",
   "execution_count": 15,
   "id": "2f802a4a-6abf-410f-a332-ff1247d48eff",
   "metadata": {
    "jupyter": {
     "source_hidden": true
    },
    "tags": []
   },
   "outputs": [
    {
     "ename": "NameError",
     "evalue": "name 'CellGeo_tree' is not defined",
     "output_type": "error",
     "traceback": [
      "\u001b[0;31m---------------------------------------------------------------------------\u001b[0m",
      "\u001b[0;31mNameError\u001b[0m                                 Traceback (most recent call last)",
      "\u001b[0;32m<ipython-input-15-eecfe9a3c6ed>\u001b[0m in \u001b[0;36m<module>\u001b[0;34m\u001b[0m\n\u001b[0;32m----> 1\u001b[0;31m \u001b[0mgeo_dict\u001b[0m \u001b[0;34m=\u001b[0m \u001b[0mdict_from_tree_branches_np\u001b[0m\u001b[0;34m(\u001b[0m\u001b[0mCellGeo_tree\u001b[0m\u001b[0;34m,\u001b[0m \u001b[0mgeo_branches\u001b[0m\u001b[0;34m)\u001b[0m\u001b[0;34m\u001b[0m\u001b[0;34m\u001b[0m\u001b[0m\n\u001b[0m",
      "\u001b[0;31mNameError\u001b[0m: name 'CellGeo_tree' is not defined"
     ]
    }
   ],
   "source": [
    "geo_dict = dict_from_tree_branches_np(CellGeo_tree, geo_branches)"
   ]
  },
  {
   "cell_type": "markdown",
   "id": "02deea9e-1519-4ad8-a298-80c6cec9f9a9",
   "metadata": {
    "tags": []
   },
   "source": [
    "## Filter events"
   ]
  },
  {
   "cell_type": "markdown",
   "id": "db6d3a42-7d9f-4452-a50d-256d71751766",
   "metadata": {
    "tags": []
   },
   "source": [
    "### Criteria\n",
    " - Single track events\n",
    " - Track Pt > 500 MeV\n",
    " - Cluster within < .2 DeltaR\n",
    " - Cluster Energy > 5%"
   ]
  },
  {
   "cell_type": "markdown",
   "id": "70d46b03-7294-4750-955f-7d4019f369a5",
   "metadata": {
    "tags": []
   },
   "source": [
    "#### First select barrel events\n",
    "Notes: Only use central cluster technique. Abandon searching sampling layers as searching for clusters is orders of magnitude faster. (3.56 hours versus .12 minutes for small root file)\n",
    "### TO DO:\n",
    " - Make this a python script and save the output! Too slow otherwise and the connection tears\n",
    " - Fix this to make it faster!!! Right now it's god awful\n",
    "   - Still slow as heck. Just ignore this part of the code and skip right to the track selection cuts"
   ]
  },
  {
   "cell_type": "code",
   "execution_count": 26,
   "id": "bba93a12-d986-4e2b-bd86-8830c3a0c347",
   "metadata": {},
   "outputs": [
    {
     "name": "stdout",
     "output_type": "stream",
     "text": [
      "Time in hours: 0.0\n",
      "Time in minutes: 0.133\n",
      "Time in seconds: 7.97\n"
     ]
    }
   ],
   "source": [
    "t0 = t.time()\n",
    "central_events = find_central_clusters(event_dict)\n",
    "t1 = t.time()\n",
    "\n",
    "print('Time in hours: '+str(round(((t1-t0)/3600), 2)))\n",
    "print('Time in minutes: '+str(round( ((t1-t0)/60), 3)))\n",
    "print('Time in seconds: '+str(round((t1-t0), 2) ))"
   ]
  },
  {
   "cell_type": "markdown",
   "id": "ad48e3b0-349f-4dfb-9a2f-03b540b439a1",
   "metadata": {
    "tags": []
   },
   "source": [
    "### Track Filter\n",
    "#### Single Track"
   ]
  },
  {
   "cell_type": "code",
   "execution_count": 27,
   "id": "3f31aa5c-0f72-4323-b20b-62ee89819d27",
   "metadata": {
    "tags": []
   },
   "outputs": [
    {
     "name": "stdout",
     "output_type": "stream",
     "text": [
      "Single Track Indices, shape (97242,)\n",
      "[ 0  1  2  3  4  5  7  8  9 12 13 14 16 17 20 21 23 24 25 26]\n"
     ]
    }
   ],
   "source": [
    "# create ordered list of events to use for index slicing\n",
    "nEvents = len(event_dict['eventNumber'])\n",
    "all_events = np.arange(0,nEvents,1,dtype=np.int32)\n",
    "\n",
    "# SINGLE TRACK CUT\n",
    "single_track_mask = event_dict['nTrack'] == np.full(nEvents, 1)\n",
    "filtered_event = all_events[single_track_mask]\n",
    "print('Single Track Indices, shape '+str(np.shape(filtered_event)))\n",
    "print(filtered_event[0:20])"
   ]
  },
  {
   "cell_type": "markdown",
   "id": "4f7a82ba-c48b-461a-a747-47dc69c5ccc0",
   "metadata": {},
   "source": [
    "#### Central Tracks"
   ]
  },
  {
   "cell_type": "code",
   "execution_count": 28,
   "id": "2a15e329-4d3b-4fcb-b7cb-89d3c9ac48da",
   "metadata": {
    "tags": []
   },
   "outputs": [
    {
     "name": "stdout",
     "output_type": "stream",
     "text": [
      "Central track indices, shape (30820,)\n",
      "[  1   2   3   4   5   7  12  16  24  38  39  40  42  70  92  97 107 116\n",
      " 124 137]\n"
     ]
    }
   ],
   "source": [
    "trackEta_EMB1 = ak.flatten(track_dict['trackEta_EMB1'][filtered_event]).to_numpy()\n",
    "central_track_mask = np.abs(trackEta_EMB1) < .7\n",
    "filtered_event = filtered_event[central_track_mask]\n",
    "print('Central track indices, shape '+str(np.shape(filtered_event)))\n",
    "print(filtered_event[0:20])"
   ]
  },
  {
   "cell_type": "markdown",
   "id": "45ca1419-d003-44b3-b626-47f891119524",
   "metadata": {},
   "source": [
    "#### Tracks with Clusters"
   ]
  },
  {
   "cell_type": "code",
   "execution_count": 29,
   "id": "fc7e4c22-62ac-41e7-bf95-66437c83b3c2",
   "metadata": {
    "tags": []
   },
   "outputs": [
    {
     "name": "stdout",
     "output_type": "stream",
     "text": [
      "Tracks with clusters, shape (26708,)\n",
      "[  1   2   3   4   5   7  12  16  24  38  40  42  70  92  97 107 116 124\n",
      " 137 155]\n"
     ]
    }
   ],
   "source": [
    "nCluster = event_dict['nCluster'][filtered_event]\n",
    "filtered_event_mask = nCluster != 0\n",
    "filtered_event = filtered_event[filtered_event_mask]\n",
    "print('Tracks with clusters, shape '+str(np.shape(filtered_event)))\n",
    "print(filtered_event[0:20])"
   ]
  },
  {
   "cell_type": "markdown",
   "id": "ef5d5445-487d-4f56-8d51-addfcf2748cf",
   "metadata": {},
   "source": [
    "#### Momentum Cuts, 500 MeV\n",
    "This is basically useless but here for completeness"
   ]
  },
  {
   "cell_type": "code",
   "execution_count": 30,
   "id": "3b37061c-a5b0-4313-876c-9423080d6bdf",
   "metadata": {
    "tags": []
   },
   "outputs": [
    {
     "name": "stdout",
     "output_type": "stream",
     "text": [
      "Tracks with momentum cuts, shape (26708,)\n",
      "[  1   2   3   4   5   7  12  16  24  38  40  42  70  92  97 107 116 124\n",
      " 137 155 160 177 179 185 190 197 204 210 211 212 220 223 237 246 257 270\n",
      " 271 283 288 290]\n"
     ]
    }
   ],
   "source": [
    "trackP = ak.flatten(event_dict['trackP'][filtered_event]).to_numpy()\n",
    "filtered_event_mask = trackP > .5\n",
    "filtered_event = filtered_event[filtered_event_mask]\n",
    "print('Tracks with momentum cuts, shape '+str(np.shape(filtered_event)))\n",
    "print(filtered_event[0:40])"
   ]
  },
  {
   "cell_type": "markdown",
   "id": "17751cde-9057-4802-973b-064c38d686ad",
   "metadata": {},
   "source": [
    "### Failure for now, please ignore\n",
    "### Find closest cluster\n",
    "##### Attempt to do this with high level array slicing"
   ]
  },
  {
   "cell_type": "code",
   "execution_count": 97,
   "id": "4b39c091-2c8f-4b12-b8b8-891a7d0ad97a",
   "metadata": {
    "tags": []
   },
   "outputs": [],
   "source": [
    "# pull awkward array slices \n",
    "cluster_Etas = event_dict[\"cluster_Eta\"][filtered_event]\n",
    "cluster_Phis = event_dict[\"cluster_Phi\"][filtered_event]\n",
    "\n",
    "trackEta = event_dict[\"trackEta\"][filtered_event]\n",
    "trackPhi = event_dict[\"trackPhi\"][filtered_event]"
   ]
  },
  {
   "cell_type": "markdown",
   "id": "e8fd8118-146a-4aab-b996-cf8ca559bb7c",
   "metadata": {
    "tags": []
   },
   "source": [
    "Now solve for DeltaR"
   ]
  },
  {
   "cell_type": "code",
   "execution_count": 102,
   "id": "b822cba5-2fdf-41b6-a1af-7b2ea55362b8",
   "metadata": {
    "collapsed": true,
    "jupyter": {
     "outputs_hidden": true
    },
    "tags": []
   },
   "outputs": [
    {
     "name": "stdout",
     "output_type": "stream",
     "text": [
      "[[0.0556, 0.831], [-0.157], [0.607, 0.578, 0.689, 0.585], [-0.641, -0.849]]\n",
      "[[-0.136, 0.943], [-1.26], [-2.29, -2.41, -2.57, -2.17], [-1.49, -1.49]]\n",
      "[[-0.0809, 1.77], [-1.42], [-1.68, -1.83, -1.88, -1.59], [-2.14, -2.34]]\n"
     ]
    }
   ],
   "source": [
    "print(cluster_Etas[0:4])\n",
    "print(cluster_Phis[0:4])\n",
    "mysum = cluster_Etas + cluster_Phis\n",
    "# mydiff = cluster_Etas - trackEta\n",
    "print(mysum[0:4])"
   ]
  },
  {
   "cell_type": "markdown",
   "id": "3e61ac17-72ff-4954-85b8-6f8d2b5f165b",
   "metadata": {},
   "source": [
    "## Cluster Track Matching\n",
    "#### Apply $\\Delta R$ cut <.1\n",
    " - loop through track filtered events and find nearest cluster, then apply cut"
   ]
  },
  {
   "cell_type": "code",
   "execution_count": 23,
   "id": "95b70e05-b92c-430e-90fe-7b56cf61bebf",
   "metadata": {
    "collapsed": true,
    "jupyter": {
     "outputs_hidden": true
    },
    "tags": []
   },
   "outputs": [
    {
     "name": "stdout",
     "output_type": "stream",
     "text": [
      "[[ 1  0  0]\n",
      " [ 2  0  0]\n",
      " [ 3  0  0]\n",
      " [ 4  0  0]\n",
      " [ 5  0  0]\n",
      " [ 7  0  0]\n",
      " [16  0  1]\n",
      " [40  0  0]\n",
      " [70  0  0]\n",
      " [92  0  0]]\n"
     ]
    }
   ],
   "source": [
    "# Note we have to keep this a list becuase it may be shorter than filtered events if critera are not met\n",
    "event_indices = []\n",
    "\n",
    "for _evt in filtered_event:\n",
    "    \n",
    "    # pull cluster number, don't need zero as it's loaded as a np array\n",
    "    _nClust = event_dict[\"nCluster\"][_evt]\n",
    "    \n",
    "    # pull coordinates of tracks and clusters from event\n",
    "    # we can get away with the zeroth index because we are working with single track events\n",
    "    _trackEta = np.full( (_nClust,), event_dict[\"trackEta\"][_evt][0])\n",
    "    _trackPhi = np.full( (_nClust,), event_dict[\"trackPhi\"][_evt][0])\n",
    "    _trackCoords = np.stack((_trackEta, _trackPhi), axis=1)\n",
    "    \n",
    "    _cluster_Eta = event_dict[\"cluster_Eta\"][_evt].to_numpy()\n",
    "    _cluster_Phi = event_dict[\"cluster_Phi\"][_evt].to_numpy()\n",
    "    _clusterCoords = np.stack((_cluster_Eta, _cluster_Phi), axis=1)\n",
    "    \n",
    "    # Compute Delta\n",
    "    _DeltaR = DeltaR(_trackCoords, _clusterCoords)\n",
    "    \n",
    "    if np.min(_DeltaR) < .1:\n",
    "        _clust_idx = np.argmin(_DeltaR)\n",
    "        event_indices.append((_evt,0,_clust_idx))    \n",
    "\n",
    "event_indices = np.array(event_indices)\n",
    "print(event_indices[0:10])"
   ]
  },
  {
   "cell_type": "code",
   "execution_count": 25,
   "id": "36f596c9-ae21-403b-b3dc-c6ddbe1699fd",
   "metadata": {
    "tags": []
   },
   "outputs": [],
   "source": [
    "np.save('e_i.npy', event_indices)"
   ]
  },
  {
   "cell_type": "markdown",
   "id": "dd9562a7-e8b0-4e03-be53-4d2649457918",
   "metadata": {},
   "source": [
    "## Find np.array Dimensions"
   ]
  },
  {
   "cell_type": "code",
   "execution_count": 55,
   "id": "48647020-f3e6-447d-9c25-17c20aaf2721",
   "metadata": {
    "tags": []
   },
   "outputs": [
    {
     "name": "stdout",
     "output_type": "stream",
     "text": [
      "(22339, 1017, 7)\n"
     ]
    }
   ],
   "source": [
    "max_dims = find_max_dim(event_indices, event_dict)\n",
    "print(max_dims)"
   ]
  },
  {
   "cell_type": "markdown",
   "id": "b9671c21-4808-4523-b62f-ebeb2305080f",
   "metadata": {},
   "source": [
    "## Input Data"
   ]
  },
  {
   "cell_type": "code",
   "execution_count": 62,
   "id": "cb3ea8b0-9179-4476-8d05-a5ab13fc68d6",
   "metadata": {
    "tags": []
   },
   "outputs": [
    {
     "name": "stderr",
     "output_type": "stream",
     "text": [
      "<ipython-input-62-1bc0107f1358>:43: RuntimeWarning: divide by zero encountered in log\n",
      "  X[i,:,5] = np.log(_cluster_ENG_CALIB_TOT)\n"
     ]
    },
    {
     "name": "stdout",
     "output_type": "stream",
     "text": [
      "Finished constructing X array! :-)\n",
      "Time: 33.9 min\n"
     ]
    }
   ],
   "source": [
    "X = np.zeros(max_dims)\n",
    "t0 = t.time()\n",
    "\n",
    "for i in range(len(event_indices)):\n",
    "    # pull all relevant indices\n",
    "    _evt = event_indices[i,0]\n",
    "    _track_idx = event_indices[i,1]\n",
    "    _cluster_idx = event_indices[i,2]\n",
    "    \n",
    "    ## CLUSTERS ##\n",
    "    # cluster data\n",
    "    _cluster_nCells = event_dict['cluster_nCells'][_evt][_cluster_idx]\n",
    "    _cluster_cell_ID = event_dict['cluster_cell_ID'][_evt][_cluster_idx].to_numpy()\n",
    "    _nInClust = len(_cluster_cell_ID)\n",
    "    _cluster_cell_E = event_dict['cluster_cell_E'][_evt][_cluster_idx].to_numpy()\n",
    "    _cluster_Eta = event_dict['cluster_Eta'][_evt][_cluster_idx]\n",
    "    _cluster_Phi = event_dict['cluster_Phi'][_evt][_cluster_idx]\n",
    "    \n",
    "    # cell geometry data\n",
    "    _cell_geo_ID = geo_dict['cell_geo_ID']\n",
    "    \n",
    "    # have to do this in loops for now, will change soon\n",
    "    ## FIX THIS !!!\n",
    "    _cell_idx = np.zeros(_nInClust, dtype=np.int32)\n",
    "    for j in range(_nInClust):\n",
    "        _cell_ID = _cluster_cell_ID[j]\n",
    "        _cell_idx[j] = np.where(_cell_ID == _cell_geo_ID)[0][0]\n",
    "\n",
    "    _cluster_cell_Eta = geo_dict['cell_geo_eta'][_cell_idx]\n",
    "    _cluster_cell_Phi = geo_dict['cell_geo_phi'][_cell_idx]\n",
    "    _cluster_cell_sampling = geo_dict['cell_geo_sampling'][_cell_idx]*.1\n",
    "    \n",
    "    # input all the data (vectorized :-) )\n",
    "    # note here we leave the fourth entry zeros (zero for flag!!!)\n",
    "    # Normalize to cluster centers!!!\n",
    "    X[i,0:_nInClust,0] = _cluster_cell_Eta - _cluster_Eta\n",
    "    X[i,0:_nInClust,1] = _cluster_cell_Phi - _cluster_Phi\n",
    "    X[i,0:_nInClust,2] = np.log(_cluster_cell_E)\n",
    "    X[i,0:_nInClust,3] = _cluster_cell_sampling\n",
    "\n",
    "    ## Truth ##\n",
    "    _cluster_ENG_CALIB_TOT = event_dict['cluster_ENG_CALIB_TOT'][_evt][_cluster_idx]\n",
    "    X[i,:,5] = np.log(_cluster_ENG_CALIB_TOT)\n",
    "    _truthPartE = event_dict['truthPartE'][_evt][0]\n",
    "    X[i,:,6] = np.log(_truthPartE)\n",
    "    \n",
    "    ## TRACKS ##\n",
    "    # Solve for track energy\n",
    "    _trackP = event_dict['trackP'][_evt][_track_idx]\n",
    "    _trackMass = event_dict['trackMass'][_evt][_track_idx]\n",
    "    _trackE = np.sqrt(_trackP**2 + _trackMass**2)\n",
    "    \n",
    "    # track coordinates (normalized to cluster center!!)\n",
    "    _track_arr = np.zeros((6,5))\n",
    "    _track_arr[0,0] = track_dict['trackEta_EMB1'][_evt][0] - _cluster_Eta\n",
    "    _track_arr[0,1] = track_dict['trackPhi_EMB1'][_evt][0] - _cluster_Phi\n",
    "    _track_arr[1,0] = track_dict['trackEta_EMB2'][_evt][0] - _cluster_Eta\n",
    "    _track_arr[1,1] = track_dict['trackPhi_EMB2'][_evt][0] - _cluster_Phi\n",
    "    _track_arr[2,0] = track_dict['trackEta_EMB3'][_evt][0] - _cluster_Eta\n",
    "    _track_arr[2,1] = track_dict['trackPhi_EMB3'][_evt][0] - _cluster_Phi\n",
    "    _track_arr[3,0] = track_dict['trackEta_TileBar0'][_evt][0] - _cluster_Eta\n",
    "    _track_arr[3,1] = track_dict['trackPhi_TileBar0'][_evt][0] - _cluster_Phi\n",
    "    _track_arr[4,0] = track_dict['trackEta_TileBar1'][_evt][0] - _cluster_Eta\n",
    "    _track_arr[4,1] = track_dict['trackPhi_TileBar1'][_evt][0] - _cluster_Phi\n",
    "    _track_arr[5,0] = track_dict['trackEta_TileBar2'][_evt][0] - _cluster_Eta\n",
    "    _track_arr[5,1] = track_dict['trackPhi_TileBar2'][_evt][0] - _cluster_Phi\n",
    "    \n",
    "    # add the track flag of one\n",
    "    _track_arr[:,4] = np.ones(6)\n",
    "    \n",
    "    # add sampling layer\n",
    "    _track_arr[:,3] = np.array([.1,.2,.3,1.2,1.3,1.4])\n",
    "    \n",
    "    # energy\n",
    "    _track_arr[:,2] = np.full((6,), np.log(_trackE)/6)\n",
    "    \n",
    "    # search for NULL track flags\n",
    "    _track_eta_null_mask = np.abs(_track_arr[:,0]) > .7\n",
    "    _track_phi_null_mask = np.abs(_track_arr[:,1]) >= np.pi\n",
    "    _track_flag_null = np.logical_or(_track_eta_null_mask, _track_phi_null_mask)\n",
    "    # where the flag is set to null, set values of energy and calo layer to zero\n",
    "    if np.any(_track_flag_null):\n",
    "        _track_arr[_track_flag_null,2] = 0\n",
    "        _track_arr[_track_flag_null,3] = 0\n",
    "        # re-adjust energy somehow\n",
    "        # Fix this later !!\n",
    "    \n",
    "    X[i,_cluster_nCells:_cluster_nCells+6,0:5] = _track_arr\n",
    "t1 = t.time()\n",
    "\n",
    "print('Finished constructing X array! :-)')\n",
    "print('Time: '+str(round( (t1-t0)/60, 1)) +' min')"
   ]
  },
  {
   "cell_type": "code",
   "execution_count": 64,
   "id": "5a457d14-91b8-47ee-81cb-2782b2c11152",
   "metadata": {},
   "outputs": [],
   "source": [
    "np.save('X_7_tracks_small.npy', X)"
   ]
  },
  {
   "cell_type": "markdown",
   "id": "b157442d-26d2-447e-bae9-e88d3ad14ffc",
   "metadata": {},
   "source": [
    "# Testing Things: Ignore Below"
   ]
  },
  {
   "cell_type": "code",
   "execution_count": 209,
   "id": "5e49b3c1-12cd-4dd2-a493-e7ec08f852e5",
   "metadata": {},
   "outputs": [
    {
     "name": "stdout",
     "output_type": "stream",
     "text": [
      "[0 1 2 3 4 5 6 7]\n",
      "[3 4 2 2 1 5 0 0]\n",
      "[2 5]\n",
      "[0. 1. 1. 0.]\n"
     ]
    }
   ],
   "source": [
    "sorted_arr = np.arange(0,8,1)\n",
    "unsorted_arr = np.array([3,4,2,2,1,5,0,0])\n",
    "print(sorted_arr)\n",
    "print(unsorted_arr)\n",
    "indices = np.ndarray.flatten(np.argwhere(np.asarray(sorted_arr == unsorted_arr)))\n",
    "print(indices)\n",
    "\n",
    "my_mask = np.array([True, False, False, True])\n",
    "my_array = np.ones(4)\n",
    "my_array[my_mask] = 0\n",
    "print(my_array)"
   ]
  },
  {
   "cell_type": "markdown",
   "id": "ee045bf2-4120-423e-b84b-30c986847ddc",
   "metadata": {},
   "source": [
    "### Vectorize cell ID search"
   ]
  },
  {
   "cell_type": "markdown",
   "id": "5067607f-c336-4233-a2d2-eb21fe19b2dd",
   "metadata": {},
   "source": [
    "##### Check vectorized array sort using np.tile()"
   ]
  },
  {
   "cell_type": "code",
   "execution_count": 103,
   "id": "70d86dac-8367-4330-bdd9-33f6fff17026",
   "metadata": {},
   "outputs": [
    {
     "name": "stdout",
     "output_type": "stream",
     "text": [
      "Finding: [2 3]\n",
      "In: [2 4 5 0 3 6 1 7]\n"
     ]
    }
   ],
   "source": [
    "unsorted_array = np.arange(8)\n",
    "np.random.shuffle(unsorted_array)\n",
    "_tags = np.array([2,3])\n",
    "print('Finding: '+str(_tags))\n",
    "print('In: '+str(unsorted_array))"
   ]
  },
  {
   "cell_type": "code",
   "execution_count": 116,
   "id": "f999201e-9f81-4832-9e52-4646a6794165",
   "metadata": {},
   "outputs": [],
   "source": []
  },
  {
   "cell_type": "code",
   "execution_count": 117,
   "id": "eb1b5674-dc68-495a-91d0-fb9ea7927dc7",
   "metadata": {},
   "outputs": [
    {
     "name": "stdout",
     "output_type": "stream",
     "text": [
      "[0 4]\n"
     ]
    }
   ],
   "source": [
    "my_find = find_index_1D(_tags, unsorted_array)\n",
    "print(my_find)"
   ]
  },
  {
   "cell_type": "code",
   "execution_count": 113,
   "id": "a4e756d7-4ab2-4416-8259-bce5cf0c184a",
   "metadata": {},
   "outputs": [
    {
     "name": "stdout",
     "output_type": "stream",
     "text": [
      "[[2 2 2 2 2 2 2 2]\n",
      " [3 3 3 3 3 3 3 3]]\n",
      "[[2 4 5 0 3 6 1 7]\n",
      " [2 4 5 0 3 6 1 7]]\n",
      "[0 4]\n"
     ]
    }
   ],
   "source": [
    "# Create array of ID elements\n",
    "_tags_2d = np.repeat(_tags, repeats=len(unsorted_array)).reshape((len(_tags), len(unsorted_array)))\n",
    "print(_tags_2d)\n",
    "\n",
    "# Create stacked list of what to compare to\n",
    "unsorted_2d = np.tile(unsorted_array, reps=len(_tags)).reshape((len(_tags), len(unsorted_array)))\n",
    "print(unsorted_2d)\n",
    "\n",
    "# now use comparison\n",
    "idx_vect = np.argwhere(np.asarray( _tags_2d == unsorted_2d ))[:,1]\n",
    "print(idx_vect)"
   ]
  },
  {
   "cell_type": "code",
   "execution_count": 85,
   "id": "65cafea6-62a9-4d73-9ce0-6b03105d4a26",
   "metadata": {},
   "outputs": [
    {
     "ename": "ValueError",
     "evalue": "cannot reshape array of size 2 into shape (2,2)",
     "output_type": "error",
     "traceback": [
      "\u001b[0;31m---------------------------------------------------------------------------\u001b[0m",
      "\u001b[0;31mValueError\u001b[0m                                Traceback (most recent call last)",
      "\u001b[0;32m<ipython-input-85-ed9ecadbeeb3>\u001b[0m in \u001b[0;36m<module>\u001b[0;34m\u001b[0m\n\u001b[0;32m----> 1\u001b[0;31m \u001b[0mtags_tiled\u001b[0m \u001b[0;34m=\u001b[0m \u001b[0m_tags\u001b[0m\u001b[0;34m.\u001b[0m\u001b[0mreshape\u001b[0m\u001b[0;34m(\u001b[0m\u001b[0;34m(\u001b[0m\u001b[0mlen\u001b[0m\u001b[0;34m(\u001b[0m\u001b[0m_tags\u001b[0m\u001b[0;34m)\u001b[0m\u001b[0;34m,\u001b[0m\u001b[0;36m2\u001b[0m\u001b[0;34m)\u001b[0m\u001b[0;34m)\u001b[0m\u001b[0;34m\u001b[0m\u001b[0;34m\u001b[0m\u001b[0m\n\u001b[0m\u001b[1;32m      2\u001b[0m \u001b[0mtags_tiled\u001b[0m \u001b[0;34m=\u001b[0m \u001b[0mnp\u001b[0m\u001b[0;34m.\u001b[0m\u001b[0mrepeat\u001b[0m\u001b[0;34m(\u001b[0m\u001b[0m_tags\u001b[0m\u001b[0;34m,\u001b[0m \u001b[0mrepeats\u001b[0m\u001b[0;34m=\u001b[0m\u001b[0mlen\u001b[0m\u001b[0;34m(\u001b[0m\u001b[0munsorted_array\u001b[0m\u001b[0;34m)\u001b[0m\u001b[0;34m,\u001b[0m \u001b[0maxis\u001b[0m\u001b[0;34m=\u001b[0m\u001b[0;36m1\u001b[0m\u001b[0;34m)\u001b[0m\u001b[0;34m\u001b[0m\u001b[0;34m\u001b[0m\u001b[0m\n\u001b[1;32m      3\u001b[0m \u001b[0munsorted_tiled\u001b[0m \u001b[0;34m=\u001b[0m \u001b[0mnp\u001b[0m\u001b[0;34m.\u001b[0m\u001b[0mtile\u001b[0m\u001b[0;34m(\u001b[0m\u001b[0munsorted_array\u001b[0m\u001b[0;34m,\u001b[0m \u001b[0mlen\u001b[0m\u001b[0;34m(\u001b[0m\u001b[0m_tags\u001b[0m\u001b[0;34m)\u001b[0m\u001b[0;34m)\u001b[0m\u001b[0;34m\u001b[0m\u001b[0;34m\u001b[0m\u001b[0m\n\u001b[1;32m      4\u001b[0m \u001b[0mprint\u001b[0m\u001b[0;34m(\u001b[0m\u001b[0;34m'Tags:'\u001b[0m\u001b[0;34m)\u001b[0m\u001b[0;34m\u001b[0m\u001b[0;34m\u001b[0m\u001b[0m\n\u001b[1;32m      5\u001b[0m \u001b[0mprint\u001b[0m\u001b[0;34m(\u001b[0m\u001b[0mtags_tiled\u001b[0m\u001b[0;34m)\u001b[0m\u001b[0;34m\u001b[0m\u001b[0;34m\u001b[0m\u001b[0m\n",
      "\u001b[0;31mValueError\u001b[0m: cannot reshape array of size 2 into shape (2,2)"
     ]
    }
   ],
   "source": [
    "\n",
    "unsorted_tiled = np.tile(unsorted_array, len(_tags))\n",
    "print('Tags:')\n",
    "print(tags_tiled)\n",
    "print('Unsorted array')\n",
    "print(unsorted_array)"
   ]
  },
  {
   "cell_type": "markdown",
   "id": "36396800-cc51-4d71-b36c-333542660d13",
   "metadata": {},
   "source": [
    "##### Using np.where()"
   ]
  },
  {
   "cell_type": "code",
   "execution_count": 75,
   "id": "1a523988-e121-4157-85ba-c20dfc43ae77",
   "metadata": {},
   "outputs": [
    {
     "name": "stdout",
     "output_type": "stream",
     "text": [
      "(array([], dtype=int64),)\n"
     ]
    },
    {
     "name": "stderr",
     "output_type": "stream",
     "text": [
      "<ipython-input-75-379848478688>:1: DeprecationWarning: elementwise comparison failed; this will raise an error in the future.\n",
      "  _tag_mask = np.where(unsorted_array == _tags)\n"
     ]
    }
   ],
   "source": [
    "_tag_mask = np.where(unsorted_array == _tags)\n",
    "print(_tag_mask)"
   ]
  },
  {
   "cell_type": "markdown",
   "id": "99ee398f-4d3f-4157-ba63-00e66ba8195a",
   "metadata": {},
   "source": [
    "##### Using argwhere"
   ]
  },
  {
   "cell_type": "code",
   "execution_count": 78,
   "id": "ed017dcb-1d26-4b73-b95a-d81f1f2c9c07",
   "metadata": {},
   "outputs": [
    {
     "name": "stdout",
     "output_type": "stream",
     "text": [
      "[]\n"
     ]
    },
    {
     "name": "stderr",
     "output_type": "stream",
     "text": [
      "<ipython-input-78-866f63f4dfa9>:1: DeprecationWarning: elementwise comparison failed; this will raise an error in the future.\n",
      "  indices = np.ndarray.flatten(np.argwhere(np.asarray(unsorted_array == _tags)))\n"
     ]
    }
   ],
   "source": [
    "indices = np.ndarray.flatten(np.argwhere(np.asarray(unsorted_array == _tags)))\n",
    "print(indices)"
   ]
  },
  {
   "cell_type": "markdown",
   "id": "551b9a4b-dbb2-45e9-a626-18437bc9f4da",
   "metadata": {},
   "source": [
    "##### Check this speed against dictionaries"
   ]
  },
  {
   "cell_type": "code",
   "execution_count": 71,
   "id": "3e5d2a30-a821-415f-a490-64f21f1e146a",
   "metadata": {},
   "outputs": [
    {
     "name": "stdout",
     "output_type": "stream",
     "text": [
      "740294656\n",
      "740294658\n",
      "740294660\n",
      "740294662\n",
      "740294664\n",
      "740294666\n",
      "For element 740294660 this produces index: 2\n"
     ]
    }
   ],
   "source": [
    "cellGeoDict = {}\n",
    "_tag_idx = 0\n",
    "for _cell_tag in geo_dict['cell_geo_ID'][0:10]:\n",
    "    if _tag_idx <= 5:\n",
    "        print(_cell_tag)\n",
    "    cellGeoDict[_cell_tag] = _tag_idx\n",
    "    _tag_idx += 1\n",
    "\n",
    "# 740294660 this should be index three\n",
    "print('For element 740294660 this produces index: '+str(cellGeoDict[740294660]))"
   ]
  },
  {
   "cell_type": "markdown",
   "id": "70a64365-d8d9-400b-9895-2d9fc58f2ebc",
   "metadata": {},
   "source": [
    "Testing random stuff"
   ]
  },
  {
   "cell_type": "code",
   "execution_count": 46,
   "id": "e81b3891-11fe-4eb4-9972-f00997f173a8",
   "metadata": {},
   "outputs": [
    {
     "name": "stdout",
     "output_type": "stream",
     "text": [
      "[[0. 1.]\n",
      " [0. 1.]\n",
      " [0. 1.]\n",
      " [0. 1.]\n",
      " [0. 1.]]\n"
     ]
    }
   ],
   "source": [
    "W = np.zeros((5,2))\n",
    "W[:,1] = 1\n",
    "print(W)"
   ]
  },
  {
   "cell_type": "code",
   "execution_count": null,
   "id": "f8cba05d-561d-4175-9d59-87000e0eb481",
   "metadata": {},
   "outputs": [],
   "source": []
  }
 ],
 "metadata": {
  "kernelspec": {
   "display_name": "Python 3",
   "language": "python",
   "name": "python3"
  },
  "language_info": {
   "codemirror_mode": {
    "name": "ipython",
    "version": 3
   },
   "file_extension": ".py",
   "mimetype": "text/x-python",
   "name": "python",
   "nbconvert_exporter": "python",
   "pygments_lexer": "ipython3",
   "version": "3.8.5"
  }
 },
 "nbformat": 4,
 "nbformat_minor": 5
}

{
 "cells": [
  {
   "cell_type": "markdown",
   "id": "20029ce6",
   "metadata": {},
   "source": [
    "# Particle Flow Notebook\n",
    "### Goal:\n",
    "The goal of this notebook is to simply set up the pflow code such that we can copy out data into the same format and run a simple model\n",
    "### Implementation: \n",
    "For now just pull charged pion data, we have yet to add the neutral pion and shuffle them\n",
    "#### To Do:\n",
    "- Add neutral pion data in the same manner as charged pion and shuffle them\n",
    "\n",
    "- No idea as of yet how to incorporate the tracking information. Speculation is that this will be a separate network, and we will concatenate the results.\n",
    "  - Update on this: For now, try adding the track as just an extra point in the point cloud"
   ]
  },
  {
   "cell_type": "code",
   "execution_count": 1,
   "id": "32c45e88",
   "metadata": {},
   "outputs": [
    {
     "name": "stdout",
     "output_type": "stream",
     "text": [
      "Awkward Array Version: 1.2.2\n",
      "Uproot Version: 4.0.7\n"
     ]
    }
   ],
   "source": [
    "import numpy as np\n",
    "import matplotlib.pyplot as plt\n",
    "from matplotlib import cm\n",
    "from matplotlib.colors import Normalize\n",
    "import uproot as ur\n",
    "import awkward as ak\n",
    "import time as t\n",
    "import copy\n",
    "print(\"Awkward Array Version: \"+str(ak.__version__))\n",
    "print(\"Uproot Version: \"+str(ur.__version__))\n",
    "\n",
    "import energyflow as ef\n",
    "from energyflow.archs import EFN\n",
    "from energyflow.datasets import qg_jets\n",
    "from energyflow.utils import data_split, to_categorical\n",
    "\n",
    "from sklearn.metrics import roc_auc_score, roc_curve\n",
    "import tensorflow as tf"
   ]
  },
  {
   "cell_type": "code",
   "execution_count": 2,
   "id": "bc46237e",
   "metadata": {},
   "outputs": [],
   "source": [
    "import sys\n",
    "sys.path.append('/home/russbate/MLPionCollaboration/LCStudies')\n",
    "from util import graph_util as gu"
   ]
  },
  {
   "cell_type": "code",
   "execution_count": 32,
   "id": "cfc64727",
   "metadata": {},
   "outputs": [],
   "source": [
    "def find_sampling_events(_ak_cluster_cell_ID, _cellGeoID, _cellGeoSampling, _filter):\n",
    "    ''' Inputs:\n",
    "    _ak_cluster_cell_ID: awkward array with nested arrays of all the cell geometry IDs\n",
    "    _cellGeoID: list of the cell IDs to find the index from, expects numpy format\n",
    "    _cellGeoSampling: same as _cellGeoID but the sampling layer\n",
    "    _filter: the numbered index of calorimetry layers\n",
    "    Returns:\n",
    "    an array of event indices with clusters containing barrel events\n",
    "    '''\n",
    "\n",
    "    # create unique list of sampling layers for every event\n",
    "    _event_layers = []\n",
    "    # list of event indices with one or more clusters in EMB1-3 or TileBar0-2\n",
    "    _barrel_events = []\n",
    "    \n",
    "    for _evt_idx in range(len(_ak_cluster_cell_ID)):\n",
    "        _cluster_cell_ID = ak_cluster_cell_ID[\"cluster_cell_ID\"][_evt_idx]\n",
    "\n",
    "        # create unique list of sampling layers for every cluster\n",
    "        _event_layers = []\n",
    "\n",
    "        for j in range(len(_cluster_cell_ID)):\n",
    "            ''' loop through each cluster of the event '''\n",
    "\n",
    "            for l in range(len(_cluster_cell_ID[j])):\n",
    "                ''' loop through the cluster elements searching for new layer numbers'''\n",
    "                # grab the first cell_geo_ID, l-th element of the j-th cluster\n",
    "                _cellGeoTag = _cluster_cell_ID[j][l]\n",
    "\n",
    "                # find the index of the cell_geo_ID, use [0][0] becuase of np.where return\n",
    "                _cellGeo_idx = np.argwhere(np.asarray(_cellGeoID == _cellGeoTag))\n",
    "\n",
    "                # find the sampling layer based on the index\n",
    "                _this_layer = _cellGeoSampling[_cellGeo_idx]\n",
    "\n",
    "                if not np.isin(_this_layer, _event_layers):\n",
    "                    _event_layers.append(_this_layer)      \n",
    "\n",
    "        # add event to list if one is in the barrel layer\n",
    "        if np.any(np.isin(_event_layers, _filter)):\n",
    "            _barrel_events.append(_evt_idx)\n",
    "\n",
    "    return np.array(_barrel_events)\n",
    "\n",
    "\n",
    "def center_cluster():\n",
    "    ''' Expects a single cluster with a single cluster center '''\n",
    "    return None\n",
    "\n",
    "def center_clusters():\n",
    "    ''' Expects multiple clusters and creates an imshow using the average of the cluster centers'''\n",
    "    return None\n",
    "\n",
    "def cluster_to_imshow():\n",
    "    ''' Takes a cluster and converts to a python imshow '''\n",
    "    return None"
   ]
  },
  {
   "cell_type": "markdown",
   "id": "d2c8dcf6",
   "metadata": {},
   "source": [
    "#### Events"
   ]
  },
  {
   "cell_type": "code",
   "execution_count": 4,
   "id": "3e089c1d",
   "metadata": {},
   "outputs": [],
   "source": [
    "cPionEvents = '/fast_scratch/atlas_images/v01-45/pipm/'\n",
    "nPionEvents = '/fast_scratch/atlas_images/v01-45/pi0/'"
   ]
  },
  {
   "cell_type": "code",
   "execution_count": 5,
   "id": "e01451ee",
   "metadata": {},
   "outputs": [],
   "source": [
    "cPion_502 = ur.open(cPionEvents+'user.angerami.24559744.OutputStream._000502.root')\n",
    "nPion_502 = ur.open(nPionEvents+'user.angerami.24559740.OutputStream._000502.root')"
   ]
  },
  {
   "cell_type": "code",
   "execution_count": 6,
   "id": "b9a36967",
   "metadata": {},
   "outputs": [],
   "source": [
    "cPionEvents = cPion_502[\"EventTree\"]\n",
    "nPionEvents = nPion_502[\"EventTree\"]"
   ]
  },
  {
   "cell_type": "markdown",
   "id": "5ee5ca92",
   "metadata": {},
   "source": [
    "#### Cell Geometry"
   ]
  },
  {
   "cell_type": "code",
   "execution_count": 7,
   "id": "bc70c8f4",
   "metadata": {},
   "outputs": [],
   "source": [
    "cellGeoTree = cPion_502[\"CellGeo\"]"
   ]
  },
  {
   "cell_type": "markdown",
   "id": "92e8205a",
   "metadata": {},
   "source": [
    "### Load & Show Trees \n",
    "#### Events - Print particle ID for reference"
   ]
  },
  {
   "cell_type": "code",
   "execution_count": 8,
   "id": "34a93d6e",
   "metadata": {
    "scrolled": true,
    "tags": []
   },
   "outputs": [
    {
     "name": "stdout",
     "output_type": "stream",
     "text": [
      "name                                       | typename                 | interpretation                                              \n",
      "-------------------------------------------+--------------------------+-------------------------------------------------------------\n",
      "runNumber                                  | int32_t                  | AsDtype('>i4')\n",
      "eventNumber                                | int64_t                  | AsDtype('>i8')\n",
      "lumiBlock                                  | int32_t                  | AsDtype('>i4')\n",
      "coreFlags                                  | uint32_t                 | AsDtype('>u4')\n",
      "mcEventNumber                              | int32_t                  | AsDtype('>i4')\n",
      "mcChannelNumber                            | int32_t                  | AsDtype('>i4')\n",
      "mcEventWeight                              | float                    | AsDtype('>f4')\n",
      "nTruthPart                                 | int32_t                  | AsDtype('>i4')\n",
      "G4PreCalo_n_EM                             | int32_t                  | AsDtype('>i4')\n",
      "G4PreCalo_E_EM                             | float                    | AsDtype('>f4')\n",
      "G4PreCalo_n_Had                            | int32_t                  | AsDtype('>i4')\n",
      "G4PreCalo_E_Had                            | float                    | AsDtype('>f4')\n",
      "truthVertexX                               | float                    | AsDtype('>f4')\n",
      "truthVertexY                               | float                    | AsDtype('>f4')\n",
      "truthVertexZ                               | float                    | AsDtype('>f4')\n",
      "truthPartPdgId                             | std::vector<int32_t>     | AsJagged(AsDtype('>i4'), header_bytes=10)\n",
      "truthPartStatus                            | std::vector<int32_t>     | AsJagged(AsDtype('>i4'), header_bytes=10)\n",
      "truthPartBarcode                           | std::vector<int32_t>     | AsJagged(AsDtype('>i4'), header_bytes=10)\n",
      "truthPartPt                                | std::vector<float>       | AsJagged(AsDtype('>f4'), header_bytes=10)\n",
      "truthPartE                                 | std::vector<float>       | AsJagged(AsDtype('>f4'), header_bytes=10)\n",
      "truthPartMass                              | std::vector<float>       | AsJagged(AsDtype('>f4'), header_bytes=10)\n",
      "truthPartEta                               | std::vector<float>       | AsJagged(AsDtype('>f4'), header_bytes=10)\n",
      "truthPartPhi                               | std::vector<float>       | AsJagged(AsDtype('>f4'), header_bytes=10)\n",
      "nTrack                                     | int32_t                  | AsDtype('>i4')\n",
      "trackPt                                    | std::vector<float>       | AsJagged(AsDtype('>f4'), header_bytes=10)\n",
      "trackP                                     | std::vector<float>       | AsJagged(AsDtype('>f4'), header_bytes=10)\n",
      "trackMass                                  | std::vector<float>       | AsJagged(AsDtype('>f4'), header_bytes=10)\n",
      "trackEta                                   | std::vector<float>       | AsJagged(AsDtype('>f4'), header_bytes=10)\n",
      "trackPhi                                   | std::vector<float>       | AsJagged(AsDtype('>f4'), header_bytes=10)\n",
      "trackNumberOfPixelHits                     | std::vector<int32_t>     | AsJagged(AsDtype('>i4'), header_bytes=10)\n",
      "trackNumberOfSCTHits                       | std::vector<int32_t>     | AsJagged(AsDtype('>i4'), header_bytes=10)\n",
      "trackNumberOfPixelDeadSensors              | std::vector<int32_t>     | AsJagged(AsDtype('>i4'), header_bytes=10)\n",
      "trackNumberOfSCTDeadSensors                | std::vector<int32_t>     | AsJagged(AsDtype('>i4'), header_bytes=10)\n",
      "trackNumberOfPixelSharedHits               | std::vector<int32_t>     | AsJagged(AsDtype('>i4'), header_bytes=10)\n",
      "trackNumberOfSCTSharedHits                 | std::vector<int32_t>     | AsJagged(AsDtype('>i4'), header_bytes=10)\n",
      "trackNumberOfPixelHoles                    | std::vector<int32_t>     | AsJagged(AsDtype('>i4'), header_bytes=10)\n",
      "trackNumberOfSCTHoles                      | std::vector<int32_t>     | AsJagged(AsDtype('>i4'), header_bytes=10)\n",
      "trackNumberOfInnermostPixelLayerHits       | std::vector<int32_t>     | AsJagged(AsDtype('>i4'), header_bytes=10)\n",
      "trackNumberOfNextToInnermostPixelLayerHits | std::vector<int32_t>     | AsJagged(AsDtype('>i4'), header_bytes=10)\n",
      "trackExpectInnermostPixelLayerHit          | std::vector<int32_t>     | AsJagged(AsDtype('>i4'), header_bytes=10)\n",
      "trackExpectNextToInnermostPixelLayerHit    | std::vector<int32_t>     | AsJagged(AsDtype('>i4'), header_bytes=10)\n",
      "trackNumberOfTRTHits                       | std::vector<int32_t>     | AsJagged(AsDtype('>i4'), header_bytes=10)\n",
      "trackNumberOfTRTOutliers                   | std::vector<int32_t>     | AsJagged(AsDtype('>i4'), header_bytes=10)\n",
      "trackChiSquared                            | std::vector<float>       | AsJagged(AsDtype('>f4'), header_bytes=10)\n",
      "trackNumberDOF                             | std::vector<int32_t>     | AsJagged(AsDtype('>i4'), header_bytes=10)\n",
      "trackD0                                    | std::vector<float>       | AsJagged(AsDtype('>f4'), header_bytes=10)\n",
      "trackZ0                                    | std::vector<float>       | AsJagged(AsDtype('>f4'), header_bytes=10)\n",
      "trackEta_PreSamplerB                       | std::vector<float>       | AsJagged(AsDtype('>f4'), header_bytes=10)\n",
      "trackPhi_PreSamplerB                       | std::vector<float>       | AsJagged(AsDtype('>f4'), header_bytes=10)\n",
      "trackEta_PreSamplerE                       | std::vector<float>       | AsJagged(AsDtype('>f4'), header_bytes=10)\n",
      "trackPhi_PreSamplerE                       | std::vector<float>       | AsJagged(AsDtype('>f4'), header_bytes=10)\n",
      "trackEta_EMB1                              | std::vector<float>       | AsJagged(AsDtype('>f4'), header_bytes=10)\n",
      "trackPhi_EMB1                              | std::vector<float>       | AsJagged(AsDtype('>f4'), header_bytes=10)\n",
      "trackEta_EMB2                              | std::vector<float>       | AsJagged(AsDtype('>f4'), header_bytes=10)\n",
      "trackPhi_EMB2                              | std::vector<float>       | AsJagged(AsDtype('>f4'), header_bytes=10)\n",
      "trackEta_EMB3                              | std::vector<float>       | AsJagged(AsDtype('>f4'), header_bytes=10)\n",
      "trackPhi_EMB3                              | std::vector<float>       | AsJagged(AsDtype('>f4'), header_bytes=10)\n",
      "trackEta_EME1                              | std::vector<float>       | AsJagged(AsDtype('>f4'), header_bytes=10)\n",
      "trackPhi_EME1                              | std::vector<float>       | AsJagged(AsDtype('>f4'), header_bytes=10)\n",
      "trackEta_EME2                              | std::vector<float>       | AsJagged(AsDtype('>f4'), header_bytes=10)\n",
      "trackPhi_EME2                              | std::vector<float>       | AsJagged(AsDtype('>f4'), header_bytes=10)\n",
      "trackEta_EME3                              | std::vector<float>       | AsJagged(AsDtype('>f4'), header_bytes=10)\n",
      "trackPhi_EME3                              | std::vector<float>       | AsJagged(AsDtype('>f4'), header_bytes=10)\n",
      "trackEta_HEC0                              | std::vector<float>       | AsJagged(AsDtype('>f4'), header_bytes=10)\n",
      "trackPhi_HEC0                              | std::vector<float>       | AsJagged(AsDtype('>f4'), header_bytes=10)\n",
      "trackEta_HEC1                              | std::vector<float>       | AsJagged(AsDtype('>f4'), header_bytes=10)\n",
      "trackPhi_HEC1                              | std::vector<float>       | AsJagged(AsDtype('>f4'), header_bytes=10)\n",
      "trackEta_HEC2                              | std::vector<float>       | AsJagged(AsDtype('>f4'), header_bytes=10)\n",
      "trackPhi_HEC2                              | std::vector<float>       | AsJagged(AsDtype('>f4'), header_bytes=10)\n",
      "trackEta_HEC3                              | std::vector<float>       | AsJagged(AsDtype('>f4'), header_bytes=10)\n",
      "trackPhi_HEC3                              | std::vector<float>       | AsJagged(AsDtype('>f4'), header_bytes=10)\n",
      "trackEta_TileBar0                          | std::vector<float>       | AsJagged(AsDtype('>f4'), header_bytes=10)\n",
      "trackPhi_TileBar0                          | std::vector<float>       | AsJagged(AsDtype('>f4'), header_bytes=10)\n",
      "trackEta_TileBar1                          | std::vector<float>       | AsJagged(AsDtype('>f4'), header_bytes=10)\n",
      "trackPhi_TileBar1                          | std::vector<float>       | AsJagged(AsDtype('>f4'), header_bytes=10)\n",
      "trackEta_TileBar2                          | std::vector<float>       | AsJagged(AsDtype('>f4'), header_bytes=10)\n",
      "trackPhi_TileBar2                          | std::vector<float>       | AsJagged(AsDtype('>f4'), header_bytes=10)\n",
      "trackEta_TileGap1                          | std::vector<float>       | AsJagged(AsDtype('>f4'), header_bytes=10)\n",
      "trackPhi_TileGap1                          | std::vector<float>       | AsJagged(AsDtype('>f4'), header_bytes=10)\n",
      "trackEta_TileGap2                          | std::vector<float>       | AsJagged(AsDtype('>f4'), header_bytes=10)\n",
      "trackPhi_TileGap2                          | std::vector<float>       | AsJagged(AsDtype('>f4'), header_bytes=10)\n",
      "trackEta_TileGap3                          | std::vector<float>       | AsJagged(AsDtype('>f4'), header_bytes=10)\n",
      "trackPhi_TileGap3                          | std::vector<float>       | AsJagged(AsDtype('>f4'), header_bytes=10)\n",
      "trackEta_TileExt0                          | std::vector<float>       | AsJagged(AsDtype('>f4'), header_bytes=10)\n",
      "trackPhi_TileExt0                          | std::vector<float>       | AsJagged(AsDtype('>f4'), header_bytes=10)\n",
      "trackEta_TileExt1                          | std::vector<float>       | AsJagged(AsDtype('>f4'), header_bytes=10)\n",
      "trackPhi_TileExt1                          | std::vector<float>       | AsJagged(AsDtype('>f4'), header_bytes=10)\n",
      "trackEta_TileExt2                          | std::vector<float>       | AsJagged(AsDtype('>f4'), header_bytes=10)\n",
      "trackPhi_TileExt2                          | std::vector<float>       | AsJagged(AsDtype('>f4'), header_bytes=10)\n",
      "AntiKt4EMTopoJetsPt                        | std::vector<float>       | AsJagged(AsDtype('>f4'), header_bytes=10)\n",
      "AntiKt4EMTopoJetsEta                       | std::vector<float>       | AsJagged(AsDtype('>f4'), header_bytes=10)\n",
      "AntiKt4EMTopoJetsPhi                       | std::vector<float>       | AsJagged(AsDtype('>f4'), header_bytes=10)\n",
      "AntiKt4EMTopoJetsE                         | std::vector<float>       | AsJagged(AsDtype('>f4'), header_bytes=10)\n",
      "AntiKt4LCTopoJetsPt                        | std::vector<float>       | AsJagged(AsDtype('>f4'), header_bytes=10)\n",
      "AntiKt4LCTopoJetsEta                       | std::vector<float>       | AsJagged(AsDtype('>f4'), header_bytes=10)\n",
      "AntiKt4LCTopoJetsPhi                       | std::vector<float>       | AsJagged(AsDtype('>f4'), header_bytes=10)\n",
      "AntiKt4LCTopoJetsE                         | std::vector<float>       | AsJagged(AsDtype('>f4'), header_bytes=10)\n",
      "AntiKt4TruthJetsPt                         | std::vector<float>       | AsJagged(AsDtype('>f4'), header_bytes=10)\n",
      "AntiKt4TruthJetsEta                        | std::vector<float>       | AsJagged(AsDtype('>f4'), header_bytes=10)\n",
      "AntiKt4TruthJetsPhi                        | std::vector<float>       | AsJagged(AsDtype('>f4'), header_bytes=10)\n",
      "AntiKt4TruthJetsE                          | std::vector<float>       | AsJagged(AsDtype('>f4'), header_bytes=10)\n",
      "AntiKt4TruthJetsFlavor                     | std::vector<int32_t>     | AsJagged(AsDtype('>i4'), header_bytes=10)\n",
      "nCluster                                   | int32_t                  | AsDtype('>i4')\n",
      "cluster_E                                  | std::vector<float>       | AsJagged(AsDtype('>f4'), header_bytes=10)\n",
      "cluster_E_LCCalib                          | std::vector<float>       | AsJagged(AsDtype('>f4'), header_bytes=10)\n",
      "cluster_Pt                                 | std::vector<float>       | AsJagged(AsDtype('>f4'), header_bytes=10)\n",
      "cluster_Eta                                | std::vector<float>       | AsJagged(AsDtype('>f4'), header_bytes=10)\n",
      "cluster_Phi                                | std::vector<float>       | AsJagged(AsDtype('>f4'), header_bytes=10)\n",
      "cluster_nCells                             | std::vector<int32_t>     | AsJagged(AsDtype('>i4'), header_bytes=10)\n",
      "cluster_ENG_CALIB_TOT                      | std::vector<float>       | AsJagged(AsDtype('>f4'), header_bytes=10)\n",
      "cluster_ENG_CALIB_OUT_T                    | std::vector<float>       | AsJagged(AsDtype('>f4'), header_bytes=10)\n",
      "cluster_ENG_CALIB_DEAD_TOT                 | std::vector<float>       | AsJagged(AsDtype('>f4'), header_bytes=10)\n",
      "cluster_EM_PROBABILITY                     | std::vector<float>       | AsJagged(AsDtype('>f4'), header_bytes=10)\n",
      "cluster_HAD_WEIGHT                         | std::vector<float>       | AsJagged(AsDtype('>f4'), header_bytes=10)\n",
      "cluster_OOC_WEIGHT                         | std::vector<float>       | AsJagged(AsDtype('>f4'), header_bytes=10)\n",
      "cluster_DM_WEIGHT                          | std::vector<float>       | AsJagged(AsDtype('>f4'), header_bytes=10)\n",
      "cluster_CENTER_MAG                         | std::vector<float>       | AsJagged(AsDtype('>f4'), header_bytes=10)\n",
      "cluster_FIRST_ENG_DENS                     | std::vector<float>       | AsJagged(AsDtype('>f4'), header_bytes=10)\n",
      "cluster_CENTER_LAMBDA                      | std::vector<float>       | AsJagged(AsDtype('>f4'), header_bytes=10)\n",
      "cluster_ISOLATION                          | std::vector<float>       | AsJagged(AsDtype('>f4'), header_bytes=10)\n",
      "cluster_ENERGY_DigiHSTruth                 | std::vector<float>       | AsJagged(AsDtype('>f4'), header_bytes=10)\n",
      "cluster_cell_ID                            | std::vector<std::vect... | AsObjects(AsVector(True, AsVector(False, dtype('>u8'))))\n",
      "cluster_cell_E                             | std::vector<std::vect... | AsObjects(AsVector(True, AsVector(False, dtype('>f4'))))\n",
      "cluster_hitsTruthIndex                     | std::vector<std::vect... | AsObjects(AsVector(True, AsVector(False, dtype('>i4'))))\n",
      "cluster_hitsTruthE                         | std::vector<std::vect... | AsObjects(AsVector(True, AsVector(False, dtype('>f4'))))\n"
     ]
    }
   ],
   "source": [
    "# Show keys\n",
    "cPionEvents.show(name_width=42,\n",
    "                interpretation_width=60)\n",
    "\n",
    "## Event information\n",
    "## Charged Pions\n",
    "ak_cluster_nCells = cPionEvents.arrays(filter_name=\"cluster_nCells\")\n",
    "ak_cluster_cell_ID = cPionEvents.arrays(filter_name=\"cluster_cell_ID\")\n",
    "ak_cluster_cell_E = cPionEvents.arrays(filter_name=\"cluster_cell_E\")\n",
    "nCluster = cPionEvents.arrays(library='np')[\"nCluster\"]\n",
    "eventNumber = cPionEvents.arrays(library='np')[\"eventNumber\"]\n",
    "nTrack = cPionEvents.arrays(library='np')[\"nTrack\"]\n",
    "cPionPart = cPionEvents.arrays(library='np')[\"nTruthPart\"]\n",
    "cPionId = cPionEvents.arrays(library='np')[\"truthPartPdgId\"]\n",
    "ak_cluster_Eta = cPionEvents.arrays(filter_name=\"cluster_Eta\")\n",
    "ak_cluster_Phi = cPionEvents.arrays(filter_name=\"cluster_Phi\")"
   ]
  },
  {
   "cell_type": "code",
   "execution_count": 10,
   "id": "f63dfb0e",
   "metadata": {
    "scrolled": true,
    "tags": []
   },
   "outputs": [
    {
     "name": "stdout",
     "output_type": "stream",
     "text": [
      "If single particle gun, then this should all be ones\n",
      "Charged Pions: \n",
      "[1 1 1 1 1 1 1 1 1 1 1 1 1 1 1 1 1 1 1 1 1 1 1 1 1 1 1 1 1 1 1 1 1 1 1 1 1\n",
      " 1 1 1 1 1 1 1 1 1 1 1 1 1]\n",
      "Neutral Pions: \n",
      "[3 3 3 3 3 3 3 3 3 4 3 3 3 3 3 3 3 3 3 3 3 3 3 3 3 3 3 3 3 3 3 3 3 3 3 3 3\n",
      " 3 3 3 3 3 3 3 3 3 3 3 3 3]\n",
      ".. pew pew ..\n",
      "\n",
      "Check for particle data group identification of pi plus or pi minus\n",
      "[array([-211], dtype=int32) array([211], dtype=int32)\n",
      " array([211], dtype=int32) array([211], dtype=int32)\n",
      " array([-211], dtype=int32)]\n",
      "\n",
      "Check for particle data group identification of pi0\n",
      "[array([111,  22,  22], dtype=int32) array([111,  22,  22], dtype=int32)\n",
      " array([111,  22,  22], dtype=int32) array([111,  22,  22], dtype=int32)\n",
      " array([111,  22,  22], dtype=int32)]\n"
     ]
    }
   ],
   "source": [
    "## Neutral Pions\n",
    "nPionPart = nPionEvents.arrays(library='np')[\"nTruthPart\"]\n",
    "nPionId = nPionEvents.arrays(library='np')[\"truthPartPdgId\"]\n",
    "\n",
    "print(\"If single particle gun, then this should all be ones\")\n",
    "print(\"Charged Pions: \")\n",
    "print(cPionPart[0:50])\n",
    "print(\"Neutral Pions: \")\n",
    "print(nPionPart[0:50]);print('.. pew pew ..'); print()\n",
    "\n",
    "print(\"Check for particle data group identification of pi plus or pi minus\")\n",
    "print(cPionId[0:5]);print()\n",
    "print(\"Check for particle data group identification of pi0\")\n",
    "print(nPionId[0:5])"
   ]
  },
  {
   "cell_type": "markdown",
   "id": "7a766e5d",
   "metadata": {},
   "source": [
    "Notes: Clearly something is up here that we need to investigate further."
   ]
  },
  {
   "cell_type": "markdown",
   "id": "deda8532",
   "metadata": {},
   "source": [
    "#### Cell Geometry"
   ]
  },
  {
   "cell_type": "code",
   "execution_count": 11,
   "id": "730f77f1",
   "metadata": {},
   "outputs": [
    {
     "name": "stdout",
     "output_type": "stream",
     "text": [
      "name                                       | typename                 | interpretation                                    \n",
      "-------------------------------------------+--------------------------+---------------------------------------------------\n",
      "cell_geo_ID                                | std::vector<uint64_t>    | AsJagged(AsDtype('>u8'), header_bytes=10)\n",
      "cell_geo_sampling                          | std::vector<uint16_t>    | AsJagged(AsDtype('>u2'), header_bytes=10)\n",
      "cell_geo_eta                               | std::vector<float>       | AsJagged(AsDtype('>f4'), header_bytes=10)\n",
      "cell_geo_phi                               | std::vector<float>       | AsJagged(AsDtype('>f4'), header_bytes=10)\n",
      "cell_geo_rPerp                             | std::vector<float>       | AsJagged(AsDtype('>f4'), header_bytes=10)\n",
      "cell_geo_deta                              | std::vector<float>       | AsJagged(AsDtype('>f4'), header_bytes=10)\n",
      "cell_geo_dphi                              | std::vector<float>       | AsJagged(AsDtype('>f4'), header_bytes=10)\n",
      "cell_geo_volume                            | std::vector<float>       | AsJagged(AsDtype('>f4'), header_bytes=10)\n",
      "cell_geo_sigma                             | std::vector<float>       | AsJagged(AsDtype('>f4'), header_bytes=10)\n"
     ]
    }
   ],
   "source": [
    "cellGeoTree.show(name_width=42,\n",
    "                interpretation_width=50)"
   ]
  },
  {
   "cell_type": "code",
   "execution_count": 12,
   "id": "8bb4f4ca",
   "metadata": {},
   "outputs": [],
   "source": [
    "# Geometry information\n",
    "cell_geo_ID = cellGeoTree.arrays(filter_name='cell_geo_ID')[0][\"cell_geo_ID\"].to_numpy()\n",
    "cell_geo_eta = cellGeoTree.arrays(filter_name='cell_geo_eta')[0][\"cell_geo_eta\"].to_numpy()\n",
    "cell_geo_phi = cellGeoTree.arrays(filter_name='cell_geo_phi')[0][\"cell_geo_phi\"].to_numpy()\n",
    "cell_geo_rPerp = cellGeoTree.arrays(filter_name='cell_geo_rPerp')[0][\"cell_geo_rPerp\"].to_numpy()\n",
    "cell_geo_deta = cellGeoTree.arrays(filter_name='cell_geo_deta')[0][\"cell_geo_deta\"].to_numpy()\n",
    "cell_geo_dphi = cellGeoTree.arrays(filter_name='cell_geo_dphi')[0][\"cell_geo_dphi\"].to_numpy()\n",
    "cell_geo_sampling = cellGeoTree.arrays(filter_name='cell_geo_sampling')[0][\"cell_geo_sampling\"].to_numpy()"
   ]
  },
  {
   "cell_type": "markdown",
   "id": "4791fca9",
   "metadata": {},
   "source": [
    "### Find Barrel Events"
   ]
  },
  {
   "cell_type": "code",
   "execution_count": 13,
   "id": "389a8275",
   "metadata": {},
   "outputs": [
    {
     "name": "stdout",
     "output_type": "stream",
     "text": [
      "[ 0  2  3  6  7 11 14 20 22 26]\n"
     ]
    }
   ],
   "source": [
    "## Find these events for neutral pions\n",
    "barrel_filter = np.array([1,2,3,12,13,14])\n",
    "\n",
    "barrel_events = find_sampling_events(_ak_cluster_cell_ID = ak_cluster_cell_ID,\n",
    "                                     _cellGeoID = cell_geo_ID, _cellGeoSampling = cell_geo_sampling,\n",
    "                                     _filter = barrel_filter)\n",
    "print(barrel_events[0:10])"
   ]
  },
  {
   "cell_type": "markdown",
   "id": "9a69990c-93e3-47aa-8973-85e7ffd7f2da",
   "metadata": {},
   "source": [
    "### Set Up Clusters in Particle Flow format"
   ]
  },
  {
   "cell_type": "markdown",
   "id": "77c806f0-b569-466d-aa70-c56247f969e2",
   "metadata": {},
   "source": [
    "#### Find maximum cluster size"
   ]
  },
  {
   "cell_type": "code",
   "execution_count": 17,
   "id": "67054247-5340-422f-bd49-1b3ec00861d2",
   "metadata": {},
   "outputs": [
    {
     "name": "stdout",
     "output_type": "stream",
     "text": [
      "10% complete in 0.13431835174560547 (s)\n",
      "\n",
      "726\n"
     ]
    }
   ],
   "source": [
    "max_cluster_num = 0\n",
    "\n",
    "total_events = len(barrel_events)\n",
    "my_event = 0\n",
    "print_progress = False\n",
    "ts = t.time()\n",
    "\n",
    "# search through all the barrel events\n",
    "for _evt in barrel_events:\n",
    "    _clusters = ak_cluster_cell_ID[\"cluster_cell_ID\"][_evt]\n",
    "    \n",
    "    my_event += 1\n",
    "    _completion = my_event/total_events\n",
    "    if print_progress == False and _completion >= .1:\n",
    "        print_progress = True\n",
    "        t_10 = t.time()\n",
    "        tenPercent_compl = t_10 - ts\n",
    "        print(\"10% complete in \"+str(tenPercent_compl)+\" (s)\"); print()\n",
    "    \n",
    "    for _clust_idx in range(nCluster[_evt]):\n",
    "        _num_in_clust = len(_clusters[_clust_idx])\n",
    "        if _num_in_clust > max_cluster_num:\n",
    "            max_cluster_num = _num_in_clust\n",
    "\n",
    "print(max_cluster_num)"
   ]
  },
  {
   "cell_type": "markdown",
   "id": "92c0cf1f-b5a8-4e35-a2ee-435466cb621b",
   "metadata": {},
   "source": [
    "### Find number of central clusters"
   ]
  },
  {
   "cell_type": "code",
   "execution_count": 30,
   "id": "cf2faa9c-043e-43fd-917c-1a81ac7d448e",
   "metadata": {},
   "outputs": [
    {
     "name": "stdout",
     "output_type": "stream",
     "text": [
      "17207\n"
     ]
    }
   ],
   "source": [
    "num_central_clusters = 0\n",
    "\n",
    "for _evt in barrel_events:\n",
    "    \n",
    "    for _clust_idx in range(nCluster[_evt]):\n",
    "        _clust_Eta = ak_cluster_Eta[\"cluster_Eta\"][_evt][_clust_idx]\n",
    "        \n",
    "        if _clust_Eta > -7. and _clust_Eta < .7:\n",
    "            num_central_clusters += 1\n",
    "        \n",
    "print(num_central_clusters)"
   ]
  },
  {
   "cell_type": "markdown",
   "id": "3dcfbb87-932b-4249-8927-739defe27a0c",
   "metadata": {},
   "source": [
    "### Create dataset"
   ]
  },
  {
   "cell_type": "code",
   "execution_count": 20,
   "id": "c58bce0d-a7ff-45e8-a906-98adc893ebf6",
   "metadata": {},
   "outputs": [],
   "source": [
    "## Just as in the Pflow example we have a three dimensional numpy arrays with\n",
    "## empty values set as a flag\n",
    "X = np.zeros( (num_central_clusters, max_cluster_num, 4) )"
   ]
  },
  {
   "cell_type": "code",
   "execution_count": 37,
   "id": "a360e5fc-22de-4e58-b12a-1dd1fc2ad946",
   "metadata": {},
   "outputs": [
    {
     "name": "stdout",
     "output_type": "stream",
     "text": [
      "[(0, 0), (2, 0), (3, 0), (6, 0), (7, 0), (11, 0), (14, 0), (20, 0), (22, 0), (26, 0)]\n"
     ]
    }
   ],
   "source": [
    "def find_central_clusters(_numClusters, _ak_cluster_Eta, _events):\n",
    "    ''' Goal: return an array of indices for awkward array where cells have cluster centers \n",
    "    with an eta < .7\n",
    "    Inputs:\n",
    "    _numClusters: a numpy array with the number of clusters in event order\n",
    "    _ak_cluster_Eta: an awkward array holding the cluster eta information\n",
    "    _events: a refined list of events to search though (can be all events)\n",
    "    Returns:\n",
    "    _central_clusters: a list of tuples containing the awkward array coordinates of central\n",
    "        clusters\n",
    "    '''\n",
    "    \n",
    "    # Empty list to concatenate array coordinates to as tuples\n",
    "    _central_clusters = []\n",
    "    \n",
    "    for _evt_idx in _events:\n",
    "        for _clust_idx in range(_numClusters[_evt]):\n",
    "#             print(\"event \"+str(_evt_idx))\n",
    "#             print(\"number of clusters: \"+str(_numClusters[_evt]))\n",
    "            \n",
    "            _clust_Eta = _ak_cluster_Eta[\"cluster_Eta\"][_evt][_clust_idx]\n",
    "            \n",
    "            if _clust_Eta > -.7 and _clust_Eta < .7:\n",
    "                _central_clusters.append((_evt_idx, _clust_idx))\n",
    "\n",
    "    return _central_clusters\n",
    "\n",
    "central_clusters = find_central_clusters(_numClusters=nCluster, _ak_cluster_Eta=ak_cluster_Eta,\n",
    "                                         _events=barrel_events)\n",
    "print(central_clusters[0:10])"
   ]
  },
  {
   "cell_type": "markdown",
   "id": "a9cc185b-cfee-4b7e-aade-da24228b921a",
   "metadata": {},
   "source": [
    "#### TO DO: Seems strange that seemingly none of the barrel events have multiple central clusters with abs(eta) < .7\n",
    "investigate this further"
   ]
  },
  {
   "cell_type": "code",
   "execution_count": 52,
   "id": "8b7918f1-5bf5-4c85-94a6-979b6d3f275d",
   "metadata": {},
   "outputs": [],
   "source": [
    "## Still working on taking values from events and slicing them into X :-(\n",
    "for i in range(len(central_clusters)):\n",
    "    # unpack variables for n'th event m'th cluster\n",
    "    n, m = central_clusters[i]\n",
    "    _cluster_cell_ID = ak_cluster_cell_ID[\"cluster_cell_ID\"][n][m]\n",
    "    \n",
    "    for j in range(len(_cluster_cell_ID)):\n",
    "        # j'th element of the m'th cluster\n",
    "        _cellGeoTag = _cluster_cell_ID[j]\n",
    "\n",
    "        # find the index of the cell_geo_ID, use [0][0] becuase of np.where return\n",
    "        _cellGeo_idx = np.argwhere(np.asarray(cell_geo_ID == _cellGeoTag))\n",
    "        _Eta = cell_geo_eta[_cellGeo_idx][0][0]\n",
    "        _Phi = cell_geo_phi[_cellGeo_idx][0][0]\n",
    "        _E = ak_cluster_cell_E[\"cluster_cell_E\"][n][m][j]\n",
    "        PID = 1 ## Fix this to proper PDGID\n",
    "        \n",
    "        _array_vals = np.array([_Eta, _Phi, _E, PID])\n",
    "        \n",
    "        X[i,j,:] = _array_vals"
   ]
  },
  {
   "cell_type": "markdown",
   "id": "fd53c633",
   "metadata": {},
   "source": [
    "## TO DO:\n",
    "### Create labels for neutral vs charged pions"
   ]
  },
  {
   "cell_type": "code",
   "execution_count": null,
   "id": "cf18bd1e",
   "metadata": {},
   "outputs": [],
   "source": []
  },
  {
   "cell_type": "markdown",
   "id": "a3a4fc1f",
   "metadata": {},
   "source": [
    "### Shuffle data points"
   ]
  },
  {
   "cell_type": "code",
   "execution_count": null,
   "id": "c9da6587",
   "metadata": {},
   "outputs": [],
   "source": []
  },
  {
   "cell_type": "markdown",
   "id": "d60e7af4-b401-435d-acd3-37b0c1ec32f1",
   "metadata": {},
   "source": [
    "# PFN Example Code"
   ]
  },
  {
   "cell_type": "code",
   "execution_count": 15,
   "id": "59c93f13-0a8f-4dc0-b150-e56f06847308",
   "metadata": {},
   "outputs": [],
   "source": [
    "## Import additionals that were not above\n",
    "from __future__ import absolute_import, division, print_function\n",
    "\n",
    "# energyflow imports\n",
    "import energyflow as ef\n",
    "from energyflow.archs import PFN\n",
    "from energyflow.datasets import qg_jets\n",
    "from energyflow.utils import data_split, remap_pids, to_categorical\n",
    "\n",
    "from sklearn.metrics import roc_auc_score, roc_curve\n",
    "import matplotlib.pyplot as plt"
   ]
  },
  {
   "cell_type": "code",
   "execution_count": 16,
   "id": "2b50dc6b-ba8d-4ee4-93a0-0c6e7984c7be",
   "metadata": {},
   "outputs": [],
   "source": [
    "################################### SETTINGS ###################################\n",
    "# the commented values correspond to those in 1810.05165\n",
    "###############################################################################\n",
    "\n",
    "# data controls, can go up to 2000000 for full dataset\n",
    "train, val, test = 75000, 10000, 15000\n",
    "# train, val, test = 1000000, 200000, 200000\n",
    "use_pids = True\n",
    "\n",
    "# network architecture parameters\n",
    "Phi_sizes, F_sizes = (100, 100, 128), (100, 100, 100)\n",
    "\n",
    "# network training parameters\n",
    "num_epoch = 5\n",
    "batch_size = 500"
   ]
  },
  {
   "cell_type": "code",
   "execution_count": 18,
   "id": "727b396f-2a38-4e43-a4e8-92afde16b918",
   "metadata": {},
   "outputs": [
    {
     "name": "stdout",
     "output_type": "stream",
     "text": [
      "Loaded quark and gluon jets\n"
     ]
    }
   ],
   "source": [
    "# load data\n",
    "X, y = qg_jets.load(train + val + test)\n",
    "\n",
    "# convert labels to categorical\n",
    "Y = to_categorical(y, num_classes=2)\n",
    "\n",
    "print('Loaded quark and gluon jets')"
   ]
  },
  {
   "cell_type": "code",
   "execution_count": 20,
   "id": "44740f1a-3b0c-43c2-a04d-a15e3af8c71e",
   "metadata": {},
   "outputs": [
    {
     "name": "stdout",
     "output_type": "stream",
     "text": [
      "done for loop\n"
     ]
    },
    {
     "ename": "KeyError",
     "evalue": "0",
     "output_type": "error",
     "traceback": [
      "\u001b[0;31m---------------------------------------------------------------------------\u001b[0m",
      "\u001b[0;31mKeyError\u001b[0m                                  Traceback (most recent call last)",
      "\u001b[0;32m<ipython-input-20-47f03bbd7060>\u001b[0m in \u001b[0;36m<module>\u001b[0;34m\u001b[0m\n\u001b[1;32m      9\u001b[0m \u001b[0;31m# handle particle id channel\u001b[0m\u001b[0;34m\u001b[0m\u001b[0;34m\u001b[0m\u001b[0;34m\u001b[0m\u001b[0m\n\u001b[1;32m     10\u001b[0m \u001b[0;32mif\u001b[0m \u001b[0muse_pids\u001b[0m\u001b[0;34m:\u001b[0m\u001b[0;34m\u001b[0m\u001b[0;34m\u001b[0m\u001b[0m\n\u001b[0;32m---> 11\u001b[0;31m     \u001b[0mremap_pids\u001b[0m\u001b[0;34m(\u001b[0m\u001b[0mX\u001b[0m\u001b[0;34m,\u001b[0m \u001b[0mpid_i\u001b[0m\u001b[0;34m=\u001b[0m\u001b[0;36m3\u001b[0m\u001b[0;34m)\u001b[0m\u001b[0;34m\u001b[0m\u001b[0;34m\u001b[0m\u001b[0m\n\u001b[0m\u001b[1;32m     12\u001b[0m \u001b[0;32melse\u001b[0m\u001b[0;34m:\u001b[0m\u001b[0;34m\u001b[0m\u001b[0;34m\u001b[0m\u001b[0m\n\u001b[1;32m     13\u001b[0m     \u001b[0mX\u001b[0m \u001b[0;34m=\u001b[0m \u001b[0mX\u001b[0m\u001b[0;34m[\u001b[0m\u001b[0;34m:\u001b[0m\u001b[0;34m,\u001b[0m\u001b[0;34m:\u001b[0m\u001b[0;34m,\u001b[0m\u001b[0;34m:\u001b[0m\u001b[0;36m3\u001b[0m\u001b[0;34m]\u001b[0m\u001b[0;34m\u001b[0m\u001b[0;34m\u001b[0m\u001b[0m\n",
      "\u001b[0;32m/usr/local/lib/python3.8/dist-packages/energyflow/utils/data_utils.py\u001b[0m in \u001b[0;36mremap_pids\u001b[0;34m(events, pid_i, error_on_unknown)\u001b[0m\n\u001b[1;32m    213\u001b[0m         \u001b[0mpids\u001b[0m \u001b[0;34m=\u001b[0m \u001b[0mevents\u001b[0m\u001b[0;34m[\u001b[0m\u001b[0;34m:\u001b[0m\u001b[0;34m,\u001b[0m\u001b[0;34m:\u001b[0m\u001b[0;34m,\u001b[0m\u001b[0mpid_i\u001b[0m\u001b[0;34m]\u001b[0m\u001b[0;34m.\u001b[0m\u001b[0mastype\u001b[0m\u001b[0;34m(\u001b[0m\u001b[0mint\u001b[0m\u001b[0;34m)\u001b[0m\u001b[0;34m.\u001b[0m\u001b[0mreshape\u001b[0m\u001b[0;34m(\u001b[0m\u001b[0;34m(\u001b[0m\u001b[0mevents\u001b[0m\u001b[0;34m.\u001b[0m\u001b[0mshape\u001b[0m\u001b[0;34m[\u001b[0m\u001b[0;36m0\u001b[0m\u001b[0;34m]\u001b[0m\u001b[0;34m*\u001b[0m\u001b[0mevents\u001b[0m\u001b[0;34m.\u001b[0m\u001b[0mshape\u001b[0m\u001b[0;34m[\u001b[0m\u001b[0;36m1\u001b[0m\u001b[0;34m]\u001b[0m\u001b[0;34m)\u001b[0m\u001b[0;34m)\u001b[0m\u001b[0;34m\u001b[0m\u001b[0;34m\u001b[0m\u001b[0m\n\u001b[1;32m    214\u001b[0m         \u001b[0;32mif\u001b[0m \u001b[0merror_on_unknown\u001b[0m\u001b[0;34m:\u001b[0m\u001b[0;34m\u001b[0m\u001b[0;34m\u001b[0m\u001b[0m\n\u001b[0;32m--> 215\u001b[0;31m             events[:,:,pid_i] = np.asarray([PID2FLOAT_MAP[pid]\n\u001b[0m\u001b[1;32m    216\u001b[0m                                             for pid in pids]).reshape(events.shape[:2])\n\u001b[1;32m    217\u001b[0m         \u001b[0;32melse\u001b[0m\u001b[0;34m:\u001b[0m\u001b[0;34m\u001b[0m\u001b[0;34m\u001b[0m\u001b[0m\n",
      "\u001b[0;32m/usr/local/lib/python3.8/dist-packages/energyflow/utils/data_utils.py\u001b[0m in \u001b[0;36m<listcomp>\u001b[0;34m(.0)\u001b[0m\n\u001b[1;32m    213\u001b[0m         \u001b[0mpids\u001b[0m \u001b[0;34m=\u001b[0m \u001b[0mevents\u001b[0m\u001b[0;34m[\u001b[0m\u001b[0;34m:\u001b[0m\u001b[0;34m,\u001b[0m\u001b[0;34m:\u001b[0m\u001b[0;34m,\u001b[0m\u001b[0mpid_i\u001b[0m\u001b[0;34m]\u001b[0m\u001b[0;34m.\u001b[0m\u001b[0mastype\u001b[0m\u001b[0;34m(\u001b[0m\u001b[0mint\u001b[0m\u001b[0;34m)\u001b[0m\u001b[0;34m.\u001b[0m\u001b[0mreshape\u001b[0m\u001b[0;34m(\u001b[0m\u001b[0;34m(\u001b[0m\u001b[0mevents\u001b[0m\u001b[0;34m.\u001b[0m\u001b[0mshape\u001b[0m\u001b[0;34m[\u001b[0m\u001b[0;36m0\u001b[0m\u001b[0;34m]\u001b[0m\u001b[0;34m*\u001b[0m\u001b[0mevents\u001b[0m\u001b[0;34m.\u001b[0m\u001b[0mshape\u001b[0m\u001b[0;34m[\u001b[0m\u001b[0;36m1\u001b[0m\u001b[0;34m]\u001b[0m\u001b[0;34m)\u001b[0m\u001b[0;34m)\u001b[0m\u001b[0;34m\u001b[0m\u001b[0;34m\u001b[0m\u001b[0m\n\u001b[1;32m    214\u001b[0m         \u001b[0;32mif\u001b[0m \u001b[0merror_on_unknown\u001b[0m\u001b[0;34m:\u001b[0m\u001b[0;34m\u001b[0m\u001b[0;34m\u001b[0m\u001b[0m\n\u001b[0;32m--> 215\u001b[0;31m             events[:,:,pid_i] = np.asarray([PID2FLOAT_MAP[pid]\n\u001b[0m\u001b[1;32m    216\u001b[0m                                             for pid in pids]).reshape(events.shape[:2])\n\u001b[1;32m    217\u001b[0m         \u001b[0;32melse\u001b[0m\u001b[0;34m:\u001b[0m\u001b[0;34m\u001b[0m\u001b[0;34m\u001b[0m\u001b[0m\n",
      "\u001b[0;31mKeyError\u001b[0m: 0"
     ]
    }
   ],
   "source": [
    "# preprocess by centering jets and normalizing pts\n",
    "for x in X:\n",
    "    mask = x[:,0] > 0\n",
    "    yphi_avg = np.average(x[mask,1:3], weights=x[mask,0], axis=0)\n",
    "    x[mask,1:3] -= yphi_avg\n",
    "    x[mask,0] /= x[:,0].sum()\n",
    "\n",
    "print('done for loop')\n",
    "# handle particle id channel\n",
    "if use_pids:\n",
    "    remap_pids(X, pid_i=3)\n",
    "else:\n",
    "    X = X[:,:,:3]\n",
    "\n",
    "print('Finished preprocessing')"
   ]
  },
  {
   "cell_type": "code",
   "execution_count": null,
   "id": "366b2607-f8b0-4af7-a98f-c8071b57c796",
   "metadata": {},
   "outputs": [],
   "source": [
    "# do train/val/test split \n",
    "(X_train, X_val, X_test,\n",
    " Y_train, Y_val, Y_test) = data_split(X, Y, val=val, test=test)\n",
    "\n",
    "print('Done train/val/test split')\n",
    "print('Model summary:')\n",
    "\n",
    "# build architecture\n",
    "pfn = PFN(input_dim=X.shape[-1], Phi_sizes=Phi_sizes, F_sizes=F_sizes)\n",
    "\n",
    "# train model\n",
    "pfn.fit(X_train, Y_train,\n",
    "        epochs=num_epoch,\n",
    "        batch_size=batch_size,\n",
    "        validation_data=(X_val, Y_val),\n",
    "        verbose=1)\n",
    "\n",
    "# get predictions on test data\n",
    "preds = pfn.predict(X_test, batch_size=1000)\n",
    "\n",
    "# get ROC curve\n",
    "pfn_fp, pfn_tp, threshs = roc_curve(Y_test[:,1], preds[:,1])\n",
    "\n",
    "# get area under the ROC curve\n",
    "auc = roc_auc_score(Y_test[:,1], preds[:,1])\n",
    "print()\n",
    "print('PFN AUC:', auc)\n",
    "print()\n",
    "\n",
    "# get multiplicity and mass for comparison\n",
    "masses = np.asarray([ef.ms_from_p4s(ef.p4s_from_ptyphims(x).sum(axis=0)) for x in X])\n",
    "mults = np.asarray([np.count_nonzero(x[:,0]) for x in X])\n",
    "mass_fp, mass_tp, threshs = roc_curve(Y[:,1], -masses)\n",
    "mult_fp, mult_tp, threshs = roc_curve(Y[:,1], -mults)\n",
    "\n",
    "# some nicer plot settings \n",
    "plt.rcParams['figure.figsize'] = (4,4)\n",
    "plt.rcParams['font.family'] = 'serif'\n",
    "plt.rcParams['figure.autolayout'] = True\n",
    "\n",
    "# plot the ROC curves\n",
    "plt.plot(pfn_tp, 1-pfn_fp, '-', color='black', label='PFN')\n",
    "plt.plot(mass_tp, 1-mass_fp, '-', color='blue', label='Jet Mass')\n",
    "plt.plot(mult_tp, 1-mult_fp, '-', color='red', label='Multiplicity')\n",
    "\n",
    "# axes labels\n",
    "plt.xlabel('Quark Jet Efficiency')\n",
    "plt.ylabel('Gluon Jet Rejection')\n",
    "\n",
    "# axes limits\n",
    "plt.xlim(0, 1)\n",
    "plt.ylim(0, 1)\n",
    "\n",
    "# make legend and show plot\n",
    "plt.legend(loc='lower left', frameon=False)\n",
    "plt.show()"
   ]
  },
  {
   "cell_type": "code",
   "execution_count": null,
   "id": "a4b45066-c34d-4f9c-8e66-7718da4a5da8",
   "metadata": {},
   "outputs": [],
   "source": []
  }
 ],
 "metadata": {
  "kernelspec": {
   "display_name": "Python 3",
   "language": "python",
   "name": "python3"
  },
  "language_info": {
   "codemirror_mode": {
    "name": "ipython",
    "version": 3
   },
   "file_extension": ".py",
   "mimetype": "text/x-python",
   "name": "python",
   "nbconvert_exporter": "python",
   "pygments_lexer": "ipython3",
   "version": "3.8.5"
  }
 },
 "nbformat": 4,
 "nbformat_minor": 5
}

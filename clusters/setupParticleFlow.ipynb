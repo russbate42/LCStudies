{
 "cells": [
  {
   "cell_type": "markdown",
   "id": "20029ce6",
   "metadata": {},
   "source": [
    "# Energy Flow Notebook\n",
    "### Goal:\n",
    "The goal of this notebook is to simply set up the energyflow code such that we can copy out data into the same format and run a simple model\n",
    "### Implementation: \n",
    "For now just pull charged pion data, we have yet to add the neutral pion and shuffle them\n",
    "#### To Do:\n",
    "- Add neutral pion data in the same manner as charged pion and shuffle them\n",
    "\n",
    "- No idea as of yet how to incorporate the tracking information. Speculation is that this will be a separate network, and we will concatenate the results.\n",
    "  - Update on this: For now, try adding the track as just an extra point in the point cloud"
   ]
  },
  {
   "cell_type": "code",
   "execution_count": 38,
   "id": "32c45e88",
   "metadata": {},
   "outputs": [
    {
     "name": "stdout",
     "output_type": "stream",
     "text": [
      "Awkward Array Version: 1.2.2\n",
      "Uproot Version: 4.0.7\n"
     ]
    }
   ],
   "source": [
    "import numpy as np\n",
    "import matplotlib.pyplot as plt\n",
    "from matplotlib import cm\n",
    "from matplotlib.colors import Normalize\n",
    "import uproot as ur\n",
    "import awkward as ak\n",
    "import time as t\n",
    "import copy\n",
    "print(\"Awkward Array Version: \"+str(ak.__version__))\n",
    "print(\"Uproot Version: \"+str(ur.__version__))\n",
    "\n",
    "import energyflow as ef\n",
    "from energyflow.archs import EFN\n",
    "from energyflow.datasets import qg_jets\n",
    "from energyflow.utils import data_split, to_categorical\n",
    "\n",
    "from sklearn.metrics import roc_auc_score, roc_curve\n",
    "import tensorflow as tf"
   ]
  },
  {
   "cell_type": "markdown",
   "id": "659d08b1",
   "metadata": {},
   "source": [
    "#### TO DO: Make a nested git for utils and download the new version with graph_util"
   ]
  },
  {
   "cell_type": "code",
   "execution_count": null,
   "id": "bc46237e",
   "metadata": {},
   "outputs": [],
   "source": [
    "# import sys\n",
    "# sys.path.append('/home/russbate/UBCPionML/LCStudies')\n",
    "# from util import graph_util as gu"
   ]
  },
  {
   "cell_type": "code",
   "execution_count": 35,
   "id": "cfc64727",
   "metadata": {},
   "outputs": [],
   "source": [
    "def find_sampling_events(_ak_cluster_cell_ID, _cellGeoID, _cellGeoSampling, _filter):\n",
    "    ''' Inputs:\n",
    "    _ak_cluster_cell_ID: awkward array with nested arrays of all the cell geometry IDs\n",
    "    _cellGeoID: list of the cell IDs to find the index from, expects numpy format\n",
    "    _cellGeoSampling: same as _cellGeoID but the sampling layer\n",
    "    _filter: the numbered index of calorimetry layers\n",
    "    '''\n",
    "\n",
    "    # create unique list of sampling layers for every event\n",
    "    _event_layers = []\n",
    "    # list of event indices with one or more clusters in EMB1-3 or TileBar0-2\n",
    "    _barrel_events = []\n",
    "    \n",
    "    for _evt_idx in range(len(_ak_cluster_cell_ID)):\n",
    "        _cluster_cell_ID = ak_cluster_cell_ID[\"cluster_cell_ID\"][_evt_idx]\n",
    "\n",
    "        # create unique list of sampling layers for every cluster\n",
    "        _event_layers = []\n",
    "\n",
    "        for j in range(len(_cluster_cell_ID)):\n",
    "            ''' loop through each cluster of the event '''\n",
    "\n",
    "            for l in range(len(_cluster_cell_ID[j])):\n",
    "                ''' loop through the cluster elements searching for new layer numbers'''\n",
    "                # grab the first cell_geo_ID, l-th element of the j-th cluster\n",
    "                _cellGeoTag = _cluster_cell_ID[j][l]\n",
    "\n",
    "                # find the index of the cell_geo_ID, use [0][0] becuase of np.where return\n",
    "                _cellGeo_idx = np.argwhere(np.asarray(_cellGeoID == _cellGeoTag))\n",
    "\n",
    "                # find the sampling layer based on the index\n",
    "                _this_layer = _cellGeoSampling[_cellGeo_idx]\n",
    "\n",
    "                if not np.isin(_this_layer, _event_layers):\n",
    "                    _event_layers.append(_this_layer)      \n",
    "\n",
    "        # add event to list if one is in the barrel layer\n",
    "        if np.any(np.isin(_event_layers, _filter)):\n",
    "            _barrel_events.append(_evt_idx)\n",
    "\n",
    "    return np.array(_barrel_events)"
   ]
  },
  {
   "cell_type": "markdown",
   "id": "d2c8dcf6",
   "metadata": {},
   "source": [
    "#### Events"
   ]
  },
  {
   "cell_type": "code",
   "execution_count": 2,
   "id": "3e089c1d",
   "metadata": {},
   "outputs": [],
   "source": [
    "cPionEvents = '/fast_scratch/atlas_images/v01-45/pipm/'\n",
    "nPionEvents = '/fast_scratch/atlas_images/v01-45/pi0/'"
   ]
  },
  {
   "cell_type": "code",
   "execution_count": 3,
   "id": "e01451ee",
   "metadata": {},
   "outputs": [],
   "source": [
    "cPion_502 = ur.open(cPionEvents+'user.angerami.24559744.OutputStream._000502.root')\n",
    "nPion_502 = ur.open(nPionEvents+'user.angerami.24559740.OutputStream._000502.root')"
   ]
  },
  {
   "cell_type": "code",
   "execution_count": 4,
   "id": "b9a36967",
   "metadata": {},
   "outputs": [],
   "source": [
    "cPionEvents = cPion_502[\"EventTree\"]\n",
    "nPionEvents = nPion_502[\"EventTree\"]"
   ]
  },
  {
   "cell_type": "markdown",
   "id": "5ee5ca92",
   "metadata": {},
   "source": [
    "#### Cell Geometry"
   ]
  },
  {
   "cell_type": "code",
   "execution_count": 5,
   "id": "bc70c8f4",
   "metadata": {},
   "outputs": [],
   "source": [
    "cellGeoTree = cPion_502[\"CellGeo\"]"
   ]
  },
  {
   "cell_type": "markdown",
   "id": "92e8205a",
   "metadata": {},
   "source": [
    "### Load & Show Trees \n",
    "#### Events - Print particle ID for reference"
   ]
  },
  {
   "cell_type": "code",
   "execution_count": 12,
   "id": "34a93d6e",
   "metadata": {},
   "outputs": [
    {
     "name": "stdout",
     "output_type": "stream",
     "text": [
      "name                                       | typename                 | interpretation                                              \n",
      "-------------------------------------------+--------------------------+-------------------------------------------------------------\n",
      "runNumber                                  | int32_t                  | AsDtype('>i4')\n",
      "eventNumber                                | int64_t                  | AsDtype('>i8')\n",
      "lumiBlock                                  | int32_t                  | AsDtype('>i4')\n",
      "coreFlags                                  | uint32_t                 | AsDtype('>u4')\n",
      "mcEventNumber                              | int32_t                  | AsDtype('>i4')\n",
      "mcChannelNumber                            | int32_t                  | AsDtype('>i4')\n",
      "mcEventWeight                              | float                    | AsDtype('>f4')\n",
      "nTruthPart                                 | int32_t                  | AsDtype('>i4')\n",
      "G4PreCalo_n_EM                             | int32_t                  | AsDtype('>i4')\n",
      "G4PreCalo_E_EM                             | float                    | AsDtype('>f4')\n",
      "G4PreCalo_n_Had                            | int32_t                  | AsDtype('>i4')\n",
      "G4PreCalo_E_Had                            | float                    | AsDtype('>f4')\n",
      "truthVertexX                               | float                    | AsDtype('>f4')\n",
      "truthVertexY                               | float                    | AsDtype('>f4')\n",
      "truthVertexZ                               | float                    | AsDtype('>f4')\n",
      "truthPartPdgId                             | std::vector<int32_t>     | AsJagged(AsDtype('>i4'), header_bytes=10)\n",
      "truthPartStatus                            | std::vector<int32_t>     | AsJagged(AsDtype('>i4'), header_bytes=10)\n",
      "truthPartBarcode                           | std::vector<int32_t>     | AsJagged(AsDtype('>i4'), header_bytes=10)\n",
      "truthPartPt                                | std::vector<float>       | AsJagged(AsDtype('>f4'), header_bytes=10)\n",
      "truthPartE                                 | std::vector<float>       | AsJagged(AsDtype('>f4'), header_bytes=10)\n",
      "truthPartMass                              | std::vector<float>       | AsJagged(AsDtype('>f4'), header_bytes=10)\n",
      "truthPartEta                               | std::vector<float>       | AsJagged(AsDtype('>f4'), header_bytes=10)\n",
      "truthPartPhi                               | std::vector<float>       | AsJagged(AsDtype('>f4'), header_bytes=10)\n",
      "nTrack                                     | int32_t                  | AsDtype('>i4')\n",
      "trackPt                                    | std::vector<float>       | AsJagged(AsDtype('>f4'), header_bytes=10)\n",
      "trackP                                     | std::vector<float>       | AsJagged(AsDtype('>f4'), header_bytes=10)\n",
      "trackMass                                  | std::vector<float>       | AsJagged(AsDtype('>f4'), header_bytes=10)\n",
      "trackEta                                   | std::vector<float>       | AsJagged(AsDtype('>f4'), header_bytes=10)\n",
      "trackPhi                                   | std::vector<float>       | AsJagged(AsDtype('>f4'), header_bytes=10)\n",
      "trackNumberOfPixelHits                     | std::vector<int32_t>     | AsJagged(AsDtype('>i4'), header_bytes=10)\n",
      "trackNumberOfSCTHits                       | std::vector<int32_t>     | AsJagged(AsDtype('>i4'), header_bytes=10)\n",
      "trackNumberOfPixelDeadSensors              | std::vector<int32_t>     | AsJagged(AsDtype('>i4'), header_bytes=10)\n",
      "trackNumberOfSCTDeadSensors                | std::vector<int32_t>     | AsJagged(AsDtype('>i4'), header_bytes=10)\n",
      "trackNumberOfPixelSharedHits               | std::vector<int32_t>     | AsJagged(AsDtype('>i4'), header_bytes=10)\n",
      "trackNumberOfSCTSharedHits                 | std::vector<int32_t>     | AsJagged(AsDtype('>i4'), header_bytes=10)\n",
      "trackNumberOfPixelHoles                    | std::vector<int32_t>     | AsJagged(AsDtype('>i4'), header_bytes=10)\n",
      "trackNumberOfSCTHoles                      | std::vector<int32_t>     | AsJagged(AsDtype('>i4'), header_bytes=10)\n",
      "trackNumberOfInnermostPixelLayerHits       | std::vector<int32_t>     | AsJagged(AsDtype('>i4'), header_bytes=10)\n",
      "trackNumberOfNextToInnermostPixelLayerHits | std::vector<int32_t>     | AsJagged(AsDtype('>i4'), header_bytes=10)\n",
      "trackExpectInnermostPixelLayerHit          | std::vector<int32_t>     | AsJagged(AsDtype('>i4'), header_bytes=10)\n",
      "trackExpectNextToInnermostPixelLayerHit    | std::vector<int32_t>     | AsJagged(AsDtype('>i4'), header_bytes=10)\n",
      "trackNumberOfTRTHits                       | std::vector<int32_t>     | AsJagged(AsDtype('>i4'), header_bytes=10)\n",
      "trackNumberOfTRTOutliers                   | std::vector<int32_t>     | AsJagged(AsDtype('>i4'), header_bytes=10)\n",
      "trackChiSquared                            | std::vector<float>       | AsJagged(AsDtype('>f4'), header_bytes=10)\n",
      "trackNumberDOF                             | std::vector<int32_t>     | AsJagged(AsDtype('>i4'), header_bytes=10)\n",
      "trackD0                                    | std::vector<float>       | AsJagged(AsDtype('>f4'), header_bytes=10)\n",
      "trackZ0                                    | std::vector<float>       | AsJagged(AsDtype('>f4'), header_bytes=10)\n",
      "trackEta_PreSamplerB                       | std::vector<float>       | AsJagged(AsDtype('>f4'), header_bytes=10)\n",
      "trackPhi_PreSamplerB                       | std::vector<float>       | AsJagged(AsDtype('>f4'), header_bytes=10)\n",
      "trackEta_PreSamplerE                       | std::vector<float>       | AsJagged(AsDtype('>f4'), header_bytes=10)\n",
      "trackPhi_PreSamplerE                       | std::vector<float>       | AsJagged(AsDtype('>f4'), header_bytes=10)\n",
      "trackEta_EMB1                              | std::vector<float>       | AsJagged(AsDtype('>f4'), header_bytes=10)\n",
      "trackPhi_EMB1                              | std::vector<float>       | AsJagged(AsDtype('>f4'), header_bytes=10)\n",
      "trackEta_EMB2                              | std::vector<float>       | AsJagged(AsDtype('>f4'), header_bytes=10)\n",
      "trackPhi_EMB2                              | std::vector<float>       | AsJagged(AsDtype('>f4'), header_bytes=10)\n",
      "trackEta_EMB3                              | std::vector<float>       | AsJagged(AsDtype('>f4'), header_bytes=10)\n",
      "trackPhi_EMB3                              | std::vector<float>       | AsJagged(AsDtype('>f4'), header_bytes=10)\n",
      "trackEta_EME1                              | std::vector<float>       | AsJagged(AsDtype('>f4'), header_bytes=10)\n",
      "trackPhi_EME1                              | std::vector<float>       | AsJagged(AsDtype('>f4'), header_bytes=10)\n",
      "trackEta_EME2                              | std::vector<float>       | AsJagged(AsDtype('>f4'), header_bytes=10)\n",
      "trackPhi_EME2                              | std::vector<float>       | AsJagged(AsDtype('>f4'), header_bytes=10)\n",
      "trackEta_EME3                              | std::vector<float>       | AsJagged(AsDtype('>f4'), header_bytes=10)\n",
      "trackPhi_EME3                              | std::vector<float>       | AsJagged(AsDtype('>f4'), header_bytes=10)\n",
      "trackEta_HEC0                              | std::vector<float>       | AsJagged(AsDtype('>f4'), header_bytes=10)\n",
      "trackPhi_HEC0                              | std::vector<float>       | AsJagged(AsDtype('>f4'), header_bytes=10)\n",
      "trackEta_HEC1                              | std::vector<float>       | AsJagged(AsDtype('>f4'), header_bytes=10)\n",
      "trackPhi_HEC1                              | std::vector<float>       | AsJagged(AsDtype('>f4'), header_bytes=10)\n",
      "trackEta_HEC2                              | std::vector<float>       | AsJagged(AsDtype('>f4'), header_bytes=10)\n",
      "trackPhi_HEC2                              | std::vector<float>       | AsJagged(AsDtype('>f4'), header_bytes=10)\n",
      "trackEta_HEC3                              | std::vector<float>       | AsJagged(AsDtype('>f4'), header_bytes=10)\n",
      "trackPhi_HEC3                              | std::vector<float>       | AsJagged(AsDtype('>f4'), header_bytes=10)\n",
      "trackEta_TileBar0                          | std::vector<float>       | AsJagged(AsDtype('>f4'), header_bytes=10)\n",
      "trackPhi_TileBar0                          | std::vector<float>       | AsJagged(AsDtype('>f4'), header_bytes=10)\n",
      "trackEta_TileBar1                          | std::vector<float>       | AsJagged(AsDtype('>f4'), header_bytes=10)\n",
      "trackPhi_TileBar1                          | std::vector<float>       | AsJagged(AsDtype('>f4'), header_bytes=10)\n",
      "trackEta_TileBar2                          | std::vector<float>       | AsJagged(AsDtype('>f4'), header_bytes=10)\n",
      "trackPhi_TileBar2                          | std::vector<float>       | AsJagged(AsDtype('>f4'), header_bytes=10)\n",
      "trackEta_TileGap1                          | std::vector<float>       | AsJagged(AsDtype('>f4'), header_bytes=10)\n",
      "trackPhi_TileGap1                          | std::vector<float>       | AsJagged(AsDtype('>f4'), header_bytes=10)\n",
      "trackEta_TileGap2                          | std::vector<float>       | AsJagged(AsDtype('>f4'), header_bytes=10)\n",
      "trackPhi_TileGap2                          | std::vector<float>       | AsJagged(AsDtype('>f4'), header_bytes=10)\n",
      "trackEta_TileGap3                          | std::vector<float>       | AsJagged(AsDtype('>f4'), header_bytes=10)\n",
      "trackPhi_TileGap3                          | std::vector<float>       | AsJagged(AsDtype('>f4'), header_bytes=10)\n",
      "trackEta_TileExt0                          | std::vector<float>       | AsJagged(AsDtype('>f4'), header_bytes=10)\n",
      "trackPhi_TileExt0                          | std::vector<float>       | AsJagged(AsDtype('>f4'), header_bytes=10)\n",
      "trackEta_TileExt1                          | std::vector<float>       | AsJagged(AsDtype('>f4'), header_bytes=10)\n",
      "trackPhi_TileExt1                          | std::vector<float>       | AsJagged(AsDtype('>f4'), header_bytes=10)\n",
      "trackEta_TileExt2                          | std::vector<float>       | AsJagged(AsDtype('>f4'), header_bytes=10)\n",
      "trackPhi_TileExt2                          | std::vector<float>       | AsJagged(AsDtype('>f4'), header_bytes=10)\n",
      "AntiKt4EMTopoJetsPt                        | std::vector<float>       | AsJagged(AsDtype('>f4'), header_bytes=10)\n",
      "AntiKt4EMTopoJetsEta                       | std::vector<float>       | AsJagged(AsDtype('>f4'), header_bytes=10)\n",
      "AntiKt4EMTopoJetsPhi                       | std::vector<float>       | AsJagged(AsDtype('>f4'), header_bytes=10)\n",
      "AntiKt4EMTopoJetsE                         | std::vector<float>       | AsJagged(AsDtype('>f4'), header_bytes=10)\n",
      "AntiKt4LCTopoJetsPt                        | std::vector<float>       | AsJagged(AsDtype('>f4'), header_bytes=10)\n",
      "AntiKt4LCTopoJetsEta                       | std::vector<float>       | AsJagged(AsDtype('>f4'), header_bytes=10)\n",
      "AntiKt4LCTopoJetsPhi                       | std::vector<float>       | AsJagged(AsDtype('>f4'), header_bytes=10)\n",
      "AntiKt4LCTopoJetsE                         | std::vector<float>       | AsJagged(AsDtype('>f4'), header_bytes=10)\n",
      "AntiKt4TruthJetsPt                         | std::vector<float>       | AsJagged(AsDtype('>f4'), header_bytes=10)\n",
      "AntiKt4TruthJetsEta                        | std::vector<float>       | AsJagged(AsDtype('>f4'), header_bytes=10)\n",
      "AntiKt4TruthJetsPhi                        | std::vector<float>       | AsJagged(AsDtype('>f4'), header_bytes=10)\n",
      "AntiKt4TruthJetsE                          | std::vector<float>       | AsJagged(AsDtype('>f4'), header_bytes=10)\n",
      "AntiKt4TruthJetsFlavor                     | std::vector<int32_t>     | AsJagged(AsDtype('>i4'), header_bytes=10)\n",
      "nCluster                                   | int32_t                  | AsDtype('>i4')\n",
      "cluster_E                                  | std::vector<float>       | AsJagged(AsDtype('>f4'), header_bytes=10)\n",
      "cluster_E_LCCalib                          | std::vector<float>       | AsJagged(AsDtype('>f4'), header_bytes=10)\n",
      "cluster_Pt                                 | std::vector<float>       | AsJagged(AsDtype('>f4'), header_bytes=10)\n",
      "cluster_Eta                                | std::vector<float>       | AsJagged(AsDtype('>f4'), header_bytes=10)\n",
      "cluster_Phi                                | std::vector<float>       | AsJagged(AsDtype('>f4'), header_bytes=10)\n",
      "cluster_nCells                             | std::vector<int32_t>     | AsJagged(AsDtype('>i4'), header_bytes=10)\n",
      "cluster_ENG_CALIB_TOT                      | std::vector<float>       | AsJagged(AsDtype('>f4'), header_bytes=10)\n",
      "cluster_ENG_CALIB_OUT_T                    | std::vector<float>       | AsJagged(AsDtype('>f4'), header_bytes=10)\n",
      "cluster_ENG_CALIB_DEAD_TOT                 | std::vector<float>       | AsJagged(AsDtype('>f4'), header_bytes=10)\n",
      "cluster_EM_PROBABILITY                     | std::vector<float>       | AsJagged(AsDtype('>f4'), header_bytes=10)\n",
      "cluster_HAD_WEIGHT                         | std::vector<float>       | AsJagged(AsDtype('>f4'), header_bytes=10)\n",
      "cluster_OOC_WEIGHT                         | std::vector<float>       | AsJagged(AsDtype('>f4'), header_bytes=10)\n",
      "cluster_DM_WEIGHT                          | std::vector<float>       | AsJagged(AsDtype('>f4'), header_bytes=10)\n",
      "cluster_CENTER_MAG                         | std::vector<float>       | AsJagged(AsDtype('>f4'), header_bytes=10)\n",
      "cluster_FIRST_ENG_DENS                     | std::vector<float>       | AsJagged(AsDtype('>f4'), header_bytes=10)\n",
      "cluster_CENTER_LAMBDA                      | std::vector<float>       | AsJagged(AsDtype('>f4'), header_bytes=10)\n",
      "cluster_ISOLATION                          | std::vector<float>       | AsJagged(AsDtype('>f4'), header_bytes=10)\n",
      "cluster_ENERGY_DigiHSTruth                 | std::vector<float>       | AsJagged(AsDtype('>f4'), header_bytes=10)\n",
      "cluster_cell_ID                            | std::vector<std::vect... | AsObjects(AsVector(True, AsVector(False, dtype('>u8'))))\n",
      "cluster_cell_E                             | std::vector<std::vect... | AsObjects(AsVector(True, AsVector(False, dtype('>f4'))))\n",
      "cluster_hitsTruthIndex                     | std::vector<std::vect... | AsObjects(AsVector(True, AsVector(False, dtype('>i4'))))\n",
      "cluster_hitsTruthE                         | std::vector<std::vect... | AsObjects(AsVector(True, AsVector(False, dtype('>f4'))))\n"
     ]
    }
   ],
   "source": [
    "# Show keys\n",
    "cPionEvents.show(name_width=42,\n",
    "                interpretation_width=60)\n",
    "\n",
    "## Event information\n",
    "## Charged Pions\n",
    "ak_cluster_nCells = cPionEvents.arrays(filter_name=\"cluster_nCells\")\n",
    "ak_cluster_cell_ID = cPionEvents.arrays(filter_name=\"cluster_cell_ID\")\n",
    "ak_cluster_cell_E = cPionEvents.arrays(filter_name=\"cluster_cell_E\")\n",
    "nCluster = cPionEvents.arrays(library='np')[\"nCluster\"]\n",
    "eventNumber = cPionEvents.arrays(library='np')[\"eventNumber\"]\n",
    "nTrack = cPionEvents.arrays(library='np')[\"nTrack\"]\n",
    "cPionPart = cPionEvents.arrays(library='np')[\"nTruthPart\"]\n",
    "cPionId = cPionEvents.arrays(library='np')[\"truthPartPdgId\"]\n",
    "ak_cluster_Eta = cPionEvents.arrays(filter_name=\"cluster_Eta\")\n",
    "ak_cluster_Phi = cPionEvents.arrays(filter_name=\"cluster_Phi\")"
   ]
  },
  {
   "cell_type": "code",
   "execution_count": 39,
   "id": "f63dfb0e",
   "metadata": {},
   "outputs": [
    {
     "name": "stdout",
     "output_type": "stream",
     "text": [
      "If single particle gun, then this should all be ones\n",
      "Charged Pions: \n",
      "[1 1 1 1 1 1 1 1 1 1 1 1 1 1 1 1 1 1 1 1 1 1 1 1 1 1 1 1 1 1 1 1 1 1 1 1 1\n",
      " 1 1 1 1 1 1 1 1 1 1 1 1 1]\n",
      "Neutral Pions: \n",
      "[3 3 3 3 3 3 3 3 3 4 3 3 3 3 3 3 3 3 3 3 3 3 3 3 3 3 3 3 3 3 3 3 3 3 3 3 3\n",
      " 3 3 3 3 3 3 3 3 3 3 3 3 3]\n",
      ".. pew pew ..\n",
      "\n",
      "Check for particle data group identification of pi plus or pi minus\n",
      "[array([-211], dtype=int32) array([211], dtype=int32)\n",
      " array([211], dtype=int32) array([211], dtype=int32)\n",
      " array([-211], dtype=int32)]\n",
      "\n",
      "Check for particle data group identification of pi0\n",
      "[array([111,  22,  22], dtype=int32) array([111,  22,  22], dtype=int32)\n",
      " array([111,  22,  22], dtype=int32) array([111,  22,  22], dtype=int32)\n",
      " array([111,  22,  22], dtype=int32)]\n"
     ]
    }
   ],
   "source": [
    "## Neutral Pions\n",
    "nPionPart = nPionEvents.arrays(library='np')[\"nTruthPart\"]\n",
    "nPionId = nPionEvents.arrays(library='np')[\"truthPartPdgId\"]\n",
    "\n",
    "print(\"If single particle gun, then this should all be ones\")\n",
    "print(\"Charged Pions: \")\n",
    "print(cPionPart[0:50])\n",
    "print(\"Neutral Pions: \")\n",
    "print(nPionPart[0:50]);print('.. pew pew ..'); print()\n",
    "\n",
    "print(\"Check for particle data group identification of pi plus or pi minus\")\n",
    "print(cPionId[0:5]);print()\n",
    "print(\"Check for particle data group identification of pi0\")\n",
    "print(nPionId[0:5])"
   ]
  },
  {
   "cell_type": "markdown",
   "id": "7a766e5d",
   "metadata": {},
   "source": [
    "Notes: Clearly something is up here that we need to investigate further."
   ]
  },
  {
   "cell_type": "markdown",
   "id": "deda8532",
   "metadata": {},
   "source": [
    "#### Cell Geometry"
   ]
  },
  {
   "cell_type": "code",
   "execution_count": 13,
   "id": "730f77f1",
   "metadata": {},
   "outputs": [
    {
     "name": "stdout",
     "output_type": "stream",
     "text": [
      "name                                       | typename                 | interpretation                                    \n",
      "-------------------------------------------+--------------------------+---------------------------------------------------\n",
      "cell_geo_ID                                | std::vector<uint64_t>    | AsJagged(AsDtype('>u8'), header_bytes=10)\n",
      "cell_geo_sampling                          | std::vector<uint16_t>    | AsJagged(AsDtype('>u2'), header_bytes=10)\n",
      "cell_geo_eta                               | std::vector<float>       | AsJagged(AsDtype('>f4'), header_bytes=10)\n",
      "cell_geo_phi                               | std::vector<float>       | AsJagged(AsDtype('>f4'), header_bytes=10)\n",
      "cell_geo_rPerp                             | std::vector<float>       | AsJagged(AsDtype('>f4'), header_bytes=10)\n",
      "cell_geo_deta                              | std::vector<float>       | AsJagged(AsDtype('>f4'), header_bytes=10)\n",
      "cell_geo_dphi                              | std::vector<float>       | AsJagged(AsDtype('>f4'), header_bytes=10)\n",
      "cell_geo_volume                            | std::vector<float>       | AsJagged(AsDtype('>f4'), header_bytes=10)\n",
      "cell_geo_sigma                             | std::vector<float>       | AsJagged(AsDtype('>f4'), header_bytes=10)\n"
     ]
    }
   ],
   "source": [
    "cellGeoTree.show(name_width=42,\n",
    "                interpretation_width=50)"
   ]
  },
  {
   "cell_type": "code",
   "execution_count": 23,
   "id": "8bb4f4ca",
   "metadata": {},
   "outputs": [],
   "source": [
    "# Geometry information\n",
    "cell_geo_ID = cellGeoTree.arrays(filter_name='cell_geo_ID')[0][\"cell_geo_ID\"].to_numpy()\n",
    "cell_geo_eta = cellGeoTree.arrays(filter_name='cell_geo_eta')[0][\"cell_geo_eta\"].to_numpy()\n",
    "cell_geo_phi = cellGeoTree.arrays(filter_name='cell_geo_phi')[0][\"cell_geo_phi\"].to_numpy()\n",
    "cell_geo_rPerp = cellGeoTree.arrays(filter_name='cell_geo_rPerp')[0][\"cell_geo_rPerp\"].to_numpy()\n",
    "cell_geo_deta = cellGeoTree.arrays(filter_name='cell_geo_deta')[0][\"cell_geo_deta\"].to_numpy()\n",
    "cell_geo_dphi = cellGeoTree.arrays(filter_name='cell_geo_dphi')[0][\"cell_geo_dphi\"].to_numpy()\n",
    "cell_geo_sampling = cellGeoTree.arrays(filter_name='cell_geo_sampling')[0][\"cell_geo_sampling\"].to_numpy()"
   ]
  },
  {
   "cell_type": "markdown",
   "id": "4791fca9",
   "metadata": {},
   "source": [
    "### Find Barrel Events"
   ]
  },
  {
   "cell_type": "code",
   "execution_count": 36,
   "id": "389a8275",
   "metadata": {},
   "outputs": [
    {
     "name": "stdout",
     "output_type": "stream",
     "text": [
      "[ 0  2  3  6  7 11 14 20 22 26]\n"
     ]
    }
   ],
   "source": [
    "## Find these events for neutral pions\n",
    "barrel_filter = np.array([1,2,3,12,13,14])\n",
    "\n",
    "barrel_events = find_sampling_events(_ak_cluster_cell_ID = ak_cluster_cell_ID,\n",
    "                                     _cellGeoID = cell_geo_ID, _cellGeoSampling = cell_geo_sampling,\n",
    "                                     _filter = barrel_filter)\n",
    "print(barrel_events[0:10])"
   ]
  },
  {
   "cell_type": "code",
   "execution_count": null,
   "id": "4bcafc44",
   "metadata": {},
   "outputs": [],
   "source": []
  },
  {
   "cell_type": "markdown",
   "id": "fd53c633",
   "metadata": {},
   "source": [
    "### Create labels for neutral vs charged pions\n",
    "#### TO DO: Investigate 'one hot' data representation for classifiers"
   ]
  },
  {
   "cell_type": "code",
   "execution_count": null,
   "id": "cf18bd1e",
   "metadata": {},
   "outputs": [],
   "source": []
  },
  {
   "cell_type": "markdown",
   "id": "a3a4fc1f",
   "metadata": {},
   "source": [
    "### Shuffle data points"
   ]
  },
  {
   "cell_type": "code",
   "execution_count": null,
   "id": "c9da6587",
   "metadata": {},
   "outputs": [],
   "source": []
  },
  {
   "cell_type": "code",
   "execution_count": null,
   "id": "3464d11a",
   "metadata": {},
   "outputs": [],
   "source": []
  }
 ],
 "metadata": {
  "kernelspec": {
   "display_name": "Python 3",
   "language": "python",
   "name": "python3"
  },
  "language_info": {
   "codemirror_mode": {
    "name": "ipython",
    "version": 3
   },
   "file_extension": ".py",
   "mimetype": "text/x-python",
   "name": "python",
   "nbconvert_exporter": "python",
   "pygments_lexer": "ipython3",
   "version": "3.8.5"
  }
 },
 "nbformat": 4,
 "nbformat_minor": 5
}

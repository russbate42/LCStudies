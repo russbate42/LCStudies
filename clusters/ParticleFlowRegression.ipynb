{
 "cells": [
  {
   "cell_type": "markdown",
   "id": "3f449361-9b85-4673-904e-f283541bd7b3",
   "metadata": {},
   "source": [
    "# Particle Flow Regression Notebook\n",
    "### Goal:\n",
    "The goal of this notebook is to set up a baseline energyflow regression from data files created in ClustersAndTracks.ipynb\n",
    "\n",
    "Different data sets explored:\n",
    "- [x] Single track data with only tracks\n",
    "- [x] Combined track and cluster\n",
    "- [x] Clusters with single tracks which are high energy\n",
    "- [ ] Multiple Clusters\n",
    "- [ ] Multiple track\n",
    "\n",
    "### Implementation:\n",
    "Load X array of data from .npy file and target Y\n",
    "Normalize data, note all normalization is done in the notebook here!\n",
    "Perform regression on this data-set\n",
    "\n",
    "#### To Do:\n",
    "- [ ] Add neutral pion data in the same manner as charged pion and shuffle them\n",
    "- [x] Adding track information as extra point in the point cloud\n",
    "- [x] Track only regression on Pt and truthPartPt\n",
    "- [x] Cluster Only Regression\n",
    "- [x] Combined cluster and track regression"
   ]
  },
  {
   "cell_type": "code",
   "execution_count": 1,
   "id": "caddefdd-1560-45d5-a833-20e596f19bc7",
   "metadata": {},
   "outputs": [
    {
     "name": "stdout",
     "output_type": "stream",
     "text": [
      "Awkward version: 1.2.2\n",
      "Uproot Version: 4.0.7\n"
     ]
    }
   ],
   "source": [
    "import numpy as np\n",
    "import matplotlib.pyplot as plt\n",
    "from matplotlib import cm\n",
    "from matplotlib.colors import Normalize\n",
    "from matplotlib.colors import LogNorm\n",
    "import uproot as ur\n",
    "import awkward as ak\n",
    "import time as t\n",
    "import copy\n",
    "import scipy.constants as spc\n",
    "print(\"Awkward version: \"+str(ak.__version__))\n",
    "print(\"Uproot Version: \"+str(ur.__version__))\n",
    "\n",
    "import sys\n",
    "sys.path.append('/home/russbate/MLPionCollaboration/LCStudies/')\n",
    "from util import resolution_util as ru\n",
    "from util import plot_util as pu"
   ]
  },
  {
   "cell_type": "code",
   "execution_count": 2,
   "id": "8e00c8ce-ea9c-4686-96b7-2918feb64fc2",
   "metadata": {},
   "outputs": [],
   "source": [
    "import os\n",
    "os.environ['CUDA_VISIBLE_DEVICES'] = \"4\"\n",
    "os.environ['TF_FORCE_GPU_ALLOW_GROWTH'] = 'true'"
   ]
  },
  {
   "cell_type": "code",
   "execution_count": 3,
   "id": "622da157-b7e5-4cb1-bc85-b420b0296aba",
   "metadata": {},
   "outputs": [],
   "source": [
    "import tensorflow as tf"
   ]
  },
  {
   "cell_type": "code",
   "execution_count": 4,
   "id": "5c15bf0b-c910-4f78-b5b0-0ff418cff0ea",
   "metadata": {},
   "outputs": [],
   "source": [
    "# energyflow imports\n",
    "import energyflow as ef\n",
    "from energyflow.archs import PFN"
   ]
  },
  {
   "cell_type": "markdown",
   "id": "9358cdeb-49b4-447d-bf1a-5b6bef8f0ace",
   "metadata": {},
   "source": [
    "### Functions"
   ]
  },
  {
   "cell_type": "code",
   "execution_count": 205,
   "id": "4eb2abfa-6295-47c1-9084-ecceb416bf4f",
   "metadata": {
    "tags": []
   },
   "outputs": [],
   "source": [
    "def tvt_num(_data, _tvt=(75, 10, 15)):\n",
    "    ''' Function designed to output appropriate numbers for traning validation and testing given\n",
    "    a variable length input. TVT expressed as ratios and do not need to add to 100. '''\n",
    "    _tot = len(_data)\n",
    "    _train, _val, _test = _tvt\n",
    "    _tvt_sum = _train + _val + _test\n",
    "    \n",
    "    _train_rtrn = round(_train*_tot/_tvt_sum)\n",
    "    _val_rtrn = round(_val*_tot/_tvt_sum)\n",
    "    _test_rtrn = _tot - _train_rtrn - _val_rtrn\n",
    "    \n",
    "    return _train_rtrn, _val_rtrn, _test_rtrn\n",
    "\n",
    "def normalize_input1d(arr, mask):\n",
    "    len_arr = arr.shape[0]\n",
    "    mean = np.repeat(np.mean(arr, where=mask), len_arr)\n",
    "    std_dev = np.repeat(np.std(arr, where=mask), len_arr)\n",
    "    norm_arr = np.subtract(arr, mean, out=arr, where=mask)\n",
    "    std_mask = np.logical_and(std_dev!=0, mask)\n",
    "    norm_arr = np.divide(norm_arr, std_dev, out=norm_arr, where=std_mask)\n",
    "    return norm_arr\n",
    "\n",
    "def normalize_input2d(arr, mask):\n",
    "    ''' Truth value is where to perform the operation, exclude False vals.\n",
    "    returns: Array with the shape of arr with normalization carried out with mask '''\n",
    "    len_ax1 = arr.shape[1]\n",
    "    mean = np.tile(np.mean(arr, axis=1, where=mask), (len_ax1,1)).transpose()\n",
    "    std_dev = np.tile(np.std(arr, axis=1, where=mask), (len_ax1,1)).transpose()\n",
    "    norm_arr = np.subtract(arr, mean, out=arr, where=mask)\n",
    "    std_mask = np.logical_and(std_dev != 0, mask)\n",
    "    norm_arr = np.divide(norm_arr, std_dev, out=norm_arr, where=std_mask)\n",
    "    return norm_arr"
   ]
  },
  {
   "cell_type": "code",
   "execution_count": 202,
   "id": "9d08553b-78d8-4ea1-aad1-1f9e487676f1",
   "metadata": {},
   "outputs": [
    {
     "name": "stdout",
     "output_type": "stream",
     "text": [
      "[[ 0.  1.  2.  3.  4.  5.]\n",
      " [ 0.  1.  2.  3.  4.  5.]\n",
      " [ 0.  1.  2.  3.  4.  5.]\n",
      " [-3. -2. -1.  0.  1.  2.]\n",
      " [-3. -2. -1.  0.  1.  2.]\n",
      " [ 1.  1.  1.  1.  1.  1.]]\n",
      "\n",
      "[[False  True  True  True  True  True]\n",
      " [False  True  True  True  True  True]\n",
      " [False  True  True  True  True  True]\n",
      " [ True  True  True False  True  True]\n",
      " [ True  True  True False  True  True]\n",
      " [ True  True  True  True  True  True]]\n",
      "1.4142135623730951\n",
      "1.854723699099141\n",
      "\n",
      "final array!\n",
      "[[ 0.         -1.41421356 -0.70710678  0.          0.70710678  1.41421356]\n",
      " [ 0.         -1.41421356 -0.70710678  0.          0.70710678  1.41421356]\n",
      " [ 0.         -1.41421356 -0.70710678  0.          0.70710678  1.41421356]\n",
      " [-1.29399328 -0.75482941 -0.21566555  0.          0.86266219  1.40182605]\n",
      " [-1.29399328 -0.75482941 -0.21566555  0.          0.86266219  1.40182605]\n",
      " [ 0.          0.          0.          0.          0.          0.        ]]\n"
     ]
    }
   ],
   "source": [
    "test_arr1 = np.tile(np.arange(6), (3,1)).astype(np.float64)\n",
    "test_arr2 = np.tile(np.arange(-3,3,1), (2,1)).astype(np.float64)\n",
    "test_arr3 =np.ones((1,6))\n",
    "test_arr = np.concatenate((test_arr1, test_arr2, test_arr3), axis=0)\n",
    "\n",
    "print(test_arr);print()\n",
    "\n",
    "test_mask = test_arr != 0\n",
    "print(test_mask)\n",
    "\n",
    "test_narray = normalize_input2d(test_arr, test_mask)\n",
    "print(np.std(np.arange(1,6)))\n",
    "print(np.std(np.array([-3,-2,-1,1,2])));print()\n",
    "print('final array!')\n",
    "print(test_narray)"
   ]
  },
  {
   "cell_type": "markdown",
   "id": "cbb1d330-2a71-4523-8f41-e8e2dd41b5a7",
   "metadata": {},
   "source": [
    "## Load Data"
   ]
  },
  {
   "cell_type": "markdown",
   "id": "1441ff4a-17d9-4379-9f54-291d4832fc9c",
   "metadata": {},
   "source": [
    "### Data Including Tracks\n",
    "### [Eta, Phi, Energy, Layer, Track Flag. cluster_ENG_CALIB_TOT, truthPartE]"
   ]
  },
  {
   "cell_type": "code",
   "execution_count": 6,
   "id": "3cc6d1e6-c435-4484-9f17-44c5cbc1972f",
   "metadata": {},
   "outputs": [
    {
     "name": "stdout",
     "output_type": "stream",
     "text": [
      "['arr_0', 'arr_1']\n",
      "(22339, 1017, 6)\n",
      "(22339, 3)\n"
     ]
    }
   ],
   "source": [
    "dat = np.load('/fast_scratch/atlas_images/v01-45/XY_tracks_small.npz')\n",
    "print(dat.files)\n",
    "X = dat['arr_0']\n",
    "Y = dat['arr_1']\n",
    "print(np.shape(X))\n",
    "print(np.shape(Y))\n",
    "N_events = len(X)"
   ]
  },
  {
   "cell_type": "markdown",
   "id": "9028a874-2366-49a2-acef-50340d13ddcc",
   "metadata": {},
   "source": [
    "### Data Normalization"
   ]
  },
  {
   "cell_type": "code",
   "execution_count": 7,
   "id": "1fc77771-f93c-4754-99fb-dc19f69ae146",
   "metadata": {},
   "outputs": [],
   "source": [
    "Energy = X[:,:,0]\n",
    "Eta = np.atleast_3d(X[:,:,1])\n",
    "Phi = np.atleast_3d(X[:,:,2])\n",
    "rPerp = X[:,:,3]\n",
    "TrackFlag = np.atleast_3d(X[:,:,4])\n",
    "\n",
    "# split up targets\n",
    "Y_eng = Y[:,0]\n",
    "Y_truth = Y[:,1]\n",
    "Y_clusterE = Y[:,2]"
   ]
  },
  {
   "cell_type": "markdown",
   "id": "8e624a16-4f1b-48c1-8d5a-3cad45a1d0ba",
   "metadata": {},
   "source": [
    "#### Energy"
   ]
  },
  {
   "cell_type": "code",
   "execution_count": 8,
   "id": "443030b9-6b16-4d0c-9606-3ddfaa66293b",
   "metadata": {},
   "outputs": [
    {
     "name": "stdout",
     "output_type": "stream",
     "text": [
      "(22339, 1017, 1)\n"
     ]
    }
   ],
   "source": [
    "# this ensures we dont run into a runtime warning and zeros stay zeros when taking log\n",
    "eng_mask = Energy > 0\n",
    "Energy[eng_mask] = np.log(Energy[eng_mask])\n",
    "Energy = np.atleast_3d(Energy)\n",
    "print(Energy.shape)"
   ]
  },
  {
   "cell_type": "markdown",
   "id": "6ef6ed35-7fc0-40db-b217-74040c7aad76",
   "metadata": {},
   "source": [
    "#### rPerp"
   ]
  },
  {
   "cell_type": "code",
   "execution_count": 9,
   "id": "a8f6a5c9-b918-4568-b8eb-55247eca6322",
   "metadata": {},
   "outputs": [
    {
     "name": "stdout",
     "output_type": "stream",
     "text": [
      "(22339, 1017, 1)\n"
     ]
    }
   ],
   "source": [
    "rPerp = np.atleast_3d(rPerp/1000)\n",
    "print(rPerp.shape)"
   ]
  },
  {
   "cell_type": "markdown",
   "id": "508b352b-9829-4f45-9da4-ca519324b380",
   "metadata": {},
   "source": [
    "#### Reconstruct Deep Sets"
   ]
  },
  {
   "cell_type": "code",
   "execution_count": 10,
   "id": "9d216837-0868-406c-a0be-26867014030d",
   "metadata": {},
   "outputs": [
    {
     "name": "stdout",
     "output_type": "stream",
     "text": [
      "(22339, 1017, 5)\n"
     ]
    }
   ],
   "source": [
    "X_deep = np.concatenate((Energy, Eta, Phi, rPerp, TrackFlag), axis=2)\n",
    "print(X_deep.shape)"
   ]
  },
  {
   "cell_type": "markdown",
   "id": "1798483f-090a-4fe4-90cc-e7a1bcdb0746",
   "metadata": {},
   "source": [
    "## Model Settings"
   ]
  },
  {
   "cell_type": "code",
   "execution_count": 11,
   "id": "404ad9d1-1e92-4481-bf9a-165fa37f24e2",
   "metadata": {},
   "outputs": [
    {
     "name": "stdout",
     "output_type": "stream",
     "text": [
      "train -- val -- test\n",
      "16754 -- 2234 -- 3351\n"
     ]
    }
   ],
   "source": [
    "# EFN regression example uses 75/10/15 split for 100,000 samples\n",
    "train, val, test = tvt_num(X_deep, _tvt=(75, 10, 15))\n",
    "print('train -- val -- test')\n",
    "print(str(train)+' -- '+str(val)+' -- '+str(test))\n",
    "\n",
    "# network architecture parameters\n",
    "Phi_sizes, F_sizes = (100, 100, 128), (100, 100, 100)\n",
    "output_act, output_dim = 'linear', 1\n",
    "loss = 'mse'\n",
    "\n",
    "# network training parameters\n",
    "num_epoch = 40\n",
    "batch_size = 400"
   ]
  },
  {
   "cell_type": "markdown",
   "id": "dc1c7e27-b66d-4ef3-b7d4-ca00ef4d3a90",
   "metadata": {},
   "source": [
    "#### Train/Val/Test Split"
   ]
  },
  {
   "cell_type": "code",
   "execution_count": 12,
   "id": "b4f45760-bab3-4b28-944e-a2dec33e441b",
   "metadata": {},
   "outputs": [
    {
     "name": "stdout",
     "output_type": "stream",
     "text": [
      "(16754, 1017, 5)\n",
      "(16754,)\n"
     ]
    }
   ],
   "source": [
    "(s_train, s_val, s_test,\n",
    " y_eng_train, y_eng_val, y_eng_test) = ef.utils.data_split(X_deep, Y_eng, val=val, test=test)\n",
    "\n",
    "# Print out tensor shapes\n",
    "print(np.shape(s_train))\n",
    "print(np.shape(y_eng_train))"
   ]
  },
  {
   "cell_type": "markdown",
   "id": "29e41ab7-9ff0-4bd2-b071-cfb3eb814f9b",
   "metadata": {},
   "source": [
    "### Build Architecture"
   ]
  },
  {
   "cell_type": "code",
   "execution_count": 13,
   "id": "fb93bd35-0ab6-43bc-aaf2-576718e534f4",
   "metadata": {
    "scrolled": true,
    "tags": []
   },
   "outputs": [
    {
     "name": "stdout",
     "output_type": "stream",
     "text": [
      "Model: \"model\"\n",
      "__________________________________________________________________________________________________\n",
      "Layer (type)                    Output Shape         Param #     Connected to                     \n",
      "==================================================================================================\n",
      "input (InputLayer)              [(None, None, 5)]    0                                            \n",
      "__________________________________________________________________________________________________\n",
      "tdist_0 (TimeDistributed)       (None, None, 100)    600         input[0][0]                      \n",
      "__________________________________________________________________________________________________\n",
      "activation (Activation)         (None, None, 100)    0           tdist_0[0][0]                    \n",
      "__________________________________________________________________________________________________\n",
      "tdist_1 (TimeDistributed)       (None, None, 100)    10100       activation[0][0]                 \n",
      "__________________________________________________________________________________________________\n",
      "activation_1 (Activation)       (None, None, 100)    0           tdist_1[0][0]                    \n",
      "__________________________________________________________________________________________________\n",
      "tdist_2 (TimeDistributed)       (None, None, 128)    12928       activation_1[0][0]               \n",
      "__________________________________________________________________________________________________\n",
      "mask (Lambda)                   (None, None)         0           input[0][0]                      \n",
      "__________________________________________________________________________________________________\n",
      "activation_2 (Activation)       (None, None, 128)    0           tdist_2[0][0]                    \n",
      "__________________________________________________________________________________________________\n",
      "sum (Dot)                       (None, 128)          0           mask[0][0]                       \n",
      "                                                                 activation_2[0][0]               \n",
      "__________________________________________________________________________________________________\n",
      "dense_0 (Dense)                 (None, 100)          12900       sum[0][0]                        \n",
      "__________________________________________________________________________________________________\n",
      "activation_3 (Activation)       (None, 100)          0           dense_0[0][0]                    \n",
      "__________________________________________________________________________________________________\n",
      "dense_1 (Dense)                 (None, 100)          10100       activation_3[0][0]               \n",
      "__________________________________________________________________________________________________\n",
      "activation_4 (Activation)       (None, 100)          0           dense_1[0][0]                    \n",
      "__________________________________________________________________________________________________\n",
      "dense_2 (Dense)                 (None, 100)          10100       activation_4[0][0]               \n",
      "__________________________________________________________________________________________________\n",
      "activation_5 (Activation)       (None, 100)          0           dense_2[0][0]                    \n",
      "__________________________________________________________________________________________________\n",
      "output (Dense)                  (None, 1)            101         activation_5[0][0]               \n",
      "__________________________________________________________________________________________________\n",
      "activation_6 (Activation)       (None, 1)            0           output[0][0]                     \n",
      "==================================================================================================\n",
      "Total params: 56,829\n",
      "Trainable params: 56,829\n",
      "Non-trainable params: 0\n",
      "__________________________________________________________________________________________________\n"
     ]
    }
   ],
   "source": [
    "pfn = PFN(input_dim=5, Phi_sizes=Phi_sizes, F_sizes=F_sizes, \n",
    "          output_act=output_act, output_dim=output_dim, loss=loss, metrics=[])"
   ]
  },
  {
   "cell_type": "markdown",
   "id": "1b2fb264-59c0-402c-9cde-be2b2aab1d45",
   "metadata": {},
   "source": [
    "## Train Model"
   ]
  },
  {
   "cell_type": "code",
   "execution_count": 97,
   "id": "d8fea1f1-bad4-456e-94d4-a9cbdac96415",
   "metadata": {
    "scrolled": true,
    "tags": []
   },
   "outputs": [
    {
     "name": "stdout",
     "output_type": "stream",
     "text": [
      "Epoch 1/40\n",
      "42/42 [==============================] - 2s 31ms/step - loss: 109130.7785 - val_loss: 95152.7266\n",
      "Epoch 2/40\n",
      "42/42 [==============================] - 1s 25ms/step - loss: 85249.8841 - val_loss: 90307.2188\n",
      "Epoch 3/40\n",
      "42/42 [==============================] - 1s 25ms/step - loss: 83372.4315 - val_loss: 75974.6094\n",
      "Epoch 4/40\n",
      "42/42 [==============================] - 1s 25ms/step - loss: 67811.9526 - val_loss: 59170.5430\n",
      "Epoch 5/40\n",
      "42/42 [==============================] - 1s 25ms/step - loss: 59436.7096 - val_loss: 67672.9766\n",
      "Epoch 6/40\n",
      "42/42 [==============================] - 1s 26ms/step - loss: 55238.5234 - val_loss: 51382.4648\n",
      "Epoch 7/40\n",
      "42/42 [==============================] - 1s 27ms/step - loss: 46020.7291 - val_loss: 51151.2461\n",
      "Epoch 8/40\n",
      "42/42 [==============================] - 1s 29ms/step - loss: 50256.2218 - val_loss: 49368.7734\n",
      "Epoch 9/40\n",
      "42/42 [==============================] - 1s 27ms/step - loss: 46057.0401 - val_loss: 49730.2148\n",
      "Epoch 10/40\n",
      "42/42 [==============================] - 1s 27ms/step - loss: 48367.8147 - val_loss: 48520.9336\n",
      "Epoch 11/40\n",
      "42/42 [==============================] - 1s 25ms/step - loss: 45045.2847 - val_loss: 47979.0820\n",
      "Epoch 12/40\n",
      "42/42 [==============================] - 1s 25ms/step - loss: 44478.1474 - val_loss: 47800.0352\n",
      "Epoch 13/40\n",
      "42/42 [==============================] - 1s 24ms/step - loss: 43063.5701 - val_loss: 47966.6680\n",
      "Epoch 14/40\n",
      "42/42 [==============================] - 1s 25ms/step - loss: 44257.5238 - val_loss: 46908.2812\n",
      "Epoch 15/40\n",
      "42/42 [==============================] - 1s 25ms/step - loss: 43403.1138 - val_loss: 47108.8125\n",
      "Epoch 16/40\n",
      "42/42 [==============================] - 1s 24ms/step - loss: 45000.1377 - val_loss: 48693.6094\n",
      "Epoch 17/40\n",
      "42/42 [==============================] - 1s 25ms/step - loss: 43031.6946 - val_loss: 45945.6367\n",
      "Epoch 18/40\n",
      "42/42 [==============================] - 1s 25ms/step - loss: 43332.2029 - val_loss: 52420.7539\n",
      "Epoch 19/40\n",
      "42/42 [==============================] - 1s 25ms/step - loss: 45530.1023 - val_loss: 45449.3047\n",
      "Epoch 20/40\n",
      "42/42 [==============================] - 1s 26ms/step - loss: 41087.7895 - val_loss: 47783.6562\n",
      "Epoch 21/40\n",
      "42/42 [==============================] - 1s 24ms/step - loss: 42933.2480 - val_loss: 46664.4258\n",
      "Epoch 22/40\n",
      "42/42 [==============================] - 1s 25ms/step - loss: 42459.7103 - val_loss: 49028.0898\n",
      "Epoch 23/40\n",
      "42/42 [==============================] - 1s 25ms/step - loss: 41247.1082 - val_loss: 44768.5312\n",
      "Epoch 24/40\n",
      "42/42 [==============================] - 1s 25ms/step - loss: 40664.5701 - val_loss: 44379.9375\n",
      "Epoch 25/40\n",
      "42/42 [==============================] - 1s 25ms/step - loss: 41211.6676 - val_loss: 45446.7461\n",
      "Epoch 26/40\n",
      "42/42 [==============================] - 1s 25ms/step - loss: 40366.5306 - val_loss: 45701.0352\n",
      "Epoch 27/40\n",
      "42/42 [==============================] - 1s 30ms/step - loss: 40740.2986 - val_loss: 43880.8750\n",
      "Epoch 28/40\n",
      "42/42 [==============================] - 1s 29ms/step - loss: 41331.7051 - val_loss: 46722.3047\n",
      "Epoch 29/40\n",
      "42/42 [==============================] - 1s 26ms/step - loss: 39943.4824 - val_loss: 44473.1914\n",
      "Epoch 30/40\n",
      "42/42 [==============================] - 1s 26ms/step - loss: 40029.0099 - val_loss: 43062.7500\n",
      "Epoch 31/40\n",
      "42/42 [==============================] - 1s 24ms/step - loss: 38074.7837 - val_loss: 43322.0000\n",
      "Epoch 32/40\n",
      "42/42 [==============================] - 1s 24ms/step - loss: 38045.1337 - val_loss: 44092.3320\n",
      "Epoch 33/40\n",
      "42/42 [==============================] - 1s 25ms/step - loss: 38891.7718 - val_loss: 43414.9023\n",
      "Epoch 34/40\n",
      "42/42 [==============================] - 1s 24ms/step - loss: 40598.0769 - val_loss: 44664.7031\n",
      "Epoch 35/40\n",
      "42/42 [==============================] - 1s 25ms/step - loss: 39800.4089 - val_loss: 43947.8047\n",
      "Epoch 36/40\n",
      "42/42 [==============================] - 1s 26ms/step - loss: 40134.6195 - val_loss: 43854.1914\n",
      "Epoch 37/40\n",
      "42/42 [==============================] - 1s 25ms/step - loss: 37991.6673 - val_loss: 43649.2812\n",
      "Epoch 38/40\n",
      "42/42 [==============================] - 1s 25ms/step - loss: 39024.6582 - val_loss: 43744.5508\n",
      "Epoch 39/40\n",
      "42/42 [==============================] - 1s 25ms/step - loss: 39318.3346 - val_loss: 44237.8789\n",
      "Epoch 40/40\n",
      "42/42 [==============================] - 1s 24ms/step - loss: 41325.2903 - val_loss: 42615.6328\n"
     ]
    },
    {
     "data": {
      "text/plain": [
       "<tensorflow.python.keras.callbacks.History at 0x7f640f1746d0>"
      ]
     },
     "execution_count": 97,
     "metadata": {},
     "output_type": "execute_result"
    }
   ],
   "source": [
    "pfn.fit(s_train, y_eng_train,\n",
    "        epochs=num_epoch,\n",
    "        batch_size=batch_size,\n",
    "        validation_data=(s_val, y_eng_val),\n",
    "        verbose=1)"
   ]
  },
  {
   "cell_type": "markdown",
   "id": "2a071527-9e50-40b4-a097-f3f49d16fcf9",
   "metadata": {},
   "source": [
    "### Predictions"
   ]
  },
  {
   "cell_type": "code",
   "execution_count": 105,
   "id": "2ea8efda-826f-4016-b6a8-f3c893a97565",
   "metadata": {},
   "outputs": [
    {
     "name": "stdout",
     "output_type": "stream",
     "text": [
      "(3351,)\n"
     ]
    }
   ],
   "source": [
    "preds = pfn.predict(s_test, batch_size=1000)\n",
    "preds = np.reshape(preds, test)\n",
    "print(preds.shape)"
   ]
  },
  {
   "cell_type": "markdown",
   "id": "a17d3e12-3d1e-4cfa-817f-770329dd5ef2",
   "metadata": {},
   "source": [
    "## Analytics"
   ]
  },
  {
   "cell_type": "code",
   "execution_count": 111,
   "id": "d72203e8-84ab-4102-8b6b-1ebaf1cebffa",
   "metadata": {},
   "outputs": [
    {
     "name": "stderr",
     "output_type": "stream",
     "text": [
      "<ipython-input-111-e94b61a280a4>:8: RuntimeWarning: divide by zero encountered in true_divide\n",
      "  plt.hist2d(y_eng_test, preds/y_eng_test, bins=[xbin,ybin], norm=LogNorm())\n"
     ]
    },
    {
     "data": {
      "text/plain": [
       "<Figure size 799.992x599.976 with 0 Axes>"
      ]
     },
     "metadata": {},
     "output_type": "display_data"
    },
    {
     "data": {
      "image/png": "[encoded data removed]",
      "text/plain": [
       "<Figure size 432x432 with 1 Axes>"
      ]
     },
     "metadata": {},
     "output_type": "display_data"
    }
   ],
   "source": [
    "plt.cla(); plt.clf()\n",
    "\n",
    "xbin = [10**exp for exp in  np.arange(-1.0, 3.1, 0.1)]\n",
    "ybin = np.arange(0., 3.1, 0.1)\n",
    "\n",
    "fig = plt.figure(figsize=(6,6))\n",
    "fig.patch.set_facecolor('white')\n",
    "plt.hist2d(y_eng_test, preds/y_eng_test, bins=[xbin,ybin], norm=LogNorm())\n",
    "plt.xlabel('Calib Hits', fontsize=14)\n",
    "plt.ylabel('Predictions / Calib Hits', fontsize=14)\n",
    "plt.xscale('log')\n",
    "# plt.tight_layout()\n",
    "# plt.savefig('Plots/Base_Regression_response_hist_tracks_2021-06-03.png', format='png')\n",
    "plt.show()"
   ]
  },
  {
   "cell_type": "markdown",
   "id": "02270f2d-05f5-4cbd-9236-fee97a7246aa",
   "metadata": {},
   "source": [
    "## Cluster Only"
   ]
  },
  {
   "cell_type": "code",
   "execution_count": 203,
   "id": "2972289b-5214-4a3a-9d33-1b15936a5d50",
   "metadata": {},
   "outputs": [
    {
     "name": "stdout",
     "output_type": "stream",
     "text": [
      "['arr_0', 'arr_1']\n",
      "(68516, 929, 5)\n",
      "(68516,)\n"
     ]
    }
   ],
   "source": [
    "dat = np.load('/fast_scratch/atlas_images/v01-45/XY_clustersOnly_med.npz')\n",
    "print(dat.files)\n",
    "X_clustOnly = dat['arr_0']\n",
    "Y_clustOnly = dat['arr_1']\n",
    "print(np.shape(X_clustOnly))\n",
    "print(np.shape(Y_clustOnly))\n",
    "N_events = len(X_clustOnly)"
   ]
  },
  {
   "cell_type": "markdown",
   "id": "2d0cd537-488e-4748-8efc-4104bbba140d",
   "metadata": {},
   "source": [
    "### Visualize Input Data"
   ]
  },
  {
   "cell_type": "code",
   "execution_count": 77,
   "id": "239a0bb9-0d49-4946-8f0a-ed45d768a81a",
   "metadata": {},
   "outputs": [
    {
     "name": "stdout",
     "output_type": "stream",
     "text": [
      "(68516,)\n"
     ]
    },
    {
     "data": {
      "text/plain": [
       "<Figure size 799.992x599.976 with 0 Axes>"
      ]
     },
     "metadata": {},
     "output_type": "display_data"
    },
    {
     "data": {
      "image/png": "[encoded data removed]",
      "text/plain": [
       "<Figure size 432x432 with 1 Axes>"
      ]
     },
     "metadata": {},
     "output_type": "display_data"
    }
   ],
   "source": [
    "cluster_E_sum = np.sum(X_clustOnly[:,:,0], axis=1)\n",
    "print(cluster_E_sum.shape)\n",
    "plt.cla();plt.clf()\n",
    "fig = plt.figure(figsize=(6,6))\n",
    "fig.patch.set_facecolor(color='white')\n",
    "plt.scatter(Y_clustOnly, cluster_E_sum, s=10,edgecolor='black', color='seagreen', alpha=.25)\n",
    "plt.xlabel('Cluster Calib Hits (GeV)', fontsize=14)\n",
    "plt.ylabel('Sum of Individual Cell Energies (GeV)', fontsize=14)\n",
    "plt.xlim(0,2200)\n",
    "plt.ylim(0,2200)\n",
    "plt.xticks(fontsize=13)\n",
    "plt.yticks(fontsize=13)\n",
    "# plt.tight_layout()\n",
    "# plt.savefig('Regression_Plots/ClusterOnly_RegressionInputs_2021-06-09.png', format='png')\n",
    "plt.show()"
   ]
  },
  {
   "cell_type": "markdown",
   "id": "befa9b4a-fc95-4e97-9c6c-a71e4025bd3c",
   "metadata": {},
   "source": [
    "### Normalize Target"
   ]
  },
  {
   "cell_type": "code",
   "execution_count": 213,
   "id": "8a83bca5-9de8-4faa-a23f-28cc5599b67d",
   "metadata": {},
   "outputs": [
    {
     "name": "stdout",
     "output_type": "stream",
     "text": [
      "(68516,)\n",
      "Any target values zero: True\n",
      "number after cut: 63459\n"
     ]
    }
   ],
   "source": [
    "print(Y_clustOnly.shape)\n",
    "Y_cO_mask = Y_clustOnly > .1\n",
    "print('Any target values zero: '+repr(np.any(Y_cO_mask)))\n",
    "nCData = np.count_nonzero(Y_cO_mask)\n",
    "print('number after cut: '+str(nCData))"
   ]
  },
  {
   "cell_type": "code",
   "execution_count": 254,
   "id": "14bfe1a1-235c-4a74-9ac8-64662fba2343",
   "metadata": {},
   "outputs": [
    {
     "name": "stdout",
     "output_type": "stream",
     "text": [
      "(63459,)\n"
     ]
    }
   ],
   "source": [
    "Y_cO = np.ndarray.copy(Y_clustOnly[Y_cO_mask])\n",
    "Y_nonzero = Y_cO != 0\n",
    "Y_cO[Y_nonzero] = np.log(Y_cO[Y_nonzero])\n",
    "Y_cOn = np.ndarray.copy(normalize_input1d(Y_cO, Y_nonzero))\n",
    "# Y_clustOnly = np.atleast_2d(Y_clustOnly).transpose()\n",
    "print(Y_cO.shape)"
   ]
  },
  {
   "cell_type": "markdown",
   "id": "2e81b3fe-ee50-4074-a876-7570b61dd18e",
   "metadata": {},
   "source": [
    "### Data Normalization"
   ]
  },
  {
   "cell_type": "code",
   "execution_count": 237,
   "id": "96ffad5b-8665-4fdf-9d7a-1d1da55b7405",
   "metadata": {},
   "outputs": [
    {
     "name": "stdout",
     "output_type": "stream",
     "text": [
      "(63459, 929, 4)\n"
     ]
    }
   ],
   "source": [
    "## DEEP COPY ARRAY ##\n",
    "X_cO = np.ndarray.copy(X_clustOnly[Y_cO_mask,:,0:4])\n",
    "X_cO_norm =np.ndarray.copy(X_clustOnly[Y_cO_mask,:,0:4])\n",
    "print(X_cO.shape)"
   ]
  },
  {
   "cell_type": "code",
   "execution_count": 238,
   "id": "47083471-2111-4a07-88d9-681c250087d2",
   "metadata": {},
   "outputs": [],
   "source": [
    "## Normalize rPerp to 1/1000\n",
    "rPerp_mask = X_cO[:,:,3] != 0\n",
    "X_cO[:,:,3][rPerp_mask] = X_cO[:,:,3][rPerp_mask]/1000\n",
    "\n",
    "## Energy Values that are not zero!\n",
    "E_nonZeroMask = X_cO[:,:,0] != 0\n",
    "X_cO[:,:,0][E_nonZeroMask] = np.log(X_cO[:,:,0][E_nonZeroMask])\n",
    "\n",
    "## Eta and Phi\n",
    "eta_mask = X_cO[:,:,1] != 0\n",
    "X_cO[:,:,1][eta_mask] = X_cO[:,:,1][eta_mask]\n",
    "\n",
    "phi_mask = X_cO[:,:,2] != 0\n",
    "X_cO[:,:,2][phi_mask] = X_cO[:,:,2][phi_mask]"
   ]
  },
  {
   "cell_type": "markdown",
   "id": "a280b0cc-7eee-4456-be5e-3d1a5a763772",
   "metadata": {},
   "source": [
    "#### New Normalization Scheme"
   ]
  },
  {
   "cell_type": "code",
   "execution_count": 239,
   "id": "e682d14c-cbc3-4b14-944e-9260ae3b0f8e",
   "metadata": {},
   "outputs": [],
   "source": [
    "## Normalize rPerp to 1/1000\n",
    "rPerp_maskn = X_cO_norm[:,:,3] != 0\n",
    "X_cO_norm[:,:,3] = normalize_input2d(X_cO_norm[:,:,3], rPerp_maskn)\n",
    "\n",
    "## Energy Values that are not zero!\n",
    "E_nonZeroMaskn = X_cO_norm[:,:,0] != 0\n",
    "X_cO_norm[:,:,0][E_nonZeroMaskn] = np.log(X_cO_norm[:,:,0][E_nonZeroMaskn])\n",
    "X_cO_norm[:,:,0] = normalize_input2d(X_cO_norm[:,:,0], E_nonZeroMaskn)\n",
    "\n",
    "## Eta and Phi\n",
    "eta_maskn = X_cO_norm[:,:,1] != 0\n",
    "X_cO_norm[:,:,1] = normalize_input2d(X_cO_norm[:,:,1], eta_maskn)\n",
    "\n",
    "phi_maskn = X_cO_norm[:,:,2] != 0\n",
    "X_cO_norm[:,:,2] = normalize_input2d(X_cO_norm[:,:,2], phi_maskn)"
   ]
  },
  {
   "cell_type": "markdown",
   "id": "8ae987f0-a54e-4587-a25d-0274def6d4e5",
   "metadata": {},
   "source": [
    "### Histograms of Inputs"
   ]
  },
  {
   "cell_type": "code",
   "execution_count": 263,
   "id": "9293bcdb-fe0d-4ea2-bbcb-8f8a4ccaadab",
   "metadata": {},
   "outputs": [
    {
     "data": {
      "text/plain": [
       "<Figure size 799.992x599.976 with 0 Axes>"
      ]
     },
     "metadata": {},
     "output_type": "display_data"
    },
    {
     "data": {
      "image/png": "[encoded data removed]",
      "text/plain": [
       "<Figure size 432x432 with 1 Axes>"
      ]
     },
     "metadata": {},
     "output_type": "display_data"
    },
    {
     "data": {
      "text/plain": [
       "<Figure size 799.992x599.976 with 0 Axes>"
      ]
     },
     "metadata": {},
     "output_type": "display_data"
    },
    {
     "data": {
      "image/png": "[encoded data removed]",
      "text/plain": [
       "<Figure size 432x432 with 1 Axes>"
      ]
     },
     "metadata": {},
     "output_type": "display_data"
    }
   ],
   "source": [
    "############\n",
    "## ENERGY ##\n",
    "############\n",
    "plt.cla(); plt.clf()\n",
    "fig = plt.figure(figsize=(6,6))\n",
    "ebins = np.linspace(-6,8, 30, endpoint=True)\n",
    "plt.hist(X_cO[:,:,0][E_nonZeroMask], color='plum', bins=ebins, density=True, alpha=.5, edgecolor='black',\n",
    "         label='raw')\n",
    "plt.hist(X_cO_norm[:,:,0][E_nonZeroMaskn], color='bisque', bins=ebins, density=True, alpha=.5, edgecolor='black',\n",
    "         label='normalized')\n",
    "plt.title('Cluster Cell Energy Inputs Flattened', fontsize=16)\n",
    "plt.xlabel('Log(E [GeV])', fontsize=14)\n",
    "plt.xlim(np.min(ebins),np.max(ebins))\n",
    "plt.ylim(0,.55)\n",
    "plt.xticks(fontsize=13)\n",
    "plt.yticks(fontsize=13)\n",
    "plt.legend(loc='upper right')\n",
    "plt.tight_layout()\n",
    "plt.savefig('Regression_Plots/CLO_EnergyInputs_normalization_2020-06-21.png', format='png')\n",
    "plt.show()\n",
    "\n",
    "#########\n",
    "## ETA ##\n",
    "#########\n",
    "# plt.cla(); plt.clf()\n",
    "# fig = plt.figure(figsize=(6,6))\n",
    "# etabins = np.linspace(-5,5,40, endpoint=True)\n",
    "# plt.hist(X_cO[:,:,1][eta_mask], color='chocolate', bins=etabins, density=True, alpha=.5, edgecolor='black',\n",
    "#          label='raw')\n",
    "# plt.hist(X_cO_norm[:,:,1][eta_maskn], color='chartreuse', bins=etabins, density=True, alpha=.5, edgecolor='black',\n",
    "#          label='normalized')\n",
    "# plt.title('Cluster Cell Eta Inputs Flattened', fontsize=16)\n",
    "# plt.xlabel('Eta', fontsize=14)\n",
    "# plt.xlim(np.min(etabins),np.max(etabins))\n",
    "# plt.ylim(0,.55)\n",
    "# plt.xticks(fontsize=13)\n",
    "# plt.yticks(fontsize=13)\n",
    "# plt.legend(loc='upper right')\n",
    "# # plt.tight_layout()\n",
    "# # plt.savefig('Regression_Plots/CLO_EtaInputs_normalization_2020-06-20.png', format='png')\n",
    "# plt.show()\n",
    "\n",
    "#########\n",
    "## PHI ##\n",
    "#########\n",
    "# plt.cla(); plt.clf()\n",
    "# fig = plt.figure(figsize=(6,6))\n",
    "# phibins = np.linspace(-5,5,40, endpoint=True)\n",
    "# plt.hist(X_cO[:,:,2][phi_mask], color='olive', bins=phibins, density=True, alpha=.5, edgecolor='black',\n",
    "#          label='raw')\n",
    "# plt.hist(X_cO_norm[:,:,2][phi_maskn], color='teal', bins=phibins, density=True, alpha=.5, edgecolor='black',\n",
    "#          label='normalized')\n",
    "# plt.title('Cluster Cell Phi Inputs Flattened', fontsize=16)\n",
    "# plt.xlabel('Phi', fontsize=14)\n",
    "# plt.xlim(np.min(phibins),np.max(phibins))\n",
    "# plt.ylim(0,.55)\n",
    "# plt.xticks(fontsize=13)\n",
    "# plt.yticks(fontsize=13)\n",
    "# plt.legend(loc='upper right')\n",
    "# # plt.tight_layout()\n",
    "# # plt.savefig('Regression_Plots/CLO_PhiInputs_normalization_2020-06-20.png', format='png')\n",
    "# plt.show()\n",
    "\n",
    "###########\n",
    "## RPERP ##\n",
    "###########\n",
    "plt.cla(); plt.clf()\n",
    "fig = plt.figure(figsize=(6,6))\n",
    "Rbins = np.linspace(-3,6,40, endpoint=True)\n",
    "plt.hist(X_cO[:,:,3][rPerp_mask], color='gold', bins=Rbins, density=True, alpha=.5, edgecolor='black',\n",
    "         label='raw')\n",
    "plt.hist(X_cO_norm[:,:,3][rPerp_maskn], color='aqua', bins=Rbins, density=True, alpha=.5, edgecolor='black',\n",
    "         label='normalized')\n",
    "plt.title('Cluster Cell rPerp Inputs Flattened', fontsize=16)\n",
    "plt.xlabel('rPerp', fontsize=14)\n",
    "plt.xlim(np.min(Rbins),np.max(Rbins))\n",
    "plt.ylim(0,1.5)\n",
    "plt.xticks(fontsize=13)\n",
    "plt.yticks(fontsize=13)\n",
    "plt.legend(loc='upper right')\n",
    "plt.tight_layout()\n",
    "plt.savefig('Regression_Plots/CLO_rPerpInputs_normalization_2020-06-21.png', format='png')\n",
    "plt.show()\n"
   ]
  },
  {
   "cell_type": "markdown",
   "id": "e8434e85-7c8e-457a-a0bb-4a8f81209c82",
   "metadata": {},
   "source": [
    "## Model Building & Settings"
   ]
  },
  {
   "cell_type": "code",
   "execution_count": 253,
   "id": "8e6427c4-6247-4816-81a5-1f4ceff6b284",
   "metadata": {},
   "outputs": [
    {
     "name": "stdout",
     "output_type": "stream",
     "text": [
      "train -- val -- test\n",
      "47594 -- 6346 -- 9519\n"
     ]
    }
   ],
   "source": [
    "# EFN regression example uses 75/10/15 split for 100,000 samples\n",
    "c_train, c_val, c_test = tvt_num(X_cO, _tvt=(75, 10, 15))\n",
    "print('train -- val -- test')\n",
    "print(str(c_train)+' -- '+str(c_val)+' -- '+str(c_test))\n",
    "\n",
    "# network architecture parameters\n",
    "Phi_sizes, F_sizes = (100, 100, 128), (100, 100, 100)\n",
    "output_act, output_dim = 'linear', 1\n",
    "loss = 'mse'\n",
    "\n",
    "# network training parameters\n",
    "num_epoch = 60\n",
    "batch_size = 50"
   ]
  },
  {
   "cell_type": "markdown",
   "id": "fe8ea5c0-3375-4b25-b0df-959173c00a0a",
   "metadata": {},
   "source": [
    "#### TVT Split"
   ]
  },
  {
   "cell_type": "code",
   "execution_count": 255,
   "id": "79903361-84d8-4c13-b643-a79cc4d2c59d",
   "metadata": {},
   "outputs": [
    {
     "name": "stdout",
     "output_type": "stream",
     "text": [
      "Totals for inputs\n",
      "(63459, 929, 4)\n",
      "(63459,)\n",
      "\n",
      "Totals for training data\n",
      "(47594, 929, 4)\n",
      "(47594,)\n"
     ]
    }
   ],
   "source": [
    "print('Totals for inputs')\n",
    "print(X_cO.shape)\n",
    "print(Y_cO.shape);print()\n",
    "(cl_train, cl_val, cl_test,\n",
    " y_cl_train, y_cl_val, y_cl_test) = ef.utils.data_split(X_cO, Y_cO, val=c_val, test=c_test)\n",
    "(cln_train, cln_val, cln_test,\n",
    " y_cln_train, y_cln_val, y_cln_test) = ef.utils.data_split(X_cO_norm, Y_cOn, val=c_val, test=c_test)\n",
    "\n",
    "print('Totals for training data')\n",
    "print(np.shape(cl_train))\n",
    "print(np.shape(y_cl_train))"
   ]
  },
  {
   "cell_type": "markdown",
   "id": "22d9bfdf-f6da-4cc6-a261-696962b7c5ae",
   "metadata": {},
   "source": [
    "#### Build Model"
   ]
  },
  {
   "cell_type": "code",
   "execution_count": 90,
   "id": "f624ce3f-5356-4cd5-b0a4-7a8b050f844c",
   "metadata": {
    "scrolled": true,
    "tags": []
   },
   "outputs": [
    {
     "name": "stdout",
     "output_type": "stream",
     "text": [
      "Model: \"model_16\"\n",
      "__________________________________________________________________________________________________\n",
      "Layer (type)                    Output Shape         Param #     Connected to                     \n",
      "==================================================================================================\n",
      "input (InputLayer)              [(None, None, 4)]    0                                            \n",
      "__________________________________________________________________________________________________\n",
      "tdist_0 (TimeDistributed)       (None, None, 100)    500         input[0][0]                      \n",
      "__________________________________________________________________________________________________\n",
      "activation_112 (Activation)     (None, None, 100)    0           tdist_0[0][0]                    \n",
      "__________________________________________________________________________________________________\n",
      "tdist_1 (TimeDistributed)       (None, None, 100)    10100       activation_112[0][0]             \n",
      "__________________________________________________________________________________________________\n",
      "activation_113 (Activation)     (None, None, 100)    0           tdist_1[0][0]                    \n",
      "__________________________________________________________________________________________________\n",
      "tdist_2 (TimeDistributed)       (None, None, 128)    12928       activation_113[0][0]             \n",
      "__________________________________________________________________________________________________\n",
      "mask (Lambda)                   (None, None)         0           input[0][0]                      \n",
      "__________________________________________________________________________________________________\n",
      "activation_114 (Activation)     (None, None, 128)    0           tdist_2[0][0]                    \n",
      "__________________________________________________________________________________________________\n",
      "sum (Dot)                       (None, 128)          0           mask[0][0]                       \n",
      "                                                                 activation_114[0][0]             \n",
      "__________________________________________________________________________________________________\n",
      "dense_0 (Dense)                 (None, 100)          12900       sum[0][0]                        \n",
      "__________________________________________________________________________________________________\n",
      "activation_115 (Activation)     (None, 100)          0           dense_0[0][0]                    \n",
      "__________________________________________________________________________________________________\n",
      "dense_1 (Dense)                 (None, 100)          10100       activation_115[0][0]             \n",
      "__________________________________________________________________________________________________\n",
      "activation_116 (Activation)     (None, 100)          0           dense_1[0][0]                    \n",
      "__________________________________________________________________________________________________\n",
      "dense_2 (Dense)                 (None, 100)          10100       activation_116[0][0]             \n",
      "__________________________________________________________________________________________________\n",
      "activation_117 (Activation)     (None, 100)          0           dense_2[0][0]                    \n",
      "__________________________________________________________________________________________________\n",
      "output (Dense)                  (None, 1)            101         activation_117[0][0]             \n",
      "__________________________________________________________________________________________________\n",
      "activation_118 (Activation)     (None, 1)            0           output[0][0]                     \n",
      "==================================================================================================\n",
      "Total params: 56,729\n",
      "Trainable params: 56,729\n",
      "Non-trainable params: 0\n",
      "__________________________________________________________________________________________________\n"
     ]
    }
   ],
   "source": [
    "pfnC = PFN(input_dim=4, Phi_sizes=Phi_sizes, F_sizes=F_sizes, \n",
    "          output_act=output_act, output_dim=output_dim, loss=loss, metrics=[])"
   ]
  },
  {
   "cell_type": "markdown",
   "id": "66c6cbca-9d09-4145-9a1d-6d0e49b3a52d",
   "metadata": {},
   "source": [
    "## Train Single Model, no loop"
   ]
  },
  {
   "cell_type": "code",
   "execution_count": 91,
   "id": "2a5e8cd0-6986-4dfd-bef9-b8d7f49761e3",
   "metadata": {
    "scrolled": true,
    "tags": []
   },
   "outputs": [
    {
     "name": "stdout",
     "output_type": "stream",
     "text": [
      "Epoch 1/60\n",
      "952/952 [==============================] - 10s 10ms/step - loss: 1703.7777 - val_loss: 5.1167\n",
      "Epoch 2/60\n",
      "952/952 [==============================] - 4s 5ms/step - loss: 3.8851 - val_loss: 3.5508\n",
      "Epoch 3/60\n",
      "952/952 [==============================] - 5s 5ms/step - loss: 14.1715 - val_loss: 2.7242\n",
      "Epoch 4/60\n",
      "952/952 [==============================] - 4s 5ms/step - loss: 2.4499 - val_loss: 1.4777\n",
      "Epoch 5/60\n",
      "952/952 [==============================] - 5s 5ms/step - loss: 2.3676 - val_loss: 2.2433\n",
      "Epoch 6/60\n",
      "952/952 [==============================] - 4s 5ms/step - loss: 2.5639 - val_loss: 0.8950\n",
      "Epoch 7/60\n",
      "952/952 [==============================] - 4s 5ms/step - loss: 1.0233 - val_loss: 0.5068\n",
      "Epoch 8/60\n",
      "952/952 [==============================] - 4s 5ms/step - loss: 35.2867 - val_loss: 0.6419\n",
      "Epoch 9/60\n",
      "952/952 [==============================] - 4s 5ms/step - loss: 0.5848 - val_loss: 0.4905\n",
      "Epoch 10/60\n",
      "952/952 [==============================] - 4s 5ms/step - loss: 0.3978 - val_loss: 0.2408\n",
      "Epoch 11/60\n",
      "952/952 [==============================] - 4s 5ms/step - loss: 0.2614 - val_loss: 0.2725\n",
      "Epoch 12/60\n",
      "952/952 [==============================] - 4s 5ms/step - loss: 1.6854 - val_loss: 0.3101\n",
      "Epoch 13/60\n",
      "952/952 [==============================] - 5s 5ms/step - loss: 0.3314 - val_loss: 0.2344\n",
      "Epoch 14/60\n",
      "952/952 [==============================] - 5s 5ms/step - loss: 0.2025 - val_loss: 0.1419\n",
      "Epoch 15/60\n",
      "952/952 [==============================] - 4s 5ms/step - loss: 0.1502 - val_loss: 0.1182\n",
      "Epoch 16/60\n",
      "952/952 [==============================] - 4s 4ms/step - loss: 0.1263 - val_loss: 0.1141\n",
      "Epoch 17/60\n",
      "952/952 [==============================] - 4s 4ms/step - loss: 0.3034 - val_loss: 0.3569\n",
      "Epoch 18/60\n",
      "952/952 [==============================] - 4s 5ms/step - loss: 0.2668 - val_loss: 0.1657\n",
      "Epoch 19/60\n",
      "952/952 [==============================] - 4s 4ms/step - loss: 0.1621 - val_loss: 0.1385\n",
      "Epoch 20/60\n",
      "952/952 [==============================] - 4s 4ms/step - loss: 0.1209 - val_loss: 0.1052\n",
      "Epoch 21/60\n",
      "952/952 [==============================] - 4s 4ms/step - loss: 0.1033 - val_loss: 0.1201\n",
      "Epoch 22/60\n",
      "952/952 [==============================] - 4s 4ms/step - loss: 0.1001 - val_loss: 0.0931\n",
      "Epoch 23/60\n",
      "952/952 [==============================] - 4s 5ms/step - loss: 0.0877 - val_loss: 0.1047\n",
      "Epoch 24/60\n",
      "952/952 [==============================] - 4s 5ms/step - loss: 0.0824 - val_loss: 0.0834\n",
      "Epoch 25/60\n",
      "952/952 [==============================] - 5s 5ms/step - loss: 0.0806 - val_loss: 0.0831\n",
      "Epoch 26/60\n",
      "952/952 [==============================] - 4s 5ms/step - loss: 0.0713 - val_loss: 0.0693\n",
      "Epoch 27/60\n",
      "952/952 [==============================] - 5s 5ms/step - loss: 0.0664 - val_loss: 0.0716\n",
      "Epoch 28/60\n",
      "952/952 [==============================] - 5s 5ms/step - loss: 0.0642 - val_loss: 0.0718\n",
      "Epoch 29/60\n",
      "952/952 [==============================] - 5s 5ms/step - loss: 0.0650 - val_loss: 0.0632\n",
      "Epoch 30/60\n",
      "952/952 [==============================] - 4s 5ms/step - loss: 0.0609 - val_loss: 0.0598\n",
      "Epoch 31/60\n",
      "952/952 [==============================] - 5s 5ms/step - loss: 0.0601 - val_loss: 0.0634\n",
      "Epoch 32/60\n",
      "952/952 [==============================] - 4s 5ms/step - loss: 0.0578 - val_loss: 0.0618\n",
      "Epoch 33/60\n",
      "952/952 [==============================] - 4s 5ms/step - loss: 0.0562 - val_loss: 0.0611\n",
      "Epoch 34/60\n",
      "952/952 [==============================] - 5s 5ms/step - loss: 0.0541 - val_loss: 0.0697\n",
      "Epoch 35/60\n",
      "952/952 [==============================] - 5s 5ms/step - loss: 0.0523 - val_loss: 0.0566\n",
      "Epoch 36/60\n",
      "952/952 [==============================] - 5s 5ms/step - loss: 0.0539 - val_loss: 0.0663\n",
      "Epoch 37/60\n",
      "952/952 [==============================] - 5s 5ms/step - loss: 0.0543 - val_loss: 0.0580\n",
      "Epoch 38/60\n",
      "952/952 [==============================] - 5s 5ms/step - loss: 0.0548 - val_loss: 0.0569\n",
      "Epoch 39/60\n",
      "952/952 [==============================] - 4s 5ms/step - loss: 0.0526 - val_loss: 0.0555\n",
      "Epoch 40/60\n",
      "952/952 [==============================] - 4s 5ms/step - loss: 0.0503 - val_loss: 0.0546\n",
      "Epoch 41/60\n",
      "952/952 [==============================] - 4s 5ms/step - loss: 0.0533 - val_loss: 0.0556\n",
      "Epoch 42/60\n",
      "952/952 [==============================] - 4s 5ms/step - loss: 0.0500 - val_loss: 0.0596\n",
      "Epoch 43/60\n",
      "952/952 [==============================] - 4s 5ms/step - loss: 0.0512 - val_loss: 0.0595\n",
      "Epoch 44/60\n",
      "952/952 [==============================] - 5s 5ms/step - loss: 0.0488 - val_loss: 0.0604\n",
      "Epoch 45/60\n",
      "952/952 [==============================] - 5s 5ms/step - loss: 0.0536 - val_loss: 0.0555\n",
      "Epoch 46/60\n",
      "952/952 [==============================] - 5s 5ms/step - loss: 0.0492 - val_loss: 0.0561\n",
      "Epoch 47/60\n",
      "952/952 [==============================] - 4s 5ms/step - loss: 0.0478 - val_loss: 0.0523\n",
      "Epoch 48/60\n",
      "952/952 [==============================] - 4s 5ms/step - loss: 0.0464 - val_loss: 0.0538\n",
      "Epoch 49/60\n",
      "952/952 [==============================] - 5s 5ms/step - loss: 0.0485 - val_loss: 0.0535\n",
      "Epoch 50/60\n",
      "952/952 [==============================] - 5s 5ms/step - loss: 0.0471 - val_loss: 0.0551\n",
      "Epoch 51/60\n",
      "952/952 [==============================] - 4s 4ms/step - loss: 0.0485 - val_loss: 0.0526\n",
      "Epoch 52/60\n",
      "952/952 [==============================] - 4s 4ms/step - loss: 0.0486 - val_loss: 0.0535\n",
      "Epoch 53/60\n",
      "952/952 [==============================] - 4s 5ms/step - loss: 0.0485 - val_loss: 0.0559\n",
      "Epoch 54/60\n",
      "952/952 [==============================] - 5s 5ms/step - loss: 0.0484 - val_loss: 0.0558\n",
      "Epoch 55/60\n",
      "952/952 [==============================] - 4s 5ms/step - loss: 0.0465 - val_loss: 0.0604\n",
      "Epoch 56/60\n",
      "952/952 [==============================] - 4s 4ms/step - loss: 0.0481 - val_loss: 0.0537\n",
      "Epoch 57/60\n",
      "952/952 [==============================] - 4s 4ms/step - loss: 0.0491 - val_loss: 0.0532\n",
      "Epoch 58/60\n",
      "952/952 [==============================] - 4s 5ms/step - loss: 0.0505 - val_loss: 0.0551\n",
      "Epoch 59/60\n",
      "952/952 [==============================] - 4s 4ms/step - loss: 0.0451 - val_loss: 0.0582\n",
      "Epoch 60/60\n",
      "952/952 [==============================] - 4s 5ms/step - loss: 0.0499 - val_loss: 0.0544\n"
     ]
    }
   ],
   "source": [
    "history = pfnC.fit(cl_train, y_cl_train,\n",
    "        epochs=num_epoch,\n",
    "        batch_size=batch_size,\n",
    "        validation_data=(cl_val, y_cl_val),\n",
    "        verbose=1)"
   ]
  },
  {
   "cell_type": "markdown",
   "id": "025f4473-1f8c-4b78-9fde-dbcd637c9880",
   "metadata": {},
   "source": [
    "#### Train Model in Loop"
   ]
  },
  {
   "cell_type": "code",
   "execution_count": 256,
   "id": "bdb1f361-ac7e-468d-81e5-120840da5054",
   "metadata": {
    "scrolled": true,
    "tags": []
   },
   "outputs": [
    {
     "name": "stdout",
     "output_type": "stream",
     "text": [
      "\n",
      "\n",
      "BUILDING MODEL 0 RAW\n",
      "\n",
      "\n",
      "Model: \"model_17\"\n",
      "__________________________________________________________________________________________________\n",
      "Layer (type)                    Output Shape         Param #     Connected to                     \n",
      "==================================================================================================\n",
      "input (InputLayer)              [(None, None, 4)]    0                                            \n",
      "__________________________________________________________________________________________________\n",
      "tdist_0 (TimeDistributed)       (None, None, 100)    500         input[0][0]                      \n",
      "__________________________________________________________________________________________________\n",
      "activation_119 (Activation)     (None, None, 100)    0           tdist_0[0][0]                    \n",
      "__________________________________________________________________________________________________\n",
      "tdist_1 (TimeDistributed)       (None, None, 100)    10100       activation_119[0][0]             \n",
      "__________________________________________________________________________________________________\n",
      "activation_120 (Activation)     (None, None, 100)    0           tdist_1[0][0]                    \n",
      "__________________________________________________________________________________________________\n",
      "tdist_2 (TimeDistributed)       (None, None, 128)    12928       activation_120[0][0]             \n",
      "__________________________________________________________________________________________________\n",
      "mask (Lambda)                   (None, None)         0           input[0][0]                      \n",
      "__________________________________________________________________________________________________\n",
      "activation_121 (Activation)     (None, None, 128)    0           tdist_2[0][0]                    \n",
      "__________________________________________________________________________________________________\n",
      "sum (Dot)                       (None, 128)          0           mask[0][0]                       \n",
      "                                                                 activation_121[0][0]             \n",
      "__________________________________________________________________________________________________\n",
      "dense_0 (Dense)                 (None, 100)          12900       sum[0][0]                        \n",
      "__________________________________________________________________________________________________\n",
      "activation_122 (Activation)     (None, 100)          0           dense_0[0][0]                    \n",
      "__________________________________________________________________________________________________\n",
      "dense_1 (Dense)                 (None, 100)          10100       activation_122[0][0]             \n",
      "__________________________________________________________________________________________________\n",
      "activation_123 (Activation)     (None, 100)          0           dense_1[0][0]                    \n",
      "__________________________________________________________________________________________________\n",
      "dense_2 (Dense)                 (None, 100)          10100       activation_123[0][0]             \n",
      "__________________________________________________________________________________________________\n",
      "activation_124 (Activation)     (None, 100)          0           dense_2[0][0]                    \n",
      "__________________________________________________________________________________________________\n",
      "output (Dense)                  (None, 1)            101         activation_124[0][0]             \n",
      "__________________________________________________________________________________________________\n",
      "activation_125 (Activation)     (None, 1)            0           output[0][0]                     \n",
      "==================================================================================================\n",
      "Total params: 56,729\n",
      "Trainable params: 56,729\n",
      "Non-trainable params: 0\n",
      "__________________________________________________________________________________________________\n",
      "\n",
      "\n",
      "TRAINING MODEL 0 RAW\n",
      "\n",
      "\n",
      "Epoch 1/60\n",
      "952/952 [==============================] - 7s 6ms/step - loss: 3060.5121 - val_loss: 32.2859\n",
      "Epoch 2/60\n",
      "952/952 [==============================] - 5s 5ms/step - loss: 45.6988 - val_loss: 6.2426\n",
      "Epoch 3/60\n",
      "952/952 [==============================] - 5s 5ms/step - loss: 8.1201 - val_loss: 8.4282\n",
      "Epoch 4/60\n",
      "952/952 [==============================] - 5s 5ms/step - loss: 15.5803 - val_loss: 3.3940\n",
      "Epoch 5/60\n",
      "952/952 [==============================] - 5s 5ms/step - loss: 3.7018 - val_loss: 8.6510\n",
      "Epoch 6/60\n",
      "952/952 [==============================] - 5s 5ms/step - loss: 2.7731 - val_loss: 0.3667\n",
      "Epoch 7/60\n",
      "952/952 [==============================] - 5s 5ms/step - loss: 1.2372 - val_loss: 0.9635\n",
      "Epoch 8/60\n",
      "952/952 [==============================] - 4s 5ms/step - loss: 0.9176 - val_loss: 0.3323\n",
      "Epoch 9/60\n",
      "952/952 [==============================] - 5s 5ms/step - loss: 1.0131 - val_loss: 2.0099\n",
      "Epoch 10/60\n",
      "952/952 [==============================] - 5s 5ms/step - loss: 2.6501 - val_loss: 0.3226\n",
      "Epoch 11/60\n",
      "952/952 [==============================] - 5s 5ms/step - loss: 0.1929 - val_loss: 0.1316\n",
      "Epoch 12/60\n",
      "952/952 [==============================] - 5s 5ms/step - loss: 0.1974 - val_loss: 0.1585\n",
      "Epoch 13/60\n",
      "952/952 [==============================] - 5s 5ms/step - loss: 0.1156 - val_loss: 0.0477\n",
      "Epoch 14/60\n",
      "952/952 [==============================] - 5s 5ms/step - loss: 10.5121 - val_loss: 0.5936\n",
      "Epoch 15/60\n",
      "952/952 [==============================] - 5s 5ms/step - loss: 0.1067 - val_loss: 0.1608\n",
      "Epoch 16/60\n",
      "952/952 [==============================] - 4s 5ms/step - loss: 0.1272 - val_loss: 0.0398\n",
      "Epoch 17/60\n",
      "952/952 [==============================] - 4s 5ms/step - loss: 0.1511 - val_loss: 0.0409\n",
      "Epoch 18/60\n",
      "952/952 [==============================] - 5s 5ms/step - loss: 0.1122 - val_loss: 0.0328\n",
      "Epoch 19/60\n",
      "952/952 [==============================] - 5s 5ms/step - loss: 0.0841 - val_loss: 0.0466\n",
      "Epoch 20/60\n",
      "952/952 [==============================] - 5s 5ms/step - loss: 0.0598 - val_loss: 0.0316\n",
      "Epoch 21/60\n",
      "952/952 [==============================] - 5s 5ms/step - loss: 0.0363 - val_loss: 0.0251\n",
      "Epoch 22/60\n",
      "952/952 [==============================] - 4s 5ms/step - loss: 0.0366 - val_loss: 0.0537\n",
      "Epoch 23/60\n",
      "952/952 [==============================] - 5s 5ms/step - loss: 0.0407 - val_loss: 0.0260\n",
      "Epoch 24/60\n",
      "952/952 [==============================] - 5s 5ms/step - loss: 0.0245 - val_loss: 0.0213\n",
      "Epoch 25/60\n",
      "952/952 [==============================] - 5s 5ms/step - loss: 0.0214 - val_loss: 0.0170\n",
      "Epoch 26/60\n",
      "952/952 [==============================] - 5s 5ms/step - loss: 0.1076 - val_loss: 0.0822\n",
      "Epoch 27/60\n",
      "952/952 [==============================] - 5s 5ms/step - loss: 0.0557 - val_loss: 0.0702\n",
      "Epoch 28/60\n",
      "952/952 [==============================] - 5s 5ms/step - loss: 0.0371 - val_loss: 0.0272\n",
      "Epoch 29/60\n",
      "952/952 [==============================] - 5s 5ms/step - loss: 0.0291 - val_loss: 0.0211\n",
      "Epoch 30/60\n",
      "952/952 [==============================] - 4s 5ms/step - loss: 0.0204 - val_loss: 0.0233\n",
      "Epoch 31/60\n",
      "952/952 [==============================] - 4s 5ms/step - loss: 0.0198 - val_loss: 0.0176\n",
      "Epoch 32/60\n",
      "952/952 [==============================] - 5s 5ms/step - loss: 0.0185 - val_loss: 0.0149\n",
      "Epoch 33/60\n",
      "952/952 [==============================] - 5s 5ms/step - loss: 0.0168 - val_loss: 0.0146\n",
      "Epoch 34/60\n",
      "952/952 [==============================] - 5s 5ms/step - loss: 0.0152 - val_loss: 0.0138\n",
      "Epoch 35/60\n",
      "952/952 [==============================] - 5s 5ms/step - loss: 0.0138 - val_loss: 0.0189\n",
      "Epoch 36/60\n",
      "952/952 [==============================] - 5s 5ms/step - loss: 0.0146 - val_loss: 0.0134\n",
      "Epoch 37/60\n",
      "952/952 [==============================] - 5s 5ms/step - loss: 0.0122 - val_loss: 0.0119\n",
      "Epoch 38/60\n",
      "952/952 [==============================] - 5s 5ms/step - loss: 0.0122 - val_loss: 0.0171\n",
      "Epoch 39/60\n",
      "952/952 [==============================] - 5s 5ms/step - loss: 0.0114 - val_loss: 0.0101\n",
      "Epoch 40/60\n",
      "952/952 [==============================] - 5s 5ms/step - loss: 0.0114 - val_loss: 0.0105\n",
      "Epoch 41/60\n",
      "952/952 [==============================] - 5s 5ms/step - loss: 0.0109 - val_loss: 0.0096\n",
      "Epoch 42/60\n",
      "952/952 [==============================] - 4s 5ms/step - loss: 0.0110 - val_loss: 0.0127\n",
      "Epoch 43/60\n",
      "952/952 [==============================] - 4s 5ms/step - loss: 0.0103 - val_loss: 0.0098\n",
      "Epoch 44/60\n",
      "952/952 [==============================] - 5s 5ms/step - loss: 0.0100 - val_loss: 0.0099\n",
      "Epoch 45/60\n",
      "952/952 [==============================] - 5s 5ms/step - loss: 0.0093 - val_loss: 0.0097\n",
      "Epoch 46/60\n",
      "952/952 [==============================] - 5s 5ms/step - loss: 0.0096 - val_loss: 0.0092\n",
      "Epoch 47/60\n",
      "952/952 [==============================] - 4s 5ms/step - loss: 0.0098 - val_loss: 0.0094\n",
      "Epoch 48/60\n",
      "952/952 [==============================] - 4s 5ms/step - loss: 0.0094 - val_loss: 0.0092\n",
      "Epoch 49/60\n",
      "952/952 [==============================] - 5s 5ms/step - loss: 0.0089 - val_loss: 0.0103\n",
      "Epoch 50/60\n",
      "952/952 [==============================] - 5s 5ms/step - loss: 0.0089 - val_loss: 0.0092\n",
      "Epoch 51/60\n",
      "952/952 [==============================] - 5s 5ms/step - loss: 0.0091 - val_loss: 0.0111\n",
      "Epoch 52/60\n",
      "952/952 [==============================] - 5s 5ms/step - loss: 0.0085 - val_loss: 0.0093\n",
      "Epoch 53/60\n",
      "952/952 [==============================] - 4s 5ms/step - loss: 0.0085 - val_loss: 0.0098\n",
      "Epoch 54/60\n",
      "952/952 [==============================] - 5s 5ms/step - loss: 0.0091 - val_loss: 0.0091\n",
      "Epoch 55/60\n",
      "952/952 [==============================] - 4s 5ms/step - loss: 0.0092 - val_loss: 0.0087\n",
      "Epoch 56/60\n",
      "952/952 [==============================] - 5s 5ms/step - loss: 0.0086 - val_loss: 0.0091\n",
      "Epoch 57/60\n",
      "952/952 [==============================] - 4s 5ms/step - loss: 0.0089 - val_loss: 0.0100\n",
      "Epoch 58/60\n",
      "952/952 [==============================] - 4s 5ms/step - loss: 0.0084 - val_loss: 0.0087\n",
      "Epoch 59/60\n",
      "952/952 [==============================] - 5s 5ms/step - loss: 0.0083 - val_loss: 0.0087\n",
      "Epoch 60/60\n",
      "952/952 [==============================] - 5s 5ms/step - loss: 0.0083 - val_loss: 0.0097\n",
      "\n",
      "\n",
      "BUILDING MODEL 0 NORMALIZED\n",
      "\n",
      "\n",
      "Model: \"model_18\"\n",
      "__________________________________________________________________________________________________\n",
      "Layer (type)                    Output Shape         Param #     Connected to                     \n",
      "==================================================================================================\n",
      "input (InputLayer)              [(None, None, 4)]    0                                            \n",
      "__________________________________________________________________________________________________\n",
      "tdist_0 (TimeDistributed)       (None, None, 100)    500         input[0][0]                      \n",
      "__________________________________________________________________________________________________\n",
      "activation_126 (Activation)     (None, None, 100)    0           tdist_0[0][0]                    \n",
      "__________________________________________________________________________________________________\n",
      "tdist_1 (TimeDistributed)       (None, None, 100)    10100       activation_126[0][0]             \n",
      "__________________________________________________________________________________________________\n",
      "activation_127 (Activation)     (None, None, 100)    0           tdist_1[0][0]                    \n",
      "__________________________________________________________________________________________________\n",
      "tdist_2 (TimeDistributed)       (None, None, 128)    12928       activation_127[0][0]             \n",
      "__________________________________________________________________________________________________\n",
      "mask (Lambda)                   (None, None)         0           input[0][0]                      \n",
      "__________________________________________________________________________________________________\n",
      "activation_128 (Activation)     (None, None, 128)    0           tdist_2[0][0]                    \n",
      "__________________________________________________________________________________________________\n",
      "sum (Dot)                       (None, 128)          0           mask[0][0]                       \n",
      "                                                                 activation_128[0][0]             \n",
      "__________________________________________________________________________________________________\n",
      "dense_0 (Dense)                 (None, 100)          12900       sum[0][0]                        \n",
      "__________________________________________________________________________________________________\n",
      "activation_129 (Activation)     (None, 100)          0           dense_0[0][0]                    \n",
      "__________________________________________________________________________________________________\n",
      "dense_1 (Dense)                 (None, 100)          10100       activation_129[0][0]             \n",
      "__________________________________________________________________________________________________\n",
      "activation_130 (Activation)     (None, 100)          0           dense_1[0][0]                    \n",
      "__________________________________________________________________________________________________\n",
      "dense_2 (Dense)                 (None, 100)          10100       activation_130[0][0]             \n",
      "__________________________________________________________________________________________________\n",
      "activation_131 (Activation)     (None, 100)          0           dense_2[0][0]                    \n",
      "__________________________________________________________________________________________________\n",
      "output (Dense)                  (None, 1)            101         activation_131[0][0]             \n",
      "__________________________________________________________________________________________________\n",
      "activation_132 (Activation)     (None, 1)            0           output[0][0]                     \n",
      "==================================================================================================\n",
      "Total params: 56,729\n",
      "Trainable params: 56,729\n",
      "Non-trainable params: 0\n",
      "__________________________________________________________________________________________________\n",
      "\n",
      "\n",
      "TRAINING MODEL 0 NORMALIZED\n",
      "\n",
      "\n",
      "Epoch 1/60\n",
      "952/952 [==============================] - 6s 6ms/step - loss: 263.0678 - val_loss: 1.0589\n",
      "Epoch 2/60\n",
      "952/952 [==============================] - 4s 5ms/step - loss: 0.9338 - val_loss: 0.3011\n",
      "Epoch 3/60\n",
      "952/952 [==============================] - 5s 5ms/step - loss: 0.6158 - val_loss: 0.2194\n",
      "Epoch 4/60\n",
      "952/952 [==============================] - 5s 5ms/step - loss: 0.6011 - val_loss: 0.1791\n",
      "Epoch 5/60\n",
      "952/952 [==============================] - 5s 5ms/step - loss: 0.4023 - val_loss: 0.2238\n",
      "Epoch 6/60\n",
      "952/952 [==============================] - 5s 5ms/step - loss: 0.2869 - val_loss: 0.2012\n",
      "Epoch 7/60\n",
      "952/952 [==============================] - 5s 5ms/step - loss: 0.2168 - val_loss: 0.1485\n",
      "Epoch 8/60\n",
      "952/952 [==============================] - 5s 5ms/step - loss: 0.1952 - val_loss: 0.1246\n",
      "Epoch 9/60\n",
      "952/952 [==============================] - 5s 5ms/step - loss: 1.8596 - val_loss: 0.5081\n",
      "Epoch 10/60\n",
      "952/952 [==============================] - 5s 5ms/step - loss: 0.3707 - val_loss: 0.1729\n",
      "Epoch 11/60\n",
      "952/952 [==============================] - 4s 5ms/step - loss: 0.1718 - val_loss: 0.1221\n",
      "Epoch 12/60\n",
      "952/952 [==============================] - 5s 5ms/step - loss: 0.1472 - val_loss: 0.1146\n",
      "Epoch 13/60\n",
      "952/952 [==============================] - 5s 5ms/step - loss: 0.1317 - val_loss: 0.0987\n",
      "Epoch 14/60\n",
      "952/952 [==============================] - 5s 5ms/step - loss: 0.1090 - val_loss: 0.1049\n",
      "Epoch 15/60\n",
      "952/952 [==============================] - 4s 5ms/step - loss: 0.1043 - val_loss: 0.0898\n",
      "Epoch 16/60\n",
      "952/952 [==============================] - 5s 5ms/step - loss: 0.1021 - val_loss: 0.0974\n",
      "Epoch 17/60\n",
      "952/952 [==============================] - 4s 5ms/step - loss: 0.1000 - val_loss: 0.0877\n",
      "Epoch 18/60\n",
      "952/952 [==============================] - 5s 5ms/step - loss: 0.0935 - val_loss: 0.1018\n",
      "Epoch 19/60\n",
      "952/952 [==============================] - 5s 5ms/step - loss: 0.0918 - val_loss: 0.0899\n",
      "Epoch 20/60\n",
      "952/952 [==============================] - 5s 5ms/step - loss: 0.0911 - val_loss: 0.0778\n",
      "Epoch 21/60\n",
      "952/952 [==============================] - 5s 5ms/step - loss: 0.0869 - val_loss: 0.0831\n",
      "Epoch 22/60\n",
      "952/952 [==============================] - 4s 5ms/step - loss: 0.0839 - val_loss: 0.0783\n",
      "Epoch 23/60\n",
      "952/952 [==============================] - 5s 5ms/step - loss: 0.0801 - val_loss: 0.0744\n",
      "Epoch 24/60\n",
      "952/952 [==============================] - 5s 5ms/step - loss: 0.0770 - val_loss: 0.0768\n",
      "Epoch 25/60\n",
      "952/952 [==============================] - 5s 5ms/step - loss: 0.0752 - val_loss: 0.0740\n",
      "Epoch 26/60\n",
      "952/952 [==============================] - 5s 5ms/step - loss: 0.0708 - val_loss: 0.0724\n",
      "Epoch 27/60\n",
      "952/952 [==============================] - 4s 5ms/step - loss: 0.0673 - val_loss: 0.0695\n",
      "Epoch 28/60\n",
      "952/952 [==============================] - 5s 5ms/step - loss: 0.0633 - val_loss: 0.0640\n",
      "Epoch 29/60\n",
      "952/952 [==============================] - 5s 5ms/step - loss: 0.0640 - val_loss: 0.0613\n",
      "Epoch 30/60\n",
      "952/952 [==============================] - 5s 5ms/step - loss: 0.0610 - val_loss: 0.0567\n",
      "Epoch 31/60\n",
      "952/952 [==============================] - 5s 5ms/step - loss: 0.0576 - val_loss: 0.0568\n",
      "Epoch 32/60\n",
      "952/952 [==============================] - 4s 5ms/step - loss: 0.0569 - val_loss: 0.0626\n",
      "Epoch 33/60\n",
      "952/952 [==============================] - 5s 5ms/step - loss: 0.0552 - val_loss: 0.0567\n",
      "Epoch 34/60\n",
      "952/952 [==============================] - 5s 5ms/step - loss: 0.0531 - val_loss: 0.0550\n",
      "Epoch 35/60\n",
      "952/952 [==============================] - 5s 5ms/step - loss: 0.0518 - val_loss: 0.0550\n",
      "Epoch 36/60\n",
      "952/952 [==============================] - 5s 5ms/step - loss: 0.0521 - val_loss: 0.0543\n",
      "Epoch 37/60\n",
      "952/952 [==============================] - 5s 5ms/step - loss: 0.0502 - val_loss: 0.0526\n",
      "Epoch 38/60\n",
      "952/952 [==============================] - 4s 5ms/step - loss: 0.0492 - val_loss: 0.0543\n",
      "Epoch 39/60\n",
      "952/952 [==============================] - 5s 5ms/step - loss: 0.0490 - val_loss: 0.0564\n",
      "Epoch 40/60\n",
      "952/952 [==============================] - 5s 5ms/step - loss: 0.0482 - val_loss: 0.0511\n",
      "Epoch 41/60\n",
      "952/952 [==============================] - 5s 5ms/step - loss: 0.0471 - val_loss: 0.0504\n",
      "Epoch 42/60\n",
      "952/952 [==============================] - 5s 5ms/step - loss: 0.0462 - val_loss: 0.0513\n",
      "Epoch 43/60\n",
      "952/952 [==============================] - 5s 5ms/step - loss: 0.0451 - val_loss: 0.0532\n",
      "Epoch 44/60\n",
      "952/952 [==============================] - 5s 5ms/step - loss: 0.0451 - val_loss: 0.0503\n",
      "Epoch 45/60\n",
      "952/952 [==============================] - 4s 5ms/step - loss: 0.0447 - val_loss: 0.0558\n",
      "Epoch 46/60\n",
      "952/952 [==============================] - 5s 5ms/step - loss: 0.0437 - val_loss: 0.0519\n",
      "Epoch 47/60\n",
      "952/952 [==============================] - 5s 5ms/step - loss: 0.0432 - val_loss: 0.0548\n",
      "Epoch 48/60\n",
      "952/952 [==============================] - 4s 5ms/step - loss: 0.0436 - val_loss: 0.0526\n",
      "Epoch 49/60\n",
      "952/952 [==============================] - 5s 5ms/step - loss: 0.0428 - val_loss: 0.0491\n",
      "Epoch 50/60\n",
      "952/952 [==============================] - 5s 5ms/step - loss: 0.0426 - val_loss: 0.0516\n",
      "Epoch 51/60\n",
      "952/952 [==============================] - 5s 5ms/step - loss: 0.0421 - val_loss: 0.0503\n",
      "Epoch 52/60\n",
      "952/952 [==============================] - 4s 5ms/step - loss: 0.0413 - val_loss: 0.0490\n",
      "Epoch 53/60\n",
      "952/952 [==============================] - 4s 5ms/step - loss: 0.0411 - val_loss: 0.0492\n",
      "Epoch 54/60\n",
      "952/952 [==============================] - 4s 5ms/step - loss: 0.0400 - val_loss: 0.0489\n",
      "Epoch 55/60\n",
      "952/952 [==============================] - 5s 5ms/step - loss: 0.0404 - val_loss: 0.0475\n",
      "Epoch 56/60\n",
      "952/952 [==============================] - 5s 5ms/step - loss: 0.0395 - val_loss: 0.0495\n",
      "Epoch 57/60\n",
      "952/952 [==============================] - 5s 5ms/step - loss: 0.0397 - val_loss: 0.0476\n",
      "Epoch 58/60\n",
      "952/952 [==============================] - 5s 5ms/step - loss: 0.0382 - val_loss: 0.0499\n",
      "Epoch 59/60\n",
      "952/952 [==============================] - 5s 5ms/step - loss: 0.0378 - val_loss: 0.0482\n",
      "Epoch 60/60\n",
      "952/952 [==============================] - 4s 5ms/step - loss: 0.0372 - val_loss: 0.0523\n",
      "\n",
      "\n",
      "BUILDING MODEL 1 RAW\n",
      "\n",
      "\n",
      "Model: \"model_19\"\n",
      "__________________________________________________________________________________________________\n",
      "Layer (type)                    Output Shape         Param #     Connected to                     \n",
      "==================================================================================================\n",
      "input (InputLayer)              [(None, None, 4)]    0                                            \n",
      "__________________________________________________________________________________________________\n",
      "tdist_0 (TimeDistributed)       (None, None, 100)    500         input[0][0]                      \n",
      "__________________________________________________________________________________________________\n",
      "activation_133 (Activation)     (None, None, 100)    0           tdist_0[0][0]                    \n",
      "__________________________________________________________________________________________________\n",
      "tdist_1 (TimeDistributed)       (None, None, 100)    10100       activation_133[0][0]             \n",
      "__________________________________________________________________________________________________\n",
      "activation_134 (Activation)     (None, None, 100)    0           tdist_1[0][0]                    \n",
      "__________________________________________________________________________________________________\n",
      "tdist_2 (TimeDistributed)       (None, None, 128)    12928       activation_134[0][0]             \n",
      "__________________________________________________________________________________________________\n",
      "mask (Lambda)                   (None, None)         0           input[0][0]                      \n",
      "__________________________________________________________________________________________________\n",
      "activation_135 (Activation)     (None, None, 128)    0           tdist_2[0][0]                    \n",
      "__________________________________________________________________________________________________\n",
      "sum (Dot)                       (None, 128)          0           mask[0][0]                       \n",
      "                                                                 activation_135[0][0]             \n",
      "__________________________________________________________________________________________________\n",
      "dense_0 (Dense)                 (None, 100)          12900       sum[0][0]                        \n",
      "__________________________________________________________________________________________________\n",
      "activation_136 (Activation)     (None, 100)          0           dense_0[0][0]                    \n",
      "__________________________________________________________________________________________________\n",
      "dense_1 (Dense)                 (None, 100)          10100       activation_136[0][0]             \n",
      "__________________________________________________________________________________________________\n",
      "activation_137 (Activation)     (None, 100)          0           dense_1[0][0]                    \n",
      "__________________________________________________________________________________________________\n",
      "dense_2 (Dense)                 (None, 100)          10100       activation_137[0][0]             \n",
      "__________________________________________________________________________________________________\n",
      "activation_138 (Activation)     (None, 100)          0           dense_2[0][0]                    \n",
      "__________________________________________________________________________________________________\n",
      "output (Dense)                  (None, 1)            101         activation_138[0][0]             \n",
      "__________________________________________________________________________________________________\n",
      "activation_139 (Activation)     (None, 1)            0           output[0][0]                     \n",
      "==================================================================================================\n",
      "Total params: 56,729\n",
      "Trainable params: 56,729\n",
      "Non-trainable params: 0\n",
      "__________________________________________________________________________________________________\n",
      "\n",
      "\n",
      "TRAINING MODEL 1 RAW\n",
      "\n",
      "\n",
      "Epoch 1/60\n",
      "952/952 [==============================] - 7s 6ms/step - loss: 2444.7133 - val_loss: 5.4312\n",
      "Epoch 2/60\n",
      "952/952 [==============================] - 4s 5ms/step - loss: 4.7503 - val_loss: 64.9997\n",
      "Epoch 3/60\n",
      "952/952 [==============================] - 4s 5ms/step - loss: 13.6653 - val_loss: 2.7533\n",
      "Epoch 4/60\n",
      "952/952 [==============================] - 5s 5ms/step - loss: 3.0672 - val_loss: 1.2628\n",
      "Epoch 5/60\n",
      "952/952 [==============================] - 5s 5ms/step - loss: 6.6268 - val_loss: 0.1948\n",
      "Epoch 6/60\n",
      "952/952 [==============================] - 4s 5ms/step - loss: 0.4069 - val_loss: 2.7192\n",
      "Epoch 7/60\n",
      "952/952 [==============================] - 4s 5ms/step - loss: 0.4592 - val_loss: 1.8117\n",
      "Epoch 8/60\n",
      "952/952 [==============================] - 5s 5ms/step - loss: 4.4721 - val_loss: 0.1468\n",
      "Epoch 9/60\n",
      "952/952 [==============================] - 4s 5ms/step - loss: 0.1543 - val_loss: 0.0868\n",
      "Epoch 10/60\n",
      "952/952 [==============================] - 5s 5ms/step - loss: 0.0961 - val_loss: 0.0723\n",
      "Epoch 11/60\n",
      "952/952 [==============================] - 5s 5ms/step - loss: 0.0675 - val_loss: 0.2935\n",
      "Epoch 12/60\n",
      "952/952 [==============================] - 4s 5ms/step - loss: 0.1646 - val_loss: 0.0387\n",
      "Epoch 13/60\n",
      "952/952 [==============================] - 5s 5ms/step - loss: 0.0395 - val_loss: 0.0339\n",
      "Epoch 14/60\n",
      "952/952 [==============================] - 5s 5ms/step - loss: 12.7821 - val_loss: 0.1439\n",
      "Epoch 15/60\n",
      "952/952 [==============================] - 5s 5ms/step - loss: 0.0832 - val_loss: 0.0510\n",
      "Epoch 16/60\n",
      "952/952 [==============================] - 5s 5ms/step - loss: 0.0566 - val_loss: 0.0387\n",
      "Epoch 17/60\n",
      "952/952 [==============================] - 4s 5ms/step - loss: 0.0590 - val_loss: 0.0356\n",
      "Epoch 18/60\n",
      "952/952 [==============================] - 4s 5ms/step - loss: 0.0394 - val_loss: 0.0325\n",
      "Epoch 19/60\n",
      "952/952 [==============================] - 4s 5ms/step - loss: 0.0382 - val_loss: 0.0287\n",
      "Epoch 20/60\n",
      "952/952 [==============================] - 5s 5ms/step - loss: 0.0332 - val_loss: 0.0250\n",
      "Epoch 21/60\n",
      "952/952 [==============================] - 4s 5ms/step - loss: 0.0291 - val_loss: 0.0437\n",
      "Epoch 22/60\n",
      "952/952 [==============================] - 4s 5ms/step - loss: 0.0341 - val_loss: 0.0210\n",
      "Epoch 23/60\n",
      "952/952 [==============================] - 4s 5ms/step - loss: 0.0294 - val_loss: 0.0228\n",
      "Epoch 24/60\n",
      "952/952 [==============================] - 4s 5ms/step - loss: 0.0273 - val_loss: 0.3404\n",
      "Epoch 25/60\n",
      "952/952 [==============================] - 5s 5ms/step - loss: 0.1196 - val_loss: 0.1842\n",
      "Epoch 26/60\n",
      "952/952 [==============================] - 5s 5ms/step - loss: 0.0520 - val_loss: 0.0489\n",
      "Epoch 27/60\n",
      "952/952 [==============================] - 5s 5ms/step - loss: 0.0590 - val_loss: 0.0416\n",
      "Epoch 28/60\n",
      "952/952 [==============================] - 5s 5ms/step - loss: 0.0403 - val_loss: 0.0409\n",
      "Epoch 29/60\n",
      "952/952 [==============================] - 5s 5ms/step - loss: 0.0290 - val_loss: 0.0221\n",
      "Epoch 30/60\n",
      "952/952 [==============================] - 4s 5ms/step - loss: 0.0262 - val_loss: 0.0265\n",
      "Epoch 31/60\n",
      "952/952 [==============================] - 5s 5ms/step - loss: 0.0284 - val_loss: 0.0149\n",
      "Epoch 32/60\n",
      "952/952 [==============================] - 5s 5ms/step - loss: 0.0219 - val_loss: 0.0153\n",
      "Epoch 33/60\n",
      "952/952 [==============================] - 4s 5ms/step - loss: 0.0166 - val_loss: 0.0164\n",
      "Epoch 34/60\n",
      "952/952 [==============================] - 5s 5ms/step - loss: 0.0148 - val_loss: 0.0199\n",
      "Epoch 35/60\n",
      "952/952 [==============================] - 4s 5ms/step - loss: 0.0155 - val_loss: 0.0164\n",
      "Epoch 36/60\n",
      "952/952 [==============================] - 5s 5ms/step - loss: 0.0124 - val_loss: 0.0138\n",
      "Epoch 37/60\n",
      "952/952 [==============================] - 4s 5ms/step - loss: 0.0125 - val_loss: 0.0121\n",
      "Epoch 38/60\n",
      "952/952 [==============================] - 4s 5ms/step - loss: 0.0109 - val_loss: 0.0101\n",
      "Epoch 39/60\n",
      "952/952 [==============================] - 5s 5ms/step - loss: 0.0112 - val_loss: 0.0120\n",
      "Epoch 40/60\n",
      "952/952 [==============================] - 4s 5ms/step - loss: 0.0103 - val_loss: 0.0109\n",
      "Epoch 41/60\n",
      "952/952 [==============================] - 4s 5ms/step - loss: 0.0101 - val_loss: 0.0102\n",
      "Epoch 42/60\n",
      "952/952 [==============================] - 5s 5ms/step - loss: 0.0105 - val_loss: 0.0101\n",
      "Epoch 43/60\n",
      "952/952 [==============================] - 4s 5ms/step - loss: 0.0099 - val_loss: 0.0092\n",
      "Epoch 44/60\n",
      "952/952 [==============================] - 5s 5ms/step - loss: 0.0101 - val_loss: 0.0108\n",
      "Epoch 45/60\n",
      "952/952 [==============================] - 5s 5ms/step - loss: 0.0102 - val_loss: 0.0094\n",
      "Epoch 46/60\n",
      "952/952 [==============================] - 4s 5ms/step - loss: 0.0098 - val_loss: 0.0097\n",
      "Epoch 47/60\n",
      "952/952 [==============================] - 5s 5ms/step - loss: 0.0094 - val_loss: 0.0104\n",
      "Epoch 48/60\n",
      "952/952 [==============================] - 5s 5ms/step - loss: 0.0104 - val_loss: 0.0094\n",
      "Epoch 49/60\n",
      "952/952 [==============================] - 4s 5ms/step - loss: 0.0091 - val_loss: 0.0094\n",
      "Epoch 50/60\n",
      "952/952 [==============================] - 5s 5ms/step - loss: 0.0092 - val_loss: 0.0102\n",
      "Epoch 51/60\n",
      "952/952 [==============================] - 4s 5ms/step - loss: 0.0093 - val_loss: 0.0092\n",
      "Epoch 52/60\n",
      "952/952 [==============================] - 4s 5ms/step - loss: 0.0090 - val_loss: 0.0089\n",
      "Epoch 53/60\n",
      "952/952 [==============================] - 5s 5ms/step - loss: 0.0091 - val_loss: 0.0101\n",
      "Epoch 54/60\n",
      "952/952 [==============================] - 4s 5ms/step - loss: 0.0090 - val_loss: 0.0093\n",
      "Epoch 55/60\n",
      "952/952 [==============================] - 5s 5ms/step - loss: 0.0095 - val_loss: 0.0097\n",
      "Epoch 56/60\n",
      "952/952 [==============================] - 5s 5ms/step - loss: 0.0083 - val_loss: 0.0088\n",
      "Epoch 57/60\n",
      "952/952 [==============================] - 5s 5ms/step - loss: 0.0090 - val_loss: 0.0087\n",
      "Epoch 58/60\n",
      "952/952 [==============================] - 5s 5ms/step - loss: 0.0094 - val_loss: 0.0091\n",
      "Epoch 59/60\n",
      "952/952 [==============================] - 4s 5ms/step - loss: 0.0094 - val_loss: 0.0089\n",
      "Epoch 60/60\n",
      "952/952 [==============================] - 4s 5ms/step - loss: 0.0091 - val_loss: 0.0089\n",
      "\n",
      "\n",
      "BUILDING MODEL 1 NORMALIZED\n",
      "\n",
      "\n",
      "Model: \"model_20\"\n",
      "__________________________________________________________________________________________________\n",
      "Layer (type)                    Output Shape         Param #     Connected to                     \n",
      "==================================================================================================\n",
      "input (InputLayer)              [(None, None, 4)]    0                                            \n",
      "__________________________________________________________________________________________________\n",
      "tdist_0 (TimeDistributed)       (None, None, 100)    500         input[0][0]                      \n",
      "__________________________________________________________________________________________________\n",
      "activation_140 (Activation)     (None, None, 100)    0           tdist_0[0][0]                    \n",
      "__________________________________________________________________________________________________\n",
      "tdist_1 (TimeDistributed)       (None, None, 100)    10100       activation_140[0][0]             \n",
      "__________________________________________________________________________________________________\n",
      "activation_141 (Activation)     (None, None, 100)    0           tdist_1[0][0]                    \n",
      "__________________________________________________________________________________________________\n",
      "tdist_2 (TimeDistributed)       (None, None, 128)    12928       activation_141[0][0]             \n",
      "__________________________________________________________________________________________________\n",
      "mask (Lambda)                   (None, None)         0           input[0][0]                      \n",
      "__________________________________________________________________________________________________\n",
      "activation_142 (Activation)     (None, None, 128)    0           tdist_2[0][0]                    \n",
      "__________________________________________________________________________________________________\n",
      "sum (Dot)                       (None, 128)          0           mask[0][0]                       \n",
      "                                                                 activation_142[0][0]             \n",
      "__________________________________________________________________________________________________\n",
      "dense_0 (Dense)                 (None, 100)          12900       sum[0][0]                        \n",
      "__________________________________________________________________________________________________\n",
      "activation_143 (Activation)     (None, 100)          0           dense_0[0][0]                    \n",
      "__________________________________________________________________________________________________\n",
      "dense_1 (Dense)                 (None, 100)          10100       activation_143[0][0]             \n",
      "__________________________________________________________________________________________________\n",
      "activation_144 (Activation)     (None, 100)          0           dense_1[0][0]                    \n",
      "__________________________________________________________________________________________________\n",
      "dense_2 (Dense)                 (None, 100)          10100       activation_144[0][0]             \n",
      "__________________________________________________________________________________________________\n",
      "activation_145 (Activation)     (None, 100)          0           dense_2[0][0]                    \n",
      "__________________________________________________________________________________________________\n",
      "output (Dense)                  (None, 1)            101         activation_145[0][0]             \n",
      "__________________________________________________________________________________________________\n",
      "activation_146 (Activation)     (None, 1)            0           output[0][0]                     \n",
      "==================================================================================================\n",
      "Total params: 56,729\n",
      "Trainable params: 56,729\n",
      "Non-trainable params: 0\n",
      "__________________________________________________________________________________________________\n",
      "\n",
      "\n",
      "TRAINING MODEL 1 NORMALIZED\n",
      "\n",
      "\n",
      "Epoch 1/60\n",
      "952/952 [==============================] - 6s 6ms/step - loss: 745.3546 - val_loss: 1.0956\n",
      "Epoch 2/60\n",
      "952/952 [==============================] - 5s 5ms/step - loss: 6.0997 - val_loss: 2.6621\n",
      "Epoch 3/60\n",
      "952/952 [==============================] - 5s 5ms/step - loss: 0.9742 - val_loss: 2.6361\n",
      "Epoch 4/60\n",
      "952/952 [==============================] - 5s 5ms/step - loss: 1.3828 - val_loss: 0.4136\n",
      "Epoch 5/60\n",
      "952/952 [==============================] - 5s 5ms/step - loss: 1.0863 - val_loss: 0.2353\n",
      "Epoch 6/60\n",
      "952/952 [==============================] - 4s 5ms/step - loss: 0.6978 - val_loss: 0.2451\n",
      "Epoch 7/60\n",
      "952/952 [==============================] - 4s 5ms/step - loss: 0.3882 - val_loss: 0.1532\n",
      "Epoch 8/60\n",
      "952/952 [==============================] - 5s 5ms/step - loss: 0.2524 - val_loss: 0.3849\n",
      "Epoch 9/60\n",
      "952/952 [==============================] - 5s 5ms/step - loss: 0.2282 - val_loss: 0.1303\n",
      "Epoch 10/60\n",
      "952/952 [==============================] - 5s 5ms/step - loss: 0.1655 - val_loss: 0.3919\n",
      "Epoch 11/60\n",
      "952/952 [==============================] - 5s 5ms/step - loss: 0.1568 - val_loss: 0.1174\n",
      "Epoch 12/60\n",
      "952/952 [==============================] - 5s 5ms/step - loss: 0.1724 - val_loss: 13.5405\n",
      "Epoch 13/60\n",
      "952/952 [==============================] - 5s 5ms/step - loss: 0.9652 - val_loss: 0.1246\n",
      "Epoch 14/60\n",
      "952/952 [==============================] - 5s 5ms/step - loss: 0.1398 - val_loss: 0.1082\n",
      "Epoch 15/60\n",
      "952/952 [==============================] - 5s 5ms/step - loss: 0.1382 - val_loss: 0.1458\n",
      "Epoch 16/60\n",
      "952/952 [==============================] - 4s 5ms/step - loss: 0.1115 - val_loss: 0.1114\n",
      "Epoch 17/60\n",
      "952/952 [==============================] - 4s 5ms/step - loss: 0.1068 - val_loss: 0.1898\n",
      "Epoch 18/60\n",
      "952/952 [==============================] - 5s 5ms/step - loss: 0.1067 - val_loss: 0.0953\n",
      "Epoch 19/60\n",
      "952/952 [==============================] - 4s 5ms/step - loss: 0.0973 - val_loss: 0.0892\n",
      "Epoch 20/60\n",
      "952/952 [==============================] - 4s 5ms/step - loss: 0.0984 - val_loss: 0.0904\n",
      "Epoch 21/60\n",
      "952/952 [==============================] - 5s 5ms/step - loss: 0.0961 - val_loss: 0.0850\n",
      "Epoch 22/60\n",
      "952/952 [==============================] - 4s 5ms/step - loss: 0.0946 - val_loss: 0.0975\n",
      "Epoch 23/60\n",
      "952/952 [==============================] - 4s 5ms/step - loss: 0.0875 - val_loss: 0.0814\n",
      "Epoch 24/60\n",
      "952/952 [==============================] - 5s 5ms/step - loss: 0.0862 - val_loss: 0.0849\n",
      "Epoch 25/60\n",
      "952/952 [==============================] - 5s 5ms/step - loss: 0.0829 - val_loss: 0.0790\n",
      "Epoch 26/60\n",
      "952/952 [==============================] - 5s 5ms/step - loss: 0.0781 - val_loss: 0.0784\n",
      "Epoch 27/60\n",
      "952/952 [==============================] - 5s 5ms/step - loss: 0.0749 - val_loss: 0.0717\n",
      "Epoch 28/60\n",
      "952/952 [==============================] - 4s 5ms/step - loss: 0.0700 - val_loss: 0.0677\n",
      "Epoch 29/60\n",
      "952/952 [==============================] - 5s 5ms/step - loss: 0.0694 - val_loss: 0.0693\n",
      "Epoch 30/60\n",
      "952/952 [==============================] - 5s 5ms/step - loss: 0.0655 - val_loss: 0.0652\n",
      "Epoch 31/60\n",
      "952/952 [==============================] - 5s 5ms/step - loss: 0.0631 - val_loss: 0.0622\n",
      "Epoch 32/60\n",
      "952/952 [==============================] - 5s 5ms/step - loss: 0.0619 - val_loss: 0.0584\n",
      "Epoch 33/60\n",
      "952/952 [==============================] - 4s 5ms/step - loss: 0.0584 - val_loss: 0.0579\n",
      "Epoch 34/60\n",
      "952/952 [==============================] - 4s 4ms/step - loss: 0.0561 - val_loss: 0.0566\n",
      "Epoch 35/60\n",
      "952/952 [==============================] - 5s 5ms/step - loss: 0.0566 - val_loss: 0.0579\n",
      "Epoch 36/60\n",
      "952/952 [==============================] - 5s 5ms/step - loss: 0.0530 - val_loss: 0.0556\n",
      "Epoch 37/60\n",
      "952/952 [==============================] - 5s 5ms/step - loss: 0.0524 - val_loss: 0.0574\n",
      "Epoch 38/60\n",
      "952/952 [==============================] - 4s 5ms/step - loss: 0.0525 - val_loss: 0.0742\n",
      "Epoch 39/60\n",
      "952/952 [==============================] - 4s 5ms/step - loss: 0.0504 - val_loss: 0.0528\n",
      "Epoch 40/60\n",
      "952/952 [==============================] - 5s 5ms/step - loss: 0.0495 - val_loss: 0.0535\n",
      "Epoch 41/60\n",
      "952/952 [==============================] - 5s 5ms/step - loss: 0.0480 - val_loss: 0.0535\n",
      "Epoch 42/60\n",
      "952/952 [==============================] - 5s 5ms/step - loss: 0.0476 - val_loss: 0.0524\n",
      "Epoch 43/60\n",
      "952/952 [==============================] - 4s 5ms/step - loss: 0.0460 - val_loss: 0.0532\n",
      "Epoch 44/60\n",
      "952/952 [==============================] - 5s 5ms/step - loss: 0.0464 - val_loss: 0.0512\n",
      "Epoch 45/60\n",
      "952/952 [==============================] - 5s 5ms/step - loss: 0.0445 - val_loss: 0.0503\n",
      "Epoch 46/60\n",
      "952/952 [==============================] - 5s 5ms/step - loss: 0.0454 - val_loss: 0.0502\n",
      "Epoch 47/60\n",
      "952/952 [==============================] - 5s 5ms/step - loss: 0.0432 - val_loss: 0.0508\n",
      "Epoch 48/60\n",
      "952/952 [==============================] - 5s 5ms/step - loss: 0.0428 - val_loss: 0.0540\n",
      "Epoch 49/60\n",
      "952/952 [==============================] - 5s 5ms/step - loss: 0.0432 - val_loss: 0.0512\n",
      "Epoch 50/60\n",
      "952/952 [==============================] - 5s 5ms/step - loss: 0.0423 - val_loss: 0.0508\n",
      "Epoch 51/60\n",
      "952/952 [==============================] - 4s 5ms/step - loss: 0.0422 - val_loss: 0.0505\n",
      "Epoch 52/60\n",
      "952/952 [==============================] - 5s 5ms/step - loss: 0.0414 - val_loss: 0.0504\n",
      "Epoch 53/60\n",
      "952/952 [==============================] - 5s 5ms/step - loss: 0.0398 - val_loss: 0.0488\n",
      "Epoch 54/60\n",
      "952/952 [==============================] - 4s 5ms/step - loss: 0.0399 - val_loss: 0.0481\n",
      "Epoch 55/60\n",
      "952/952 [==============================] - 5s 5ms/step - loss: 0.0392 - val_loss: 0.0511\n",
      "Epoch 56/60\n",
      "952/952 [==============================] - 4s 5ms/step - loss: 0.0392 - val_loss: 0.0527\n",
      "Epoch 57/60\n",
      "952/952 [==============================] - 5s 5ms/step - loss: 0.0387 - val_loss: 0.0502\n",
      "Epoch 58/60\n",
      "952/952 [==============================] - 4s 5ms/step - loss: 0.0380 - val_loss: 0.0497\n",
      "Epoch 59/60\n",
      "952/952 [==============================] - 4s 5ms/step - loss: 0.0378 - val_loss: 0.0489\n",
      "Epoch 60/60\n",
      "952/952 [==============================] - 4s 5ms/step - loss: 0.0372 - val_loss: 0.0476\n",
      "\n",
      "\n",
      "BUILDING MODEL 2 RAW\n",
      "\n",
      "\n",
      "Model: \"model_21\"\n",
      "__________________________________________________________________________________________________\n",
      "Layer (type)                    Output Shape         Param #     Connected to                     \n",
      "==================================================================================================\n",
      "input (InputLayer)              [(None, None, 4)]    0                                            \n",
      "__________________________________________________________________________________________________\n",
      "tdist_0 (TimeDistributed)       (None, None, 100)    500         input[0][0]                      \n",
      "__________________________________________________________________________________________________\n",
      "activation_147 (Activation)     (None, None, 100)    0           tdist_0[0][0]                    \n",
      "__________________________________________________________________________________________________\n",
      "tdist_1 (TimeDistributed)       (None, None, 100)    10100       activation_147[0][0]             \n",
      "__________________________________________________________________________________________________\n",
      "activation_148 (Activation)     (None, None, 100)    0           tdist_1[0][0]                    \n",
      "__________________________________________________________________________________________________\n",
      "tdist_2 (TimeDistributed)       (None, None, 128)    12928       activation_148[0][0]             \n",
      "__________________________________________________________________________________________________\n",
      "mask (Lambda)                   (None, None)         0           input[0][0]                      \n",
      "__________________________________________________________________________________________________\n",
      "activation_149 (Activation)     (None, None, 128)    0           tdist_2[0][0]                    \n",
      "__________________________________________________________________________________________________\n",
      "sum (Dot)                       (None, 128)          0           mask[0][0]                       \n",
      "                                                                 activation_149[0][0]             \n",
      "__________________________________________________________________________________________________\n",
      "dense_0 (Dense)                 (None, 100)          12900       sum[0][0]                        \n",
      "__________________________________________________________________________________________________\n",
      "activation_150 (Activation)     (None, 100)          0           dense_0[0][0]                    \n",
      "__________________________________________________________________________________________________\n",
      "dense_1 (Dense)                 (None, 100)          10100       activation_150[0][0]             \n",
      "__________________________________________________________________________________________________\n",
      "activation_151 (Activation)     (None, 100)          0           dense_1[0][0]                    \n",
      "__________________________________________________________________________________________________\n",
      "dense_2 (Dense)                 (None, 100)          10100       activation_151[0][0]             \n",
      "__________________________________________________________________________________________________\n",
      "activation_152 (Activation)     (None, 100)          0           dense_2[0][0]                    \n",
      "__________________________________________________________________________________________________\n",
      "output (Dense)                  (None, 1)            101         activation_152[0][0]             \n",
      "__________________________________________________________________________________________________\n",
      "activation_153 (Activation)     (None, 1)            0           output[0][0]                     \n",
      "==================================================================================================\n",
      "Total params: 56,729\n",
      "Trainable params: 56,729\n",
      "Non-trainable params: 0\n",
      "__________________________________________________________________________________________________\n",
      "\n",
      "\n",
      "TRAINING MODEL 2 RAW\n",
      "\n",
      "\n",
      "Epoch 1/60\n",
      "952/952 [==============================] - 7s 6ms/step - loss: 2602.3311 - val_loss: 2.9613\n",
      "Epoch 2/60\n",
      "952/952 [==============================] - 4s 5ms/step - loss: 13.5308 - val_loss: 1.2916\n",
      "Epoch 3/60\n",
      "952/952 [==============================] - 4s 5ms/step - loss: 0.7707 - val_loss: 0.5712\n",
      "Epoch 4/60\n",
      "952/952 [==============================] - 5s 5ms/step - loss: 2.4394 - val_loss: 0.3778\n",
      "Epoch 5/60\n",
      "952/952 [==============================] - 4s 5ms/step - loss: 0.7003 - val_loss: 0.4950\n",
      "Epoch 6/60\n",
      "952/952 [==============================] - 5s 5ms/step - loss: 0.8200 - val_loss: 1.7052\n",
      "Epoch 7/60\n",
      "952/952 [==============================] - 4s 5ms/step - loss: 0.5072 - val_loss: 0.5629\n",
      "Epoch 8/60\n",
      "952/952 [==============================] - 4s 5ms/step - loss: 0.6116 - val_loss: 0.2400\n",
      "Epoch 9/60\n",
      "952/952 [==============================] - 5s 5ms/step - loss: 0.3363 - val_loss: 0.2282\n",
      "Epoch 10/60\n",
      "952/952 [==============================] - 4s 5ms/step - loss: 27.3111 - val_loss: 1.1662\n",
      "Epoch 11/60\n",
      "952/952 [==============================] - 5s 5ms/step - loss: 0.4534 - val_loss: 0.3696\n",
      "Epoch 12/60\n",
      "952/952 [==============================] - 5s 5ms/step - loss: 0.3912 - val_loss: 0.3149\n",
      "Epoch 13/60\n",
      "952/952 [==============================] - 4s 5ms/step - loss: 0.4473 - val_loss: 0.2689\n",
      "Epoch 14/60\n",
      "952/952 [==============================] - 5s 5ms/step - loss: 0.4652 - val_loss: 0.2487\n",
      "Epoch 15/60\n",
      "952/952 [==============================] - 5s 5ms/step - loss: 0.2307 - val_loss: 0.0970\n",
      "Epoch 16/60\n",
      "952/952 [==============================] - 5s 5ms/step - loss: 0.1256 - val_loss: 0.0534\n",
      "Epoch 17/60\n",
      "952/952 [==============================] - 5s 5ms/step - loss: 0.0822 - val_loss: 0.0710\n",
      "Epoch 18/60\n",
      "952/952 [==============================] - 4s 5ms/step - loss: 0.0510 - val_loss: 0.0280\n",
      "Epoch 19/60\n",
      "952/952 [==============================] - 5s 5ms/step - loss: 0.0389 - val_loss: 0.0610\n",
      "Epoch 20/60\n",
      "952/952 [==============================] - 5s 5ms/step - loss: 0.0353 - val_loss: 0.0412\n",
      "Epoch 21/60\n",
      "952/952 [==============================] - 5s 5ms/step - loss: 0.0279 - val_loss: 0.0249\n",
      "Epoch 22/60\n",
      "952/952 [==============================] - 5s 5ms/step - loss: 0.0267 - val_loss: 0.0410\n",
      "Epoch 23/60\n",
      "952/952 [==============================] - 5s 5ms/step - loss: 0.0338 - val_loss: 0.0201\n",
      "Epoch 24/60\n",
      "952/952 [==============================] - 5s 5ms/step - loss: 0.0210 - val_loss: 0.0373\n",
      "Epoch 25/60\n",
      "952/952 [==============================] - 5s 5ms/step - loss: 0.0378 - val_loss: 0.0180\n",
      "Epoch 26/60\n",
      "952/952 [==============================] - 5s 5ms/step - loss: 0.0170 - val_loss: 0.0184\n",
      "Epoch 27/60\n",
      "952/952 [==============================] - 5s 5ms/step - loss: 0.0149 - val_loss: 0.0148\n",
      "Epoch 28/60\n",
      "952/952 [==============================] - 5s 5ms/step - loss: 0.0141 - val_loss: 0.0143\n",
      "Epoch 29/60\n",
      "952/952 [==============================] - 4s 5ms/step - loss: 0.0147 - val_loss: 0.0120\n",
      "Epoch 30/60\n",
      "952/952 [==============================] - 5s 5ms/step - loss: 0.0127 - val_loss: 0.0130\n",
      "Epoch 31/60\n",
      "952/952 [==============================] - 5s 5ms/step - loss: 0.0123 - val_loss: 0.0142\n",
      "Epoch 32/60\n",
      "952/952 [==============================] - 4s 5ms/step - loss: 0.0120 - val_loss: 0.0107\n",
      "Epoch 33/60\n",
      "952/952 [==============================] - 4s 5ms/step - loss: 0.0111 - val_loss: 0.0134\n",
      "Epoch 34/60\n",
      "952/952 [==============================] - 4s 5ms/step - loss: 0.0108 - val_loss: 0.0113\n",
      "Epoch 35/60\n",
      "952/952 [==============================] - 4s 5ms/step - loss: 0.0100 - val_loss: 0.0100\n",
      "Epoch 36/60\n",
      "952/952 [==============================] - 4s 5ms/step - loss: 0.0107 - val_loss: 0.0098\n",
      "Epoch 37/60\n",
      "952/952 [==============================] - 4s 5ms/step - loss: 0.0103 - val_loss: 0.0127\n",
      "Epoch 38/60\n",
      "952/952 [==============================] - 5s 5ms/step - loss: 0.0104 - val_loss: 0.0118\n",
      "Epoch 39/60\n",
      "952/952 [==============================] - 5s 5ms/step - loss: 0.0097 - val_loss: 0.0107\n",
      "Epoch 40/60\n",
      "952/952 [==============================] - 4s 5ms/step - loss: 0.0093 - val_loss: 0.0155\n",
      "Epoch 41/60\n",
      "952/952 [==============================] - 5s 5ms/step - loss: 0.0098 - val_loss: 0.0105\n",
      "Epoch 42/60\n",
      "952/952 [==============================] - 5s 5ms/step - loss: 0.0099 - val_loss: 0.0113\n",
      "Epoch 43/60\n",
      "952/952 [==============================] - 4s 5ms/step - loss: 0.0096 - val_loss: 0.0094\n",
      "Epoch 44/60\n",
      "952/952 [==============================] - 4s 5ms/step - loss: 0.0092 - val_loss: 0.0091\n",
      "Epoch 45/60\n",
      "952/952 [==============================] - 5s 5ms/step - loss: 0.0090 - val_loss: 0.0116\n",
      "Epoch 46/60\n",
      "952/952 [==============================] - 5s 5ms/step - loss: 0.0091 - val_loss: 0.0091\n",
      "Epoch 47/60\n",
      "952/952 [==============================] - 4s 5ms/step - loss: 0.0095 - val_loss: 0.0091\n",
      "Epoch 48/60\n",
      "952/952 [==============================] - 5s 5ms/step - loss: 0.0086 - val_loss: 0.0089\n",
      "Epoch 49/60\n",
      "952/952 [==============================] - 5s 5ms/step - loss: 0.0090 - val_loss: 0.0093\n",
      "Epoch 50/60\n",
      "952/952 [==============================] - 5s 5ms/step - loss: 0.0089 - val_loss: 0.0090\n",
      "Epoch 51/60\n",
      "952/952 [==============================] - 5s 5ms/step - loss: 0.0093 - val_loss: 0.0088\n",
      "Epoch 52/60\n",
      "952/952 [==============================] - 5s 5ms/step - loss: 0.0088 - val_loss: 0.0088\n",
      "Epoch 53/60\n",
      "952/952 [==============================] - 5s 5ms/step - loss: 0.0087 - val_loss: 0.0093\n",
      "Epoch 54/60\n",
      "952/952 [==============================] - 5s 5ms/step - loss: 0.0088 - val_loss: 0.0087\n",
      "Epoch 55/60\n",
      "952/952 [==============================] - 4s 5ms/step - loss: 0.0081 - val_loss: 0.0088\n",
      "Epoch 56/60\n",
      "952/952 [==============================] - 5s 5ms/step - loss: 0.0083 - val_loss: 0.0093\n",
      "Epoch 57/60\n",
      "952/952 [==============================] - 5s 5ms/step - loss: 0.0087 - val_loss: 0.0095\n",
      "Epoch 58/60\n",
      "952/952 [==============================] - 5s 5ms/step - loss: 0.0087 - val_loss: 0.0093\n",
      "Epoch 59/60\n",
      "952/952 [==============================] - 5s 5ms/step - loss: 0.0088 - val_loss: 0.0089\n",
      "Epoch 60/60\n",
      "952/952 [==============================] - 5s 5ms/step - loss: 0.0086 - val_loss: 0.0089\n",
      "\n",
      "\n",
      "BUILDING MODEL 2 NORMALIZED\n",
      "\n",
      "\n",
      "Model: \"model_22\"\n",
      "__________________________________________________________________________________________________\n",
      "Layer (type)                    Output Shape         Param #     Connected to                     \n",
      "==================================================================================================\n",
      "input (InputLayer)              [(None, None, 4)]    0                                            \n",
      "__________________________________________________________________________________________________\n",
      "tdist_0 (TimeDistributed)       (None, None, 100)    500         input[0][0]                      \n",
      "__________________________________________________________________________________________________\n",
      "activation_154 (Activation)     (None, None, 100)    0           tdist_0[0][0]                    \n",
      "__________________________________________________________________________________________________\n",
      "tdist_1 (TimeDistributed)       (None, None, 100)    10100       activation_154[0][0]             \n",
      "__________________________________________________________________________________________________\n",
      "activation_155 (Activation)     (None, None, 100)    0           tdist_1[0][0]                    \n",
      "__________________________________________________________________________________________________\n",
      "tdist_2 (TimeDistributed)       (None, None, 128)    12928       activation_155[0][0]             \n",
      "__________________________________________________________________________________________________\n",
      "mask (Lambda)                   (None, None)         0           input[0][0]                      \n",
      "__________________________________________________________________________________________________\n",
      "activation_156 (Activation)     (None, None, 128)    0           tdist_2[0][0]                    \n",
      "__________________________________________________________________________________________________\n",
      "sum (Dot)                       (None, 128)          0           mask[0][0]                       \n",
      "                                                                 activation_156[0][0]             \n",
      "__________________________________________________________________________________________________\n",
      "dense_0 (Dense)                 (None, 100)          12900       sum[0][0]                        \n",
      "__________________________________________________________________________________________________\n",
      "activation_157 (Activation)     (None, 100)          0           dense_0[0][0]                    \n",
      "__________________________________________________________________________________________________\n",
      "dense_1 (Dense)                 (None, 100)          10100       activation_157[0][0]             \n",
      "__________________________________________________________________________________________________\n",
      "activation_158 (Activation)     (None, 100)          0           dense_1[0][0]                    \n",
      "__________________________________________________________________________________________________\n",
      "dense_2 (Dense)                 (None, 100)          10100       activation_158[0][0]             \n",
      "__________________________________________________________________________________________________\n",
      "activation_159 (Activation)     (None, 100)          0           dense_2[0][0]                    \n",
      "__________________________________________________________________________________________________\n",
      "output (Dense)                  (None, 1)            101         activation_159[0][0]             \n",
      "__________________________________________________________________________________________________\n",
      "activation_160 (Activation)     (None, 1)            0           output[0][0]                     \n",
      "==================================================================================================\n",
      "Total params: 56,729\n",
      "Trainable params: 56,729\n",
      "Non-trainable params: 0\n",
      "__________________________________________________________________________________________________\n",
      "\n",
      "\n",
      "TRAINING MODEL 2 NORMALIZED\n",
      "\n",
      "\n",
      "Epoch 1/60\n",
      "952/952 [==============================] - 6s 6ms/step - loss: 136.8737 - val_loss: 1.9080\n",
      "Epoch 2/60\n",
      "952/952 [==============================] - 5s 5ms/step - loss: 4.9699 - val_loss: 0.4170\n",
      "Epoch 3/60\n",
      "952/952 [==============================] - 4s 5ms/step - loss: 1.5857 - val_loss: 0.2859\n",
      "Epoch 4/60\n",
      "952/952 [==============================] - 5s 5ms/step - loss: 0.4114 - val_loss: 0.6188\n",
      "Epoch 5/60\n",
      "952/952 [==============================] - 5s 5ms/step - loss: 0.3849 - val_loss: 0.2568\n",
      "Epoch 6/60\n",
      "952/952 [==============================] - 4s 5ms/step - loss: 0.3132 - val_loss: 0.1677\n",
      "Epoch 7/60\n",
      "952/952 [==============================] - 5s 5ms/step - loss: 1.7026 - val_loss: 0.1774\n",
      "Epoch 8/60\n",
      "952/952 [==============================] - 4s 5ms/step - loss: 0.1682 - val_loss: 0.1283\n",
      "Epoch 9/60\n",
      "952/952 [==============================] - 5s 5ms/step - loss: 0.1447 - val_loss: 0.1267\n",
      "Epoch 10/60\n",
      "952/952 [==============================] - 5s 5ms/step - loss: 0.1226 - val_loss: 0.0982\n",
      "Epoch 11/60\n",
      "952/952 [==============================] - 5s 5ms/step - loss: 0.1067 - val_loss: 0.0919\n",
      "Epoch 12/60\n",
      "952/952 [==============================] - 5s 5ms/step - loss: 0.0951 - val_loss: 0.0888\n",
      "Epoch 13/60\n",
      "952/952 [==============================] - 4s 5ms/step - loss: 0.0958 - val_loss: 0.1458\n",
      "Epoch 14/60\n",
      "952/952 [==============================] - 5s 5ms/step - loss: 0.0908 - val_loss: 0.0919\n",
      "Epoch 15/60\n",
      "952/952 [==============================] - 4s 5ms/step - loss: 0.0902 - val_loss: 0.0858\n",
      "Epoch 16/60\n",
      "952/952 [==============================] - 4s 5ms/step - loss: 0.6606 - val_loss: 0.2339\n",
      "Epoch 17/60\n",
      "952/952 [==============================] - 4s 5ms/step - loss: 0.1571 - val_loss: 0.1093\n",
      "Epoch 18/60\n",
      "952/952 [==============================] - 5s 5ms/step - loss: 0.1151 - val_loss: 0.2487\n",
      "Epoch 19/60\n",
      "952/952 [==============================] - 5s 5ms/step - loss: 0.1050 - val_loss: 0.1135\n",
      "Epoch 20/60\n",
      "952/952 [==============================] - 5s 5ms/step - loss: 0.0947 - val_loss: 0.1227\n",
      "Epoch 21/60\n",
      "952/952 [==============================] - 5s 5ms/step - loss: 0.0897 - val_loss: 0.0822\n",
      "Epoch 22/60\n",
      "952/952 [==============================] - 4s 5ms/step - loss: 0.0839 - val_loss: 0.0779\n",
      "Epoch 23/60\n",
      "952/952 [==============================] - 5s 5ms/step - loss: 0.0822 - val_loss: 0.0773\n",
      "Epoch 24/60\n",
      "952/952 [==============================] - 4s 5ms/step - loss: 0.0786 - val_loss: 0.0711\n",
      "Epoch 25/60\n",
      "952/952 [==============================] - 5s 5ms/step - loss: 0.0760 - val_loss: 0.0694\n",
      "Epoch 26/60\n",
      "952/952 [==============================] - 5s 5ms/step - loss: 0.0697 - val_loss: 0.0835\n",
      "Epoch 27/60\n",
      "952/952 [==============================] - 5s 5ms/step - loss: 0.0703 - val_loss: 0.0660\n",
      "Epoch 28/60\n",
      "952/952 [==============================] - 4s 5ms/step - loss: 0.0672 - val_loss: 0.0675\n",
      "Epoch 29/60\n",
      "952/952 [==============================] - 5s 5ms/step - loss: 0.0623 - val_loss: 0.0661\n",
      "Epoch 30/60\n",
      "952/952 [==============================] - 5s 5ms/step - loss: 0.0613 - val_loss: 0.0579\n",
      "Epoch 31/60\n",
      "952/952 [==============================] - 5s 5ms/step - loss: 0.0583 - val_loss: 0.0576\n",
      "Epoch 32/60\n",
      "952/952 [==============================] - 5s 5ms/step - loss: 0.0568 - val_loss: 0.0568\n",
      "Epoch 33/60\n",
      "952/952 [==============================] - 4s 5ms/step - loss: 0.0537 - val_loss: 0.0543\n",
      "Epoch 34/60\n",
      "952/952 [==============================] - 4s 5ms/step - loss: 0.0542 - val_loss: 0.0546\n",
      "Epoch 35/60\n",
      "952/952 [==============================] - 5s 5ms/step - loss: 0.0516 - val_loss: 0.0556\n",
      "Epoch 36/60\n",
      "952/952 [==============================] - 4s 5ms/step - loss: 0.0508 - val_loss: 0.0553\n",
      "Epoch 37/60\n",
      "952/952 [==============================] - 5s 5ms/step - loss: 0.0498 - val_loss: 0.0511\n",
      "Epoch 38/60\n",
      "952/952 [==============================] - 4s 5ms/step - loss: 0.0488 - val_loss: 0.0533\n",
      "Epoch 39/60\n",
      "952/952 [==============================] - 5s 5ms/step - loss: 0.0487 - val_loss: 0.0505\n",
      "Epoch 40/60\n",
      "952/952 [==============================] - 5s 5ms/step - loss: 0.0475 - val_loss: 0.0510\n",
      "Epoch 41/60\n",
      "952/952 [==============================] - 5s 5ms/step - loss: 0.0465 - val_loss: 0.0533\n",
      "Epoch 42/60\n",
      "952/952 [==============================] - 5s 5ms/step - loss: 0.0451 - val_loss: 0.0513\n",
      "Epoch 43/60\n",
      "952/952 [==============================] - 5s 5ms/step - loss: 0.0446 - val_loss: 0.0511\n",
      "Epoch 44/60\n",
      "952/952 [==============================] - 5s 5ms/step - loss: 0.0442 - val_loss: 0.0496\n",
      "Epoch 45/60\n",
      "952/952 [==============================] - 5s 5ms/step - loss: 0.0429 - val_loss: 0.0523\n",
      "Epoch 46/60\n",
      "952/952 [==============================] - 5s 5ms/step - loss: 0.0423 - val_loss: 0.0486\n",
      "Epoch 47/60\n",
      "952/952 [==============================] - 5s 5ms/step - loss: 0.0427 - val_loss: 0.0520\n",
      "Epoch 48/60\n",
      "952/952 [==============================] - 4s 5ms/step - loss: 0.0407 - val_loss: 0.0537\n",
      "Epoch 49/60\n",
      "952/952 [==============================] - 5s 5ms/step - loss: 0.0414 - val_loss: 0.0531\n",
      "Epoch 50/60\n",
      "952/952 [==============================] - 5s 5ms/step - loss: 0.0393 - val_loss: 0.0518\n",
      "Epoch 51/60\n",
      "952/952 [==============================] - 5s 5ms/step - loss: 0.0395 - val_loss: 0.0503\n",
      "Epoch 52/60\n",
      "952/952 [==============================] - 5s 5ms/step - loss: 0.0390 - val_loss: 0.0536\n",
      "Epoch 53/60\n",
      "952/952 [==============================] - 5s 5ms/step - loss: 0.0383 - val_loss: 0.0488\n",
      "Epoch 54/60\n",
      "952/952 [==============================] - 5s 5ms/step - loss: 0.0378 - val_loss: 0.0473\n",
      "Epoch 55/60\n",
      "952/952 [==============================] - 4s 5ms/step - loss: 0.0367 - val_loss: 0.0471\n",
      "Epoch 56/60\n",
      "952/952 [==============================] - 4s 5ms/step - loss: 0.0366 - val_loss: 0.0498\n",
      "Epoch 57/60\n",
      "952/952 [==============================] - 5s 5ms/step - loss: 0.0364 - val_loss: 0.0483\n",
      "Epoch 58/60\n",
      "952/952 [==============================] - 5s 5ms/step - loss: 0.0360 - val_loss: 0.0536\n",
      "Epoch 59/60\n",
      "952/952 [==============================] - 5s 5ms/step - loss: 0.0358 - val_loss: 0.0487\n",
      "Epoch 60/60\n",
      "952/952 [==============================] - 5s 5ms/step - loss: 0.0360 - val_loss: 0.0470\n",
      "\n",
      "\n",
      "BUILDING MODEL 3 RAW\n",
      "\n",
      "\n",
      "Model: \"model_23\"\n",
      "__________________________________________________________________________________________________\n",
      "Layer (type)                    Output Shape         Param #     Connected to                     \n",
      "==================================================================================================\n",
      "input (InputLayer)              [(None, None, 4)]    0                                            \n",
      "__________________________________________________________________________________________________\n",
      "tdist_0 (TimeDistributed)       (None, None, 100)    500         input[0][0]                      \n",
      "__________________________________________________________________________________________________\n",
      "activation_161 (Activation)     (None, None, 100)    0           tdist_0[0][0]                    \n",
      "__________________________________________________________________________________________________\n",
      "tdist_1 (TimeDistributed)       (None, None, 100)    10100       activation_161[0][0]             \n",
      "__________________________________________________________________________________________________\n",
      "activation_162 (Activation)     (None, None, 100)    0           tdist_1[0][0]                    \n",
      "__________________________________________________________________________________________________\n",
      "tdist_2 (TimeDistributed)       (None, None, 128)    12928       activation_162[0][0]             \n",
      "__________________________________________________________________________________________________\n",
      "mask (Lambda)                   (None, None)         0           input[0][0]                      \n",
      "__________________________________________________________________________________________________\n",
      "activation_163 (Activation)     (None, None, 128)    0           tdist_2[0][0]                    \n",
      "__________________________________________________________________________________________________\n",
      "sum (Dot)                       (None, 128)          0           mask[0][0]                       \n",
      "                                                                 activation_163[0][0]             \n",
      "__________________________________________________________________________________________________\n",
      "dense_0 (Dense)                 (None, 100)          12900       sum[0][0]                        \n",
      "__________________________________________________________________________________________________\n",
      "activation_164 (Activation)     (None, 100)          0           dense_0[0][0]                    \n",
      "__________________________________________________________________________________________________\n",
      "dense_1 (Dense)                 (None, 100)          10100       activation_164[0][0]             \n",
      "__________________________________________________________________________________________________\n",
      "activation_165 (Activation)     (None, 100)          0           dense_1[0][0]                    \n",
      "__________________________________________________________________________________________________\n",
      "dense_2 (Dense)                 (None, 100)          10100       activation_165[0][0]             \n",
      "__________________________________________________________________________________________________\n",
      "activation_166 (Activation)     (None, 100)          0           dense_2[0][0]                    \n",
      "__________________________________________________________________________________________________\n",
      "output (Dense)                  (None, 1)            101         activation_166[0][0]             \n",
      "__________________________________________________________________________________________________\n",
      "activation_167 (Activation)     (None, 1)            0           output[0][0]                     \n",
      "==================================================================================================\n",
      "Total params: 56,729\n",
      "Trainable params: 56,729\n",
      "Non-trainable params: 0\n",
      "__________________________________________________________________________________________________\n",
      "\n",
      "\n",
      "TRAINING MODEL 3 RAW\n",
      "\n",
      "\n",
      "Epoch 1/60\n",
      "952/952 [==============================] - 6s 6ms/step - loss: 710.4180 - val_loss: 2.5404\n",
      "Epoch 2/60\n",
      "952/952 [==============================] - 5s 5ms/step - loss: 9.1936 - val_loss: 1.2033\n",
      "Epoch 3/60\n",
      "952/952 [==============================] - 5s 5ms/step - loss: 1.1668 - val_loss: 0.5853\n",
      "Epoch 4/60\n",
      "952/952 [==============================] - 5s 5ms/step - loss: 3.9069 - val_loss: 1.9836\n",
      "Epoch 5/60\n",
      "952/952 [==============================] - 5s 5ms/step - loss: 0.4782 - val_loss: 0.2731\n",
      "Epoch 6/60\n",
      "952/952 [==============================] - 5s 5ms/step - loss: 0.2334 - val_loss: 0.1829\n",
      "Epoch 7/60\n",
      "952/952 [==============================] - 4s 5ms/step - loss: 0.8087 - val_loss: 0.5184\n",
      "Epoch 8/60\n",
      "952/952 [==============================] - 4s 5ms/step - loss: 0.3437 - val_loss: 0.2104\n",
      "Epoch 9/60\n",
      "952/952 [==============================] - 5s 5ms/step - loss: 0.1866 - val_loss: 0.0943\n",
      "Epoch 10/60\n",
      "952/952 [==============================] - 4s 5ms/step - loss: 0.2028 - val_loss: 0.1753\n",
      "Epoch 11/60\n",
      "952/952 [==============================] - 5s 5ms/step - loss: 0.1196 - val_loss: 0.0688\n",
      "Epoch 12/60\n",
      "952/952 [==============================] - 5s 5ms/step - loss: 0.0694 - val_loss: 0.1234\n",
      "Epoch 13/60\n",
      "952/952 [==============================] - 5s 5ms/step - loss: 0.0544 - val_loss: 0.0626\n",
      "Epoch 14/60\n",
      "952/952 [==============================] - 5s 5ms/step - loss: 0.0356 - val_loss: 0.0275\n",
      "Epoch 15/60\n",
      "952/952 [==============================] - 5s 5ms/step - loss: 16.1308 - val_loss: 0.0723\n",
      "Epoch 16/60\n",
      "952/952 [==============================] - 5s 5ms/step - loss: 0.0990 - val_loss: 0.0567\n",
      "Epoch 17/60\n",
      "952/952 [==============================] - 5s 5ms/step - loss: 0.1053 - val_loss: 0.0420\n",
      "Epoch 18/60\n",
      "952/952 [==============================] - 5s 5ms/step - loss: 0.1338 - val_loss: 0.0887\n",
      "Epoch 19/60\n",
      "952/952 [==============================] - 5s 5ms/step - loss: 0.0770 - val_loss: 0.1037\n",
      "Epoch 20/60\n",
      "952/952 [==============================] - 5s 5ms/step - loss: 0.0587 - val_loss: 0.0352\n",
      "Epoch 21/60\n",
      "952/952 [==============================] - 5s 5ms/step - loss: 0.0550 - val_loss: 0.0408\n",
      "Epoch 22/60\n",
      "952/952 [==============================] - 4s 5ms/step - loss: 0.0377 - val_loss: 0.0773\n",
      "Epoch 23/60\n",
      "952/952 [==============================] - 5s 5ms/step - loss: 0.0352 - val_loss: 0.0259\n",
      "Epoch 24/60\n",
      "952/952 [==============================] - 5s 5ms/step - loss: 0.0285 - val_loss: 0.0214\n",
      "Epoch 25/60\n",
      "952/952 [==============================] - 5s 5ms/step - loss: 0.0252 - val_loss: 0.0189\n",
      "Epoch 26/60\n",
      "952/952 [==============================] - 5s 5ms/step - loss: 0.1538 - val_loss: 0.0228\n",
      "Epoch 27/60\n",
      "952/952 [==============================] - 5s 5ms/step - loss: 0.0211 - val_loss: 0.0176\n",
      "Epoch 28/60\n",
      "952/952 [==============================] - 4s 5ms/step - loss: 0.0170 - val_loss: 0.0148\n",
      "Epoch 29/60\n",
      "952/952 [==============================] - 5s 5ms/step - loss: 0.0151 - val_loss: 0.0134\n",
      "Epoch 30/60\n",
      "952/952 [==============================] - 5s 5ms/step - loss: 0.0138 - val_loss: 0.0136\n",
      "Epoch 31/60\n",
      "952/952 [==============================] - 5s 5ms/step - loss: 0.0128 - val_loss: 0.0134\n",
      "Epoch 32/60\n",
      "952/952 [==============================] - 4s 5ms/step - loss: 0.0127 - val_loss: 0.0127\n",
      "Epoch 33/60\n",
      "952/952 [==============================] - 5s 5ms/step - loss: 0.0122 - val_loss: 0.0133\n",
      "Epoch 34/60\n",
      "952/952 [==============================] - 5s 5ms/step - loss: 0.0116 - val_loss: 0.0113\n",
      "Epoch 35/60\n",
      "952/952 [==============================] - 5s 5ms/step - loss: 0.0113 - val_loss: 0.0115\n",
      "Epoch 36/60\n",
      "952/952 [==============================] - 5s 5ms/step - loss: 0.0113 - val_loss: 0.0111\n",
      "Epoch 37/60\n",
      "952/952 [==============================] - 5s 5ms/step - loss: 0.0107 - val_loss: 0.0110\n",
      "Epoch 38/60\n",
      "952/952 [==============================] - 5s 5ms/step - loss: 0.0100 - val_loss: 0.0100\n",
      "Epoch 39/60\n",
      "952/952 [==============================] - 5s 5ms/step - loss: 0.0098 - val_loss: 0.0104\n",
      "Epoch 40/60\n",
      "952/952 [==============================] - 5s 5ms/step - loss: 0.0099 - val_loss: 0.0101\n",
      "Epoch 41/60\n",
      "952/952 [==============================] - 5s 5ms/step - loss: 0.0099 - val_loss: 0.0097\n",
      "Epoch 42/60\n",
      "952/952 [==============================] - 4s 5ms/step - loss: 0.0098 - val_loss: 0.0095\n",
      "Epoch 43/60\n",
      "952/952 [==============================] - 5s 5ms/step - loss: 0.0095 - val_loss: 0.0106\n",
      "Epoch 44/60\n",
      "952/952 [==============================] - 5s 5ms/step - loss: 0.0092 - val_loss: 0.0092\n",
      "Epoch 45/60\n",
      "952/952 [==============================] - 5s 5ms/step - loss: 0.0090 - val_loss: 0.0098\n",
      "Epoch 46/60\n",
      "952/952 [==============================] - 5s 5ms/step - loss: 0.0092 - val_loss: 0.0094\n",
      "Epoch 47/60\n",
      "952/952 [==============================] - 5s 5ms/step - loss: 0.0091 - val_loss: 0.0095\n",
      "Epoch 48/60\n",
      "952/952 [==============================] - 5s 5ms/step - loss: 0.0087 - val_loss: 0.0105\n",
      "Epoch 49/60\n",
      "952/952 [==============================] - 5s 5ms/step - loss: 0.0090 - val_loss: 0.0094\n",
      "Epoch 50/60\n",
      "952/952 [==============================] - 5s 5ms/step - loss: 0.0087 - val_loss: 0.0095\n",
      "Epoch 51/60\n",
      "952/952 [==============================] - 5s 5ms/step - loss: 0.0095 - val_loss: 0.0089\n",
      "Epoch 52/60\n",
      "952/952 [==============================] - 5s 5ms/step - loss: 0.0089 - val_loss: 0.0091\n",
      "Epoch 53/60\n",
      "952/952 [==============================] - 4s 5ms/step - loss: 0.0088 - val_loss: 0.0103\n",
      "Epoch 54/60\n",
      "952/952 [==============================] - 5s 5ms/step - loss: 0.0088 - val_loss: 0.0095\n",
      "Epoch 55/60\n",
      "952/952 [==============================] - 4s 5ms/step - loss: 0.0084 - val_loss: 0.0089\n",
      "Epoch 56/60\n",
      "952/952 [==============================] - 4s 5ms/step - loss: 0.0087 - val_loss: 0.0106\n",
      "Epoch 57/60\n",
      "952/952 [==============================] - 5s 5ms/step - loss: 0.0088 - val_loss: 0.0089\n",
      "Epoch 58/60\n",
      "952/952 [==============================] - 5s 5ms/step - loss: 0.0086 - val_loss: 0.0094\n",
      "Epoch 59/60\n",
      "952/952 [==============================] - 4s 5ms/step - loss: 0.0088 - val_loss: 0.0089\n",
      "Epoch 60/60\n",
      "952/952 [==============================] - 5s 5ms/step - loss: 0.0085 - val_loss: 0.0086\n",
      "\n",
      "\n",
      "BUILDING MODEL 3 NORMALIZED\n",
      "\n",
      "\n",
      "Model: \"model_24\"\n",
      "__________________________________________________________________________________________________\n",
      "Layer (type)                    Output Shape         Param #     Connected to                     \n",
      "==================================================================================================\n",
      "input (InputLayer)              [(None, None, 4)]    0                                            \n",
      "__________________________________________________________________________________________________\n",
      "tdist_0 (TimeDistributed)       (None, None, 100)    500         input[0][0]                      \n",
      "__________________________________________________________________________________________________\n",
      "activation_168 (Activation)     (None, None, 100)    0           tdist_0[0][0]                    \n",
      "__________________________________________________________________________________________________\n",
      "tdist_1 (TimeDistributed)       (None, None, 100)    10100       activation_168[0][0]             \n",
      "__________________________________________________________________________________________________\n",
      "activation_169 (Activation)     (None, None, 100)    0           tdist_1[0][0]                    \n",
      "__________________________________________________________________________________________________\n",
      "tdist_2 (TimeDistributed)       (None, None, 128)    12928       activation_169[0][0]             \n",
      "__________________________________________________________________________________________________\n",
      "mask (Lambda)                   (None, None)         0           input[0][0]                      \n",
      "__________________________________________________________________________________________________\n",
      "activation_170 (Activation)     (None, None, 128)    0           tdist_2[0][0]                    \n",
      "__________________________________________________________________________________________________\n",
      "sum (Dot)                       (None, 128)          0           mask[0][0]                       \n",
      "                                                                 activation_170[0][0]             \n",
      "__________________________________________________________________________________________________\n",
      "dense_0 (Dense)                 (None, 100)          12900       sum[0][0]                        \n",
      "__________________________________________________________________________________________________\n",
      "activation_171 (Activation)     (None, 100)          0           dense_0[0][0]                    \n",
      "__________________________________________________________________________________________________\n",
      "dense_1 (Dense)                 (None, 100)          10100       activation_171[0][0]             \n",
      "__________________________________________________________________________________________________\n",
      "activation_172 (Activation)     (None, 100)          0           dense_1[0][0]                    \n",
      "__________________________________________________________________________________________________\n",
      "dense_2 (Dense)                 (None, 100)          10100       activation_172[0][0]             \n",
      "__________________________________________________________________________________________________\n",
      "activation_173 (Activation)     (None, 100)          0           dense_2[0][0]                    \n",
      "__________________________________________________________________________________________________\n",
      "output (Dense)                  (None, 1)            101         activation_173[0][0]             \n",
      "__________________________________________________________________________________________________\n",
      "activation_174 (Activation)     (None, 1)            0           output[0][0]                     \n",
      "==================================================================================================\n",
      "Total params: 56,729\n",
      "Trainable params: 56,729\n",
      "Non-trainable params: 0\n",
      "__________________________________________________________________________________________________\n",
      "\n",
      "\n",
      "TRAINING MODEL 3 NORMALIZED\n",
      "\n",
      "\n",
      "Epoch 1/60\n",
      "952/952 [==============================] - 7s 7ms/step - loss: 380.7894 - val_loss: 1.7801\n",
      "Epoch 2/60\n",
      "952/952 [==============================] - 5s 5ms/step - loss: 1.4489 - val_loss: 0.5027\n",
      "Epoch 3/60\n",
      "952/952 [==============================] - 4s 5ms/step - loss: 1.0630 - val_loss: 0.3946\n",
      "Epoch 4/60\n",
      "952/952 [==============================] - 4s 5ms/step - loss: 0.4207 - val_loss: 0.2481\n",
      "Epoch 5/60\n",
      "952/952 [==============================] - 4s 5ms/step - loss: 0.4446 - val_loss: 0.2043\n",
      "Epoch 6/60\n",
      "952/952 [==============================] - 5s 5ms/step - loss: 0.4855 - val_loss: 0.4424\n",
      "Epoch 7/60\n",
      "952/952 [==============================] - 4s 5ms/step - loss: 0.4251 - val_loss: 0.1597\n",
      "Epoch 8/60\n",
      "952/952 [==============================] - 5s 5ms/step - loss: 5.6861 - val_loss: 0.2153\n",
      "Epoch 9/60\n",
      "952/952 [==============================] - 5s 5ms/step - loss: 0.2275 - val_loss: 0.1533\n",
      "Epoch 10/60\n",
      "952/952 [==============================] - 4s 5ms/step - loss: 0.1661 - val_loss: 0.1334\n",
      "Epoch 11/60\n",
      "952/952 [==============================] - 4s 5ms/step - loss: 0.1440 - val_loss: 0.1337\n",
      "Epoch 12/60\n",
      "952/952 [==============================] - 5s 5ms/step - loss: 0.1206 - val_loss: 0.1045\n",
      "Epoch 13/60\n",
      "952/952 [==============================] - 5s 5ms/step - loss: 0.1136 - val_loss: 0.1194\n",
      "Epoch 14/60\n",
      "952/952 [==============================] - 5s 5ms/step - loss: 0.1026 - val_loss: 0.0951\n",
      "Epoch 15/60\n",
      "952/952 [==============================] - 5s 5ms/step - loss: 0.0959 - val_loss: 0.0957\n",
      "Epoch 16/60\n",
      "952/952 [==============================] - 5s 5ms/step - loss: 0.0918 - val_loss: 0.0840\n",
      "Epoch 17/60\n",
      "952/952 [==============================] - 5s 5ms/step - loss: 0.0864 - val_loss: 0.0857\n",
      "Epoch 18/60\n",
      "952/952 [==============================] - 5s 5ms/step - loss: 0.0835 - val_loss: 0.0780\n",
      "Epoch 19/60\n",
      "952/952 [==============================] - 4s 5ms/step - loss: 0.0845 - val_loss: 0.0773\n",
      "Epoch 20/60\n",
      "952/952 [==============================] - 5s 5ms/step - loss: 0.0789 - val_loss: 0.0741\n",
      "Epoch 21/60\n",
      "952/952 [==============================] - 5s 5ms/step - loss: 0.0766 - val_loss: 0.0731\n",
      "Epoch 22/60\n",
      "952/952 [==============================] - 5s 5ms/step - loss: 0.0734 - val_loss: 0.0717\n",
      "Epoch 23/60\n",
      "952/952 [==============================] - 5s 5ms/step - loss: 0.0722 - val_loss: 0.0721\n",
      "Epoch 24/60\n",
      "952/952 [==============================] - 5s 5ms/step - loss: 0.0665 - val_loss: 0.0719\n",
      "Epoch 25/60\n",
      "952/952 [==============================] - 5s 5ms/step - loss: 0.0656 - val_loss: 0.0625\n",
      "Epoch 26/60\n",
      "952/952 [==============================] - 5s 5ms/step - loss: 0.0618 - val_loss: 0.0678\n",
      "Epoch 27/60\n",
      "952/952 [==============================] - 4s 5ms/step - loss: 0.0603 - val_loss: 0.0707\n",
      "Epoch 28/60\n",
      "952/952 [==============================] - 5s 5ms/step - loss: 0.0581 - val_loss: 0.0633\n",
      "Epoch 29/60\n",
      "952/952 [==============================] - 4s 5ms/step - loss: 0.0536 - val_loss: 0.0591\n",
      "Epoch 30/60\n",
      "952/952 [==============================] - 4s 5ms/step - loss: 0.0532 - val_loss: 0.0558\n",
      "Epoch 31/60\n",
      "952/952 [==============================] - 4s 5ms/step - loss: 0.0515 - val_loss: 0.0550\n",
      "Epoch 32/60\n",
      "952/952 [==============================] - 5s 5ms/step - loss: 0.0512 - val_loss: 0.0526\n",
      "Epoch 33/60\n",
      "952/952 [==============================] - 5s 5ms/step - loss: 0.0479 - val_loss: 0.0549\n",
      "Epoch 34/60\n",
      "952/952 [==============================] - 4s 5ms/step - loss: 0.0468 - val_loss: 0.0514\n",
      "Epoch 35/60\n",
      "952/952 [==============================] - 5s 5ms/step - loss: 0.0448 - val_loss: 0.0502\n",
      "Epoch 36/60\n",
      "952/952 [==============================] - 5s 5ms/step - loss: 0.0439 - val_loss: 0.0499\n",
      "Epoch 37/60\n",
      "952/952 [==============================] - 5s 5ms/step - loss: 0.0434 - val_loss: 0.0501\n",
      "Epoch 38/60\n",
      "952/952 [==============================] - 5s 5ms/step - loss: 0.0428 - val_loss: 0.0493\n",
      "Epoch 39/60\n",
      "952/952 [==============================] - 5s 5ms/step - loss: 0.0412 - val_loss: 0.0503\n",
      "Epoch 40/60\n",
      "952/952 [==============================] - 5s 5ms/step - loss: 0.0410 - val_loss: 0.0515\n",
      "Epoch 41/60\n",
      "952/952 [==============================] - 5s 5ms/step - loss: 0.0404 - val_loss: 0.0470\n",
      "Epoch 42/60\n",
      "952/952 [==============================] - 5s 5ms/step - loss: 0.0401 - val_loss: 0.0528\n",
      "Epoch 43/60\n",
      "952/952 [==============================] - 5s 5ms/step - loss: 0.0382 - val_loss: 0.0538\n",
      "Epoch 44/60\n",
      "952/952 [==============================] - 5s 5ms/step - loss: 0.0381 - val_loss: 0.0474\n",
      "Epoch 45/60\n",
      "952/952 [==============================] - 4s 5ms/step - loss: 0.0372 - val_loss: 0.0479\n",
      "Epoch 46/60\n",
      "952/952 [==============================] - 4s 5ms/step - loss: 0.0365 - val_loss: 0.0470\n",
      "Epoch 47/60\n",
      "952/952 [==============================] - 5s 5ms/step - loss: 0.0355 - val_loss: 0.0516\n",
      "Epoch 48/60\n",
      "952/952 [==============================] - 5s 5ms/step - loss: 0.0356 - val_loss: 0.0494\n",
      "Epoch 49/60\n",
      "952/952 [==============================] - 5s 5ms/step - loss: 0.0350 - val_loss: 0.0493\n",
      "Epoch 50/60\n",
      "952/952 [==============================] - 5s 5ms/step - loss: 0.0344 - val_loss: 0.0479\n",
      "Epoch 51/60\n",
      "952/952 [==============================] - 5s 5ms/step - loss: 0.0343 - val_loss: 0.0461\n",
      "Epoch 52/60\n",
      "952/952 [==============================] - 5s 5ms/step - loss: 0.0335 - val_loss: 0.0486\n",
      "Epoch 53/60\n",
      "952/952 [==============================] - 5s 5ms/step - loss: 0.0331 - val_loss: 0.0476\n",
      "Epoch 54/60\n",
      "952/952 [==============================] - 4s 5ms/step - loss: 0.0322 - val_loss: 0.0463\n",
      "Epoch 55/60\n",
      "952/952 [==============================] - 5s 5ms/step - loss: 0.0319 - val_loss: 0.0493\n",
      "Epoch 56/60\n",
      "952/952 [==============================] - 5s 5ms/step - loss: 0.0319 - val_loss: 0.0480\n",
      "Epoch 57/60\n",
      "952/952 [==============================] - 5s 5ms/step - loss: 0.0310 - val_loss: 0.0458\n",
      "Epoch 58/60\n",
      "952/952 [==============================] - 4s 5ms/step - loss: 0.0309 - val_loss: 0.0518\n",
      "Epoch 59/60\n",
      "952/952 [==============================] - 5s 5ms/step - loss: 0.0312 - val_loss: 0.0478\n",
      "Epoch 60/60\n",
      "952/952 [==============================] - 5s 5ms/step - loss: 0.0302 - val_loss: 0.0474\n",
      "\n",
      "\n",
      "BUILDING MODEL 4 RAW\n",
      "\n",
      "\n",
      "Model: \"model_25\"\n",
      "__________________________________________________________________________________________________\n",
      "Layer (type)                    Output Shape         Param #     Connected to                     \n",
      "==================================================================================================\n",
      "input (InputLayer)              [(None, None, 4)]    0                                            \n",
      "__________________________________________________________________________________________________\n",
      "tdist_0 (TimeDistributed)       (None, None, 100)    500         input[0][0]                      \n",
      "__________________________________________________________________________________________________\n",
      "activation_175 (Activation)     (None, None, 100)    0           tdist_0[0][0]                    \n",
      "__________________________________________________________________________________________________\n",
      "tdist_1 (TimeDistributed)       (None, None, 100)    10100       activation_175[0][0]             \n",
      "__________________________________________________________________________________________________\n",
      "activation_176 (Activation)     (None, None, 100)    0           tdist_1[0][0]                    \n",
      "__________________________________________________________________________________________________\n",
      "tdist_2 (TimeDistributed)       (None, None, 128)    12928       activation_176[0][0]             \n",
      "__________________________________________________________________________________________________\n",
      "mask (Lambda)                   (None, None)         0           input[0][0]                      \n",
      "__________________________________________________________________________________________________\n",
      "activation_177 (Activation)     (None, None, 128)    0           tdist_2[0][0]                    \n",
      "__________________________________________________________________________________________________\n",
      "sum (Dot)                       (None, 128)          0           mask[0][0]                       \n",
      "                                                                 activation_177[0][0]             \n",
      "__________________________________________________________________________________________________\n",
      "dense_0 (Dense)                 (None, 100)          12900       sum[0][0]                        \n",
      "__________________________________________________________________________________________________\n",
      "activation_178 (Activation)     (None, 100)          0           dense_0[0][0]                    \n",
      "__________________________________________________________________________________________________\n",
      "dense_1 (Dense)                 (None, 100)          10100       activation_178[0][0]             \n",
      "__________________________________________________________________________________________________\n",
      "activation_179 (Activation)     (None, 100)          0           dense_1[0][0]                    \n",
      "__________________________________________________________________________________________________\n",
      "dense_2 (Dense)                 (None, 100)          10100       activation_179[0][0]             \n",
      "__________________________________________________________________________________________________\n",
      "activation_180 (Activation)     (None, 100)          0           dense_2[0][0]                    \n",
      "__________________________________________________________________________________________________\n",
      "output (Dense)                  (None, 1)            101         activation_180[0][0]             \n",
      "__________________________________________________________________________________________________\n",
      "activation_181 (Activation)     (None, 1)            0           output[0][0]                     \n",
      "==================================================================================================\n",
      "Total params: 56,729\n",
      "Trainable params: 56,729\n",
      "Non-trainable params: 0\n",
      "__________________________________________________________________________________________________\n",
      "\n",
      "\n",
      "TRAINING MODEL 4 RAW\n",
      "\n",
      "\n",
      "Epoch 1/60\n",
      "952/952 [==============================] - 6s 6ms/step - loss: 3703.5720 - val_loss: 8.5412\n",
      "Epoch 2/60\n",
      "952/952 [==============================] - 5s 5ms/step - loss: 7.6150 - val_loss: 6.7707\n",
      "Epoch 3/60\n",
      "952/952 [==============================] - 5s 5ms/step - loss: 52.2983 - val_loss: 2.0059\n",
      "Epoch 4/60\n",
      "952/952 [==============================] - 5s 5ms/step - loss: 16.1074 - val_loss: 1.6323\n",
      "Epoch 5/60\n",
      "952/952 [==============================] - 5s 5ms/step - loss: 1.3136 - val_loss: 0.9601\n",
      "Epoch 6/60\n",
      "952/952 [==============================] - 5s 5ms/step - loss: 2.1902 - val_loss: 0.3014\n",
      "Epoch 7/60\n",
      "952/952 [==============================] - 5s 5ms/step - loss: 3.8388 - val_loss: 2.1945\n",
      "Epoch 8/60\n",
      "952/952 [==============================] - 5s 5ms/step - loss: 2.3174 - val_loss: 0.2905\n",
      "Epoch 9/60\n",
      "952/952 [==============================] - 5s 5ms/step - loss: 0.4664 - val_loss: 0.3351\n",
      "Epoch 10/60\n",
      "952/952 [==============================] - 5s 5ms/step - loss: 0.5587 - val_loss: 0.0922\n",
      "Epoch 11/60\n",
      "952/952 [==============================] - 5s 5ms/step - loss: 5.9469 - val_loss: 0.3986\n",
      "Epoch 12/60\n",
      "952/952 [==============================] - 5s 5ms/step - loss: 0.2648 - val_loss: 0.0771\n",
      "Epoch 13/60\n",
      "952/952 [==============================] - 5s 5ms/step - loss: 0.1131 - val_loss: 0.1413\n",
      "Epoch 14/60\n",
      "952/952 [==============================] - 4s 5ms/step - loss: 0.2069 - val_loss: 0.0524\n",
      "Epoch 15/60\n",
      "952/952 [==============================] - 5s 5ms/step - loss: 0.1434 - val_loss: 0.1772\n",
      "Epoch 16/60\n",
      "952/952 [==============================] - 5s 5ms/step - loss: 0.0805 - val_loss: 0.0570\n",
      "Epoch 17/60\n",
      "952/952 [==============================] - 5s 5ms/step - loss: 0.0929 - val_loss: 0.0319\n",
      "Epoch 18/60\n",
      "952/952 [==============================] - 5s 5ms/step - loss: 0.0453 - val_loss: 0.0460\n",
      "Epoch 19/60\n",
      "952/952 [==============================] - 4s 5ms/step - loss: 0.0430 - val_loss: 0.0258\n",
      "Epoch 20/60\n",
      "952/952 [==============================] - 5s 5ms/step - loss: 0.0312 - val_loss: 0.0615\n",
      "Epoch 21/60\n",
      "952/952 [==============================] - 4s 5ms/step - loss: 0.0324 - val_loss: 0.0244\n",
      "Epoch 22/60\n",
      "952/952 [==============================] - 5s 5ms/step - loss: 0.0502 - val_loss: 0.0182\n",
      "Epoch 23/60\n",
      "952/952 [==============================] - 5s 5ms/step - loss: 0.0200 - val_loss: 0.0182\n",
      "Epoch 24/60\n",
      "952/952 [==============================] - 5s 5ms/step - loss: 0.0186 - val_loss: 0.0162\n",
      "Epoch 25/60\n",
      "952/952 [==============================] - 5s 5ms/step - loss: 0.0181 - val_loss: 0.0154\n",
      "Epoch 26/60\n",
      "952/952 [==============================] - 5s 5ms/step - loss: 0.4194 - val_loss: 0.0739\n",
      "Epoch 27/60\n",
      "952/952 [==============================] - 4s 5ms/step - loss: 0.0672 - val_loss: 0.0313\n",
      "Epoch 28/60\n",
      "952/952 [==============================] - 5s 5ms/step - loss: 0.0280 - val_loss: 0.0757\n",
      "Epoch 29/60\n",
      "952/952 [==============================] - 5s 5ms/step - loss: 0.0246 - val_loss: 0.0173\n",
      "Epoch 30/60\n",
      "952/952 [==============================] - 4s 5ms/step - loss: 0.0171 - val_loss: 0.0163\n",
      "Epoch 31/60\n",
      "952/952 [==============================] - 5s 5ms/step - loss: 0.0169 - val_loss: 0.0148\n",
      "Epoch 32/60\n",
      "952/952 [==============================] - 5s 5ms/step - loss: 0.0153 - val_loss: 0.0197\n",
      "Epoch 33/60\n",
      "952/952 [==============================] - 5s 5ms/step - loss: 0.0144 - val_loss: 0.0125\n",
      "Epoch 34/60\n",
      "952/952 [==============================] - 5s 5ms/step - loss: 0.0136 - val_loss: 0.0130\n",
      "Epoch 35/60\n",
      "952/952 [==============================] - 4s 5ms/step - loss: 0.0134 - val_loss: 0.0123\n",
      "Epoch 36/60\n",
      "952/952 [==============================] - 4s 5ms/step - loss: 0.0125 - val_loss: 0.0126\n",
      "Epoch 37/60\n",
      "952/952 [==============================] - 5s 5ms/step - loss: 0.0122 - val_loss: 0.0120\n",
      "Epoch 38/60\n",
      "952/952 [==============================] - 5s 5ms/step - loss: 0.0113 - val_loss: 0.0112\n",
      "Epoch 39/60\n",
      "952/952 [==============================] - 5s 5ms/step - loss: 0.0117 - val_loss: 0.0104\n",
      "Epoch 40/60\n",
      "952/952 [==============================] - 5s 5ms/step - loss: 0.0112 - val_loss: 0.0142\n",
      "Epoch 41/60\n",
      "952/952 [==============================] - 4s 5ms/step - loss: 0.0109 - val_loss: 0.0107\n",
      "Epoch 42/60\n",
      "952/952 [==============================] - 5s 5ms/step - loss: 0.0103 - val_loss: 0.0105\n",
      "Epoch 43/60\n",
      "952/952 [==============================] - 5s 5ms/step - loss: 0.0102 - val_loss: 0.0102\n",
      "Epoch 44/60\n",
      "952/952 [==============================] - 4s 5ms/step - loss: 0.0101 - val_loss: 0.0101\n",
      "Epoch 45/60\n",
      "952/952 [==============================] - 5s 5ms/step - loss: 0.0099 - val_loss: 0.0095\n",
      "Epoch 46/60\n",
      "952/952 [==============================] - 5s 5ms/step - loss: 0.0093 - val_loss: 0.0115\n",
      "Epoch 47/60\n",
      "952/952 [==============================] - 5s 5ms/step - loss: 0.0100 - val_loss: 0.0112\n",
      "Epoch 48/60\n",
      "952/952 [==============================] - 5s 5ms/step - loss: 0.0100 - val_loss: 0.0094\n",
      "Epoch 49/60\n",
      "952/952 [==============================] - 4s 5ms/step - loss: 0.0095 - val_loss: 0.0095\n",
      "Epoch 50/60\n",
      "952/952 [==============================] - 4s 5ms/step - loss: 0.0092 - val_loss: 0.0108\n",
      "Epoch 51/60\n",
      "952/952 [==============================] - 5s 5ms/step - loss: 0.0090 - val_loss: 0.0092\n",
      "Epoch 52/60\n",
      "952/952 [==============================] - 5s 5ms/step - loss: 0.0090 - val_loss: 0.0091\n",
      "Epoch 53/60\n",
      "952/952 [==============================] - 5s 5ms/step - loss: 0.0091 - val_loss: 0.0090\n",
      "Epoch 54/60\n",
      "952/952 [==============================] - 5s 5ms/step - loss: 0.0088 - val_loss: 0.0090\n",
      "Epoch 55/60\n",
      "952/952 [==============================] - 4s 5ms/step - loss: 0.0085 - val_loss: 0.0095\n",
      "Epoch 56/60\n",
      "952/952 [==============================] - 5s 5ms/step - loss: 0.0087 - val_loss: 0.0097\n",
      "Epoch 57/60\n",
      "952/952 [==============================] - 5s 5ms/step - loss: 0.0092 - val_loss: 0.0087\n",
      "Epoch 58/60\n",
      "952/952 [==============================] - 5s 5ms/step - loss: 0.0087 - val_loss: 0.0101\n",
      "Epoch 59/60\n",
      "952/952 [==============================] - 5s 5ms/step - loss: 0.0083 - val_loss: 0.0088\n",
      "Epoch 60/60\n",
      "952/952 [==============================] - 4s 5ms/step - loss: 0.0083 - val_loss: 0.0104\n",
      "\n",
      "\n",
      "BUILDING MODEL 4 NORMALIZED\n",
      "\n",
      "\n",
      "Model: \"model_26\"\n",
      "__________________________________________________________________________________________________\n",
      "Layer (type)                    Output Shape         Param #     Connected to                     \n",
      "==================================================================================================\n",
      "input (InputLayer)              [(None, None, 4)]    0                                            \n",
      "__________________________________________________________________________________________________\n",
      "tdist_0 (TimeDistributed)       (None, None, 100)    500         input[0][0]                      \n",
      "__________________________________________________________________________________________________\n",
      "activation_182 (Activation)     (None, None, 100)    0           tdist_0[0][0]                    \n",
      "__________________________________________________________________________________________________\n",
      "tdist_1 (TimeDistributed)       (None, None, 100)    10100       activation_182[0][0]             \n",
      "__________________________________________________________________________________________________\n",
      "activation_183 (Activation)     (None, None, 100)    0           tdist_1[0][0]                    \n",
      "__________________________________________________________________________________________________\n",
      "tdist_2 (TimeDistributed)       (None, None, 128)    12928       activation_183[0][0]             \n",
      "__________________________________________________________________________________________________\n",
      "mask (Lambda)                   (None, None)         0           input[0][0]                      \n",
      "__________________________________________________________________________________________________\n",
      "activation_184 (Activation)     (None, None, 128)    0           tdist_2[0][0]                    \n",
      "__________________________________________________________________________________________________\n",
      "sum (Dot)                       (None, 128)          0           mask[0][0]                       \n",
      "                                                                 activation_184[0][0]             \n",
      "__________________________________________________________________________________________________\n",
      "dense_0 (Dense)                 (None, 100)          12900       sum[0][0]                        \n",
      "__________________________________________________________________________________________________\n",
      "activation_185 (Activation)     (None, 100)          0           dense_0[0][0]                    \n",
      "__________________________________________________________________________________________________\n",
      "dense_1 (Dense)                 (None, 100)          10100       activation_185[0][0]             \n",
      "__________________________________________________________________________________________________\n",
      "activation_186 (Activation)     (None, 100)          0           dense_1[0][0]                    \n",
      "__________________________________________________________________________________________________\n",
      "dense_2 (Dense)                 (None, 100)          10100       activation_186[0][0]             \n",
      "__________________________________________________________________________________________________\n",
      "activation_187 (Activation)     (None, 100)          0           dense_2[0][0]                    \n",
      "__________________________________________________________________________________________________\n",
      "output (Dense)                  (None, 1)            101         activation_187[0][0]             \n",
      "__________________________________________________________________________________________________\n",
      "activation_188 (Activation)     (None, 1)            0           output[0][0]                     \n",
      "==================================================================================================\n",
      "Total params: 56,729\n",
      "Trainable params: 56,729\n",
      "Non-trainable params: 0\n",
      "__________________________________________________________________________________________________\n",
      "\n",
      "\n",
      "TRAINING MODEL 4 NORMALIZED\n",
      "\n",
      "\n",
      "Epoch 1/60\n",
      "952/952 [==============================] - 7s 7ms/step - loss: 174.5900 - val_loss: 1.3770\n",
      "Epoch 2/60\n",
      "952/952 [==============================] - 4s 5ms/step - loss: 2.0214 - val_loss: 0.9423\n",
      "Epoch 3/60\n",
      "952/952 [==============================] - 4s 5ms/step - loss: 1.0823 - val_loss: 0.5603\n",
      "Epoch 4/60\n",
      "952/952 [==============================] - 4s 5ms/step - loss: 0.4372 - val_loss: 0.6833\n",
      "Epoch 5/60\n",
      "952/952 [==============================] - 4s 5ms/step - loss: 0.6691 - val_loss: 0.2296\n",
      "Epoch 6/60\n",
      "952/952 [==============================] - 5s 5ms/step - loss: 0.3016 - val_loss: 0.1869\n",
      "Epoch 7/60\n",
      "952/952 [==============================] - 4s 5ms/step - loss: 0.2958 - val_loss: 0.1239\n",
      "Epoch 8/60\n",
      "952/952 [==============================] - 4s 5ms/step - loss: 0.3809 - val_loss: 0.1260\n",
      "Epoch 9/60\n",
      "952/952 [==============================] - 5s 5ms/step - loss: 0.1481 - val_loss: 0.1897\n",
      "Epoch 10/60\n",
      "952/952 [==============================] - 5s 5ms/step - loss: 0.1528 - val_loss: 0.1043\n",
      "Epoch 11/60\n",
      "952/952 [==============================] - 4s 5ms/step - loss: 0.1160 - val_loss: 0.1196\n",
      "Epoch 12/60\n",
      "952/952 [==============================] - 4s 5ms/step - loss: 0.1050 - val_loss: 0.1148\n",
      "Epoch 13/60\n",
      "952/952 [==============================] - 4s 4ms/step - loss: 0.1125 - val_loss: 0.0991\n",
      "Epoch 14/60\n",
      "952/952 [==============================] - 4s 5ms/step - loss: 0.0958 - val_loss: 0.0843\n",
      "Epoch 15/60\n",
      "952/952 [==============================] - 5s 5ms/step - loss: 0.0876 - val_loss: 0.0910\n",
      "Epoch 16/60\n",
      "952/952 [==============================] - 5s 5ms/step - loss: 0.0892 - val_loss: 0.1178\n",
      "Epoch 17/60\n",
      "952/952 [==============================] - 4s 5ms/step - loss: 0.0860 - val_loss: 0.0866\n",
      "Epoch 18/60\n",
      "952/952 [==============================] - 4s 5ms/step - loss: 0.0775 - val_loss: 0.0827\n",
      "Epoch 19/60\n",
      "952/952 [==============================] - 4s 4ms/step - loss: 0.0748 - val_loss: 0.0771\n",
      "Epoch 20/60\n",
      "952/952 [==============================] - 5s 5ms/step - loss: 0.0718 - val_loss: 0.0720\n",
      "Epoch 21/60\n",
      "952/952 [==============================] - 5s 5ms/step - loss: 0.0681 - val_loss: 0.0625\n",
      "Epoch 22/60\n",
      "952/952 [==============================] - 5s 5ms/step - loss: 0.0647 - val_loss: 0.0674\n",
      "Epoch 23/60\n",
      "952/952 [==============================] - 5s 5ms/step - loss: 0.0631 - val_loss: 0.0609\n",
      "Epoch 24/60\n",
      "952/952 [==============================] - 4s 5ms/step - loss: 0.0602 - val_loss: 0.0619\n",
      "Epoch 25/60\n",
      "952/952 [==============================] - 4s 5ms/step - loss: 0.0557 - val_loss: 0.0568\n",
      "Epoch 26/60\n",
      "952/952 [==============================] - 5s 5ms/step - loss: 0.0551 - val_loss: 0.0538\n",
      "Epoch 27/60\n",
      "952/952 [==============================] - 5s 5ms/step - loss: 0.0524 - val_loss: 0.0526\n",
      "Epoch 28/60\n",
      "952/952 [==============================] - 5s 5ms/step - loss: 0.0514 - val_loss: 0.0571\n",
      "Epoch 29/60\n",
      "952/952 [==============================] - 4s 5ms/step - loss: 0.0482 - val_loss: 0.0506\n",
      "Epoch 30/60\n",
      "952/952 [==============================] - 5s 5ms/step - loss: 0.0485 - val_loss: 0.0551\n",
      "Epoch 31/60\n",
      "952/952 [==============================] - 4s 5ms/step - loss: 0.0462 - val_loss: 0.0533\n",
      "Epoch 32/60\n",
      "952/952 [==============================] - 5s 5ms/step - loss: 0.0442 - val_loss: 0.0516\n",
      "Epoch 33/60\n",
      "952/952 [==============================] - 5s 5ms/step - loss: 0.0437 - val_loss: 0.0497\n",
      "Epoch 34/60\n",
      "952/952 [==============================] - 5s 5ms/step - loss: 0.0418 - val_loss: 0.0494\n",
      "Epoch 35/60\n",
      "952/952 [==============================] - 4s 5ms/step - loss: 0.0408 - val_loss: 0.0494\n",
      "Epoch 36/60\n",
      "952/952 [==============================] - 5s 5ms/step - loss: 0.0414 - val_loss: 0.0464\n",
      "Epoch 37/60\n",
      "952/952 [==============================] - 5s 5ms/step - loss: 0.0394 - val_loss: 0.0470\n",
      "Epoch 38/60\n",
      "952/952 [==============================] - 5s 5ms/step - loss: 0.0376 - val_loss: 0.0485\n",
      "Epoch 39/60\n",
      "952/952 [==============================] - 4s 5ms/step - loss: 0.0377 - val_loss: 0.0483\n",
      "Epoch 40/60\n",
      "952/952 [==============================] - 4s 4ms/step - loss: 0.0367 - val_loss: 0.0488\n",
      "Epoch 41/60\n",
      "952/952 [==============================] - 5s 5ms/step - loss: 0.0354 - val_loss: 0.0469\n",
      "Epoch 42/60\n",
      "952/952 [==============================] - 5s 5ms/step - loss: 0.0346 - val_loss: 0.0473\n",
      "Epoch 43/60\n",
      "952/952 [==============================] - 4s 5ms/step - loss: 0.0346 - val_loss: 0.0487\n",
      "Epoch 44/60\n",
      "952/952 [==============================] - 4s 5ms/step - loss: 0.0342 - val_loss: 0.0470\n",
      "Epoch 45/60\n",
      "952/952 [==============================] - 4s 5ms/step - loss: 0.0341 - val_loss: 0.0459\n",
      "Epoch 46/60\n",
      "952/952 [==============================] - 4s 5ms/step - loss: 0.0319 - val_loss: 0.0459\n",
      "Epoch 47/60\n",
      "952/952 [==============================] - 4s 5ms/step - loss: 0.0314 - val_loss: 0.0449\n",
      "Epoch 48/60\n",
      "952/952 [==============================] - 4s 5ms/step - loss: 0.0313 - val_loss: 0.0470\n",
      "Epoch 49/60\n",
      "952/952 [==============================] - 5s 5ms/step - loss: 0.0310 - val_loss: 0.0455\n",
      "Epoch 50/60\n",
      "952/952 [==============================] - 5s 5ms/step - loss: 0.0300 - val_loss: 0.0462\n",
      "Epoch 51/60\n",
      "952/952 [==============================] - 4s 4ms/step - loss: 0.0308 - val_loss: 0.0451\n",
      "Epoch 52/60\n",
      "952/952 [==============================] - 5s 5ms/step - loss: 0.0290 - val_loss: 0.0461\n",
      "Epoch 53/60\n",
      "952/952 [==============================] - 5s 5ms/step - loss: 0.0294 - val_loss: 0.0468\n",
      "Epoch 54/60\n",
      "952/952 [==============================] - 5s 5ms/step - loss: 0.0281 - val_loss: 0.0453\n",
      "Epoch 55/60\n",
      "952/952 [==============================] - 5s 5ms/step - loss: 0.0282 - val_loss: 0.0469\n",
      "Epoch 56/60\n",
      "952/952 [==============================] - 4s 5ms/step - loss: 0.0288 - val_loss: 0.0454\n",
      "Epoch 57/60\n",
      "952/952 [==============================] - 4s 5ms/step - loss: 0.0275 - val_loss: 0.0452\n",
      "Epoch 58/60\n",
      "952/952 [==============================] - 5s 5ms/step - loss: 0.0274 - val_loss: 0.0469\n",
      "Epoch 59/60\n",
      "952/952 [==============================] - 4s 5ms/step - loss: 0.0267 - val_loss: 0.0459\n",
      "Epoch 60/60\n",
      "952/952 [==============================] - 5s 5ms/step - loss: 0.0262 - val_loss: 0.0448\n"
     ]
    }
   ],
   "source": [
    "history_list_raw = []\n",
    "history_list_norm = []\n",
    "for i in range(5):\n",
    "    print();print();print('BUILDING MODEL '+str(i)+' RAW');print();print()\n",
    "    raw_model = PFN(input_dim=4, Phi_sizes=Phi_sizes, F_sizes=F_sizes, \n",
    "          output_act=output_act, output_dim=output_dim, loss=loss, metrics=[])\n",
    "    print();print();print('TRAINING MODEL '+str(i)+' RAW');print();print()\n",
    "    my_history_raw = raw_model.fit(cl_train, y_cl_train,\n",
    "        epochs=num_epoch,\n",
    "        batch_size=batch_size,\n",
    "        validation_data=(cl_val, y_cl_val),\n",
    "        verbose=1)\n",
    "    history_list_raw.append(my_history_raw)\n",
    "    \n",
    "    print();print();print('BUILDING MODEL '+str(i)+' NORMALIZED');print();print()\n",
    "    norm_model = PFN(input_dim=4, Phi_sizes=Phi_sizes, F_sizes=F_sizes, \n",
    "          output_act=output_act, output_dim=output_dim, loss=loss, metrics=[])\n",
    "    print();print();print('TRAINING MODEL '+str(i)+' NORMALIZED');print();print()\n",
    "    my_history_norm = norm_model.fit(cln_train, y_cln_train,\n",
    "        epochs=num_epoch,\n",
    "        batch_size=batch_size,\n",
    "        validation_data=(cln_val, y_cln_val),\n",
    "        verbose=1)\n",
    "    history_list_norm.append(my_history_norm)"
   ]
  },
  {
   "cell_type": "code",
   "execution_count": 72,
   "id": "8a12ed43-7e9e-4042-a1fd-baf52caecdc9",
   "metadata": {
    "tags": []
   },
   "outputs": [
    {
     "data": {
      "text/plain": [
       "<Figure size 799.992x599.976 with 0 Axes>"
      ]
     },
     "metadata": {},
     "output_type": "display_data"
    },
    {
     "data": {
      "image/png": "[encoded data removed]",
      "text/plain": [
       "<Figure size 432x432 with 1 Axes>"
      ]
     },
     "metadata": {},
     "output_type": "display_data"
    },
    {
     "data": {
      "text/plain": [
       "<Figure size 799.992x599.976 with 0 Axes>"
      ]
     },
     "metadata": {},
     "output_type": "display_data"
    },
    {
     "data": {
      "image/png": "[encoded data removed]",
      "text/plain": [
       "<Figure size 432x432 with 1 Axes>"
      ]
     },
     "metadata": {},
     "output_type": "display_data"
    },
    {
     "data": {
      "text/plain": [
       "<Figure size 799.992x599.976 with 0 Axes>"
      ]
     },
     "metadata": {},
     "output_type": "display_data"
    },
    {
     "data": {
      "image/png": "[encoded data removed]",
      "text/plain": [
       "<Figure size 432x432 with 1 Axes>"
      ]
     },
     "metadata": {},
     "output_type": "display_data"
    }
   ],
   "source": [
    "plt.cla(); plt.clf()\n",
    "colors1 = ['orange', 'red', 'darkgreen', 'darkslateblue', 'mediumvioletred']\n",
    "colors2 = ['chocolate', 'olivedrab', 'steelblue', 'seagreen', 'indigo']\n",
    "model_num = ['1','2','3','4','5']\n",
    "\n",
    "loss_av = np.zeros(np.shape(history_list[0].history['loss']))\n",
    "fig = plt.figure(figsize=(6,6))\n",
    "for i in range(5):\n",
    "    plt.plot(history_list[i].history['loss'], color=colors1[i], alpha=.35,\n",
    "            label='model '+model_num[i])\n",
    "    loss_av = np.add(loss_av, history_list[i].history['loss'])\n",
    "loss_av = loss_av/5\n",
    "plt.plot(loss_av, color='black', alpha=.4, label='average')\n",
    "plt.yscale('log')\n",
    "plt.ylim(.02,40)\n",
    "plt.yticks(fontsize=13)\n",
    "plt.xlim(0,500)\n",
    "plt.xticks(fontsize=13)\n",
    "plt.xlabel('Epochs', fontsize=14)\n",
    "plt.ylabel('Loss', fontsize=14)\n",
    "plt.legend(loc='upper left', ncol=2)\n",
    "# plt.tight_layout()\n",
    "# plt.savefig('Regression_Plots/clusterOnly_losses_5runs_500epoch_50batch_2021-06-18.png', format='png')\n",
    "plt.show()\n",
    "\n",
    "plt.cla(); plt.clf()\n",
    "val_loss_av = np.zeros(np.shape(history_list[0].history['val_loss']))\n",
    "fig = plt.figure(figsize=(6,6))\n",
    "for i in range(5):\n",
    "    plt.plot(history_list[i].history['val_loss'], color=colors1[i], alpha=.35,\n",
    "            label='model '+model_num[i])\n",
    "    val_loss_av = np.add(val_loss_av, history_list[i].history['val_loss'])\n",
    "val_loss_av = val_loss_av/5\n",
    "plt.plot(val_loss_av, color='black', alpha=.4, label='val average')\n",
    "plt.yscale('log')\n",
    "plt.ylim(.02,40)\n",
    "plt.yticks(fontsize=13)\n",
    "plt.xlim(0,500)\n",
    "plt.xticks(fontsize=13)\n",
    "plt.xlabel('Epochs', fontsize=14)\n",
    "plt.ylabel('Validation Loss', fontsize=14)\n",
    "plt.legend(loc='upper left', ncol=2)\n",
    "# plt.tight_layout()\n",
    "# plt.savefig('Regression_Plots/clusterOnly_val_losses_5runs_500epoch_50batch_2021-06-18.png', format='png')\n",
    "plt.show()\n",
    "\n",
    "plt.cla(); plt.clf()\n",
    "val_loss_av = np.zeros(np.shape(history_list[0].history['val_loss']))\n",
    "fig = plt.figure(figsize=(6,6))\n",
    "for i in range(5):\n",
    "    plt.plot(history_list[i].history['val_loss'], color=colors1[i], alpha=.35,\n",
    "            label='model '+model_num[i])\n",
    "    val_loss_av = np.add(val_loss_av, history_list[i].history['val_loss'])\n",
    "val_loss_av = val_loss_av/5\n",
    "plt.plot(val_loss_av, color='black', alpha=.4, label='val average')\n",
    "plt.yscale('log')\n",
    "plt.ylim(.02,40)\n",
    "plt.yticks(fontsize=13)\n",
    "plt.xlim(5,50)\n",
    "plt.xticks(fontsize=13)\n",
    "plt.xlabel('Epochs', fontsize=14)\n",
    "plt.ylabel('Validation Loss', fontsize=14)\n",
    "plt.legend(loc='upper left', ncol=2)\n",
    "# plt.tight_layout()\n",
    "# plt.savefig('Regression_Plots/clusterOnly_val_losses_5runs_500epoch_50batch_zoomed_2021-06-18.png', format='png')\n",
    "plt.show()"
   ]
  },
  {
   "cell_type": "markdown",
   "id": "8d0ab90e-dc53-4016-8515-ee2727f29c8a",
   "metadata": {},
   "source": [
    "#### Input Comparison"
   ]
  },
  {
   "cell_type": "code",
   "execution_count": 262,
   "id": "5d32dce8-01b1-49e6-808f-9c6913ee397e",
   "metadata": {},
   "outputs": [
    {
     "data": {
      "image/png": "[encoded data removed]",
      "text/plain": [
       "<Figure size 432x432 with 1 Axes>"
      ]
     },
     "metadata": {},
     "output_type": "display_data"
    }
   ],
   "source": [
    "val_loss_av_raw = np.zeros(np.shape(history_list_raw[0].history['val_loss']))\n",
    "val_loss_av_norm = np.zeros(np.shape(history_list_norm[0].history['val_loss']))\n",
    "fig = plt.figure(figsize=(6,6))\n",
    "\n",
    "for i in range(5):\n",
    "    plt.plot(history_list_raw[i].history['val_loss'], color='red', alpha=.25,\n",
    "            label='model '+model_num[i])\n",
    "    plt.plot(history_list_norm[i].history['val_loss'], color='blue', alpha=.25,\n",
    "            label='model '+model_num[i])\n",
    "    val_loss_av_raw = np.add(val_loss_av_raw, history_list_raw[i].history['val_loss'])\n",
    "    val_loss_av_norm = np.add(val_loss_av_norm, history_list_norm[i].history['val_loss'])\n",
    "val_loss_av_raw = val_loss_av_raw/5\n",
    "val_loss_av_norm = val_loss_av_norm/5\n",
    "plt.plot(val_loss_av_raw, color='crimson', alpha=.75, label='raw average')\n",
    "plt.plot(val_loss_av_norm, color='dodgerblue', alpha=.75, label='norm. average')\n",
    "plt.yscale('log')\n",
    "plt.ylim(.008,40)\n",
    "plt.yticks(fontsize=13)\n",
    "plt.xlim(0,59)\n",
    "plt.xticks(fontsize=13)\n",
    "plt.xlabel('Epochs', fontsize=14)\n",
    "plt.ylabel('Validation Loss', fontsize=14)\n",
    "plt.legend(loc='upper right', ncol=2)\n",
    "# plt.tight_layout()\n",
    "# plt.savefig('Regression_Plots/clusterOnly_val_losses_5runs_60epoch_50batch_normVsRaw_2021-06-21.png', format='png')\n",
    "plt.show()"
   ]
  },
  {
   "cell_type": "markdown",
   "id": "b338b5ab-8e7c-4cb8-bc11-25f08a610255",
   "metadata": {
    "tags": []
   },
   "source": [
    "### Predictions"
   ]
  },
  {
   "cell_type": "code",
   "execution_count": 93,
   "id": "61ede223-9437-427a-97c5-88baa9f95f04",
   "metadata": {},
   "outputs": [
    {
     "name": "stdout",
     "output_type": "stream",
     "text": [
      "(9519, 929, 4)\n",
      "(9519, 1)\n"
     ]
    }
   ],
   "source": [
    "cl_preds = pfnC.predict(cl_test, batch_size=100)\n",
    "print(cl_test.shape)\n",
    "print(cl_preds.shape)"
   ]
  },
  {
   "cell_type": "markdown",
   "id": "0292e147-c72b-4b0f-8697-fb906becda52",
   "metadata": {},
   "source": [
    "#### Plot Inputs and Target"
   ]
  },
  {
   "cell_type": "code",
   "execution_count": 94,
   "id": "b8b2d87e-f9d1-40c8-a67d-ac7ee696cb88",
   "metadata": {
    "tags": []
   },
   "outputs": [
    {
     "data": {
      "text/plain": [
       "<Figure size 799.992x599.976 with 0 Axes>"
      ]
     },
     "metadata": {},
     "output_type": "display_data"
    },
    {
     "data": {
      "image/png": "[encoded data removed]",
      "text/plain": [
       "<Figure size 432x432 with 1 Axes>"
      ]
     },
     "metadata": {},
     "output_type": "display_data"
    },
    {
     "data": {
      "image/png": "[encoded data removed]",
      "text/plain": [
       "<Figure size 432x432 with 1 Axes>"
      ]
     },
     "metadata": {},
     "output_type": "display_data"
    }
   ],
   "source": [
    "## PREDICTIONS AND TRUTH ##\n",
    "bins = np.linspace(-4,8,30, endpoint=True)\n",
    "fig = plt.figure(figsize=(6,6))\n",
    "plt.hist(y_cl_test, color='steelblue', bins=bins, density=True, alpha=.5, edgecolor='black', label='target')\n",
    "plt.hist(cl_preds, color='coral', bins=bins, density=True, alpha=.5, edgecolor='black', label='network')\n",
    "plt.title('Regression Output and Target', fontsize=16)\n",
    "plt.xlabel('Log(E [GeV])', fontsize=14)\n",
    "plt.xlim(-5,8)\n",
    "plt.xticks(fontsize=13)\n",
    "plt.yticks(fontsize=13)\n",
    "plt.legend(loc='upper left')\n",
    "# plt.tight_layout()\n",
    "# plt.savefig('Regression_Plots/clusterOnly-output-wTarget-regression-log_2021-06-10.png', format='png')\n",
    "plt.show()"
   ]
  },
  {
   "cell_type": "markdown",
   "id": "7fe2f677-48f7-4dab-923d-123fbf68e5b1",
   "metadata": {},
   "source": [
    "### Analytics"
   ]
  },
  {
   "cell_type": "markdown",
   "id": "39a0c578-94e2-4571-8fd8-55a238407038",
   "metadata": {},
   "source": [
    "#### Loss"
   ]
  },
  {
   "cell_type": "code",
   "execution_count": 100,
   "id": "d4ab7dde-e044-4826-b359-0ba86da065b6",
   "metadata": {},
   "outputs": [
    {
     "name": "stdout",
     "output_type": "stream",
     "text": [
      "dict_keys(['loss', 'val_loss'])\n"
     ]
    },
    {
     "data": {
      "text/plain": [
       "<Figure size 799.992x599.976 with 0 Axes>"
      ]
     },
     "metadata": {},
     "output_type": "display_data"
    },
    {
     "data": {
      "image/png": "[encoded data removed]",
      "text/plain": [
       "<Figure size 432x432 with 1 Axes>"
      ]
     },
     "metadata": {},
     "output_type": "display_data"
    }
   ],
   "source": [
    "print(history.history.keys())\n",
    "plt.cla(); plt.clf()\n",
    "fig = plt.figure(figsize=(6,6))\n",
    "plt.plot(history.history['val_loss'], color='darkgoldenrod', label='validation loss')\n",
    "plt.plot(history.history['loss'], color='darkred', label='loss')\n",
    "plt.yscale('log')\n",
    "plt.ylim(.04,1e2)\n",
    "plt.yticks(fontsize=13)\n",
    "plt.xlim(0,59)\n",
    "plt.xticks(fontsize=13)\n",
    "plt.xlabel('Epochs', fontsize=14)\n",
    "plt.legend(loc='upper right')\n",
    "# plt.tight_layout()\n",
    "# plt.savefig('Regression_Plots/clusterOnly_losses_log_2021-06-10.png', format='png')\n",
    "plt.show()"
   ]
  },
  {
   "cell_type": "markdown",
   "id": "a4614e2f-a76b-4ab1-b406-50acd1d41781",
   "metadata": {},
   "source": [
    "#### 2-D Histogram"
   ]
  },
  {
   "cell_type": "code",
   "execution_count": 101,
   "id": "0f69b54f-5eba-4a99-85eb-6b9dedd680f3",
   "metadata": {},
   "outputs": [
    {
     "name": "stdout",
     "output_type": "stream",
     "text": [
      "(9519,)\n",
      "(9519, 1)\n",
      "(9519,) (9519,)\n"
     ]
    },
    {
     "data": {
      "text/plain": [
       "<Figure size 799.992x599.976 with 0 Axes>"
      ]
     },
     "metadata": {},
     "output_type": "display_data"
    },
    {
     "data": {
      "image/png": "[encoded data removed]",
      "text/plain": [
       "<Figure size 432x432 with 1 Axes>"
      ]
     },
     "metadata": {},
     "output_type": "display_data"
    }
   ],
   "source": [
    "print(y_cl_test.shape)\n",
    "print(cl_preds.shape)\n",
    "clusterHits = np.exp(y_cl_test.flatten())\n",
    "networkPreds = np.exp(cl_preds.flatten())\n",
    "print(repr(clusterHits.shape)+' '+repr(networkPreds.shape))\n",
    "\n",
    "ybin = np.arange(0., 3.1, 0.1)\n",
    "xbin = np.logspace(np.log10(.5), np.log10(2000), num=len(ybin), endpoint=True, base=10.0)\n",
    "\n",
    "plt.cla(); plt.clf()\n",
    "fig = plt.figure(figsize=(6,6))\n",
    "fig.patch.set_facecolor('white')\n",
    "plt.hist2d(clusterHits, networkPreds/clusterHits, bins=[xbin,ybin], norm=LogNorm())\n",
    "plt.title('Highest Energy Cluster Only -- 63459 Events', fontsize=16)\n",
    "plt.xlabel('clusterCalibHits', fontsize=14)\n",
    "plt.ylabel('Predictions / clusterCalibHits', fontsize=14)\n",
    "plt.xscale('log')\n",
    "plt.xticks(fontsize=14)\n",
    "plt.yticks(fontsize=14)\n",
    "# plt.tight_layout()\n",
    "# plt.savefig('Regression_Plots/SingleCluster_regression_gt_pt1GeV_log_normal_training_2021-06-18.png', format='png')\n",
    "plt.show()"
   ]
  },
  {
   "cell_type": "markdown",
   "id": "c9a2c98a-6ff4-4c04-989f-84ca27e3da2d",
   "metadata": {},
   "source": [
    "#### Resolution Plots"
   ]
  },
  {
   "cell_type": "code",
   "execution_count": 102,
   "id": "ba4d1560-736e-4f34-8357-6b117efebc41",
   "metadata": {},
   "outputs": [
    {
     "data": {
      "text/plain": [
       "<Figure size 799.992x599.976 with 0 Axes>"
      ]
     },
     "metadata": {},
     "output_type": "display_data"
    },
    {
     "data": {
      "image/png": "[encoded data removed]",
      "text/plain": [
       "<Figure size 799.992x599.976 with 2 Axes>"
      ]
     },
     "metadata": {},
     "output_type": "display_data"
    }
   ],
   "source": [
    "plotpath = '/home/russbate/MLPionCollaboration/LCStudies/clusters/Regression_Plots/'\n",
    "Pt_center, Pt_Single = ru.responsePlot(clusterHits, \n",
    "                      networkPreds/clusterHits,\n",
    "                      figfile = plotpath+'singleCluster_responsePlot_2021-06-18.png', statistic = 'median',\n",
    "                      xlabel = 'clusterCalibHits', ylabel = 'Regression E / clusterCalibHits',\n",
    "                      atlas_x = 0.48, atlas_y = 0.95, simulation = True,\n",
    "                      textlist = [{'x': 0.48, 'y': 0.85, 'text': 'Single $\\pi^{+}$, Single Cluster Only'}])"
   ]
  },
  {
   "cell_type": "markdown",
   "id": "03564d72-74c9-4f44-9bf6-2d06b1c449c6",
   "metadata": {},
   "source": [
    "#### Scatter Plot"
   ]
  },
  {
   "cell_type": "code",
   "execution_count": 66,
   "id": "d8feedd9-bcc0-406d-91c6-e7bfbafb9231",
   "metadata": {},
   "outputs": [
    {
     "data": {
      "text/plain": [
       "<Figure size 799.992x599.976 with 0 Axes>"
      ]
     },
     "metadata": {},
     "output_type": "display_data"
    },
    {
     "data": {
      "image/png": "[encoded data removed]",
      "text/plain": [
       "<Figure size 432x432 with 1 Axes>"
      ]
     },
     "metadata": {},
     "output_type": "display_data"
    }
   ],
   "source": [
    "plt.cla();plt.clf()\n",
    "\n",
    "fig = plt.figure(figsize=(6,6))\n",
    "fig.patch.set_facecolor(color='white')\n",
    "plt.scatter(clusterHits, networkPreds, s=10, edgecolor='black', color='darkviolet', alpha=.25)\n",
    "plt.title('Correspondence between clusterCalibHits and\\n Corresponding Deep Set Prediction',\n",
    "         fontsize=16)\n",
    "plt.xlabel('Cluster Calib Hits (GeV)', fontsize=14)\n",
    "plt.ylabel('Network Prediction (GeV)', fontsize=14)\n",
    "plt.xlim(0,2200)\n",
    "plt.ylim(0,2200)\n",
    "plt.xticks(fontsize=13)\n",
    "plt.yticks(fontsize=13)\n",
    "# plt.tight_layout()\n",
    "# plt.savefig('Regression_Plots/ClusterOnly_NetworkPredictions_scatter_Log_better_2021-06-10.png', format='png')\n",
    "plt.show()"
   ]
  },
  {
   "cell_type": "markdown",
   "id": "08dde0fc-1385-4f7e-84da-b43b6a8a8992",
   "metadata": {},
   "source": [
    "## Track Only"
   ]
  },
  {
   "cell_type": "code",
   "execution_count": 14,
   "id": "f7147076-9faa-497d-83c5-46b714a28866",
   "metadata": {},
   "outputs": [
    {
     "name": "stdout",
     "output_type": "stream",
     "text": [
      "['arr_0', 'arr_1']\n",
      "(69414, 6, 5)\n",
      "(69414,)\n"
     ]
    }
   ],
   "source": [
    "dat = np.load('/fast_scratch/atlas_images/v01-45/XY_tracksOnly_Pt_distributed_med.npz')\n",
    "print(dat.files)\n",
    "X_tracksOnly = dat['arr_0']\n",
    "Y_tracksOnly = dat['arr_1']\n",
    "print(np.shape(X_tracksOnly))\n",
    "print(np.shape(Y_tracksOnly))\n",
    "N_events = len(X_tracksOnly)"
   ]
  },
  {
   "cell_type": "markdown",
   "id": "73aeb5e5-442e-4ac3-9ec2-36c3e43da045",
   "metadata": {},
   "source": [
    "### Data Normalization"
   ]
  },
  {
   "cell_type": "code",
   "execution_count": 15,
   "id": "b13859e1-e7ee-487e-818d-99714937c452",
   "metadata": {},
   "outputs": [],
   "source": [
    "t_Pt = X_tracksOnly[:,:,0]\n",
    "t_Eta = np.atleast_3d(X_tracksOnly[:,:,1])\n",
    "t_Phi = np.atleast_3d(X_tracksOnly[:,:,2])\n",
    "t_rPerp = X_tracksOnly[:,:,3]\n",
    "\n",
    "Y_trthPt = Y_tracksOnly"
   ]
  },
  {
   "cell_type": "markdown",
   "id": "e5fd85d6-0b6c-4a8f-9dc9-6ffabfaf4005",
   "metadata": {},
   "source": [
    "#### Energy"
   ]
  },
  {
   "cell_type": "code",
   "execution_count": 16,
   "id": "3a1a7445-eb22-4704-bcf8-a50dce073245",
   "metadata": {},
   "outputs": [
    {
     "name": "stdout",
     "output_type": "stream",
     "text": [
      "(69414, 6, 1)\n"
     ]
    }
   ],
   "source": [
    "# this ensures we dont run into a runtime warning and zeros stay zeros when taking log\n",
    "Pt_mask = t_Pt > 0\n",
    "t_Pt[Pt_mask] = np.log(t_Pt[Pt_mask])\n",
    "t_Pt = np.atleast_3d(t_Pt)\n",
    "print(t_Pt.shape)"
   ]
  },
  {
   "cell_type": "markdown",
   "id": "b4c7a206-18a9-47b0-b1e1-0bf8d15ea6cc",
   "metadata": {},
   "source": [
    "#### rPerp"
   ]
  },
  {
   "cell_type": "code",
   "execution_count": 17,
   "id": "445ba7d3-8514-418e-9445-d886afad6425",
   "metadata": {},
   "outputs": [
    {
     "name": "stdout",
     "output_type": "stream",
     "text": [
      "(22339, 1017, 1)\n"
     ]
    }
   ],
   "source": [
    "t_rPerp = np.atleast_3d(t_rPerp/1000)\n",
    "print(t_rPerp.shape)"
   ]
  },
  {
   "cell_type": "markdown",
   "id": "96f80dde-b879-4aad-9318-23056b35c853",
   "metadata": {},
   "source": [
    "#### Target"
   ]
  },
  {
   "cell_type": "code",
   "execution_count": 190,
   "id": "91e8174b-5458-4c04-98a8-880d156b4620",
   "metadata": {},
   "outputs": [
    {
     "name": "stdout",
     "output_type": "stream",
     "text": [
      "Zero Pt found: True\n",
      "(69414,)\n"
     ]
    }
   ],
   "source": [
    "# this ensures we dont run into a runtime warning and zeros stay zeros when taking log\n",
    "Y_Pt_mask = Y_trthPt > 0\n",
    "Y_trthPt[Y_Pt_mask] = np.log(Y_trthPt[Y_Pt_mask])\n",
    "print('Zero Pt found: '+repr(np.any(Y_Pt_mask)))\n",
    "# Y_trthPt = np.atleast_2d(Y_trthPt).transpose()\n",
    "print(Y_trthPt.shape)"
   ]
  },
  {
   "cell_type": "markdown",
   "id": "b69260b1-d786-4f07-a589-eb8e59c85251",
   "metadata": {},
   "source": [
    "#### Track Deep Set"
   ]
  },
  {
   "cell_type": "code",
   "execution_count": 19,
   "id": "661a3b63-806c-4c83-aaa2-353bd67b6ad8",
   "metadata": {},
   "outputs": [
    {
     "name": "stdout",
     "output_type": "stream",
     "text": [
      "(69414, 6, 4)\n"
     ]
    }
   ],
   "source": [
    "XtO_deep = np.concatenate((t_Pt, t_Eta, t_Phi, t_rPerp), axis=2)\n",
    "print(XtO_deep.shape)"
   ]
  },
  {
   "cell_type": "markdown",
   "id": "3ffb8a72-0225-430f-9ab1-3b95cdbc6653",
   "metadata": {},
   "source": [
    "### Model Settings"
   ]
  },
  {
   "cell_type": "code",
   "execution_count": 20,
   "id": "bda80002-c53b-4a80-af91-e291bceed06c",
   "metadata": {},
   "outputs": [
    {
     "name": "stdout",
     "output_type": "stream",
     "text": [
      "train -- val -- test\n",
      "52060 -- 6941 -- 10413\n"
     ]
    }
   ],
   "source": [
    "# EFN regression example uses 75/10/15 split for 100,000 samples\n",
    "t_train, t_val, t_test = tvt_num(XtO_deep, _tvt=(75, 10, 15))\n",
    "print('train -- val -- test')\n",
    "print(str(t_train)+' -- '+str(t_val)+' -- '+str(t_test))\n",
    "\n",
    "# network architecture parameters\n",
    "Phi_sizes, F_sizes = (100, 100, 128), (100, 100, 100)\n",
    "output_act, output_dim = 'linear', 1\n",
    "loss = 'mse'\n",
    "\n",
    "# network training parameters\n",
    "num_epoch = 100\n",
    "batch_size = 600"
   ]
  },
  {
   "cell_type": "markdown",
   "id": "defb5106-d08c-417c-b6bb-f0b3825b8306",
   "metadata": {},
   "source": [
    "#### TVT Split"
   ]
  },
  {
   "cell_type": "code",
   "execution_count": 21,
   "id": "77c28ffd-c564-4f7c-b62b-c54f95a4453e",
   "metadata": {},
   "outputs": [
    {
     "name": "stdout",
     "output_type": "stream",
     "text": [
      "(52060, 6, 4)\n",
      "(52060,)\n"
     ]
    }
   ],
   "source": [
    "(t_train, t_val, t_test,\n",
    " y_pt_train, y_pt_val, y_pt_test) = ef.utils.data_split(XtO_deep, Y_trthPt, val=t_val, test=t_test)\n",
    "\n",
    "# Print out tensor shapes\n",
    "print(np.shape(t_train))\n",
    "print(np.shape(y_pt_train))"
   ]
  },
  {
   "cell_type": "markdown",
   "id": "e794d880-aae2-4970-9410-9cbadbe62342",
   "metadata": {},
   "source": [
    "### Build Architecture"
   ]
  },
  {
   "cell_type": "code",
   "execution_count": 22,
   "id": "19e52d4e-fda6-4b8b-907e-70c9e9f6b785",
   "metadata": {
    "scrolled": true,
    "tags": []
   },
   "outputs": [
    {
     "name": "stdout",
     "output_type": "stream",
     "text": [
      "Model: \"model_1\"\n",
      "__________________________________________________________________________________________________\n",
      "Layer (type)                    Output Shape         Param #     Connected to                     \n",
      "==================================================================================================\n",
      "input (InputLayer)              [(None, None, 4)]    0                                            \n",
      "__________________________________________________________________________________________________\n",
      "tdist_0 (TimeDistributed)       (None, None, 100)    500         input[0][0]                      \n",
      "__________________________________________________________________________________________________\n",
      "activation_7 (Activation)       (None, None, 100)    0           tdist_0[0][0]                    \n",
      "__________________________________________________________________________________________________\n",
      "tdist_1 (TimeDistributed)       (None, None, 100)    10100       activation_7[0][0]               \n",
      "__________________________________________________________________________________________________\n",
      "activation_8 (Activation)       (None, None, 100)    0           tdist_1[0][0]                    \n",
      "__________________________________________________________________________________________________\n",
      "tdist_2 (TimeDistributed)       (None, None, 128)    12928       activation_8[0][0]               \n",
      "__________________________________________________________________________________________________\n",
      "mask (Lambda)                   (None, None)         0           input[0][0]                      \n",
      "__________________________________________________________________________________________________\n",
      "activation_9 (Activation)       (None, None, 128)    0           tdist_2[0][0]                    \n",
      "__________________________________________________________________________________________________\n",
      "sum (Dot)                       (None, 128)          0           mask[0][0]                       \n",
      "                                                                 activation_9[0][0]               \n",
      "__________________________________________________________________________________________________\n",
      "dense_0 (Dense)                 (None, 100)          12900       sum[0][0]                        \n",
      "__________________________________________________________________________________________________\n",
      "activation_10 (Activation)      (None, 100)          0           dense_0[0][0]                    \n",
      "__________________________________________________________________________________________________\n",
      "dense_1 (Dense)                 (None, 100)          10100       activation_10[0][0]              \n",
      "__________________________________________________________________________________________________\n",
      "activation_11 (Activation)      (None, 100)          0           dense_1[0][0]                    \n",
      "__________________________________________________________________________________________________\n",
      "dense_2 (Dense)                 (None, 100)          10100       activation_11[0][0]              \n",
      "__________________________________________________________________________________________________\n",
      "activation_12 (Activation)      (None, 100)          0           dense_2[0][0]                    \n",
      "__________________________________________________________________________________________________\n",
      "output (Dense)                  (None, 1)            101         activation_12[0][0]              \n",
      "__________________________________________________________________________________________________\n",
      "activation_13 (Activation)      (None, 1)            0           output[0][0]                     \n",
      "==================================================================================================\n",
      "Total params: 56,729\n",
      "Trainable params: 56,729\n",
      "Non-trainable params: 0\n",
      "__________________________________________________________________________________________________\n"
     ]
    }
   ],
   "source": [
    "pfnT = PFN(input_dim=4, Phi_sizes=Phi_sizes, F_sizes=F_sizes, \n",
    "          output_act=output_act, output_dim=output_dim, loss=loss, metrics=[])"
   ]
  },
  {
   "cell_type": "markdown",
   "id": "5363afc4-5e44-4358-8ff4-b3ae705c0edc",
   "metadata": {},
   "source": [
    "### Train Model"
   ]
  },
  {
   "cell_type": "code",
   "execution_count": 23,
   "id": "43874d05-2a03-425c-9df5-f4b732b7382c",
   "metadata": {
    "scrolled": true,
    "tags": []
   },
   "outputs": [
    {
     "name": "stdout",
     "output_type": "stream",
     "text": [
      "Epoch 1/100\n",
      "87/87 [==============================] - 6s 11ms/step - loss: 19.7431 - val_loss: 0.1761\n",
      "Epoch 2/100\n",
      "87/87 [==============================] - 0s 4ms/step - loss: 0.1284 - val_loss: 0.1257\n",
      "Epoch 3/100\n",
      "87/87 [==============================] - 0s 5ms/step - loss: 0.0931 - val_loss: 0.1188\n",
      "Epoch 4/100\n",
      "87/87 [==============================] - 0s 5ms/step - loss: 0.0851 - val_loss: 0.1037\n",
      "Epoch 5/100\n",
      "87/87 [==============================] - 0s 5ms/step - loss: 0.0801 - val_loss: 0.1044\n",
      "Epoch 6/100\n",
      "87/87 [==============================] - 0s 5ms/step - loss: 0.0759 - val_loss: 0.0990\n",
      "Epoch 7/100\n",
      "87/87 [==============================] - 0s 5ms/step - loss: 0.0775 - val_loss: 0.0977\n",
      "Epoch 8/100\n",
      "87/87 [==============================] - 0s 5ms/step - loss: 0.0845 - val_loss: 0.0950\n",
      "Epoch 9/100\n",
      "87/87 [==============================] - 0s 5ms/step - loss: 0.0773 - val_loss: 0.0955\n",
      "Epoch 10/100\n",
      "87/87 [==============================] - 0s 5ms/step - loss: 0.0830 - val_loss: 0.0934\n",
      "Epoch 11/100\n",
      "87/87 [==============================] - 0s 4ms/step - loss: 0.0762 - val_loss: 0.0955\n",
      "Epoch 12/100\n",
      "87/87 [==============================] - 0s 4ms/step - loss: 0.0727 - val_loss: 0.0962\n",
      "Epoch 13/100\n",
      "87/87 [==============================] - 0s 5ms/step - loss: 0.0770 - val_loss: 0.0914\n",
      "Epoch 14/100\n",
      "87/87 [==============================] - 0s 5ms/step - loss: 0.0705 - val_loss: 0.0932\n",
      "Epoch 15/100\n",
      "87/87 [==============================] - 0s 5ms/step - loss: 0.0691 - val_loss: 0.0920\n",
      "Epoch 16/100\n",
      "87/87 [==============================] - 0s 4ms/step - loss: 0.0749 - val_loss: 0.0921\n",
      "Epoch 17/100\n",
      "87/87 [==============================] - 0s 5ms/step - loss: 0.0703 - val_loss: 0.0944\n",
      "Epoch 18/100\n",
      "87/87 [==============================] - 0s 5ms/step - loss: 0.0744 - val_loss: 0.0988\n",
      "Epoch 19/100\n",
      "87/87 [==============================] - 0s 5ms/step - loss: 0.0759 - val_loss: 0.0964\n",
      "Epoch 20/100\n",
      "87/87 [==============================] - 0s 5ms/step - loss: 0.0799 - val_loss: 0.0965\n",
      "Epoch 21/100\n",
      "87/87 [==============================] - 0s 5ms/step - loss: 0.0754 - val_loss: 0.0953\n",
      "Epoch 22/100\n",
      "87/87 [==============================] - 0s 5ms/step - loss: 0.0780 - val_loss: 0.0943\n",
      "Epoch 23/100\n",
      "87/87 [==============================] - 0s 5ms/step - loss: 0.0779 - val_loss: 0.0929\n",
      "Epoch 24/100\n",
      "87/87 [==============================] - 0s 5ms/step - loss: 0.0770 - val_loss: 0.0961\n",
      "Epoch 25/100\n",
      "87/87 [==============================] - 0s 5ms/step - loss: 0.0736 - val_loss: 0.0932\n",
      "Epoch 26/100\n",
      "87/87 [==============================] - 0s 5ms/step - loss: 0.0854 - val_loss: 0.0932\n",
      "Epoch 27/100\n",
      "87/87 [==============================] - 0s 5ms/step - loss: 0.0737 - val_loss: 0.0914\n",
      "Epoch 28/100\n",
      "87/87 [==============================] - 0s 5ms/step - loss: 0.0699 - val_loss: 0.0895\n",
      "Epoch 29/100\n",
      "87/87 [==============================] - 0s 5ms/step - loss: 0.0756 - val_loss: 0.0935\n",
      "Epoch 30/100\n",
      "87/87 [==============================] - 0s 5ms/step - loss: 0.0747 - val_loss: 0.1021\n",
      "Epoch 31/100\n",
      "87/87 [==============================] - 0s 5ms/step - loss: 0.0788 - val_loss: 0.0926\n",
      "Epoch 32/100\n",
      "87/87 [==============================] - 0s 4ms/step - loss: 0.0836 - val_loss: 0.0934\n",
      "Epoch 33/100\n",
      "87/87 [==============================] - 0s 4ms/step - loss: 0.0790 - val_loss: 0.0967\n",
      "Epoch 34/100\n",
      "87/87 [==============================] - 0s 4ms/step - loss: 0.0827 - val_loss: 0.0911\n",
      "Epoch 35/100\n",
      "87/87 [==============================] - 0s 5ms/step - loss: 0.0747 - val_loss: 0.0909\n",
      "Epoch 36/100\n",
      "87/87 [==============================] - 0s 5ms/step - loss: 0.0764 - val_loss: 0.0952\n",
      "Epoch 37/100\n",
      "87/87 [==============================] - 0s 5ms/step - loss: 0.0757 - val_loss: 0.1037\n",
      "Epoch 38/100\n",
      "87/87 [==============================] - 0s 5ms/step - loss: 0.0780 - val_loss: 0.0901\n",
      "Epoch 39/100\n",
      "87/87 [==============================] - 0s 5ms/step - loss: 0.0726 - val_loss: 0.1030\n",
      "Epoch 40/100\n",
      "87/87 [==============================] - 0s 5ms/step - loss: 0.0852 - val_loss: 0.1005\n",
      "Epoch 41/100\n",
      "87/87 [==============================] - 0s 5ms/step - loss: 0.0805 - val_loss: 0.0938\n",
      "Epoch 42/100\n",
      "87/87 [==============================] - 0s 5ms/step - loss: 0.0894 - val_loss: 0.0993\n",
      "Epoch 43/100\n",
      "87/87 [==============================] - 0s 5ms/step - loss: 0.0798 - val_loss: 0.1016\n",
      "Epoch 44/100\n",
      "87/87 [==============================] - 0s 5ms/step - loss: 0.0768 - val_loss: 0.0915\n",
      "Epoch 45/100\n",
      "87/87 [==============================] - 0s 5ms/step - loss: 0.0703 - val_loss: 0.0923\n",
      "Epoch 46/100\n",
      "87/87 [==============================] - 0s 5ms/step - loss: 0.0750 - val_loss: 0.0945\n",
      "Epoch 47/100\n",
      "87/87 [==============================] - 0s 5ms/step - loss: 0.0762 - val_loss: 0.0904\n",
      "Epoch 48/100\n",
      "87/87 [==============================] - 0s 5ms/step - loss: 0.0735 - val_loss: 0.1110\n",
      "Epoch 49/100\n",
      "87/87 [==============================] - 0s 5ms/step - loss: 0.0834 - val_loss: 0.0931\n",
      "Epoch 50/100\n",
      "87/87 [==============================] - 0s 5ms/step - loss: 0.0730 - val_loss: 0.0939\n",
      "Epoch 51/100\n",
      "87/87 [==============================] - 0s 5ms/step - loss: 0.0815 - val_loss: 0.0959\n",
      "Epoch 52/100\n",
      "87/87 [==============================] - 0s 5ms/step - loss: 0.0808 - val_loss: 0.0926\n",
      "Epoch 53/100\n",
      "87/87 [==============================] - 0s 5ms/step - loss: 0.0758 - val_loss: 0.0953\n",
      "Epoch 54/100\n",
      "87/87 [==============================] - 0s 5ms/step - loss: 0.0806 - val_loss: 0.1094\n",
      "Epoch 55/100\n",
      "87/87 [==============================] - 0s 5ms/step - loss: 0.0845 - val_loss: 0.0904\n",
      "Epoch 56/100\n",
      "87/87 [==============================] - 0s 5ms/step - loss: 0.0707 - val_loss: 0.0953\n",
      "Epoch 57/100\n",
      "87/87 [==============================] - 0s 5ms/step - loss: 0.0786 - val_loss: 0.0968\n",
      "Epoch 58/100\n",
      "87/87 [==============================] - 0s 5ms/step - loss: 0.0765 - val_loss: 0.0914\n",
      "Epoch 59/100\n",
      "87/87 [==============================] - 0s 5ms/step - loss: 0.0715 - val_loss: 0.0914\n",
      "Epoch 60/100\n",
      "87/87 [==============================] - 0s 5ms/step - loss: 0.0805 - val_loss: 0.1005\n",
      "Epoch 61/100\n",
      "87/87 [==============================] - 0s 5ms/step - loss: 0.0728 - val_loss: 0.0966\n",
      "Epoch 62/100\n",
      "87/87 [==============================] - 0s 5ms/step - loss: 0.0689 - val_loss: 0.1070\n",
      "Epoch 63/100\n",
      "87/87 [==============================] - 0s 5ms/step - loss: 0.0725 - val_loss: 0.0954\n",
      "Epoch 64/100\n",
      "87/87 [==============================] - 0s 5ms/step - loss: 0.0775 - val_loss: 0.0973\n",
      "Epoch 65/100\n",
      "87/87 [==============================] - 0s 5ms/step - loss: 0.0779 - val_loss: 0.0950\n",
      "Epoch 66/100\n",
      "87/87 [==============================] - 0s 5ms/step - loss: 0.0686 - val_loss: 0.0911\n",
      "Epoch 67/100\n",
      "87/87 [==============================] - 0s 5ms/step - loss: 0.0687 - val_loss: 0.1057\n",
      "Epoch 68/100\n",
      "87/87 [==============================] - 0s 5ms/step - loss: 0.0749 - val_loss: 0.0886\n",
      "Epoch 69/100\n",
      "87/87 [==============================] - 0s 5ms/step - loss: 0.0844 - val_loss: 0.0917\n",
      "Epoch 70/100\n",
      "87/87 [==============================] - 0s 5ms/step - loss: 0.0835 - val_loss: 0.0928\n",
      "Epoch 71/100\n",
      "87/87 [==============================] - 0s 5ms/step - loss: 0.0712 - val_loss: 0.0947\n",
      "Epoch 72/100\n",
      "87/87 [==============================] - 0s 5ms/step - loss: 0.0757 - val_loss: 0.0954\n",
      "Epoch 73/100\n",
      "87/87 [==============================] - 0s 5ms/step - loss: 0.0751 - val_loss: 0.0885\n",
      "Epoch 74/100\n",
      "87/87 [==============================] - 0s 5ms/step - loss: 0.0735 - val_loss: 0.0914\n",
      "Epoch 75/100\n",
      "87/87 [==============================] - 0s 5ms/step - loss: 0.0758 - val_loss: 0.0956\n",
      "Epoch 76/100\n",
      "87/87 [==============================] - 0s 5ms/step - loss: 0.0782 - val_loss: 0.0964\n",
      "Epoch 77/100\n",
      "87/87 [==============================] - 0s 5ms/step - loss: 0.0692 - val_loss: 0.0889\n",
      "Epoch 78/100\n",
      "87/87 [==============================] - 0s 4ms/step - loss: 0.0751 - val_loss: 0.0899\n",
      "Epoch 79/100\n",
      "87/87 [==============================] - 0s 5ms/step - loss: 0.0712 - val_loss: 0.0885\n",
      "Epoch 80/100\n",
      "87/87 [==============================] - 0s 5ms/step - loss: 0.0755 - val_loss: 0.0886\n",
      "Epoch 81/100\n",
      "87/87 [==============================] - 0s 5ms/step - loss: 0.0717 - val_loss: 0.0909\n",
      "Epoch 82/100\n",
      "87/87 [==============================] - 0s 5ms/step - loss: 0.0768 - val_loss: 0.1084\n",
      "Epoch 83/100\n",
      "87/87 [==============================] - 0s 5ms/step - loss: 0.0698 - val_loss: 0.0982\n",
      "Epoch 84/100\n",
      "87/87 [==============================] - 0s 5ms/step - loss: 0.0780 - val_loss: 0.0908\n",
      "Epoch 85/100\n",
      "87/87 [==============================] - 0s 4ms/step - loss: 0.0738 - val_loss: 0.0998\n",
      "Epoch 86/100\n",
      "87/87 [==============================] - 0s 5ms/step - loss: 0.0784 - val_loss: 0.0955\n",
      "Epoch 87/100\n",
      "87/87 [==============================] - 0s 5ms/step - loss: 0.0760 - val_loss: 0.0915\n",
      "Epoch 88/100\n",
      "87/87 [==============================] - 0s 5ms/step - loss: 0.0803 - val_loss: 0.0929\n",
      "Epoch 89/100\n",
      "87/87 [==============================] - 0s 5ms/step - loss: 0.0696 - val_loss: 0.0991\n",
      "Epoch 90/100\n",
      "87/87 [==============================] - 0s 5ms/step - loss: 0.0727 - val_loss: 0.0884\n",
      "Epoch 91/100\n",
      "87/87 [==============================] - 0s 5ms/step - loss: 0.0758 - val_loss: 0.0882\n",
      "Epoch 92/100\n",
      "87/87 [==============================] - 0s 5ms/step - loss: 0.0731 - val_loss: 0.0895\n",
      "Epoch 93/100\n",
      "87/87 [==============================] - 0s 5ms/step - loss: 0.0709 - val_loss: 0.0939\n",
      "Epoch 94/100\n",
      "87/87 [==============================] - 0s 5ms/step - loss: 0.0724 - val_loss: 0.0916\n",
      "Epoch 95/100\n",
      "87/87 [==============================] - 0s 4ms/step - loss: 0.0733 - val_loss: 0.0893\n",
      "Epoch 96/100\n",
      "87/87 [==============================] - 0s 4ms/step - loss: 0.0730 - val_loss: 0.0856\n",
      "Epoch 97/100\n",
      "87/87 [==============================] - 0s 5ms/step - loss: 0.0787 - val_loss: 0.0928\n",
      "Epoch 98/100\n",
      "87/87 [==============================] - 0s 5ms/step - loss: 0.0803 - val_loss: 0.0934\n",
      "Epoch 99/100\n",
      "87/87 [==============================] - 0s 5ms/step - loss: 0.0753 - val_loss: 0.0885\n",
      "Epoch 100/100\n",
      "87/87 [==============================] - 0s 4ms/step - loss: 0.0684 - val_loss: 0.0965\n"
     ]
    },
    {
     "data": {
      "text/plain": [
       "<tensorflow.python.keras.callbacks.History at 0x7f3d8f181ac0>"
      ]
     },
     "execution_count": 23,
     "metadata": {},
     "output_type": "execute_result"
    }
   ],
   "source": [
    "pfnT.fit(t_train, y_pt_train,\n",
    "        epochs=num_epoch,\n",
    "        batch_size=batch_size,\n",
    "        validation_data=(t_val, y_pt_val),\n",
    "        verbose=1)"
   ]
  },
  {
   "cell_type": "markdown",
   "id": "5867775a-fa45-432c-b8a5-50c1aa547583",
   "metadata": {},
   "source": [
    "#### Predictions"
   ]
  },
  {
   "cell_type": "code",
   "execution_count": 179,
   "id": "a811cc55-975e-4b60-bd2e-d10afc853043",
   "metadata": {},
   "outputs": [
    {
     "name": "stdout",
     "output_type": "stream",
     "text": [
      "(10413, 1)\n"
     ]
    },
    {
     "data": {
      "text/plain": [
       "<Figure size 799.992x599.976 with 0 Axes>"
      ]
     },
     "metadata": {},
     "output_type": "display_data"
    },
    {
     "data": {
      "image/png": "[encoded data removed]",
      "text/plain": [
       "<Figure size 432x432 with 1 Axes>"
      ]
     },
     "metadata": {},
     "output_type": "display_data"
    }
   ],
   "source": [
    "t_preds = pfnT.predict(t_test, batch_size=1000)\n",
    "print(t_preds.shape)\n",
    "bins = np.arange(-1,8.25,.25)\n",
    "\n",
    "plt.cla(); plt.clf()\n",
    "fig = plt.figure(figsize=(6,6))\n",
    "fig.patch.set_facecolor('white')\n",
    "plt.hist(t_preds.flatten(), bins=bins, density=True, color='darkgreen', alpha=.5, edgecolor='black', label='network')\n",
    "plt.hist(y_pt_test, bins=bins, density=True, color='darkorange', alpha=.5, edgecolor='black', label='target')\n",
    "plt.title('Track Only Pt - Log scale', fontsize=16)\n",
    "plt.xlabel('Log(Pt [GeV/c])', fontsize=14)\n",
    "plt.xlim(-1,9)\n",
    "plt.xticks(fontsize=13)\n",
    "plt.yticks(fontsize=13)\n",
    "plt.legend(loc='upper left')\n",
    "# plt.tight_layout()\n",
    "# plt.savefig('Regression_Plots/Inputs-and-outputs-to-trackPt-regression-log_2021-06-10.png', format='png')\n",
    "plt.show()"
   ]
  },
  {
   "cell_type": "markdown",
   "id": "5e14c3fe-fe7a-41c5-8b08-485815158cad",
   "metadata": {},
   "source": [
    "### Analytics"
   ]
  },
  {
   "cell_type": "code",
   "execution_count": 36,
   "id": "a2977497-3304-4000-a379-0168e4f6e8c2",
   "metadata": {},
   "outputs": [
    {
     "data": {
      "text/plain": [
       "<Figure size 799.992x599.976 with 0 Axes>"
      ]
     },
     "metadata": {},
     "output_type": "display_data"
    },
    {
     "data": {
      "image/png": "[encoded data removed]",
      "text/plain": [
       "<Figure size 432x432 with 1 Axes>"
      ]
     },
     "metadata": {},
     "output_type": "display_data"
    }
   ],
   "source": [
    "pt_pred = np.exp(t_preds.flatten())\n",
    "pt_trth = np.exp(y_pt_test.flatten())\n",
    "\n",
    "ybin = np.arange(0., 3.1, 0.1)\n",
    "xbin = np.logspace(np.log10(.5), np.log10(2000), num=len(ybin), endpoint=True, base=10.0)\n",
    "\n",
    "plt.cla(); plt.clf()\n",
    "fig = plt.figure(figsize=(6,6))\n",
    "fig.patch.set_facecolor('white')\n",
    "plt.hist2d(pt_trth, pt_pred/pt_trth, bins=[xbin,ybin], norm=LogNorm())\n",
    "plt.title('Tracks Only -- 69414 Events', fontsize=16)\n",
    "plt.xlabel('truthPartPt (GeV)', fontsize=14)\n",
    "plt.ylabel('Predictions / truthPartPt', fontsize=14)\n",
    "plt.xscale('log')\n",
    "plt.xticks(fontsize=14)\n",
    "plt.yticks(fontsize=14)\n",
    "# plt.tight_layout()\n",
    "# plt.savefig('Regression_Plots/Pt_TrackOnly_mediumRoot_2021-06-08.png', format='png')\n",
    "plt.show()"
   ]
  },
  {
   "cell_type": "code",
   "execution_count": 202,
   "id": "c1526764-6013-469f-b85f-996a464d7159",
   "metadata": {},
   "outputs": [
    {
     "name": "stdout",
     "output_type": "stream",
     "text": [
      "(10413, 6) (10413, 6)\n",
      "(10413,)\n"
     ]
    },
    {
     "name": "stderr",
     "output_type": "stream",
     "text": [
      "<ipython-input-202-f82aab97ac96>:5: RuntimeWarning: overflow encountered in exp\n",
      "  tr_Pt_test[trck_tst_mask] = np.exp(tr_Pt_test[trck_tst_mask])\n"
     ]
    }
   ],
   "source": [
    "tr_Pt_test = t_test[:,:,0].astype(np.float128)\n",
    "tr_Pt_mask = tr_Pt_test != 0\n",
    "\n",
    "print(repr(tr_Pt_test.shape)+' '+repr(tr_Pt_mask.shape))\n",
    "tr_Pt_test[trck_tst_mask] = np.exp(tr_Pt_test[trck_tst_mask])\n",
    "\n",
    "tr_Pt_test = np.sum(tr_Pt_test, axis=1)\n",
    "print(tr_Pt_test.shape)"
   ]
  },
  {
   "cell_type": "markdown",
   "id": "c376d082-425a-498d-b1a6-4a751ba8e8b6",
   "metadata": {},
   "source": [
    "#### Response Plots"
   ]
  },
  {
   "cell_type": "code",
   "execution_count": 189,
   "id": "4881c01d-c858-4b91-bc4c-351da5e28224",
   "metadata": {},
   "outputs": [
    {
     "data": {
      "text/plain": [
       "<Figure size 799.992x599.976 with 0 Axes>"
      ]
     },
     "metadata": {},
     "output_type": "display_data"
    },
    {
     "data": {
      "image/png": "[encoded data removed]",
      "text/plain": [
       "<Figure size 799.992x599.976 with 2 Axes>"
      ]
     },
     "metadata": {},
     "output_type": "display_data"
    }
   ],
   "source": [
    "plotpath = '/home/russbate/MLPionCollaboration/LCStudies/clusters/Regression_Plots/'\n",
    "Pt_center, Pt_Single = ru.responsePlot(pt_trth, \n",
    "                      pt_pred/pt_trth,\n",
    "                      figfile = plotpath+'singleTrack_Pt_responsePlot.png', statistic = 'median',\n",
    "                      xlabel = 'truthPartPt', ylabel = 'Regression Pt / truthPartPt',\n",
    "                      atlas_x = 0.2, atlas_y = 0.95, simulation = True,\n",
    "                      textlist = [{'x': 0.2, 'y': 0.85, 'text': 'Single $\\pi^{+}$, Track Only'}])"
   ]
  },
  {
   "cell_type": "code",
   "execution_count": null,
   "id": "dc8af4c4-a27e-47a3-bc4e-1c46dd7f70d0",
   "metadata": {},
   "outputs": [],
   "source": [
    "pu.lineOverlay(xcenter=xcenter, lines = [medBase, medSingleBase, medReg, medRegSingle],\n",
    "                labels = ['EM Scale, All Clusters', 'EM Scale, Single Clusters', 'Regressed, All Clusters', 'Regressed, Single Clusters'],\n",
    "                xlabel = 'Cluster Calib Hits', ylabel = 'Cluster Energy / Calib Hits',\n",
    "                figfile = plotpath + \"hist_2D_calib_vs_ratio_pp_profile_Overlay_BaseRegSingle.pdf\",\n",
    "                extra_lines = [[[0.1,1000],[1,1]]],\n",
    "                atlas_x = 0.5, atlas_y = 0.3, simulation = True,\n",
    "                textlist = [{'x': 0.5, 'y': 0.2, 'text': 'Single $\\pi^{+}$'},\n",
    "                                  {'x': 0.5, 'y': 0.15,  'text': 'Baseline 1-input Regression'},\n",
    "                                  {'x': 0.5, 'y': 0.1, 'text': 'Trained on All Clusters'}])"
   ]
  },
  {
   "cell_type": "markdown",
   "id": "ac419908-e46f-4fb9-8f50-ec8e461b93bd",
   "metadata": {},
   "source": [
    "## Energy Target Plots"
   ]
  },
  {
   "cell_type": "code",
   "execution_count": 28,
   "id": "1180e201-094d-4503-bd3b-a0b6d9983252",
   "metadata": {
    "tags": []
   },
   "outputs": [
    {
     "data": {
      "text/plain": [
       "<Figure size 799.992x599.976 with 0 Axes>"
      ]
     },
     "metadata": {},
     "output_type": "display_data"
    },
    {
     "data": {
      "image/png": "[encoded data removed]",
      "text/plain": [
       "<Figure size 432x432 with 1 Axes>"
      ]
     },
     "metadata": {},
     "output_type": "display_data"
    }
   ],
   "source": [
    "plt.cla(); plt.clf()\n",
    "fig = plt.figure(figsize=(6,6))\n",
    "fig.patch.set_facecolor('white')\n",
    "plt.scatter(Y_truth, Y_clusterE, s=10,edgecolor='black', color='blue')\n",
    "plt.xlabel('Particle Truth E', fontsize=14)\n",
    "plt.ylabel('Total Observed Cluster E', fontsize=14)\n",
    "# plt.title('truthPartE Against Observed Total', fontsize=18)\n",
    "plt.xlim(0,2000)\n",
    "plt.ylim(0,2000)\n",
    "plt.xticks(fontsize=13)\n",
    "plt.yticks(fontsize=13)\n",
    "plt.tight_layout()\n",
    "plt.savefig('Plots/truthPartE_clusterE_2021-06-03.png', format='png')\n",
    "plt.show()"
   ]
  },
  {
   "cell_type": "code",
   "execution_count": 27,
   "id": "4ebb0f8c-6ca9-4993-aa00-f8c593bd912f",
   "metadata": {
    "tags": []
   },
   "outputs": [
    {
     "data": {
      "text/plain": [
       "<Figure size 799.992x599.976 with 0 Axes>"
      ]
     },
     "metadata": {},
     "output_type": "display_data"
    },
    {
     "data": {
      "image/png": "[encoded data removed]",
      "text/plain": [
       "<Figure size 432x432 with 1 Axes>"
      ]
     },
     "metadata": {},
     "output_type": "display_data"
    }
   ],
   "source": [
    "plt.cla(); plt.clf()\n",
    "fig = plt.figure(figsize=(6,6))\n",
    "fig.patch.set_facecolor('white')\n",
    "plt.scatter(Y_eng, Y_clusterE, edgecolor='black', color='crimson', s=10)\n",
    "# plt.title('cluster_ENG_CALIB_TOT Against Observed Total', fontsize=18)\n",
    "plt.xlabel('Cluster Calib Hits', fontsize=14)\n",
    "plt.ylabel('Total Observed Cluster E', fontsize=14)\n",
    "plt.xlim(0,2000)\n",
    "plt.ylim(0,2000)\n",
    "plt.xticks(fontsize=13)\n",
    "plt.yticks(fontsize=13)\n",
    "plt.tight_layout()\n",
    "plt.savefig('Plots/cluster_ENG_CALIB_TOT_clusterE_2021-06-03.png', format='png')\n",
    "plt.show()"
   ]
  },
  {
   "cell_type": "markdown",
   "id": "8a5b8d38-5050-4e32-9d31-92cc9be0a9b5",
   "metadata": {},
   "source": [
    "#### 2-D Histogram - CLUSTERS"
   ]
  },
  {
   "cell_type": "code",
   "execution_count": 44,
   "id": "49fe58c0-b03e-4308-ae02-0a1eea6c6bc2",
   "metadata": {},
   "outputs": [
    {
     "name": "stderr",
     "output_type": "stream",
     "text": [
      "<ipython-input-44-3093ece74a51>:8: RuntimeWarning: divide by zero encountered in true_divide\n",
      "  plt.hist2d(Y_eng, Y_clusterE/Y_eng, bins=[xbin,ybin], norm=LogNorm())\n"
     ]
    },
    {
     "data": {
      "text/plain": [
       "<Figure size 432x288 with 0 Axes>"
      ]
     },
     "metadata": {},
     "output_type": "display_data"
    },
    {
     "data": {
      "image/png": "[encoded data removed]",
      "text/plain": [
       "<Figure size 432x432 with 1 Axes>"
      ]
     },
     "metadata": {},
     "output_type": "display_data"
    }
   ],
   "source": [
    "plt.cla(); plt.clf()\n",
    "\n",
    "xbin = [10**exp for exp in  np.arange(-1.0, 3.1, 0.1)]\n",
    "ybin = np.arange(0., 3.1, 0.1)\n",
    "\n",
    "fig = plt.figure(figsize=(6,6))\n",
    "fig.patch.set_facecolor('white')\n",
    "plt.hist2d(Y_eng, Y_clusterE/Y_eng, bins=[xbin,ybin], norm=LogNorm())\n",
    "plt.xlabel('cluster_ENG_CALIB_TOT', fontsize=14)\n",
    "plt.ylabel('clusterE / cluster_ENG_CALIB_TOT', fontsize=14)\n",
    "plt.xscale('log')\n",
    "# plt.tight_layout()\n",
    "# plt.savefig('Plots/clusterE_cluster_ENG_CALIB_TOT_track_data_2021-06-03.png', format='png')\n",
    "plt.show()"
   ]
  },
  {
   "cell_type": "markdown",
   "id": "8dcb0878-2ee2-4f89-a73b-bc27672290a6",
   "metadata": {},
   "source": [
    "#### 2-D Histogram - TRUTH PARTICLE"
   ]
  },
  {
   "cell_type": "code",
   "execution_count": 48,
   "id": "8c23f496-7b14-483b-b0f5-cd9cd8b6cf32",
   "metadata": {},
   "outputs": [
    {
     "data": {
      "text/plain": [
       "<Figure size 432x288 with 0 Axes>"
      ]
     },
     "metadata": {},
     "output_type": "display_data"
    },
    {
     "data": {
      "image/png": "[encoded data removed]",
      "text/plain": [
       "<Figure size 432x432 with 1 Axes>"
      ]
     },
     "metadata": {},
     "output_type": "display_data"
    }
   ],
   "source": [
    "plt.cla(); plt.clf()\n",
    "\n",
    "xbin = [10**exp for exp in  np.arange(-1.0, 3.1, 0.1)]\n",
    "ybin = np.arange(0., 3.1, 0.1)\n",
    "\n",
    "fig = plt.figure(figsize=(6,6))\n",
    "fig.patch.set_facecolor('white')\n",
    "plt.hist2d(Y_truth, Y_clusterE/Y_truth, bins=[xbin,ybin], norm=LogNorm())\n",
    "plt.xlabel('truthPartE', fontsize=14)\n",
    "plt.ylabel('clusterE / truthPartE', fontsize=14)\n",
    "plt.xscale('log')\n",
    "# plt.tight_layout()\n",
    "# plt.savefig('Plots/truthPartE_clusterE_track_data_2021-06-03.png', format='png')\n",
    "plt.show()"
   ]
  },
  {
   "cell_type": "markdown",
   "id": "ec464183-ec5c-4def-a3c7-44d7b3d41891",
   "metadata": {},
   "source": [
    "## Particle Flow With Max's Data\n",
    "### No tracks!"
   ]
  },
  {
   "cell_type": "code",
   "execution_count": 61,
   "id": "60c35d13-53ab-419d-a4da-9a8c085727d1",
   "metadata": {},
   "outputs": [
    {
     "name": "stdout",
     "output_type": "stream",
     "text": [
      "['X', 'Y_label', 'Y_target']\n"
     ]
    }
   ],
   "source": [
    "dat = np.load('/fast_scratch/atlas_images/v01-45/pipm_medium.npz')\n",
    "print(dat.files)"
   ]
  },
  {
   "cell_type": "code",
   "execution_count": 62,
   "id": "158ce89a-697b-4942-aa7a-e624ac9eb504",
   "metadata": {},
   "outputs": [
    {
     "name": "stdout",
     "output_type": "stream",
     "text": [
      "X size: (122850, 2000, 3)\n",
      "Y_label size: (122850, 2)\n",
      "Y_target size: (122850,)\n"
     ]
    }
   ],
   "source": [
    "X = dat['X']\n",
    "Y_label = dat['Y_label']\n",
    "Y_target = dat['Y_target']\n",
    "print('X size: '+str(np.shape(X)))\n",
    "print('Y_label size: '+str(np.shape(Y_label)))\n",
    "print('Y_target size: '+str(np.shape(Y_target)))"
   ]
  },
  {
   "cell_type": "markdown",
   "id": "ff677341-2b89-4e16-9c9f-d10c4a1a6490",
   "metadata": {},
   "source": [
    "## Testing -- Ignore Below"
   ]
  },
  {
   "cell_type": "markdown",
   "id": "318bd2c1-cbd1-4ce2-9366-ef63a6ef8e5d",
   "metadata": {},
   "source": [
    "#### Shallow Copy"
   ]
  },
  {
   "cell_type": "code",
   "execution_count": 204,
   "id": "dc9529c3-4eb8-42de-98f8-66af46db9337",
   "metadata": {},
   "outputs": [
    {
     "name": "stdout",
     "output_type": "stream",
     "text": [
      "[[ 0  1  2  3  4]\n",
      " [ 5  6  7  8  9]\n",
      " [10 11 12 13 14]\n",
      " [15 16 17 18 19]\n",
      " [20 21 22 23 24]]\n",
      "[ 0  5 10 15 20]\n",
      "[        1       148     22026   3269017 485165195]\n"
     ]
    }
   ],
   "source": [
    "myarray = np.arange(25).reshape((5,5))\n",
    "print(myarray)\n",
    "newarray = myarray[:,0]\n",
    "print(newarray)\n",
    "myarray[:,0] = np.exp(myarray[:,0])\n",
    "print(newarray)"
   ]
  },
  {
   "cell_type": "markdown",
   "id": "7a595ac2-8a7f-4bf3-b6e2-b98565eeab6e",
   "metadata": {},
   "source": [
    "#### Deep Copy"
   ]
  },
  {
   "cell_type": "code",
   "execution_count": 205,
   "id": "96bee568-0e46-4ac9-8f6c-d24257381c5d",
   "metadata": {},
   "outputs": [
    {
     "name": "stdout",
     "output_type": "stream",
     "text": [
      "[[ 0  1  2  3  4]\n",
      " [ 5  6  7  8  9]\n",
      " [10 11 12 13 14]\n",
      " [15 16 17 18 19]\n",
      " [20 21 22 23 24]]\n",
      "[ 0  5 10 15 20]\n",
      "[ 0  5 10 15 20]\n"
     ]
    }
   ],
   "source": [
    "myarray = np.arange(25).reshape((5,5))\n",
    "print(myarray)\n",
    "newarray = np.ndarray.copy(myarray[:,0])\n",
    "print(newarray)\n",
    "myarray[:,0] = np.exp(myarray[:,0])\n",
    "print(newarray)"
   ]
  },
  {
   "cell_type": "code",
   "execution_count": null,
   "id": "4fea85d9-3aca-4f41-acdb-2e40dd36a98f",
   "metadata": {},
   "outputs": [],
   "source": []
  }
 ],
 "metadata": {
  "kernelspec": {
   "display_name": "Python 3",
   "language": "python",
   "name": "python3"
  },
  "language_info": {
   "codemirror_mode": {
    "name": "ipython",
    "version": 3
   },
   "file_extension": ".py",
   "mimetype": "text/x-python",
   "name": "python",
   "nbconvert_exporter": "python",
   "pygments_lexer": "ipython3",
   "version": "3.8.5"
  }
 },
 "nbformat": 4,
 "nbformat_minor": 5
}

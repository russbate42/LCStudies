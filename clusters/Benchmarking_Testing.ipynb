{
 "cells": [
  {
   "cell_type": "markdown",
   "id": "bc1bb6be-968b-49a8-ba49-7fb2ff05a504",
   "metadata": {},
   "source": [
    "# Bench Marks and Tests for Code"
   ]
  },
  {
   "cell_type": "code",
   "execution_count": 6,
   "id": "6915628f-5295-48f5-bc2a-bd41f2e6b089",
   "metadata": {},
   "outputs": [],
   "source": [
    "import numpy as np\n",
    "import time as t"
   ]
  },
  {
   "cell_type": "code",
   "execution_count": 2,
   "id": "704b7637-dec6-4c93-9ebc-06c343e1e605",
   "metadata": {},
   "outputs": [],
   "source": [
    "def find_index_forloop(_values, _unsorted):\n",
    "    N = len(_values)\n",
    "    _idx = np.zeros(N, dtype=np.int32)\n",
    "    for j in range(N):\n",
    "        _idx[j] = np.argmax(_values[j] == _unsorted)\n",
    "    return _idx\n",
    "\n",
    "def find_index_1D_dict(_values, _dict):\n",
    "    ''' Use a for loop and a dictionary. _values are the IDs to search for. _dict must be in format \n",
    "    (cell IDs: index) '''\n",
    "    _idx_vec = np.zeros(len(_values), dtype=np.int32)\n",
    "    for i in range(len(_values)):\n",
    "        _idx_vec[i] = _dict[_values[i]]\n",
    "    return _idx_vec\n",
    "\n",
    "def find_index_1D_tile(_values, _unsorted):\n",
    "    ''' tile and reshape the array '''\n",
    "    # convert this to rows \n",
    "    _values_2d_T = np.atleast_2d(_values).transpose()\n",
    "    _unsorted_2d = np.tile(_unsorted, (len(_values),1))\n",
    "    _idx_vec = np.argmax(_values_2d_T == _unsorted_2d, axis=1)\n",
    "    return _idx_vec\n",
    "\n",
    "def find_index_1D_repeat(_values, _unsorted):\n",
    "    ''' use repeat instead of tile '''\n",
    "    # convert this to rows\n",
    "    _values_2d_T = np.atleast_2d(_values).transpose()\n",
    "    _unsorted_2d = np.repeat(np.atleast_2d(_unsorted), repeats=len(_values), axis=0)\n",
    "    _idx_vec = np.argmax(_values_2d_T == _unsorted_2d, axis=1)\n",
    "    return _idx_vec"
   ]
  },
  {
   "cell_type": "code",
   "execution_count": 3,
   "id": "b924b03a-47d3-4df2-915b-bb6db5c90a6c",
   "metadata": {},
   "outputs": [
    {
     "name": "stdout",
     "output_type": "stream",
     "text": [
      "Searching for: [2 3]\n",
      "In: [5 1 6 9 3 7 2 8 0 4]\n"
     ]
    }
   ],
   "source": [
    "a = np.arange(10)\n",
    "np.random.shuffle(a)\n",
    "vals = np.array([2,3])\n",
    "print('Searching for: '+str(vals))\n",
    "print('In: '+str(a))"
   ]
  },
  {
   "cell_type": "code",
   "execution_count": 4,
   "id": "94a88d6e-2c21-499e-a22c-c244700943d7",
   "metadata": {},
   "outputs": [
    {
     "name": "stdout",
     "output_type": "stream",
     "text": [
      "[6 4]\n",
      "[6 4]\n",
      "[6 4]\n",
      "[6 4]\n"
     ]
    }
   ],
   "source": [
    "indices = find_index_1D_tile(vals, a)\n",
    "print(indices)\n",
    "indices = find_index_1D_repeat(vals, a)\n",
    "print(indices)\n",
    "indices = find_index_forloop(vals, a)\n",
    "print(indices)\n",
    "\n",
    "idx_dict = dict(zip(a, np.arange(10)))\n",
    "indices = find_index_1D_dict(vals, idx_dict)\n",
    "print(indices)"
   ]
  },
  {
   "cell_type": "markdown",
   "id": "98ed8f7e-5d0f-487b-ac84-b4e32963f4b2",
   "metadata": {},
   "source": [
    "#### Big Loop for benchmarking"
   ]
  },
  {
   "cell_type": "code",
   "execution_count": 7,
   "id": "1c9afaf6-03cb-4c02-a486-7c2e27c40559",
   "metadata": {},
   "outputs": [],
   "source": [
    "loop_num = 100\n",
    "list_size = 250\n",
    "tag_size = 25\n",
    "time_list = []\n",
    "label_list = ['tile', 'repeat', 'dict', 'for loop']\n",
    "\n",
    "unsorted_nums = np.arange(list_size)\n",
    "np.random.shuffle(unsorted_nums)\n",
    "idx_dict = dict(zip(unsorted_nums, np.arange(list_size)))\n",
    "tags = np.arange(tag_size)\n",
    "\n",
    "## TILE ##\n",
    "t0 = t.time()\n",
    "for j in range(loop_num):\n",
    "    indices = find_index_1D_tile(tags, unsorted_nums)\n",
    "t1 = t.time()\n",
    "time_list.append(t1 - t0)\n",
    "\n",
    "## REPEAT ##\n",
    "t0 = t.time()\n",
    "for j in range(loop_num):\n",
    "    indices = find_index_1D_repeat(tags, unsorted_nums)\n",
    "t1 = t.time()\n",
    "time_list.append(t1 - t0)\n",
    "\n",
    "## DICT ##\n",
    "t0 = t.time()\n",
    "for j in range(loop_num):\n",
    "    indices = find_index_1D_dict(tags, idx_dict)\n",
    "t1 = t.time()\n",
    "time_list.append(t1 - t0)\n",
    "\n",
    "## forloop ##\n",
    "t0 = t.time()\n",
    "for j in range(loop_num):\n",
    "    indices = find_index_forloop(tags, unsorted_nums)\n",
    "t1 = t.time()\n",
    "time_list.append(t1 - t0)"
   ]
  },
  {
   "cell_type": "code",
   "execution_count": 8,
   "id": "d2c5622a-ed28-47ad-b9bb-95499cbbb047",
   "metadata": {},
   "outputs": [
    {
     "name": "stdout",
     "output_type": "stream",
     "text": [
      "tile:  0.0\n",
      "repeat:  0.0\n",
      "dict:  0.0\n",
      "for loop:  0.01\n"
     ]
    }
   ],
   "source": [
    "for m in range(len(time_list)):\n",
    "    print(label_list[m]+':  '+str(np.round(time_list[m], 2)))"
   ]
  },
  {
   "cell_type": "code",
   "execution_count": null,
   "id": "740b3978-e860-4cd8-94dc-bb65615c3d87",
   "metadata": {},
   "outputs": [],
   "source": []
  }
 ],
 "metadata": {
  "kernelspec": {
   "display_name": "Python 3",
   "language": "python",
   "name": "python3"
  },
  "language_info": {
   "codemirror_mode": {
    "name": "ipython",
    "version": 3
   },
   "file_extension": ".py",
   "mimetype": "text/x-python",
   "name": "python",
   "nbconvert_exporter": "python",
   "pygments_lexer": "ipython3",
   "version": "3.8.5"
  }
 },
 "nbformat": 4,
 "nbformat_minor": 5
}

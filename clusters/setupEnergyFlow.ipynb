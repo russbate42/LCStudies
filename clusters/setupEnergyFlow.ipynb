{
 "cells": [
  {
   "cell_type": "markdown",
   "id": "3f449361-9b85-4673-904e-f283541bd7b3",
   "metadata": {},
   "source": [
    "# Energy Flow Notebook\n",
    "### Goal:\n",
    "The goal of this notebook is to simply set up the energy flow code such that we can copy out data into the same format and run a simple model\n",
    "### Implementation: \n",
    "For now just pull charged pion data, we have yet to add the neutral pion and shuffle them\n",
    "#### To Do:\n",
    "- Add neutral pion data in the same manner as charged pion and shuffle them\n",
    "\n",
    "- No idea as of yet how to incorporate the tracking information. Speculation is that this will be a separate network, and we will concatenate the results.\n",
    "  - Update on this: For now, try adding the track as just an extra point in the point cloud"
   ]
  },
  {
   "cell_type": "code",
   "execution_count": null,
   "id": "caddefdd-1560-45d5-a833-20e596f19bc7",
   "metadata": {},
   "outputs": [],
   "source": []
  }
 ],
 "metadata": {
  "kernelspec": {
   "display_name": "Python 3",
   "language": "python",
   "name": "python3"
  },
  "language_info": {
   "codemirror_mode": {
    "name": "ipython",
    "version": 3
   },
   "file_extension": ".py",
   "mimetype": "text/x-python",
   "name": "python",
   "nbconvert_exporter": "python",
   "pygments_lexer": "ipython3",
   "version": "3.8.5"
  }
 },
 "nbformat": 4,
 "nbformat_minor": 5
}
